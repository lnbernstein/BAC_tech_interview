{
 "cells": [
  {
   "cell_type": "markdown",
   "metadata": {},
   "source": [
    "<h3>Problem: If I was a restauranter looking to open a new grab-and-go style restaurant in one of these NYC Boroughs, which one should I choose?"
   ]
  },
  {
   "cell_type": "code",
   "execution_count": null,
   "metadata": {
    "slideshow": {
     "slide_type": "-"
    }
   },
   "outputs": [],
   "source": [
    "! conda install -c plotly plotly-orca -y\n",
    "! pip install RISE\n",
    "! pip install cufflinks\n",
    "! pip install chart_studio\n",
    "! pip install plotly"
   ]
  },
  {
   "cell_type": "code",
   "execution_count": 1,
   "metadata": {
    "slideshow": {
     "slide_type": "slide"
    }
   },
   "outputs": [
    {
     "data": {
      "text/html": [
       "        <script type=\"text/javascript\">\n",
       "        window.PlotlyConfig = {MathJaxConfig: 'local'};\n",
       "        if (window.MathJax) {MathJax.Hub.Config({SVG: {font: \"STIX-Web\"}});}\n",
       "        if (typeof require !== 'undefined') {\n",
       "        require.undef(\"plotly\");\n",
       "        requirejs.config({\n",
       "            paths: {\n",
       "                'plotly': ['https://cdn.plot.ly/plotly-latest.min']\n",
       "            }\n",
       "        });\n",
       "        require(['plotly'], function(Plotly) {\n",
       "            window._Plotly = Plotly;\n",
       "        });\n",
       "        }\n",
       "        </script>\n",
       "        "
      ]
     },
     "metadata": {},
     "output_type": "display_data"
    },
    {
     "data": {
      "text/html": [
       "        <script type=\"text/javascript\">\n",
       "        window.PlotlyConfig = {MathJaxConfig: 'local'};\n",
       "        if (window.MathJax) {MathJax.Hub.Config({SVG: {font: \"STIX-Web\"}});}\n",
       "        if (typeof require !== 'undefined') {\n",
       "        require.undef(\"plotly\");\n",
       "        requirejs.config({\n",
       "            paths: {\n",
       "                'plotly': ['https://cdn.plot.ly/plotly-latest.min']\n",
       "            }\n",
       "        });\n",
       "        require(['plotly'], function(Plotly) {\n",
       "            window._Plotly = Plotly;\n",
       "        });\n",
       "        }\n",
       "        </script>\n",
       "        "
      ]
     },
     "metadata": {},
     "output_type": "display_data"
    }
   ],
   "source": [
    "import pandas as pd\n",
    "import cufflinks as cf\n",
    "import seaborn as sns\n",
    "import plotly.graph_objects as go\n",
    "import plotly.express as px\n",
    "from sklearn.linear_model import LinearRegression\n",
    "from sklearn.metrics import r2_score\n",
    "from plotly.offline import download_plotlyjs, init_notebook_mode, plot, iplot\n",
    "init_notebook_mode(connected=True)\n",
    "cf.go_offline()\n",
    "from IPython.core.interactiveshell import InteractiveShell\n",
    "InteractiveShell.ast_node_interactivity = \"all\""
   ]
  },
  {
   "cell_type": "code",
   "execution_count": 2,
   "metadata": {},
   "outputs": [
    {
     "data": {
      "text/plain": [
       "Index(['Borough', 'Quarter (2020)', '# of Restaurants',\n",
       "       'Total Restaurant Revenue', 'Population', 'Average Resident Salary',\n",
       "       'Averages Diner's Per Night'],\n",
       "      dtype='object')"
      ]
     },
     "execution_count": 2,
     "metadata": {},
     "output_type": "execute_result"
    }
   ],
   "source": [
    "df = pd.read_excel('/Users/luke/PycharmProjects/pythonProject2/Technical Interview Dataset.xlsx')\n",
    "pd.set_option('display.float_format', lambda x: '%.5f' % x)\n",
    "# df.set_index('Borough', inplace=True)\n",
    "\n",
    "df.columns\n",
    "x = ['Bronx', 'Brooklyn', 'Manhattan', 'Queens'] # for use as x axis in graphs\n",
    "\n"
   ]
  },
  {
   "cell_type": "code",
   "execution_count": 4,
   "metadata": {},
   "outputs": [],
   "source": [
    "def layout(graph, symbol=''):\n",
    "    \"\"\"Summary or Description of the Function\n",
    "\n",
    "    Parameters:\n",
    "    graph (plotly graph): graph to be beautified\n",
    "    symbol (str): to format between $ and % \n",
    "\n",
    "    Returns:\n",
    "    graph object: Beautified graph\n",
    "\n",
    "   \"\"\"\n",
    "    if symbol == '%':\n",
    "        graph.update_layout(\n",
    "        font_family=\"Verdana\",\n",
    "        font_color=\"White\",\n",
    "        font_size=13,\n",
    "        title_font_family=\"Verdana\",\n",
    "        plot_bgcolor= '#eee',\n",
    "        paper_bgcolor= '#374C60',\n",
    "        yaxis_tickformat = symbol\n",
    "        )\n",
    "    else:\n",
    "        graph.update_layout(\n",
    "        font_family=\"Verdana\",\n",
    "        font_color=\"White\",\n",
    "        font_size=13,\n",
    "        title_font_family=\"Verdana\",\n",
    "        plot_bgcolor= '#eee',\n",
    "        paper_bgcolor= '#374C60',\n",
    "        yaxis_tickprefix = symbol,\n",
    "        )\n",
    "    return graph"
   ]
  },
  {
   "cell_type": "code",
   "execution_count": 5,
   "metadata": {},
   "outputs": [
    {
     "data": {
      "application/vnd.plotly.v1+json": {
       "config": {
        "plotlyServerURL": "https://plot.ly"
       },
       "data": [
        {
         "dimensions": [
          {
           "axis": {
            "matches": true
           },
           "label": "Total Restaurant Revenue",
           "values": [
            80364247,
            74023925,
            76029852,
            77923034
           ]
          },
          {
           "axis": {
            "matches": true
           },
           "label": "# of Restaurants",
           "values": [
            3512,
            3431,
            3127,
            3117
           ]
          },
          {
           "axis": {
            "matches": true
           },
           "label": "Population",
           "values": [
            4205232,
            3962342,
            3863943,
            3801232
           ]
          },
          {
           "axis": {
            "matches": true
           },
           "label": "Avg  Resident Salary",
           "values": [
            82532,
            79322,
            78879,
            80312
           ]
          },
          {
           "axis": {
            "matches": true
           },
           "label": "Avg s Diner's Per Night",
           "values": [
            100,
            67,
            70,
            75
           ]
          }
         ],
         "hovertemplate": "Borough=Manhattan<br>%{xaxis.title.text}=%{x}<br>%{yaxis.title.text}=%{y}<extra></extra>",
         "legendgroup": "Manhattan",
         "marker": {
          "color": "#08cc94",
          "symbol": "circle"
         },
         "name": "Manhattan",
         "showlegend": true,
         "type": "splom"
        },
        {
         "dimensions": [
          {
           "axis": {
            "matches": true
           },
           "label": "Total Restaurant Revenue",
           "values": [
            22582323,
            19520856,
            19382528,
            20852132
           ]
          },
          {
           "axis": {
            "matches": true
           },
           "label": "# of Restaurants",
           "values": [
            1893,
            1800,
            1931,
            1950
           ]
          },
          {
           "axis": {
            "matches": true
           },
           "label": "Population",
           "values": [
            2249123,
            2120952,
            2423092,
            2412423
           ]
          },
          {
           "axis": {
            "matches": true
           },
           "label": "Avg  Resident Salary",
           "values": [
            42132,
            41423,
            41958,
            42953
           ]
          },
          {
           "axis": {
            "matches": true
           },
           "label": "Avg s Diner's Per Night",
           "values": [
            67,
            22,
            32,
            47
           ]
          }
         ],
         "hovertemplate": "Borough=Queens<br>%{xaxis.title.text}=%{x}<br>%{yaxis.title.text}=%{y}<extra></extra>",
         "legendgroup": "Queens",
         "marker": {
          "color": "#9467bd",
          "symbol": "circle"
         },
         "name": "Queens",
         "showlegend": true,
         "type": "splom"
        },
        {
         "dimensions": [
          {
           "axis": {
            "matches": true
           },
           "label": "Total Restaurant Revenue",
           "values": [
            18339249,
            18917326,
            18214958,
            18502323
           ]
          },
          {
           "axis": {
            "matches": true
           },
           "label": "# of Restaurants",
           "values": [
            2318,
            2438,
            2457,
            2600
           ]
          },
          {
           "axis": {
            "matches": true
           },
           "label": "Population",
           "values": [
            1294232,
            1321232,
            1325923,
            1421321
           ]
          },
          {
           "axis": {
            "matches": true
           },
           "label": "Avg  Resident Salary",
           "values": [
            41924,
            40194,
            38656,
            37891
           ]
          },
          {
           "axis": {
            "matches": true
           },
           "label": "Avg s Diner's Per Night",
           "values": [
            60,
            52,
            55,
            67
           ]
          }
         ],
         "hovertemplate": "Borough=Bronx<br>%{xaxis.title.text}=%{x}<br>%{yaxis.title.text}=%{y}<extra></extra>",
         "legendgroup": "Bronx",
         "marker": {
          "color": "#686cfc",
          "symbol": "circle"
         },
         "name": "Bronx",
         "showlegend": true,
         "type": "splom"
        },
        {
         "dimensions": [
          {
           "axis": {
            "matches": true
           },
           "label": "Total Restaurant Revenue",
           "values": [
            67912303,
            66195923,
            66185092,
            67192324
           ]
          },
          {
           "axis": {
            "matches": true
           },
           "label": "# of Restaurants",
           "values": [
            2678,
            2539,
            2632,
            2746
           ]
          },
          {
           "axis": {
            "matches": true
           },
           "label": "Population",
           "values": [
            3123023,
            3052932,
            2903213,
            2892323
           ]
          },
          {
           "axis": {
            "matches": true
           },
           "label": "Avg  Resident Salary",
           "values": [
            67081,
            66921,
            66492,
            66213
           ]
          },
          {
           "axis": {
            "matches": true
           },
           "label": "Avg s Diner's Per Night",
           "values": [
            86,
            63,
            70,
            72
           ]
          }
         ],
         "hovertemplate": "Borough=Brooklyn<br>%{xaxis.title.text}=%{x}<br>%{yaxis.title.text}=%{y}<extra></extra>",
         "legendgroup": "Brooklyn",
         "marker": {
          "color": "#f0543c",
          "symbol": "circle"
         },
         "name": "Brooklyn",
         "showlegend": true,
         "type": "splom"
        }
       ],
       "layout": {
        "dragmode": "select",
        "font": {
         "color": "White",
         "family": "Verdana",
         "size": 13
        },
        "height": 900,
        "legend": {
         "title": {
          "text": "Borough"
         },
         "tracegroupgap": 0
        },
        "paper_bgcolor": "#374C60",
        "plot_bgcolor": "#eee",
        "template": {
         "data": {
          "bar": [
           {
            "error_x": {
             "color": "#2a3f5f"
            },
            "error_y": {
             "color": "#2a3f5f"
            },
            "marker": {
             "line": {
              "color": "#E5ECF6",
              "width": 0.5
             }
            },
            "type": "bar"
           }
          ],
          "barpolar": [
           {
            "marker": {
             "line": {
              "color": "#E5ECF6",
              "width": 0.5
             }
            },
            "type": "barpolar"
           }
          ],
          "carpet": [
           {
            "aaxis": {
             "endlinecolor": "#2a3f5f",
             "gridcolor": "white",
             "linecolor": "white",
             "minorgridcolor": "white",
             "startlinecolor": "#2a3f5f"
            },
            "baxis": {
             "endlinecolor": "#2a3f5f",
             "gridcolor": "white",
             "linecolor": "white",
             "minorgridcolor": "white",
             "startlinecolor": "#2a3f5f"
            },
            "type": "carpet"
           }
          ],
          "choropleth": [
           {
            "colorbar": {
             "outlinewidth": 0,
             "ticks": ""
            },
            "type": "choropleth"
           }
          ],
          "contour": [
           {
            "colorbar": {
             "outlinewidth": 0,
             "ticks": ""
            },
            "colorscale": [
             [
              0,
              "#0d0887"
             ],
             [
              0.1111111111111111,
              "#46039f"
             ],
             [
              0.2222222222222222,
              "#7201a8"
             ],
             [
              0.3333333333333333,
              "#9c179e"
             ],
             [
              0.4444444444444444,
              "#bd3786"
             ],
             [
              0.5555555555555556,
              "#d8576b"
             ],
             [
              0.6666666666666666,
              "#ed7953"
             ],
             [
              0.7777777777777778,
              "#fb9f3a"
             ],
             [
              0.8888888888888888,
              "#fdca26"
             ],
             [
              1,
              "#f0f921"
             ]
            ],
            "type": "contour"
           }
          ],
          "contourcarpet": [
           {
            "colorbar": {
             "outlinewidth": 0,
             "ticks": ""
            },
            "type": "contourcarpet"
           }
          ],
          "heatmap": [
           {
            "colorbar": {
             "outlinewidth": 0,
             "ticks": ""
            },
            "colorscale": [
             [
              0,
              "#0d0887"
             ],
             [
              0.1111111111111111,
              "#46039f"
             ],
             [
              0.2222222222222222,
              "#7201a8"
             ],
             [
              0.3333333333333333,
              "#9c179e"
             ],
             [
              0.4444444444444444,
              "#bd3786"
             ],
             [
              0.5555555555555556,
              "#d8576b"
             ],
             [
              0.6666666666666666,
              "#ed7953"
             ],
             [
              0.7777777777777778,
              "#fb9f3a"
             ],
             [
              0.8888888888888888,
              "#fdca26"
             ],
             [
              1,
              "#f0f921"
             ]
            ],
            "type": "heatmap"
           }
          ],
          "heatmapgl": [
           {
            "colorbar": {
             "outlinewidth": 0,
             "ticks": ""
            },
            "colorscale": [
             [
              0,
              "#0d0887"
             ],
             [
              0.1111111111111111,
              "#46039f"
             ],
             [
              0.2222222222222222,
              "#7201a8"
             ],
             [
              0.3333333333333333,
              "#9c179e"
             ],
             [
              0.4444444444444444,
              "#bd3786"
             ],
             [
              0.5555555555555556,
              "#d8576b"
             ],
             [
              0.6666666666666666,
              "#ed7953"
             ],
             [
              0.7777777777777778,
              "#fb9f3a"
             ],
             [
              0.8888888888888888,
              "#fdca26"
             ],
             [
              1,
              "#f0f921"
             ]
            ],
            "type": "heatmapgl"
           }
          ],
          "histogram": [
           {
            "marker": {
             "colorbar": {
              "outlinewidth": 0,
              "ticks": ""
             }
            },
            "type": "histogram"
           }
          ],
          "histogram2d": [
           {
            "colorbar": {
             "outlinewidth": 0,
             "ticks": ""
            },
            "colorscale": [
             [
              0,
              "#0d0887"
             ],
             [
              0.1111111111111111,
              "#46039f"
             ],
             [
              0.2222222222222222,
              "#7201a8"
             ],
             [
              0.3333333333333333,
              "#9c179e"
             ],
             [
              0.4444444444444444,
              "#bd3786"
             ],
             [
              0.5555555555555556,
              "#d8576b"
             ],
             [
              0.6666666666666666,
              "#ed7953"
             ],
             [
              0.7777777777777778,
              "#fb9f3a"
             ],
             [
              0.8888888888888888,
              "#fdca26"
             ],
             [
              1,
              "#f0f921"
             ]
            ],
            "type": "histogram2d"
           }
          ],
          "histogram2dcontour": [
           {
            "colorbar": {
             "outlinewidth": 0,
             "ticks": ""
            },
            "colorscale": [
             [
              0,
              "#0d0887"
             ],
             [
              0.1111111111111111,
              "#46039f"
             ],
             [
              0.2222222222222222,
              "#7201a8"
             ],
             [
              0.3333333333333333,
              "#9c179e"
             ],
             [
              0.4444444444444444,
              "#bd3786"
             ],
             [
              0.5555555555555556,
              "#d8576b"
             ],
             [
              0.6666666666666666,
              "#ed7953"
             ],
             [
              0.7777777777777778,
              "#fb9f3a"
             ],
             [
              0.8888888888888888,
              "#fdca26"
             ],
             [
              1,
              "#f0f921"
             ]
            ],
            "type": "histogram2dcontour"
           }
          ],
          "mesh3d": [
           {
            "colorbar": {
             "outlinewidth": 0,
             "ticks": ""
            },
            "type": "mesh3d"
           }
          ],
          "parcoords": [
           {
            "line": {
             "colorbar": {
              "outlinewidth": 0,
              "ticks": ""
             }
            },
            "type": "parcoords"
           }
          ],
          "pie": [
           {
            "automargin": true,
            "type": "pie"
           }
          ],
          "scatter": [
           {
            "marker": {
             "colorbar": {
              "outlinewidth": 0,
              "ticks": ""
             }
            },
            "type": "scatter"
           }
          ],
          "scatter3d": [
           {
            "line": {
             "colorbar": {
              "outlinewidth": 0,
              "ticks": ""
             }
            },
            "marker": {
             "colorbar": {
              "outlinewidth": 0,
              "ticks": ""
             }
            },
            "type": "scatter3d"
           }
          ],
          "scattercarpet": [
           {
            "marker": {
             "colorbar": {
              "outlinewidth": 0,
              "ticks": ""
             }
            },
            "type": "scattercarpet"
           }
          ],
          "scattergeo": [
           {
            "marker": {
             "colorbar": {
              "outlinewidth": 0,
              "ticks": ""
             }
            },
            "type": "scattergeo"
           }
          ],
          "scattergl": [
           {
            "marker": {
             "colorbar": {
              "outlinewidth": 0,
              "ticks": ""
             }
            },
            "type": "scattergl"
           }
          ],
          "scattermapbox": [
           {
            "marker": {
             "colorbar": {
              "outlinewidth": 0,
              "ticks": ""
             }
            },
            "type": "scattermapbox"
           }
          ],
          "scatterpolar": [
           {
            "marker": {
             "colorbar": {
              "outlinewidth": 0,
              "ticks": ""
             }
            },
            "type": "scatterpolar"
           }
          ],
          "scatterpolargl": [
           {
            "marker": {
             "colorbar": {
              "outlinewidth": 0,
              "ticks": ""
             }
            },
            "type": "scatterpolargl"
           }
          ],
          "scatterternary": [
           {
            "marker": {
             "colorbar": {
              "outlinewidth": 0,
              "ticks": ""
             }
            },
            "type": "scatterternary"
           }
          ],
          "surface": [
           {
            "colorbar": {
             "outlinewidth": 0,
             "ticks": ""
            },
            "colorscale": [
             [
              0,
              "#0d0887"
             ],
             [
              0.1111111111111111,
              "#46039f"
             ],
             [
              0.2222222222222222,
              "#7201a8"
             ],
             [
              0.3333333333333333,
              "#9c179e"
             ],
             [
              0.4444444444444444,
              "#bd3786"
             ],
             [
              0.5555555555555556,
              "#d8576b"
             ],
             [
              0.6666666666666666,
              "#ed7953"
             ],
             [
              0.7777777777777778,
              "#fb9f3a"
             ],
             [
              0.8888888888888888,
              "#fdca26"
             ],
             [
              1,
              "#f0f921"
             ]
            ],
            "type": "surface"
           }
          ],
          "table": [
           {
            "cells": {
             "fill": {
              "color": "#EBF0F8"
             },
             "line": {
              "color": "white"
             }
            },
            "header": {
             "fill": {
              "color": "#C8D4E3"
             },
             "line": {
              "color": "white"
             }
            },
            "type": "table"
           }
          ]
         },
         "layout": {
          "annotationdefaults": {
           "arrowcolor": "#2a3f5f",
           "arrowhead": 0,
           "arrowwidth": 1
          },
          "autotypenumbers": "strict",
          "coloraxis": {
           "colorbar": {
            "outlinewidth": 0,
            "ticks": ""
           }
          },
          "colorscale": {
           "diverging": [
            [
             0,
             "#8e0152"
            ],
            [
             0.1,
             "#c51b7d"
            ],
            [
             0.2,
             "#de77ae"
            ],
            [
             0.3,
             "#f1b6da"
            ],
            [
             0.4,
             "#fde0ef"
            ],
            [
             0.5,
             "#f7f7f7"
            ],
            [
             0.6,
             "#e6f5d0"
            ],
            [
             0.7,
             "#b8e186"
            ],
            [
             0.8,
             "#7fbc41"
            ],
            [
             0.9,
             "#4d9221"
            ],
            [
             1,
             "#276419"
            ]
           ],
           "sequential": [
            [
             0,
             "#0d0887"
            ],
            [
             0.1111111111111111,
             "#46039f"
            ],
            [
             0.2222222222222222,
             "#7201a8"
            ],
            [
             0.3333333333333333,
             "#9c179e"
            ],
            [
             0.4444444444444444,
             "#bd3786"
            ],
            [
             0.5555555555555556,
             "#d8576b"
            ],
            [
             0.6666666666666666,
             "#ed7953"
            ],
            [
             0.7777777777777778,
             "#fb9f3a"
            ],
            [
             0.8888888888888888,
             "#fdca26"
            ],
            [
             1,
             "#f0f921"
            ]
           ],
           "sequentialminus": [
            [
             0,
             "#0d0887"
            ],
            [
             0.1111111111111111,
             "#46039f"
            ],
            [
             0.2222222222222222,
             "#7201a8"
            ],
            [
             0.3333333333333333,
             "#9c179e"
            ],
            [
             0.4444444444444444,
             "#bd3786"
            ],
            [
             0.5555555555555556,
             "#d8576b"
            ],
            [
             0.6666666666666666,
             "#ed7953"
            ],
            [
             0.7777777777777778,
             "#fb9f3a"
            ],
            [
             0.8888888888888888,
             "#fdca26"
            ],
            [
             1,
             "#f0f921"
            ]
           ]
          },
          "colorway": [
           "#636efa",
           "#EF553B",
           "#00cc96",
           "#ab63fa",
           "#FFA15A",
           "#19d3f3",
           "#FF6692",
           "#B6E880",
           "#FF97FF",
           "#FECB52"
          ],
          "font": {
           "color": "#2a3f5f"
          },
          "geo": {
           "bgcolor": "white",
           "lakecolor": "white",
           "landcolor": "#E5ECF6",
           "showlakes": true,
           "showland": true,
           "subunitcolor": "white"
          },
          "hoverlabel": {
           "align": "left"
          },
          "hovermode": "closest",
          "mapbox": {
           "style": "light"
          },
          "paper_bgcolor": "white",
          "plot_bgcolor": "#E5ECF6",
          "polar": {
           "angularaxis": {
            "gridcolor": "white",
            "linecolor": "white",
            "ticks": ""
           },
           "bgcolor": "#E5ECF6",
           "radialaxis": {
            "gridcolor": "white",
            "linecolor": "white",
            "ticks": ""
           }
          },
          "scene": {
           "xaxis": {
            "backgroundcolor": "#E5ECF6",
            "gridcolor": "white",
            "gridwidth": 2,
            "linecolor": "white",
            "showbackground": true,
            "ticks": "",
            "zerolinecolor": "white"
           },
           "yaxis": {
            "backgroundcolor": "#E5ECF6",
            "gridcolor": "white",
            "gridwidth": 2,
            "linecolor": "white",
            "showbackground": true,
            "ticks": "",
            "zerolinecolor": "white"
           },
           "zaxis": {
            "backgroundcolor": "#E5ECF6",
            "gridcolor": "white",
            "gridwidth": 2,
            "linecolor": "white",
            "showbackground": true,
            "ticks": "",
            "zerolinecolor": "white"
           }
          },
          "shapedefaults": {
           "line": {
            "color": "#2a3f5f"
           }
          },
          "ternary": {
           "aaxis": {
            "gridcolor": "white",
            "linecolor": "white",
            "ticks": ""
           },
           "baxis": {
            "gridcolor": "white",
            "linecolor": "white",
            "ticks": ""
           },
           "bgcolor": "#E5ECF6",
           "caxis": {
            "gridcolor": "white",
            "linecolor": "white",
            "ticks": ""
           }
          },
          "title": {
           "x": 0.05
          },
          "xaxis": {
           "automargin": true,
           "gridcolor": "white",
           "linecolor": "white",
           "ticks": "",
           "title": {
            "standoff": 15
           },
           "zerolinecolor": "white",
           "zerolinewidth": 2
          },
          "yaxis": {
           "automargin": true,
           "gridcolor": "white",
           "linecolor": "white",
           "ticks": "",
           "title": {
            "standoff": 15
           },
           "zerolinecolor": "white",
           "zerolinewidth": 2
          }
         }
        },
        "title": {
         "font": {
          "family": "Verdana"
         },
         "text": "Scatter matrix of Borough Features"
        },
        "width": 1100,
        "yaxis": {
         "tickprefix": ""
        }
       }
      },
      "text/html": [
       "<div>                            <div id=\"4c02edf1-78a6-4e89-b95e-d33cbabf64f4\" class=\"plotly-graph-div\" style=\"height:900px; width:1100px;\"></div>            <script type=\"text/javascript\">                require([\"plotly\"], function(Plotly) {                    window.PLOTLYENV=window.PLOTLYENV || {};                                    if (document.getElementById(\"4c02edf1-78a6-4e89-b95e-d33cbabf64f4\")) {                    Plotly.newPlot(                        \"4c02edf1-78a6-4e89-b95e-d33cbabf64f4\",                        [{\"dimensions\": [{\"axis\": {\"matches\": true}, \"label\": \"Total Restaurant Revenue\", \"values\": [80364247, 74023925, 76029852, 77923034]}, {\"axis\": {\"matches\": true}, \"label\": \"# of Restaurants\", \"values\": [3512, 3431, 3127, 3117]}, {\"axis\": {\"matches\": true}, \"label\": \"Population\", \"values\": [4205232, 3962342, 3863943, 3801232]}, {\"axis\": {\"matches\": true}, \"label\": \"Avg  Resident Salary\", \"values\": [82532, 79322, 78879, 80312]}, {\"axis\": {\"matches\": true}, \"label\": \"Avg s Diner's Per Night\", \"values\": [100, 67, 70, 75]}], \"hovertemplate\": \"Borough=Manhattan<br>%{xaxis.title.text}=%{x}<br>%{yaxis.title.text}=%{y}<extra></extra>\", \"legendgroup\": \"Manhattan\", \"marker\": {\"color\": \"#08cc94\", \"symbol\": \"circle\"}, \"name\": \"Manhattan\", \"showlegend\": true, \"type\": \"splom\"}, {\"dimensions\": [{\"axis\": {\"matches\": true}, \"label\": \"Total Restaurant Revenue\", \"values\": [22582323, 19520856, 19382528, 20852132]}, {\"axis\": {\"matches\": true}, \"label\": \"# of Restaurants\", \"values\": [1893, 1800, 1931, 1950]}, {\"axis\": {\"matches\": true}, \"label\": \"Population\", \"values\": [2249123, 2120952, 2423092, 2412423]}, {\"axis\": {\"matches\": true}, \"label\": \"Avg  Resident Salary\", \"values\": [42132, 41423, 41958, 42953]}, {\"axis\": {\"matches\": true}, \"label\": \"Avg s Diner's Per Night\", \"values\": [67, 22, 32, 47]}], \"hovertemplate\": \"Borough=Queens<br>%{xaxis.title.text}=%{x}<br>%{yaxis.title.text}=%{y}<extra></extra>\", \"legendgroup\": \"Queens\", \"marker\": {\"color\": \"#9467bd\", \"symbol\": \"circle\"}, \"name\": \"Queens\", \"showlegend\": true, \"type\": \"splom\"}, {\"dimensions\": [{\"axis\": {\"matches\": true}, \"label\": \"Total Restaurant Revenue\", \"values\": [18339249, 18917326, 18214958, 18502323]}, {\"axis\": {\"matches\": true}, \"label\": \"# of Restaurants\", \"values\": [2318, 2438, 2457, 2600]}, {\"axis\": {\"matches\": true}, \"label\": \"Population\", \"values\": [1294232, 1321232, 1325923, 1421321]}, {\"axis\": {\"matches\": true}, \"label\": \"Avg  Resident Salary\", \"values\": [41924, 40194, 38656, 37891]}, {\"axis\": {\"matches\": true}, \"label\": \"Avg s Diner's Per Night\", \"values\": [60, 52, 55, 67]}], \"hovertemplate\": \"Borough=Bronx<br>%{xaxis.title.text}=%{x}<br>%{yaxis.title.text}=%{y}<extra></extra>\", \"legendgroup\": \"Bronx\", \"marker\": {\"color\": \"#686cfc\", \"symbol\": \"circle\"}, \"name\": \"Bronx\", \"showlegend\": true, \"type\": \"splom\"}, {\"dimensions\": [{\"axis\": {\"matches\": true}, \"label\": \"Total Restaurant Revenue\", \"values\": [67912303, 66195923, 66185092, 67192324]}, {\"axis\": {\"matches\": true}, \"label\": \"# of Restaurants\", \"values\": [2678, 2539, 2632, 2746]}, {\"axis\": {\"matches\": true}, \"label\": \"Population\", \"values\": [3123023, 3052932, 2903213, 2892323]}, {\"axis\": {\"matches\": true}, \"label\": \"Avg  Resident Salary\", \"values\": [67081, 66921, 66492, 66213]}, {\"axis\": {\"matches\": true}, \"label\": \"Avg s Diner's Per Night\", \"values\": [86, 63, 70, 72]}], \"hovertemplate\": \"Borough=Brooklyn<br>%{xaxis.title.text}=%{x}<br>%{yaxis.title.text}=%{y}<extra></extra>\", \"legendgroup\": \"Brooklyn\", \"marker\": {\"color\": \"#f0543c\", \"symbol\": \"circle\"}, \"name\": \"Brooklyn\", \"showlegend\": true, \"type\": \"splom\"}],                        {\"dragmode\": \"select\", \"font\": {\"color\": \"White\", \"family\": \"Verdana\", \"size\": 13}, \"height\": 900, \"legend\": {\"title\": {\"text\": \"Borough\"}, \"tracegroupgap\": 0}, \"paper_bgcolor\": \"#374C60\", \"plot_bgcolor\": \"#eee\", \"template\": {\"data\": {\"bar\": [{\"error_x\": {\"color\": \"#2a3f5f\"}, \"error_y\": {\"color\": \"#2a3f5f\"}, \"marker\": {\"line\": {\"color\": \"#E5ECF6\", \"width\": 0.5}}, \"type\": \"bar\"}], \"barpolar\": [{\"marker\": {\"line\": {\"color\": \"#E5ECF6\", \"width\": 0.5}}, \"type\": \"barpolar\"}], \"carpet\": [{\"aaxis\": {\"endlinecolor\": \"#2a3f5f\", \"gridcolor\": \"white\", \"linecolor\": \"white\", \"minorgridcolor\": \"white\", \"startlinecolor\": \"#2a3f5f\"}, \"baxis\": {\"endlinecolor\": \"#2a3f5f\", \"gridcolor\": \"white\", \"linecolor\": \"white\", \"minorgridcolor\": \"white\", \"startlinecolor\": \"#2a3f5f\"}, \"type\": \"carpet\"}], \"choropleth\": [{\"colorbar\": {\"outlinewidth\": 0, \"ticks\": \"\"}, \"type\": \"choropleth\"}], \"contour\": [{\"colorbar\": {\"outlinewidth\": 0, \"ticks\": \"\"}, \"colorscale\": [[0.0, \"#0d0887\"], [0.1111111111111111, \"#46039f\"], [0.2222222222222222, \"#7201a8\"], [0.3333333333333333, \"#9c179e\"], [0.4444444444444444, \"#bd3786\"], [0.5555555555555556, \"#d8576b\"], [0.6666666666666666, \"#ed7953\"], [0.7777777777777778, \"#fb9f3a\"], [0.8888888888888888, \"#fdca26\"], [1.0, \"#f0f921\"]], \"type\": \"contour\"}], \"contourcarpet\": [{\"colorbar\": {\"outlinewidth\": 0, \"ticks\": \"\"}, \"type\": \"contourcarpet\"}], \"heatmap\": [{\"colorbar\": {\"outlinewidth\": 0, \"ticks\": \"\"}, \"colorscale\": [[0.0, \"#0d0887\"], [0.1111111111111111, \"#46039f\"], [0.2222222222222222, \"#7201a8\"], [0.3333333333333333, \"#9c179e\"], [0.4444444444444444, \"#bd3786\"], [0.5555555555555556, \"#d8576b\"], [0.6666666666666666, \"#ed7953\"], [0.7777777777777778, \"#fb9f3a\"], [0.8888888888888888, \"#fdca26\"], [1.0, \"#f0f921\"]], \"type\": \"heatmap\"}], \"heatmapgl\": [{\"colorbar\": {\"outlinewidth\": 0, \"ticks\": \"\"}, \"colorscale\": [[0.0, \"#0d0887\"], [0.1111111111111111, \"#46039f\"], [0.2222222222222222, \"#7201a8\"], [0.3333333333333333, \"#9c179e\"], [0.4444444444444444, \"#bd3786\"], [0.5555555555555556, \"#d8576b\"], [0.6666666666666666, \"#ed7953\"], [0.7777777777777778, \"#fb9f3a\"], [0.8888888888888888, \"#fdca26\"], [1.0, \"#f0f921\"]], \"type\": \"heatmapgl\"}], \"histogram\": [{\"marker\": {\"colorbar\": {\"outlinewidth\": 0, \"ticks\": \"\"}}, \"type\": \"histogram\"}], \"histogram2d\": [{\"colorbar\": {\"outlinewidth\": 0, \"ticks\": \"\"}, \"colorscale\": [[0.0, \"#0d0887\"], [0.1111111111111111, \"#46039f\"], [0.2222222222222222, \"#7201a8\"], [0.3333333333333333, \"#9c179e\"], [0.4444444444444444, \"#bd3786\"], [0.5555555555555556, \"#d8576b\"], [0.6666666666666666, \"#ed7953\"], [0.7777777777777778, \"#fb9f3a\"], [0.8888888888888888, \"#fdca26\"], [1.0, \"#f0f921\"]], \"type\": \"histogram2d\"}], \"histogram2dcontour\": [{\"colorbar\": {\"outlinewidth\": 0, \"ticks\": \"\"}, \"colorscale\": [[0.0, \"#0d0887\"], [0.1111111111111111, \"#46039f\"], [0.2222222222222222, \"#7201a8\"], [0.3333333333333333, \"#9c179e\"], [0.4444444444444444, \"#bd3786\"], [0.5555555555555556, \"#d8576b\"], [0.6666666666666666, \"#ed7953\"], [0.7777777777777778, \"#fb9f3a\"], [0.8888888888888888, \"#fdca26\"], [1.0, \"#f0f921\"]], \"type\": \"histogram2dcontour\"}], \"mesh3d\": [{\"colorbar\": {\"outlinewidth\": 0, \"ticks\": \"\"}, \"type\": \"mesh3d\"}], \"parcoords\": [{\"line\": {\"colorbar\": {\"outlinewidth\": 0, \"ticks\": \"\"}}, \"type\": \"parcoords\"}], \"pie\": [{\"automargin\": true, \"type\": \"pie\"}], \"scatter\": [{\"marker\": {\"colorbar\": {\"outlinewidth\": 0, \"ticks\": \"\"}}, \"type\": \"scatter\"}], \"scatter3d\": [{\"line\": {\"colorbar\": {\"outlinewidth\": 0, \"ticks\": \"\"}}, \"marker\": {\"colorbar\": {\"outlinewidth\": 0, \"ticks\": \"\"}}, \"type\": \"scatter3d\"}], \"scattercarpet\": [{\"marker\": {\"colorbar\": {\"outlinewidth\": 0, \"ticks\": \"\"}}, \"type\": \"scattercarpet\"}], \"scattergeo\": [{\"marker\": {\"colorbar\": {\"outlinewidth\": 0, \"ticks\": \"\"}}, \"type\": \"scattergeo\"}], \"scattergl\": [{\"marker\": {\"colorbar\": {\"outlinewidth\": 0, \"ticks\": \"\"}}, \"type\": \"scattergl\"}], \"scattermapbox\": [{\"marker\": {\"colorbar\": {\"outlinewidth\": 0, \"ticks\": \"\"}}, \"type\": \"scattermapbox\"}], \"scatterpolar\": [{\"marker\": {\"colorbar\": {\"outlinewidth\": 0, \"ticks\": \"\"}}, \"type\": \"scatterpolar\"}], \"scatterpolargl\": [{\"marker\": {\"colorbar\": {\"outlinewidth\": 0, \"ticks\": \"\"}}, \"type\": \"scatterpolargl\"}], \"scatterternary\": [{\"marker\": {\"colorbar\": {\"outlinewidth\": 0, \"ticks\": \"\"}}, \"type\": \"scatterternary\"}], \"surface\": [{\"colorbar\": {\"outlinewidth\": 0, \"ticks\": \"\"}, \"colorscale\": [[0.0, \"#0d0887\"], [0.1111111111111111, \"#46039f\"], [0.2222222222222222, \"#7201a8\"], [0.3333333333333333, \"#9c179e\"], [0.4444444444444444, \"#bd3786\"], [0.5555555555555556, \"#d8576b\"], [0.6666666666666666, \"#ed7953\"], [0.7777777777777778, \"#fb9f3a\"], [0.8888888888888888, \"#fdca26\"], [1.0, \"#f0f921\"]], \"type\": \"surface\"}], \"table\": [{\"cells\": {\"fill\": {\"color\": \"#EBF0F8\"}, \"line\": {\"color\": \"white\"}}, \"header\": {\"fill\": {\"color\": \"#C8D4E3\"}, \"line\": {\"color\": \"white\"}}, \"type\": \"table\"}]}, \"layout\": {\"annotationdefaults\": {\"arrowcolor\": \"#2a3f5f\", \"arrowhead\": 0, \"arrowwidth\": 1}, \"autotypenumbers\": \"strict\", \"coloraxis\": {\"colorbar\": {\"outlinewidth\": 0, \"ticks\": \"\"}}, \"colorscale\": {\"diverging\": [[0, \"#8e0152\"], [0.1, \"#c51b7d\"], [0.2, \"#de77ae\"], [0.3, \"#f1b6da\"], [0.4, \"#fde0ef\"], [0.5, \"#f7f7f7\"], [0.6, \"#e6f5d0\"], [0.7, \"#b8e186\"], [0.8, \"#7fbc41\"], [0.9, \"#4d9221\"], [1, \"#276419\"]], \"sequential\": [[0.0, \"#0d0887\"], [0.1111111111111111, \"#46039f\"], [0.2222222222222222, \"#7201a8\"], [0.3333333333333333, \"#9c179e\"], [0.4444444444444444, \"#bd3786\"], [0.5555555555555556, \"#d8576b\"], [0.6666666666666666, \"#ed7953\"], [0.7777777777777778, \"#fb9f3a\"], [0.8888888888888888, \"#fdca26\"], [1.0, \"#f0f921\"]], \"sequentialminus\": [[0.0, \"#0d0887\"], [0.1111111111111111, \"#46039f\"], [0.2222222222222222, \"#7201a8\"], [0.3333333333333333, \"#9c179e\"], [0.4444444444444444, \"#bd3786\"], [0.5555555555555556, \"#d8576b\"], [0.6666666666666666, \"#ed7953\"], [0.7777777777777778, \"#fb9f3a\"], [0.8888888888888888, \"#fdca26\"], [1.0, \"#f0f921\"]]}, \"colorway\": [\"#636efa\", \"#EF553B\", \"#00cc96\", \"#ab63fa\", \"#FFA15A\", \"#19d3f3\", \"#FF6692\", \"#B6E880\", \"#FF97FF\", \"#FECB52\"], \"font\": {\"color\": \"#2a3f5f\"}, \"geo\": {\"bgcolor\": \"white\", \"lakecolor\": \"white\", \"landcolor\": \"#E5ECF6\", \"showlakes\": true, \"showland\": true, \"subunitcolor\": \"white\"}, \"hoverlabel\": {\"align\": \"left\"}, \"hovermode\": \"closest\", \"mapbox\": {\"style\": \"light\"}, \"paper_bgcolor\": \"white\", \"plot_bgcolor\": \"#E5ECF6\", \"polar\": {\"angularaxis\": {\"gridcolor\": \"white\", \"linecolor\": \"white\", \"ticks\": \"\"}, \"bgcolor\": \"#E5ECF6\", \"radialaxis\": {\"gridcolor\": \"white\", \"linecolor\": \"white\", \"ticks\": \"\"}}, \"scene\": {\"xaxis\": {\"backgroundcolor\": \"#E5ECF6\", \"gridcolor\": \"white\", \"gridwidth\": 2, \"linecolor\": \"white\", \"showbackground\": true, \"ticks\": \"\", \"zerolinecolor\": \"white\"}, \"yaxis\": {\"backgroundcolor\": \"#E5ECF6\", \"gridcolor\": \"white\", \"gridwidth\": 2, \"linecolor\": \"white\", \"showbackground\": true, \"ticks\": \"\", \"zerolinecolor\": \"white\"}, \"zaxis\": {\"backgroundcolor\": \"#E5ECF6\", \"gridcolor\": \"white\", \"gridwidth\": 2, \"linecolor\": \"white\", \"showbackground\": true, \"ticks\": \"\", \"zerolinecolor\": \"white\"}}, \"shapedefaults\": {\"line\": {\"color\": \"#2a3f5f\"}}, \"ternary\": {\"aaxis\": {\"gridcolor\": \"white\", \"linecolor\": \"white\", \"ticks\": \"\"}, \"baxis\": {\"gridcolor\": \"white\", \"linecolor\": \"white\", \"ticks\": \"\"}, \"bgcolor\": \"#E5ECF6\", \"caxis\": {\"gridcolor\": \"white\", \"linecolor\": \"white\", \"ticks\": \"\"}}, \"title\": {\"x\": 0.05}, \"xaxis\": {\"automargin\": true, \"gridcolor\": \"white\", \"linecolor\": \"white\", \"ticks\": \"\", \"title\": {\"standoff\": 15}, \"zerolinecolor\": \"white\", \"zerolinewidth\": 2}, \"yaxis\": {\"automargin\": true, \"gridcolor\": \"white\", \"linecolor\": \"white\", \"ticks\": \"\", \"title\": {\"standoff\": 15}, \"zerolinecolor\": \"white\", \"zerolinewidth\": 2}}}, \"title\": {\"font\": {\"family\": \"Verdana\"}, \"text\": \"Scatter matrix of Borough Features\"}, \"width\": 1100, \"yaxis\": {\"tickprefix\": \"\"}},                        {\"responsive\": true}                    ).then(function(){\n",
       "                            \n",
       "var gd = document.getElementById('4c02edf1-78a6-4e89-b95e-d33cbabf64f4');\n",
       "var x = new MutationObserver(function (mutations, observer) {{\n",
       "        var display = window.getComputedStyle(gd).display;\n",
       "        if (!display || display === 'none') {{\n",
       "            console.log([gd, 'removed!']);\n",
       "            Plotly.purge(gd);\n",
       "            observer.disconnect();\n",
       "        }}\n",
       "}});\n",
       "\n",
       "// Listen for the removal of the full notebook cells\n",
       "var notebookContainer = gd.closest('#notebook-container');\n",
       "if (notebookContainer) {{\n",
       "    x.observe(notebookContainer, {childList: true});\n",
       "}}\n",
       "\n",
       "// Listen for the clearing of the current output cell\n",
       "var outputEl = gd.closest('.output');\n",
       "if (outputEl) {{\n",
       "    x.observe(outputEl, {childList: true});\n",
       "}}\n",
       "\n",
       "                        })                };                });            </script>        </div>"
      ]
     },
     "metadata": {},
     "output_type": "display_data"
    },
    {
     "data": {
      "text/html": [
       "<div>\n",
       "<style scoped>\n",
       "    .dataframe tbody tr th:only-of-type {\n",
       "        vertical-align: middle;\n",
       "    }\n",
       "\n",
       "    .dataframe tbody tr th {\n",
       "        vertical-align: top;\n",
       "    }\n",
       "\n",
       "    .dataframe thead th {\n",
       "        text-align: right;\n",
       "    }\n",
       "</style>\n",
       "<table border=\"1\" class=\"dataframe\">\n",
       "  <thead>\n",
       "    <tr style=\"text-align: right;\">\n",
       "      <th></th>\n",
       "      <th>Quarter (2020)</th>\n",
       "      <th># of Restaurants</th>\n",
       "      <th>Total Restaurant Revenue</th>\n",
       "      <th>Population</th>\n",
       "      <th>Average Resident Salary</th>\n",
       "      <th>Averages Diner's Per Night</th>\n",
       "    </tr>\n",
       "  </thead>\n",
       "  <tbody>\n",
       "    <tr>\n",
       "      <th>Quarter (2020)</th>\n",
       "      <td>1.00000</td>\n",
       "      <td>0.25519</td>\n",
       "      <td>0.41564</td>\n",
       "      <td>0.30364</td>\n",
       "      <td>0.40726</td>\n",
       "      <td>-0.09374</td>\n",
       "    </tr>\n",
       "    <tr>\n",
       "      <th># of Restaurants</th>\n",
       "      <td>0.25519</td>\n",
       "      <td>1.00000</td>\n",
       "      <td>0.97872</td>\n",
       "      <td>0.99513</td>\n",
       "      <td>0.98375</td>\n",
       "      <td>0.74486</td>\n",
       "    </tr>\n",
       "    <tr>\n",
       "      <th>Total Restaurant Revenue</th>\n",
       "      <td>0.41564</td>\n",
       "      <td>0.97872</td>\n",
       "      <td>1.00000</td>\n",
       "      <td>0.99198</td>\n",
       "      <td>0.99924</td>\n",
       "      <td>0.73235</td>\n",
       "    </tr>\n",
       "    <tr>\n",
       "      <th>Population</th>\n",
       "      <td>0.30364</td>\n",
       "      <td>0.99513</td>\n",
       "      <td>0.99198</td>\n",
       "      <td>1.00000</td>\n",
       "      <td>0.99377</td>\n",
       "      <td>0.75816</td>\n",
       "    </tr>\n",
       "    <tr>\n",
       "      <th>Average Resident Salary</th>\n",
       "      <td>0.40726</td>\n",
       "      <td>0.98375</td>\n",
       "      <td>0.99924</td>\n",
       "      <td>0.99377</td>\n",
       "      <td>1.00000</td>\n",
       "      <td>0.71848</td>\n",
       "    </tr>\n",
       "    <tr>\n",
       "      <th>Averages Diner's Per Night</th>\n",
       "      <td>-0.09374</td>\n",
       "      <td>0.74486</td>\n",
       "      <td>0.73235</td>\n",
       "      <td>0.75816</td>\n",
       "      <td>0.71848</td>\n",
       "      <td>1.00000</td>\n",
       "    </tr>\n",
       "  </tbody>\n",
       "</table>\n",
       "</div>"
      ],
      "text/plain": [
       "                            Quarter (2020)  # of Restaurants  \\\n",
       "Quarter (2020)                     1.00000           0.25519   \n",
       "# of Restaurants                   0.25519           1.00000   \n",
       "Total Restaurant Revenue           0.41564           0.97872   \n",
       "Population                         0.30364           0.99513   \n",
       "Average Resident Salary            0.40726           0.98375   \n",
       "Averages Diner's Per Night        -0.09374           0.74486   \n",
       "\n",
       "                            Total Restaurant Revenue  Population  \\\n",
       "Quarter (2020)                               0.41564     0.30364   \n",
       "# of Restaurants                             0.97872     0.99513   \n",
       "Total Restaurant Revenue                     1.00000     0.99198   \n",
       "Population                                   0.99198     1.00000   \n",
       "Average Resident Salary                      0.99924     0.99377   \n",
       "Averages Diner's Per Night                   0.73235     0.75816   \n",
       "\n",
       "                            Average Resident Salary  \\\n",
       "Quarter (2020)                              0.40726   \n",
       "# of Restaurants                            0.98375   \n",
       "Total Restaurant Revenue                    0.99924   \n",
       "Population                                  0.99377   \n",
       "Average Resident Salary                     1.00000   \n",
       "Averages Diner's Per Night                  0.71848   \n",
       "\n",
       "                            Averages Diner's Per Night  \n",
       "Quarter (2020)                                -0.09374  \n",
       "# of Restaurants                               0.74486  \n",
       "Total Restaurant Revenue                       0.73235  \n",
       "Population                                     0.75816  \n",
       "Average Resident Salary                        0.71848  \n",
       "Averages Diner's Per Night                     1.00000  "
      ]
     },
     "execution_count": 5,
     "metadata": {},
     "output_type": "execute_result"
    }
   ],
   "source": [
    "fig6 = px.scatter_matrix(df, dimensions=['Total Restaurant Revenue','# of Restaurants', 'Population', 'Average Resident Salary', \"Averages Diner's Per Night\"],\n",
    "                         color='Borough', color_discrete_map={'Bronx': '#686cfc', 'Queens': '#9467bd',\n",
    "                                                              'Brooklyn': '#f0543c', 'Manhattan': '#08cc94'}, title=\"Scatter matrix of Borough Features\",\n",
    "    labels={col:col.replace('Average', 'Avg ') for col in df.columns}, width=1100, height=900) # shortern titles )\n",
    "\n",
    "layout(fig6)\n",
    "df[0:6].corr()"
   ]
  },
  {
   "cell_type": "code",
   "execution_count": 9,
   "metadata": {},
   "outputs": [
    {
     "name": "stdout",
     "output_type": "stream",
     "text": [
      "Borough\n",
      "Bronx       14.00000\n",
      "Brooklyn    22.00000\n",
      "Manhattan   19.00000\n",
      "Queens       9.00000\n",
      "Name: rev_pop, dtype: float64\n"
     ]
    },
    {
     "data": {
      "application/vnd.plotly.v1+json": {
       "config": {
        "plotlyServerURL": "https://plot.ly"
       },
       "data": [
        {
         "alignmentgroup": "True",
         "hovertemplate": "color=Bronx<br>Borough=%{x}<br>Revenue per Person=%{y}<extra></extra>",
         "legendgroup": "Bronx",
         "marker": {
          "color": "#636efa"
         },
         "name": "Bronx",
         "offsetgroup": "Bronx",
         "orientation": "v",
         "showlegend": true,
         "textposition": "auto",
         "type": "bar",
         "x": [
          "Bronx"
         ],
         "xaxis": "x",
         "y": [
          14
         ],
         "yaxis": "y"
        },
        {
         "alignmentgroup": "True",
         "hovertemplate": "color=Brooklyn<br>Borough=%{x}<br>Revenue per Person=%{y}<extra></extra>",
         "legendgroup": "Brooklyn",
         "marker": {
          "color": "#EF553B"
         },
         "name": "Brooklyn",
         "offsetgroup": "Brooklyn",
         "orientation": "v",
         "showlegend": true,
         "textposition": "auto",
         "type": "bar",
         "x": [
          "Brooklyn"
         ],
         "xaxis": "x",
         "y": [
          22
         ],
         "yaxis": "y"
        },
        {
         "alignmentgroup": "True",
         "hovertemplate": "color=Manhattan<br>Borough=%{x}<br>Revenue per Person=%{y}<extra></extra>",
         "legendgroup": "Manhattan",
         "marker": {
          "color": "#00cc96"
         },
         "name": "Manhattan",
         "offsetgroup": "Manhattan",
         "orientation": "v",
         "showlegend": true,
         "textposition": "auto",
         "type": "bar",
         "x": [
          "Manhattan"
         ],
         "xaxis": "x",
         "y": [
          19
         ],
         "yaxis": "y"
        },
        {
         "alignmentgroup": "True",
         "hovertemplate": "color=Queens<br>Borough=%{x}<br>Revenue per Person=%{y}<extra></extra>",
         "legendgroup": "Queens",
         "marker": {
          "color": "#ab63fa"
         },
         "name": "Queens",
         "offsetgroup": "Queens",
         "orientation": "v",
         "showlegend": true,
         "textposition": "auto",
         "type": "bar",
         "x": [
          "Queens"
         ],
         "xaxis": "x",
         "y": [
          9
         ],
         "yaxis": "y"
        }
       ],
       "layout": {
        "barmode": "relative",
        "font": {
         "color": "White",
         "family": "Verdana",
         "size": 13
        },
        "legend": {
         "title": {
          "text": "color"
         },
         "tracegroupgap": 0
        },
        "paper_bgcolor": "#374C60",
        "plot_bgcolor": "#eee",
        "template": {
         "data": {
          "bar": [
           {
            "error_x": {
             "color": "#2a3f5f"
            },
            "error_y": {
             "color": "#2a3f5f"
            },
            "marker": {
             "line": {
              "color": "#E5ECF6",
              "width": 0.5
             }
            },
            "type": "bar"
           }
          ],
          "barpolar": [
           {
            "marker": {
             "line": {
              "color": "#E5ECF6",
              "width": 0.5
             }
            },
            "type": "barpolar"
           }
          ],
          "carpet": [
           {
            "aaxis": {
             "endlinecolor": "#2a3f5f",
             "gridcolor": "white",
             "linecolor": "white",
             "minorgridcolor": "white",
             "startlinecolor": "#2a3f5f"
            },
            "baxis": {
             "endlinecolor": "#2a3f5f",
             "gridcolor": "white",
             "linecolor": "white",
             "minorgridcolor": "white",
             "startlinecolor": "#2a3f5f"
            },
            "type": "carpet"
           }
          ],
          "choropleth": [
           {
            "colorbar": {
             "outlinewidth": 0,
             "ticks": ""
            },
            "type": "choropleth"
           }
          ],
          "contour": [
           {
            "colorbar": {
             "outlinewidth": 0,
             "ticks": ""
            },
            "colorscale": [
             [
              0,
              "#0d0887"
             ],
             [
              0.1111111111111111,
              "#46039f"
             ],
             [
              0.2222222222222222,
              "#7201a8"
             ],
             [
              0.3333333333333333,
              "#9c179e"
             ],
             [
              0.4444444444444444,
              "#bd3786"
             ],
             [
              0.5555555555555556,
              "#d8576b"
             ],
             [
              0.6666666666666666,
              "#ed7953"
             ],
             [
              0.7777777777777778,
              "#fb9f3a"
             ],
             [
              0.8888888888888888,
              "#fdca26"
             ],
             [
              1,
              "#f0f921"
             ]
            ],
            "type": "contour"
           }
          ],
          "contourcarpet": [
           {
            "colorbar": {
             "outlinewidth": 0,
             "ticks": ""
            },
            "type": "contourcarpet"
           }
          ],
          "heatmap": [
           {
            "colorbar": {
             "outlinewidth": 0,
             "ticks": ""
            },
            "colorscale": [
             [
              0,
              "#0d0887"
             ],
             [
              0.1111111111111111,
              "#46039f"
             ],
             [
              0.2222222222222222,
              "#7201a8"
             ],
             [
              0.3333333333333333,
              "#9c179e"
             ],
             [
              0.4444444444444444,
              "#bd3786"
             ],
             [
              0.5555555555555556,
              "#d8576b"
             ],
             [
              0.6666666666666666,
              "#ed7953"
             ],
             [
              0.7777777777777778,
              "#fb9f3a"
             ],
             [
              0.8888888888888888,
              "#fdca26"
             ],
             [
              1,
              "#f0f921"
             ]
            ],
            "type": "heatmap"
           }
          ],
          "heatmapgl": [
           {
            "colorbar": {
             "outlinewidth": 0,
             "ticks": ""
            },
            "colorscale": [
             [
              0,
              "#0d0887"
             ],
             [
              0.1111111111111111,
              "#46039f"
             ],
             [
              0.2222222222222222,
              "#7201a8"
             ],
             [
              0.3333333333333333,
              "#9c179e"
             ],
             [
              0.4444444444444444,
              "#bd3786"
             ],
             [
              0.5555555555555556,
              "#d8576b"
             ],
             [
              0.6666666666666666,
              "#ed7953"
             ],
             [
              0.7777777777777778,
              "#fb9f3a"
             ],
             [
              0.8888888888888888,
              "#fdca26"
             ],
             [
              1,
              "#f0f921"
             ]
            ],
            "type": "heatmapgl"
           }
          ],
          "histogram": [
           {
            "marker": {
             "colorbar": {
              "outlinewidth": 0,
              "ticks": ""
             }
            },
            "type": "histogram"
           }
          ],
          "histogram2d": [
           {
            "colorbar": {
             "outlinewidth": 0,
             "ticks": ""
            },
            "colorscale": [
             [
              0,
              "#0d0887"
             ],
             [
              0.1111111111111111,
              "#46039f"
             ],
             [
              0.2222222222222222,
              "#7201a8"
             ],
             [
              0.3333333333333333,
              "#9c179e"
             ],
             [
              0.4444444444444444,
              "#bd3786"
             ],
             [
              0.5555555555555556,
              "#d8576b"
             ],
             [
              0.6666666666666666,
              "#ed7953"
             ],
             [
              0.7777777777777778,
              "#fb9f3a"
             ],
             [
              0.8888888888888888,
              "#fdca26"
             ],
             [
              1,
              "#f0f921"
             ]
            ],
            "type": "histogram2d"
           }
          ],
          "histogram2dcontour": [
           {
            "colorbar": {
             "outlinewidth": 0,
             "ticks": ""
            },
            "colorscale": [
             [
              0,
              "#0d0887"
             ],
             [
              0.1111111111111111,
              "#46039f"
             ],
             [
              0.2222222222222222,
              "#7201a8"
             ],
             [
              0.3333333333333333,
              "#9c179e"
             ],
             [
              0.4444444444444444,
              "#bd3786"
             ],
             [
              0.5555555555555556,
              "#d8576b"
             ],
             [
              0.6666666666666666,
              "#ed7953"
             ],
             [
              0.7777777777777778,
              "#fb9f3a"
             ],
             [
              0.8888888888888888,
              "#fdca26"
             ],
             [
              1,
              "#f0f921"
             ]
            ],
            "type": "histogram2dcontour"
           }
          ],
          "mesh3d": [
           {
            "colorbar": {
             "outlinewidth": 0,
             "ticks": ""
            },
            "type": "mesh3d"
           }
          ],
          "parcoords": [
           {
            "line": {
             "colorbar": {
              "outlinewidth": 0,
              "ticks": ""
             }
            },
            "type": "parcoords"
           }
          ],
          "pie": [
           {
            "automargin": true,
            "type": "pie"
           }
          ],
          "scatter": [
           {
            "marker": {
             "colorbar": {
              "outlinewidth": 0,
              "ticks": ""
             }
            },
            "type": "scatter"
           }
          ],
          "scatter3d": [
           {
            "line": {
             "colorbar": {
              "outlinewidth": 0,
              "ticks": ""
             }
            },
            "marker": {
             "colorbar": {
              "outlinewidth": 0,
              "ticks": ""
             }
            },
            "type": "scatter3d"
           }
          ],
          "scattercarpet": [
           {
            "marker": {
             "colorbar": {
              "outlinewidth": 0,
              "ticks": ""
             }
            },
            "type": "scattercarpet"
           }
          ],
          "scattergeo": [
           {
            "marker": {
             "colorbar": {
              "outlinewidth": 0,
              "ticks": ""
             }
            },
            "type": "scattergeo"
           }
          ],
          "scattergl": [
           {
            "marker": {
             "colorbar": {
              "outlinewidth": 0,
              "ticks": ""
             }
            },
            "type": "scattergl"
           }
          ],
          "scattermapbox": [
           {
            "marker": {
             "colorbar": {
              "outlinewidth": 0,
              "ticks": ""
             }
            },
            "type": "scattermapbox"
           }
          ],
          "scatterpolar": [
           {
            "marker": {
             "colorbar": {
              "outlinewidth": 0,
              "ticks": ""
             }
            },
            "type": "scatterpolar"
           }
          ],
          "scatterpolargl": [
           {
            "marker": {
             "colorbar": {
              "outlinewidth": 0,
              "ticks": ""
             }
            },
            "type": "scatterpolargl"
           }
          ],
          "scatterternary": [
           {
            "marker": {
             "colorbar": {
              "outlinewidth": 0,
              "ticks": ""
             }
            },
            "type": "scatterternary"
           }
          ],
          "surface": [
           {
            "colorbar": {
             "outlinewidth": 0,
             "ticks": ""
            },
            "colorscale": [
             [
              0,
              "#0d0887"
             ],
             [
              0.1111111111111111,
              "#46039f"
             ],
             [
              0.2222222222222222,
              "#7201a8"
             ],
             [
              0.3333333333333333,
              "#9c179e"
             ],
             [
              0.4444444444444444,
              "#bd3786"
             ],
             [
              0.5555555555555556,
              "#d8576b"
             ],
             [
              0.6666666666666666,
              "#ed7953"
             ],
             [
              0.7777777777777778,
              "#fb9f3a"
             ],
             [
              0.8888888888888888,
              "#fdca26"
             ],
             [
              1,
              "#f0f921"
             ]
            ],
            "type": "surface"
           }
          ],
          "table": [
           {
            "cells": {
             "fill": {
              "color": "#EBF0F8"
             },
             "line": {
              "color": "white"
             }
            },
            "header": {
             "fill": {
              "color": "#C8D4E3"
             },
             "line": {
              "color": "white"
             }
            },
            "type": "table"
           }
          ]
         },
         "layout": {
          "annotationdefaults": {
           "arrowcolor": "#2a3f5f",
           "arrowhead": 0,
           "arrowwidth": 1
          },
          "autotypenumbers": "strict",
          "coloraxis": {
           "colorbar": {
            "outlinewidth": 0,
            "ticks": ""
           }
          },
          "colorscale": {
           "diverging": [
            [
             0,
             "#8e0152"
            ],
            [
             0.1,
             "#c51b7d"
            ],
            [
             0.2,
             "#de77ae"
            ],
            [
             0.3,
             "#f1b6da"
            ],
            [
             0.4,
             "#fde0ef"
            ],
            [
             0.5,
             "#f7f7f7"
            ],
            [
             0.6,
             "#e6f5d0"
            ],
            [
             0.7,
             "#b8e186"
            ],
            [
             0.8,
             "#7fbc41"
            ],
            [
             0.9,
             "#4d9221"
            ],
            [
             1,
             "#276419"
            ]
           ],
           "sequential": [
            [
             0,
             "#0d0887"
            ],
            [
             0.1111111111111111,
             "#46039f"
            ],
            [
             0.2222222222222222,
             "#7201a8"
            ],
            [
             0.3333333333333333,
             "#9c179e"
            ],
            [
             0.4444444444444444,
             "#bd3786"
            ],
            [
             0.5555555555555556,
             "#d8576b"
            ],
            [
             0.6666666666666666,
             "#ed7953"
            ],
            [
             0.7777777777777778,
             "#fb9f3a"
            ],
            [
             0.8888888888888888,
             "#fdca26"
            ],
            [
             1,
             "#f0f921"
            ]
           ],
           "sequentialminus": [
            [
             0,
             "#0d0887"
            ],
            [
             0.1111111111111111,
             "#46039f"
            ],
            [
             0.2222222222222222,
             "#7201a8"
            ],
            [
             0.3333333333333333,
             "#9c179e"
            ],
            [
             0.4444444444444444,
             "#bd3786"
            ],
            [
             0.5555555555555556,
             "#d8576b"
            ],
            [
             0.6666666666666666,
             "#ed7953"
            ],
            [
             0.7777777777777778,
             "#fb9f3a"
            ],
            [
             0.8888888888888888,
             "#fdca26"
            ],
            [
             1,
             "#f0f921"
            ]
           ]
          },
          "colorway": [
           "#636efa",
           "#EF553B",
           "#00cc96",
           "#ab63fa",
           "#FFA15A",
           "#19d3f3",
           "#FF6692",
           "#B6E880",
           "#FF97FF",
           "#FECB52"
          ],
          "font": {
           "color": "#2a3f5f"
          },
          "geo": {
           "bgcolor": "white",
           "lakecolor": "white",
           "landcolor": "#E5ECF6",
           "showlakes": true,
           "showland": true,
           "subunitcolor": "white"
          },
          "hoverlabel": {
           "align": "left"
          },
          "hovermode": "closest",
          "mapbox": {
           "style": "light"
          },
          "paper_bgcolor": "white",
          "plot_bgcolor": "#E5ECF6",
          "polar": {
           "angularaxis": {
            "gridcolor": "white",
            "linecolor": "white",
            "ticks": ""
           },
           "bgcolor": "#E5ECF6",
           "radialaxis": {
            "gridcolor": "white",
            "linecolor": "white",
            "ticks": ""
           }
          },
          "scene": {
           "xaxis": {
            "backgroundcolor": "#E5ECF6",
            "gridcolor": "white",
            "gridwidth": 2,
            "linecolor": "white",
            "showbackground": true,
            "ticks": "",
            "zerolinecolor": "white"
           },
           "yaxis": {
            "backgroundcolor": "#E5ECF6",
            "gridcolor": "white",
            "gridwidth": 2,
            "linecolor": "white",
            "showbackground": true,
            "ticks": "",
            "zerolinecolor": "white"
           },
           "zaxis": {
            "backgroundcolor": "#E5ECF6",
            "gridcolor": "white",
            "gridwidth": 2,
            "linecolor": "white",
            "showbackground": true,
            "ticks": "",
            "zerolinecolor": "white"
           }
          },
          "shapedefaults": {
           "line": {
            "color": "#2a3f5f"
           }
          },
          "ternary": {
           "aaxis": {
            "gridcolor": "white",
            "linecolor": "white",
            "ticks": ""
           },
           "baxis": {
            "gridcolor": "white",
            "linecolor": "white",
            "ticks": ""
           },
           "bgcolor": "#E5ECF6",
           "caxis": {
            "gridcolor": "white",
            "linecolor": "white",
            "ticks": ""
           }
          },
          "title": {
           "x": 0.05
          },
          "xaxis": {
           "automargin": true,
           "gridcolor": "white",
           "linecolor": "white",
           "ticks": "",
           "title": {
            "standoff": 15
           },
           "zerolinecolor": "white",
           "zerolinewidth": 2
          },
          "yaxis": {
           "automargin": true,
           "gridcolor": "white",
           "linecolor": "white",
           "ticks": "",
           "title": {
            "standoff": 15
           },
           "zerolinecolor": "white",
           "zerolinewidth": 2
          }
         }
        },
        "title": {
         "font": {
          "family": "Verdana"
         },
         "text": "Revenue Per Person"
        },
        "xaxis": {
         "anchor": "y",
         "domain": [
          0,
          1
         ],
         "title": {
          "text": "Borough"
         }
        },
        "yaxis": {
         "anchor": "x",
         "domain": [
          0,
          1
         ],
         "tickprefix": "$",
         "title": {
          "text": "Revenue per Person"
         }
        }
       }
      },
      "text/html": [
       "<div>                            <div id=\"b561b25a-1cea-4600-89e2-4815e43f05d2\" class=\"plotly-graph-div\" style=\"height:525px; width:100%;\"></div>            <script type=\"text/javascript\">                require([\"plotly\"], function(Plotly) {                    window.PLOTLYENV=window.PLOTLYENV || {};                                    if (document.getElementById(\"b561b25a-1cea-4600-89e2-4815e43f05d2\")) {                    Plotly.newPlot(                        \"b561b25a-1cea-4600-89e2-4815e43f05d2\",                        [{\"alignmentgroup\": \"True\", \"hovertemplate\": \"color=Bronx<br>Borough=%{x}<br>Revenue per Person=%{y}<extra></extra>\", \"legendgroup\": \"Bronx\", \"marker\": {\"color\": \"#636efa\"}, \"name\": \"Bronx\", \"offsetgroup\": \"Bronx\", \"orientation\": \"v\", \"showlegend\": true, \"textposition\": \"auto\", \"type\": \"bar\", \"x\": [\"Bronx\"], \"xaxis\": \"x\", \"y\": [14.0], \"yaxis\": \"y\"}, {\"alignmentgroup\": \"True\", \"hovertemplate\": \"color=Brooklyn<br>Borough=%{x}<br>Revenue per Person=%{y}<extra></extra>\", \"legendgroup\": \"Brooklyn\", \"marker\": {\"color\": \"#EF553B\"}, \"name\": \"Brooklyn\", \"offsetgroup\": \"Brooklyn\", \"orientation\": \"v\", \"showlegend\": true, \"textposition\": \"auto\", \"type\": \"bar\", \"x\": [\"Brooklyn\"], \"xaxis\": \"x\", \"y\": [22.0], \"yaxis\": \"y\"}, {\"alignmentgroup\": \"True\", \"hovertemplate\": \"color=Manhattan<br>Borough=%{x}<br>Revenue per Person=%{y}<extra></extra>\", \"legendgroup\": \"Manhattan\", \"marker\": {\"color\": \"#00cc96\"}, \"name\": \"Manhattan\", \"offsetgroup\": \"Manhattan\", \"orientation\": \"v\", \"showlegend\": true, \"textposition\": \"auto\", \"type\": \"bar\", \"x\": [\"Manhattan\"], \"xaxis\": \"x\", \"y\": [19.0], \"yaxis\": \"y\"}, {\"alignmentgroup\": \"True\", \"hovertemplate\": \"color=Queens<br>Borough=%{x}<br>Revenue per Person=%{y}<extra></extra>\", \"legendgroup\": \"Queens\", \"marker\": {\"color\": \"#ab63fa\"}, \"name\": \"Queens\", \"offsetgroup\": \"Queens\", \"orientation\": \"v\", \"showlegend\": true, \"textposition\": \"auto\", \"type\": \"bar\", \"x\": [\"Queens\"], \"xaxis\": \"x\", \"y\": [9.0], \"yaxis\": \"y\"}],                        {\"barmode\": \"relative\", \"font\": {\"color\": \"White\", \"family\": \"Verdana\", \"size\": 13}, \"legend\": {\"title\": {\"text\": \"color\"}, \"tracegroupgap\": 0}, \"paper_bgcolor\": \"#374C60\", \"plot_bgcolor\": \"#eee\", \"template\": {\"data\": {\"bar\": [{\"error_x\": {\"color\": \"#2a3f5f\"}, \"error_y\": {\"color\": \"#2a3f5f\"}, \"marker\": {\"line\": {\"color\": \"#E5ECF6\", \"width\": 0.5}}, \"type\": \"bar\"}], \"barpolar\": [{\"marker\": {\"line\": {\"color\": \"#E5ECF6\", \"width\": 0.5}}, \"type\": \"barpolar\"}], \"carpet\": [{\"aaxis\": {\"endlinecolor\": \"#2a3f5f\", \"gridcolor\": \"white\", \"linecolor\": \"white\", \"minorgridcolor\": \"white\", \"startlinecolor\": \"#2a3f5f\"}, \"baxis\": {\"endlinecolor\": \"#2a3f5f\", \"gridcolor\": \"white\", \"linecolor\": \"white\", \"minorgridcolor\": \"white\", \"startlinecolor\": \"#2a3f5f\"}, \"type\": \"carpet\"}], \"choropleth\": [{\"colorbar\": {\"outlinewidth\": 0, \"ticks\": \"\"}, \"type\": \"choropleth\"}], \"contour\": [{\"colorbar\": {\"outlinewidth\": 0, \"ticks\": \"\"}, \"colorscale\": [[0.0, \"#0d0887\"], [0.1111111111111111, \"#46039f\"], [0.2222222222222222, \"#7201a8\"], [0.3333333333333333, \"#9c179e\"], [0.4444444444444444, \"#bd3786\"], [0.5555555555555556, \"#d8576b\"], [0.6666666666666666, \"#ed7953\"], [0.7777777777777778, \"#fb9f3a\"], [0.8888888888888888, \"#fdca26\"], [1.0, \"#f0f921\"]], \"type\": \"contour\"}], \"contourcarpet\": [{\"colorbar\": {\"outlinewidth\": 0, \"ticks\": \"\"}, \"type\": \"contourcarpet\"}], \"heatmap\": [{\"colorbar\": {\"outlinewidth\": 0, \"ticks\": \"\"}, \"colorscale\": [[0.0, \"#0d0887\"], [0.1111111111111111, \"#46039f\"], [0.2222222222222222, \"#7201a8\"], [0.3333333333333333, \"#9c179e\"], [0.4444444444444444, \"#bd3786\"], [0.5555555555555556, \"#d8576b\"], [0.6666666666666666, \"#ed7953\"], [0.7777777777777778, \"#fb9f3a\"], [0.8888888888888888, \"#fdca26\"], [1.0, \"#f0f921\"]], \"type\": \"heatmap\"}], \"heatmapgl\": [{\"colorbar\": {\"outlinewidth\": 0, \"ticks\": \"\"}, \"colorscale\": [[0.0, \"#0d0887\"], [0.1111111111111111, \"#46039f\"], [0.2222222222222222, \"#7201a8\"], [0.3333333333333333, \"#9c179e\"], [0.4444444444444444, \"#bd3786\"], [0.5555555555555556, \"#d8576b\"], [0.6666666666666666, \"#ed7953\"], [0.7777777777777778, \"#fb9f3a\"], [0.8888888888888888, \"#fdca26\"], [1.0, \"#f0f921\"]], \"type\": \"heatmapgl\"}], \"histogram\": [{\"marker\": {\"colorbar\": {\"outlinewidth\": 0, \"ticks\": \"\"}}, \"type\": \"histogram\"}], \"histogram2d\": [{\"colorbar\": {\"outlinewidth\": 0, \"ticks\": \"\"}, \"colorscale\": [[0.0, \"#0d0887\"], [0.1111111111111111, \"#46039f\"], [0.2222222222222222, \"#7201a8\"], [0.3333333333333333, \"#9c179e\"], [0.4444444444444444, \"#bd3786\"], [0.5555555555555556, \"#d8576b\"], [0.6666666666666666, \"#ed7953\"], [0.7777777777777778, \"#fb9f3a\"], [0.8888888888888888, \"#fdca26\"], [1.0, \"#f0f921\"]], \"type\": \"histogram2d\"}], \"histogram2dcontour\": [{\"colorbar\": {\"outlinewidth\": 0, \"ticks\": \"\"}, \"colorscale\": [[0.0, \"#0d0887\"], [0.1111111111111111, \"#46039f\"], [0.2222222222222222, \"#7201a8\"], [0.3333333333333333, \"#9c179e\"], [0.4444444444444444, \"#bd3786\"], [0.5555555555555556, \"#d8576b\"], [0.6666666666666666, \"#ed7953\"], [0.7777777777777778, \"#fb9f3a\"], [0.8888888888888888, \"#fdca26\"], [1.0, \"#f0f921\"]], \"type\": \"histogram2dcontour\"}], \"mesh3d\": [{\"colorbar\": {\"outlinewidth\": 0, \"ticks\": \"\"}, \"type\": \"mesh3d\"}], \"parcoords\": [{\"line\": {\"colorbar\": {\"outlinewidth\": 0, \"ticks\": \"\"}}, \"type\": \"parcoords\"}], \"pie\": [{\"automargin\": true, \"type\": \"pie\"}], \"scatter\": [{\"marker\": {\"colorbar\": {\"outlinewidth\": 0, \"ticks\": \"\"}}, \"type\": \"scatter\"}], \"scatter3d\": [{\"line\": {\"colorbar\": {\"outlinewidth\": 0, \"ticks\": \"\"}}, \"marker\": {\"colorbar\": {\"outlinewidth\": 0, \"ticks\": \"\"}}, \"type\": \"scatter3d\"}], \"scattercarpet\": [{\"marker\": {\"colorbar\": {\"outlinewidth\": 0, \"ticks\": \"\"}}, \"type\": \"scattercarpet\"}], \"scattergeo\": [{\"marker\": {\"colorbar\": {\"outlinewidth\": 0, \"ticks\": \"\"}}, \"type\": \"scattergeo\"}], \"scattergl\": [{\"marker\": {\"colorbar\": {\"outlinewidth\": 0, \"ticks\": \"\"}}, \"type\": \"scattergl\"}], \"scattermapbox\": [{\"marker\": {\"colorbar\": {\"outlinewidth\": 0, \"ticks\": \"\"}}, \"type\": \"scattermapbox\"}], \"scatterpolar\": [{\"marker\": {\"colorbar\": {\"outlinewidth\": 0, \"ticks\": \"\"}}, \"type\": \"scatterpolar\"}], \"scatterpolargl\": [{\"marker\": {\"colorbar\": {\"outlinewidth\": 0, \"ticks\": \"\"}}, \"type\": \"scatterpolargl\"}], \"scatterternary\": [{\"marker\": {\"colorbar\": {\"outlinewidth\": 0, \"ticks\": \"\"}}, \"type\": \"scatterternary\"}], \"surface\": [{\"colorbar\": {\"outlinewidth\": 0, \"ticks\": \"\"}, \"colorscale\": [[0.0, \"#0d0887\"], [0.1111111111111111, \"#46039f\"], [0.2222222222222222, \"#7201a8\"], [0.3333333333333333, \"#9c179e\"], [0.4444444444444444, \"#bd3786\"], [0.5555555555555556, \"#d8576b\"], [0.6666666666666666, \"#ed7953\"], [0.7777777777777778, \"#fb9f3a\"], [0.8888888888888888, \"#fdca26\"], [1.0, \"#f0f921\"]], \"type\": \"surface\"}], \"table\": [{\"cells\": {\"fill\": {\"color\": \"#EBF0F8\"}, \"line\": {\"color\": \"white\"}}, \"header\": {\"fill\": {\"color\": \"#C8D4E3\"}, \"line\": {\"color\": \"white\"}}, \"type\": \"table\"}]}, \"layout\": {\"annotationdefaults\": {\"arrowcolor\": \"#2a3f5f\", \"arrowhead\": 0, \"arrowwidth\": 1}, \"autotypenumbers\": \"strict\", \"coloraxis\": {\"colorbar\": {\"outlinewidth\": 0, \"ticks\": \"\"}}, \"colorscale\": {\"diverging\": [[0, \"#8e0152\"], [0.1, \"#c51b7d\"], [0.2, \"#de77ae\"], [0.3, \"#f1b6da\"], [0.4, \"#fde0ef\"], [0.5, \"#f7f7f7\"], [0.6, \"#e6f5d0\"], [0.7, \"#b8e186\"], [0.8, \"#7fbc41\"], [0.9, \"#4d9221\"], [1, \"#276419\"]], \"sequential\": [[0.0, \"#0d0887\"], [0.1111111111111111, \"#46039f\"], [0.2222222222222222, \"#7201a8\"], [0.3333333333333333, \"#9c179e\"], [0.4444444444444444, \"#bd3786\"], [0.5555555555555556, \"#d8576b\"], [0.6666666666666666, \"#ed7953\"], [0.7777777777777778, \"#fb9f3a\"], [0.8888888888888888, \"#fdca26\"], [1.0, \"#f0f921\"]], \"sequentialminus\": [[0.0, \"#0d0887\"], [0.1111111111111111, \"#46039f\"], [0.2222222222222222, \"#7201a8\"], [0.3333333333333333, \"#9c179e\"], [0.4444444444444444, \"#bd3786\"], [0.5555555555555556, \"#d8576b\"], [0.6666666666666666, \"#ed7953\"], [0.7777777777777778, \"#fb9f3a\"], [0.8888888888888888, \"#fdca26\"], [1.0, \"#f0f921\"]]}, \"colorway\": [\"#636efa\", \"#EF553B\", \"#00cc96\", \"#ab63fa\", \"#FFA15A\", \"#19d3f3\", \"#FF6692\", \"#B6E880\", \"#FF97FF\", \"#FECB52\"], \"font\": {\"color\": \"#2a3f5f\"}, \"geo\": {\"bgcolor\": \"white\", \"lakecolor\": \"white\", \"landcolor\": \"#E5ECF6\", \"showlakes\": true, \"showland\": true, \"subunitcolor\": \"white\"}, \"hoverlabel\": {\"align\": \"left\"}, \"hovermode\": \"closest\", \"mapbox\": {\"style\": \"light\"}, \"paper_bgcolor\": \"white\", \"plot_bgcolor\": \"#E5ECF6\", \"polar\": {\"angularaxis\": {\"gridcolor\": \"white\", \"linecolor\": \"white\", \"ticks\": \"\"}, \"bgcolor\": \"#E5ECF6\", \"radialaxis\": {\"gridcolor\": \"white\", \"linecolor\": \"white\", \"ticks\": \"\"}}, \"scene\": {\"xaxis\": {\"backgroundcolor\": \"#E5ECF6\", \"gridcolor\": \"white\", \"gridwidth\": 2, \"linecolor\": \"white\", \"showbackground\": true, \"ticks\": \"\", \"zerolinecolor\": \"white\"}, \"yaxis\": {\"backgroundcolor\": \"#E5ECF6\", \"gridcolor\": \"white\", \"gridwidth\": 2, \"linecolor\": \"white\", \"showbackground\": true, \"ticks\": \"\", \"zerolinecolor\": \"white\"}, \"zaxis\": {\"backgroundcolor\": \"#E5ECF6\", \"gridcolor\": \"white\", \"gridwidth\": 2, \"linecolor\": \"white\", \"showbackground\": true, \"ticks\": \"\", \"zerolinecolor\": \"white\"}}, \"shapedefaults\": {\"line\": {\"color\": \"#2a3f5f\"}}, \"ternary\": {\"aaxis\": {\"gridcolor\": \"white\", \"linecolor\": \"white\", \"ticks\": \"\"}, \"baxis\": {\"gridcolor\": \"white\", \"linecolor\": \"white\", \"ticks\": \"\"}, \"bgcolor\": \"#E5ECF6\", \"caxis\": {\"gridcolor\": \"white\", \"linecolor\": \"white\", \"ticks\": \"\"}}, \"title\": {\"x\": 0.05}, \"xaxis\": {\"automargin\": true, \"gridcolor\": \"white\", \"linecolor\": \"white\", \"ticks\": \"\", \"title\": {\"standoff\": 15}, \"zerolinecolor\": \"white\", \"zerolinewidth\": 2}, \"yaxis\": {\"automargin\": true, \"gridcolor\": \"white\", \"linecolor\": \"white\", \"ticks\": \"\", \"title\": {\"standoff\": 15}, \"zerolinecolor\": \"white\", \"zerolinewidth\": 2}}}, \"title\": {\"font\": {\"family\": \"Verdana\"}, \"text\": \"Revenue Per Person\"}, \"xaxis\": {\"anchor\": \"y\", \"domain\": [0.0, 1.0], \"title\": {\"text\": \"Borough\"}}, \"yaxis\": {\"anchor\": \"x\", \"domain\": [0.0, 1.0], \"tickprefix\": \"$\", \"title\": {\"text\": \"Revenue per Person\"}}},                        {\"responsive\": true}                    ).then(function(){\n",
       "                            \n",
       "var gd = document.getElementById('b561b25a-1cea-4600-89e2-4815e43f05d2');\n",
       "var x = new MutationObserver(function (mutations, observer) {{\n",
       "        var display = window.getComputedStyle(gd).display;\n",
       "        if (!display || display === 'none') {{\n",
       "            console.log([gd, 'removed!']);\n",
       "            Plotly.purge(gd);\n",
       "            observer.disconnect();\n",
       "        }}\n",
       "}});\n",
       "\n",
       "// Listen for the removal of the full notebook cells\n",
       "var notebookContainer = gd.closest('#notebook-container');\n",
       "if (notebookContainer) {{\n",
       "    x.observe(notebookContainer, {childList: true});\n",
       "}}\n",
       "\n",
       "// Listen for the clearing of the current output cell\n",
       "var outputEl = gd.closest('.output');\n",
       "if (outputEl) {{\n",
       "    x.observe(outputEl, {childList: true});\n",
       "}}\n",
       "\n",
       "                        })                };                });            </script>        </div>"
      ]
     },
     "metadata": {},
     "output_type": "display_data"
    }
   ],
   "source": [
    "# Revenue per # of people, not diners\n",
    "df['rev_pop'] = df['Total Restaurant Revenue'] / df['Population']\n",
    "rev_pop2 = df.groupby('Borough')['rev_pop'].mean().round()\n",
    "# group by quarter for each borough\n",
    "print(rev_pop2)\n",
    "\n",
    "fig1 = px.bar(x=x, y=rev_pop2, labels={'x': 'Borough', 'y':'Revenue per Person'},\n",
    "               color=x, title='Revenue Per Person')\n",
    "layout(fig1, '$')"
   ]
  },
  {
   "cell_type": "code",
   "execution_count": 153,
   "metadata": {},
   "outputs": [
    {
     "data": {
      "text/plain": [
       "Borough\n",
       "Bronx       131.00000\n",
       "Brooklyn    352.00000\n",
       "Manhattan   308.00000\n",
       "Queens      303.00000\n",
       "Name: rev_consumer, dtype: float64"
      ]
     },
     "execution_count": 153,
     "metadata": {},
     "output_type": "execute_result"
    },
    {
     "data": {
      "application/vnd.plotly.v1+json": {
       "config": {
        "plotlyServerURL": "https://plot.ly"
       },
       "data": [
        {
         "alignmentgroup": "True",
         "hovertemplate": "color=Bronx<br>Borough=%{x}<br>Revenue per Customers=%{y}<extra></extra>",
         "legendgroup": "Bronx",
         "marker": {
          "color": "#636efa"
         },
         "name": "Bronx",
         "offsetgroup": "Bronx",
         "orientation": "v",
         "showlegend": true,
         "textposition": "auto",
         "type": "bar",
         "x": [
          "Bronx"
         ],
         "xaxis": "x",
         "y": [
          131
         ],
         "yaxis": "y"
        },
        {
         "alignmentgroup": "True",
         "hovertemplate": "color=Brooklyn<br>Borough=%{x}<br>Revenue per Customers=%{y}<extra></extra>",
         "legendgroup": "Brooklyn",
         "marker": {
          "color": "#EF553B"
         },
         "name": "Brooklyn",
         "offsetgroup": "Brooklyn",
         "orientation": "v",
         "showlegend": true,
         "textposition": "auto",
         "type": "bar",
         "x": [
          "Brooklyn"
         ],
         "xaxis": "x",
         "y": [
          352
         ],
         "yaxis": "y"
        },
        {
         "alignmentgroup": "True",
         "hovertemplate": "color=Manhattan<br>Borough=%{x}<br>Revenue per Customers=%{y}<extra></extra>",
         "legendgroup": "Manhattan",
         "marker": {
          "color": "#00cc96"
         },
         "name": "Manhattan",
         "offsetgroup": "Manhattan",
         "orientation": "v",
         "showlegend": true,
         "textposition": "auto",
         "type": "bar",
         "x": [
          "Manhattan"
         ],
         "xaxis": "x",
         "y": [
          308
         ],
         "yaxis": "y"
        },
        {
         "alignmentgroup": "True",
         "hovertemplate": "color=Queens<br>Borough=%{x}<br>Revenue per Customers=%{y}<extra></extra>",
         "legendgroup": "Queens",
         "marker": {
          "color": "#ab63fa"
         },
         "name": "Queens",
         "offsetgroup": "Queens",
         "orientation": "v",
         "showlegend": true,
         "textposition": "auto",
         "type": "bar",
         "x": [
          "Queens"
         ],
         "xaxis": "x",
         "y": [
          303
         ],
         "yaxis": "y"
        }
       ],
       "layout": {
        "barmode": "relative",
        "font": {
         "color": "White",
         "family": "Verdana",
         "size": 13
        },
        "legend": {
         "title": {
          "text": "color"
         },
         "tracegroupgap": 0
        },
        "paper_bgcolor": "#374C60",
        "plot_bgcolor": "#eee",
        "template": {
         "data": {
          "bar": [
           {
            "error_x": {
             "color": "#2a3f5f"
            },
            "error_y": {
             "color": "#2a3f5f"
            },
            "marker": {
             "line": {
              "color": "#E5ECF6",
              "width": 0.5
             }
            },
            "type": "bar"
           }
          ],
          "barpolar": [
           {
            "marker": {
             "line": {
              "color": "#E5ECF6",
              "width": 0.5
             }
            },
            "type": "barpolar"
           }
          ],
          "carpet": [
           {
            "aaxis": {
             "endlinecolor": "#2a3f5f",
             "gridcolor": "white",
             "linecolor": "white",
             "minorgridcolor": "white",
             "startlinecolor": "#2a3f5f"
            },
            "baxis": {
             "endlinecolor": "#2a3f5f",
             "gridcolor": "white",
             "linecolor": "white",
             "minorgridcolor": "white",
             "startlinecolor": "#2a3f5f"
            },
            "type": "carpet"
           }
          ],
          "choropleth": [
           {
            "colorbar": {
             "outlinewidth": 0,
             "ticks": ""
            },
            "type": "choropleth"
           }
          ],
          "contour": [
           {
            "colorbar": {
             "outlinewidth": 0,
             "ticks": ""
            },
            "colorscale": [
             [
              0,
              "#0d0887"
             ],
             [
              0.1111111111111111,
              "#46039f"
             ],
             [
              0.2222222222222222,
              "#7201a8"
             ],
             [
              0.3333333333333333,
              "#9c179e"
             ],
             [
              0.4444444444444444,
              "#bd3786"
             ],
             [
              0.5555555555555556,
              "#d8576b"
             ],
             [
              0.6666666666666666,
              "#ed7953"
             ],
             [
              0.7777777777777778,
              "#fb9f3a"
             ],
             [
              0.8888888888888888,
              "#fdca26"
             ],
             [
              1,
              "#f0f921"
             ]
            ],
            "type": "contour"
           }
          ],
          "contourcarpet": [
           {
            "colorbar": {
             "outlinewidth": 0,
             "ticks": ""
            },
            "type": "contourcarpet"
           }
          ],
          "heatmap": [
           {
            "colorbar": {
             "outlinewidth": 0,
             "ticks": ""
            },
            "colorscale": [
             [
              0,
              "#0d0887"
             ],
             [
              0.1111111111111111,
              "#46039f"
             ],
             [
              0.2222222222222222,
              "#7201a8"
             ],
             [
              0.3333333333333333,
              "#9c179e"
             ],
             [
              0.4444444444444444,
              "#bd3786"
             ],
             [
              0.5555555555555556,
              "#d8576b"
             ],
             [
              0.6666666666666666,
              "#ed7953"
             ],
             [
              0.7777777777777778,
              "#fb9f3a"
             ],
             [
              0.8888888888888888,
              "#fdca26"
             ],
             [
              1,
              "#f0f921"
             ]
            ],
            "type": "heatmap"
           }
          ],
          "heatmapgl": [
           {
            "colorbar": {
             "outlinewidth": 0,
             "ticks": ""
            },
            "colorscale": [
             [
              0,
              "#0d0887"
             ],
             [
              0.1111111111111111,
              "#46039f"
             ],
             [
              0.2222222222222222,
              "#7201a8"
             ],
             [
              0.3333333333333333,
              "#9c179e"
             ],
             [
              0.4444444444444444,
              "#bd3786"
             ],
             [
              0.5555555555555556,
              "#d8576b"
             ],
             [
              0.6666666666666666,
              "#ed7953"
             ],
             [
              0.7777777777777778,
              "#fb9f3a"
             ],
             [
              0.8888888888888888,
              "#fdca26"
             ],
             [
              1,
              "#f0f921"
             ]
            ],
            "type": "heatmapgl"
           }
          ],
          "histogram": [
           {
            "marker": {
             "colorbar": {
              "outlinewidth": 0,
              "ticks": ""
             }
            },
            "type": "histogram"
           }
          ],
          "histogram2d": [
           {
            "colorbar": {
             "outlinewidth": 0,
             "ticks": ""
            },
            "colorscale": [
             [
              0,
              "#0d0887"
             ],
             [
              0.1111111111111111,
              "#46039f"
             ],
             [
              0.2222222222222222,
              "#7201a8"
             ],
             [
              0.3333333333333333,
              "#9c179e"
             ],
             [
              0.4444444444444444,
              "#bd3786"
             ],
             [
              0.5555555555555556,
              "#d8576b"
             ],
             [
              0.6666666666666666,
              "#ed7953"
             ],
             [
              0.7777777777777778,
              "#fb9f3a"
             ],
             [
              0.8888888888888888,
              "#fdca26"
             ],
             [
              1,
              "#f0f921"
             ]
            ],
            "type": "histogram2d"
           }
          ],
          "histogram2dcontour": [
           {
            "colorbar": {
             "outlinewidth": 0,
             "ticks": ""
            },
            "colorscale": [
             [
              0,
              "#0d0887"
             ],
             [
              0.1111111111111111,
              "#46039f"
             ],
             [
              0.2222222222222222,
              "#7201a8"
             ],
             [
              0.3333333333333333,
              "#9c179e"
             ],
             [
              0.4444444444444444,
              "#bd3786"
             ],
             [
              0.5555555555555556,
              "#d8576b"
             ],
             [
              0.6666666666666666,
              "#ed7953"
             ],
             [
              0.7777777777777778,
              "#fb9f3a"
             ],
             [
              0.8888888888888888,
              "#fdca26"
             ],
             [
              1,
              "#f0f921"
             ]
            ],
            "type": "histogram2dcontour"
           }
          ],
          "mesh3d": [
           {
            "colorbar": {
             "outlinewidth": 0,
             "ticks": ""
            },
            "type": "mesh3d"
           }
          ],
          "parcoords": [
           {
            "line": {
             "colorbar": {
              "outlinewidth": 0,
              "ticks": ""
             }
            },
            "type": "parcoords"
           }
          ],
          "pie": [
           {
            "automargin": true,
            "type": "pie"
           }
          ],
          "scatter": [
           {
            "marker": {
             "colorbar": {
              "outlinewidth": 0,
              "ticks": ""
             }
            },
            "type": "scatter"
           }
          ],
          "scatter3d": [
           {
            "line": {
             "colorbar": {
              "outlinewidth": 0,
              "ticks": ""
             }
            },
            "marker": {
             "colorbar": {
              "outlinewidth": 0,
              "ticks": ""
             }
            },
            "type": "scatter3d"
           }
          ],
          "scattercarpet": [
           {
            "marker": {
             "colorbar": {
              "outlinewidth": 0,
              "ticks": ""
             }
            },
            "type": "scattercarpet"
           }
          ],
          "scattergeo": [
           {
            "marker": {
             "colorbar": {
              "outlinewidth": 0,
              "ticks": ""
             }
            },
            "type": "scattergeo"
           }
          ],
          "scattergl": [
           {
            "marker": {
             "colorbar": {
              "outlinewidth": 0,
              "ticks": ""
             }
            },
            "type": "scattergl"
           }
          ],
          "scattermapbox": [
           {
            "marker": {
             "colorbar": {
              "outlinewidth": 0,
              "ticks": ""
             }
            },
            "type": "scattermapbox"
           }
          ],
          "scatterpolar": [
           {
            "marker": {
             "colorbar": {
              "outlinewidth": 0,
              "ticks": ""
             }
            },
            "type": "scatterpolar"
           }
          ],
          "scatterpolargl": [
           {
            "marker": {
             "colorbar": {
              "outlinewidth": 0,
              "ticks": ""
             }
            },
            "type": "scatterpolargl"
           }
          ],
          "scatterternary": [
           {
            "marker": {
             "colorbar": {
              "outlinewidth": 0,
              "ticks": ""
             }
            },
            "type": "scatterternary"
           }
          ],
          "surface": [
           {
            "colorbar": {
             "outlinewidth": 0,
             "ticks": ""
            },
            "colorscale": [
             [
              0,
              "#0d0887"
             ],
             [
              0.1111111111111111,
              "#46039f"
             ],
             [
              0.2222222222222222,
              "#7201a8"
             ],
             [
              0.3333333333333333,
              "#9c179e"
             ],
             [
              0.4444444444444444,
              "#bd3786"
             ],
             [
              0.5555555555555556,
              "#d8576b"
             ],
             [
              0.6666666666666666,
              "#ed7953"
             ],
             [
              0.7777777777777778,
              "#fb9f3a"
             ],
             [
              0.8888888888888888,
              "#fdca26"
             ],
             [
              1,
              "#f0f921"
             ]
            ],
            "type": "surface"
           }
          ],
          "table": [
           {
            "cells": {
             "fill": {
              "color": "#EBF0F8"
             },
             "line": {
              "color": "white"
             }
            },
            "header": {
             "fill": {
              "color": "#C8D4E3"
             },
             "line": {
              "color": "white"
             }
            },
            "type": "table"
           }
          ]
         },
         "layout": {
          "annotationdefaults": {
           "arrowcolor": "#2a3f5f",
           "arrowhead": 0,
           "arrowwidth": 1
          },
          "autotypenumbers": "strict",
          "coloraxis": {
           "colorbar": {
            "outlinewidth": 0,
            "ticks": ""
           }
          },
          "colorscale": {
           "diverging": [
            [
             0,
             "#8e0152"
            ],
            [
             0.1,
             "#c51b7d"
            ],
            [
             0.2,
             "#de77ae"
            ],
            [
             0.3,
             "#f1b6da"
            ],
            [
             0.4,
             "#fde0ef"
            ],
            [
             0.5,
             "#f7f7f7"
            ],
            [
             0.6,
             "#e6f5d0"
            ],
            [
             0.7,
             "#b8e186"
            ],
            [
             0.8,
             "#7fbc41"
            ],
            [
             0.9,
             "#4d9221"
            ],
            [
             1,
             "#276419"
            ]
           ],
           "sequential": [
            [
             0,
             "#0d0887"
            ],
            [
             0.1111111111111111,
             "#46039f"
            ],
            [
             0.2222222222222222,
             "#7201a8"
            ],
            [
             0.3333333333333333,
             "#9c179e"
            ],
            [
             0.4444444444444444,
             "#bd3786"
            ],
            [
             0.5555555555555556,
             "#d8576b"
            ],
            [
             0.6666666666666666,
             "#ed7953"
            ],
            [
             0.7777777777777778,
             "#fb9f3a"
            ],
            [
             0.8888888888888888,
             "#fdca26"
            ],
            [
             1,
             "#f0f921"
            ]
           ],
           "sequentialminus": [
            [
             0,
             "#0d0887"
            ],
            [
             0.1111111111111111,
             "#46039f"
            ],
            [
             0.2222222222222222,
             "#7201a8"
            ],
            [
             0.3333333333333333,
             "#9c179e"
            ],
            [
             0.4444444444444444,
             "#bd3786"
            ],
            [
             0.5555555555555556,
             "#d8576b"
            ],
            [
             0.6666666666666666,
             "#ed7953"
            ],
            [
             0.7777777777777778,
             "#fb9f3a"
            ],
            [
             0.8888888888888888,
             "#fdca26"
            ],
            [
             1,
             "#f0f921"
            ]
           ]
          },
          "colorway": [
           "#636efa",
           "#EF553B",
           "#00cc96",
           "#ab63fa",
           "#FFA15A",
           "#19d3f3",
           "#FF6692",
           "#B6E880",
           "#FF97FF",
           "#FECB52"
          ],
          "font": {
           "color": "#2a3f5f"
          },
          "geo": {
           "bgcolor": "white",
           "lakecolor": "white",
           "landcolor": "#E5ECF6",
           "showlakes": true,
           "showland": true,
           "subunitcolor": "white"
          },
          "hoverlabel": {
           "align": "left"
          },
          "hovermode": "closest",
          "mapbox": {
           "style": "light"
          },
          "paper_bgcolor": "white",
          "plot_bgcolor": "#E5ECF6",
          "polar": {
           "angularaxis": {
            "gridcolor": "white",
            "linecolor": "white",
            "ticks": ""
           },
           "bgcolor": "#E5ECF6",
           "radialaxis": {
            "gridcolor": "white",
            "linecolor": "white",
            "ticks": ""
           }
          },
          "scene": {
           "xaxis": {
            "backgroundcolor": "#E5ECF6",
            "gridcolor": "white",
            "gridwidth": 2,
            "linecolor": "white",
            "showbackground": true,
            "ticks": "",
            "zerolinecolor": "white"
           },
           "yaxis": {
            "backgroundcolor": "#E5ECF6",
            "gridcolor": "white",
            "gridwidth": 2,
            "linecolor": "white",
            "showbackground": true,
            "ticks": "",
            "zerolinecolor": "white"
           },
           "zaxis": {
            "backgroundcolor": "#E5ECF6",
            "gridcolor": "white",
            "gridwidth": 2,
            "linecolor": "white",
            "showbackground": true,
            "ticks": "",
            "zerolinecolor": "white"
           }
          },
          "shapedefaults": {
           "line": {
            "color": "#2a3f5f"
           }
          },
          "ternary": {
           "aaxis": {
            "gridcolor": "white",
            "linecolor": "white",
            "ticks": ""
           },
           "baxis": {
            "gridcolor": "white",
            "linecolor": "white",
            "ticks": ""
           },
           "bgcolor": "#E5ECF6",
           "caxis": {
            "gridcolor": "white",
            "linecolor": "white",
            "ticks": ""
           }
          },
          "title": {
           "x": 0.05
          },
          "xaxis": {
           "automargin": true,
           "gridcolor": "white",
           "linecolor": "white",
           "ticks": "",
           "title": {
            "standoff": 15
           },
           "zerolinecolor": "white",
           "zerolinewidth": 2
          },
          "yaxis": {
           "automargin": true,
           "gridcolor": "white",
           "linecolor": "white",
           "ticks": "",
           "title": {
            "standoff": 15
           },
           "zerolinecolor": "white",
           "zerolinewidth": 2
          }
         }
        },
        "title": {
         "font": {
          "family": "Verdana"
         },
         "text": "Revenue Per Consumer"
        },
        "xaxis": {
         "anchor": "y",
         "domain": [
          0,
          1
         ],
         "title": {
          "text": "Borough"
         }
        },
        "yaxis": {
         "anchor": "x",
         "domain": [
          0,
          1
         ],
         "tickprefix": "$",
         "title": {
          "text": "Revenue per Customers"
         }
        }
       }
      },
      "text/html": [
       "<div>                            <div id=\"a6375756-f508-4975-b2c9-0f6274911467\" class=\"plotly-graph-div\" style=\"height:525px; width:100%;\"></div>            <script type=\"text/javascript\">                require([\"plotly\"], function(Plotly) {                    window.PLOTLYENV=window.PLOTLYENV || {};                                    if (document.getElementById(\"a6375756-f508-4975-b2c9-0f6274911467\")) {                    Plotly.newPlot(                        \"a6375756-f508-4975-b2c9-0f6274911467\",                        [{\"alignmentgroup\": \"True\", \"hovertemplate\": \"color=Bronx<br>Borough=%{x}<br>Revenue per Customers=%{y}<extra></extra>\", \"legendgroup\": \"Bronx\", \"marker\": {\"color\": \"#636efa\"}, \"name\": \"Bronx\", \"offsetgroup\": \"Bronx\", \"orientation\": \"v\", \"showlegend\": true, \"textposition\": \"auto\", \"type\": \"bar\", \"x\": [\"Bronx\"], \"xaxis\": \"x\", \"y\": [131.0], \"yaxis\": \"y\"}, {\"alignmentgroup\": \"True\", \"hovertemplate\": \"color=Brooklyn<br>Borough=%{x}<br>Revenue per Customers=%{y}<extra></extra>\", \"legendgroup\": \"Brooklyn\", \"marker\": {\"color\": \"#EF553B\"}, \"name\": \"Brooklyn\", \"offsetgroup\": \"Brooklyn\", \"orientation\": \"v\", \"showlegend\": true, \"textposition\": \"auto\", \"type\": \"bar\", \"x\": [\"Brooklyn\"], \"xaxis\": \"x\", \"y\": [352.0], \"yaxis\": \"y\"}, {\"alignmentgroup\": \"True\", \"hovertemplate\": \"color=Manhattan<br>Borough=%{x}<br>Revenue per Customers=%{y}<extra></extra>\", \"legendgroup\": \"Manhattan\", \"marker\": {\"color\": \"#00cc96\"}, \"name\": \"Manhattan\", \"offsetgroup\": \"Manhattan\", \"orientation\": \"v\", \"showlegend\": true, \"textposition\": \"auto\", \"type\": \"bar\", \"x\": [\"Manhattan\"], \"xaxis\": \"x\", \"y\": [308.0], \"yaxis\": \"y\"}, {\"alignmentgroup\": \"True\", \"hovertemplate\": \"color=Queens<br>Borough=%{x}<br>Revenue per Customers=%{y}<extra></extra>\", \"legendgroup\": \"Queens\", \"marker\": {\"color\": \"#ab63fa\"}, \"name\": \"Queens\", \"offsetgroup\": \"Queens\", \"orientation\": \"v\", \"showlegend\": true, \"textposition\": \"auto\", \"type\": \"bar\", \"x\": [\"Queens\"], \"xaxis\": \"x\", \"y\": [303.0], \"yaxis\": \"y\"}],                        {\"barmode\": \"relative\", \"font\": {\"color\": \"White\", \"family\": \"Verdana\", \"size\": 13}, \"legend\": {\"title\": {\"text\": \"color\"}, \"tracegroupgap\": 0}, \"paper_bgcolor\": \"#374C60\", \"plot_bgcolor\": \"#eee\", \"template\": {\"data\": {\"bar\": [{\"error_x\": {\"color\": \"#2a3f5f\"}, \"error_y\": {\"color\": \"#2a3f5f\"}, \"marker\": {\"line\": {\"color\": \"#E5ECF6\", \"width\": 0.5}}, \"type\": \"bar\"}], \"barpolar\": [{\"marker\": {\"line\": {\"color\": \"#E5ECF6\", \"width\": 0.5}}, \"type\": \"barpolar\"}], \"carpet\": [{\"aaxis\": {\"endlinecolor\": \"#2a3f5f\", \"gridcolor\": \"white\", \"linecolor\": \"white\", \"minorgridcolor\": \"white\", \"startlinecolor\": \"#2a3f5f\"}, \"baxis\": {\"endlinecolor\": \"#2a3f5f\", \"gridcolor\": \"white\", \"linecolor\": \"white\", \"minorgridcolor\": \"white\", \"startlinecolor\": \"#2a3f5f\"}, \"type\": \"carpet\"}], \"choropleth\": [{\"colorbar\": {\"outlinewidth\": 0, \"ticks\": \"\"}, \"type\": \"choropleth\"}], \"contour\": [{\"colorbar\": {\"outlinewidth\": 0, \"ticks\": \"\"}, \"colorscale\": [[0.0, \"#0d0887\"], [0.1111111111111111, \"#46039f\"], [0.2222222222222222, \"#7201a8\"], [0.3333333333333333, \"#9c179e\"], [0.4444444444444444, \"#bd3786\"], [0.5555555555555556, \"#d8576b\"], [0.6666666666666666, \"#ed7953\"], [0.7777777777777778, \"#fb9f3a\"], [0.8888888888888888, \"#fdca26\"], [1.0, \"#f0f921\"]], \"type\": \"contour\"}], \"contourcarpet\": [{\"colorbar\": {\"outlinewidth\": 0, \"ticks\": \"\"}, \"type\": \"contourcarpet\"}], \"heatmap\": [{\"colorbar\": {\"outlinewidth\": 0, \"ticks\": \"\"}, \"colorscale\": [[0.0, \"#0d0887\"], [0.1111111111111111, \"#46039f\"], [0.2222222222222222, \"#7201a8\"], [0.3333333333333333, \"#9c179e\"], [0.4444444444444444, \"#bd3786\"], [0.5555555555555556, \"#d8576b\"], [0.6666666666666666, \"#ed7953\"], [0.7777777777777778, \"#fb9f3a\"], [0.8888888888888888, \"#fdca26\"], [1.0, \"#f0f921\"]], \"type\": \"heatmap\"}], \"heatmapgl\": [{\"colorbar\": {\"outlinewidth\": 0, \"ticks\": \"\"}, \"colorscale\": [[0.0, \"#0d0887\"], [0.1111111111111111, \"#46039f\"], [0.2222222222222222, \"#7201a8\"], [0.3333333333333333, \"#9c179e\"], [0.4444444444444444, \"#bd3786\"], [0.5555555555555556, \"#d8576b\"], [0.6666666666666666, \"#ed7953\"], [0.7777777777777778, \"#fb9f3a\"], [0.8888888888888888, \"#fdca26\"], [1.0, \"#f0f921\"]], \"type\": \"heatmapgl\"}], \"histogram\": [{\"marker\": {\"colorbar\": {\"outlinewidth\": 0, \"ticks\": \"\"}}, \"type\": \"histogram\"}], \"histogram2d\": [{\"colorbar\": {\"outlinewidth\": 0, \"ticks\": \"\"}, \"colorscale\": [[0.0, \"#0d0887\"], [0.1111111111111111, \"#46039f\"], [0.2222222222222222, \"#7201a8\"], [0.3333333333333333, \"#9c179e\"], [0.4444444444444444, \"#bd3786\"], [0.5555555555555556, \"#d8576b\"], [0.6666666666666666, \"#ed7953\"], [0.7777777777777778, \"#fb9f3a\"], [0.8888888888888888, \"#fdca26\"], [1.0, \"#f0f921\"]], \"type\": \"histogram2d\"}], \"histogram2dcontour\": [{\"colorbar\": {\"outlinewidth\": 0, \"ticks\": \"\"}, \"colorscale\": [[0.0, \"#0d0887\"], [0.1111111111111111, \"#46039f\"], [0.2222222222222222, \"#7201a8\"], [0.3333333333333333, \"#9c179e\"], [0.4444444444444444, \"#bd3786\"], [0.5555555555555556, \"#d8576b\"], [0.6666666666666666, \"#ed7953\"], [0.7777777777777778, \"#fb9f3a\"], [0.8888888888888888, \"#fdca26\"], [1.0, \"#f0f921\"]], \"type\": \"histogram2dcontour\"}], \"mesh3d\": [{\"colorbar\": {\"outlinewidth\": 0, \"ticks\": \"\"}, \"type\": \"mesh3d\"}], \"parcoords\": [{\"line\": {\"colorbar\": {\"outlinewidth\": 0, \"ticks\": \"\"}}, \"type\": \"parcoords\"}], \"pie\": [{\"automargin\": true, \"type\": \"pie\"}], \"scatter\": [{\"marker\": {\"colorbar\": {\"outlinewidth\": 0, \"ticks\": \"\"}}, \"type\": \"scatter\"}], \"scatter3d\": [{\"line\": {\"colorbar\": {\"outlinewidth\": 0, \"ticks\": \"\"}}, \"marker\": {\"colorbar\": {\"outlinewidth\": 0, \"ticks\": \"\"}}, \"type\": \"scatter3d\"}], \"scattercarpet\": [{\"marker\": {\"colorbar\": {\"outlinewidth\": 0, \"ticks\": \"\"}}, \"type\": \"scattercarpet\"}], \"scattergeo\": [{\"marker\": {\"colorbar\": {\"outlinewidth\": 0, \"ticks\": \"\"}}, \"type\": \"scattergeo\"}], \"scattergl\": [{\"marker\": {\"colorbar\": {\"outlinewidth\": 0, \"ticks\": \"\"}}, \"type\": \"scattergl\"}], \"scattermapbox\": [{\"marker\": {\"colorbar\": {\"outlinewidth\": 0, \"ticks\": \"\"}}, \"type\": \"scattermapbox\"}], \"scatterpolar\": [{\"marker\": {\"colorbar\": {\"outlinewidth\": 0, \"ticks\": \"\"}}, \"type\": \"scatterpolar\"}], \"scatterpolargl\": [{\"marker\": {\"colorbar\": {\"outlinewidth\": 0, \"ticks\": \"\"}}, \"type\": \"scatterpolargl\"}], \"scatterternary\": [{\"marker\": {\"colorbar\": {\"outlinewidth\": 0, \"ticks\": \"\"}}, \"type\": \"scatterternary\"}], \"surface\": [{\"colorbar\": {\"outlinewidth\": 0, \"ticks\": \"\"}, \"colorscale\": [[0.0, \"#0d0887\"], [0.1111111111111111, \"#46039f\"], [0.2222222222222222, \"#7201a8\"], [0.3333333333333333, \"#9c179e\"], [0.4444444444444444, \"#bd3786\"], [0.5555555555555556, \"#d8576b\"], [0.6666666666666666, \"#ed7953\"], [0.7777777777777778, \"#fb9f3a\"], [0.8888888888888888, \"#fdca26\"], [1.0, \"#f0f921\"]], \"type\": \"surface\"}], \"table\": [{\"cells\": {\"fill\": {\"color\": \"#EBF0F8\"}, \"line\": {\"color\": \"white\"}}, \"header\": {\"fill\": {\"color\": \"#C8D4E3\"}, \"line\": {\"color\": \"white\"}}, \"type\": \"table\"}]}, \"layout\": {\"annotationdefaults\": {\"arrowcolor\": \"#2a3f5f\", \"arrowhead\": 0, \"arrowwidth\": 1}, \"autotypenumbers\": \"strict\", \"coloraxis\": {\"colorbar\": {\"outlinewidth\": 0, \"ticks\": \"\"}}, \"colorscale\": {\"diverging\": [[0, \"#8e0152\"], [0.1, \"#c51b7d\"], [0.2, \"#de77ae\"], [0.3, \"#f1b6da\"], [0.4, \"#fde0ef\"], [0.5, \"#f7f7f7\"], [0.6, \"#e6f5d0\"], [0.7, \"#b8e186\"], [0.8, \"#7fbc41\"], [0.9, \"#4d9221\"], [1, \"#276419\"]], \"sequential\": [[0.0, \"#0d0887\"], [0.1111111111111111, \"#46039f\"], [0.2222222222222222, \"#7201a8\"], [0.3333333333333333, \"#9c179e\"], [0.4444444444444444, \"#bd3786\"], [0.5555555555555556, \"#d8576b\"], [0.6666666666666666, \"#ed7953\"], [0.7777777777777778, \"#fb9f3a\"], [0.8888888888888888, \"#fdca26\"], [1.0, \"#f0f921\"]], \"sequentialminus\": [[0.0, \"#0d0887\"], [0.1111111111111111, \"#46039f\"], [0.2222222222222222, \"#7201a8\"], [0.3333333333333333, \"#9c179e\"], [0.4444444444444444, \"#bd3786\"], [0.5555555555555556, \"#d8576b\"], [0.6666666666666666, \"#ed7953\"], [0.7777777777777778, \"#fb9f3a\"], [0.8888888888888888, \"#fdca26\"], [1.0, \"#f0f921\"]]}, \"colorway\": [\"#636efa\", \"#EF553B\", \"#00cc96\", \"#ab63fa\", \"#FFA15A\", \"#19d3f3\", \"#FF6692\", \"#B6E880\", \"#FF97FF\", \"#FECB52\"], \"font\": {\"color\": \"#2a3f5f\"}, \"geo\": {\"bgcolor\": \"white\", \"lakecolor\": \"white\", \"landcolor\": \"#E5ECF6\", \"showlakes\": true, \"showland\": true, \"subunitcolor\": \"white\"}, \"hoverlabel\": {\"align\": \"left\"}, \"hovermode\": \"closest\", \"mapbox\": {\"style\": \"light\"}, \"paper_bgcolor\": \"white\", \"plot_bgcolor\": \"#E5ECF6\", \"polar\": {\"angularaxis\": {\"gridcolor\": \"white\", \"linecolor\": \"white\", \"ticks\": \"\"}, \"bgcolor\": \"#E5ECF6\", \"radialaxis\": {\"gridcolor\": \"white\", \"linecolor\": \"white\", \"ticks\": \"\"}}, \"scene\": {\"xaxis\": {\"backgroundcolor\": \"#E5ECF6\", \"gridcolor\": \"white\", \"gridwidth\": 2, \"linecolor\": \"white\", \"showbackground\": true, \"ticks\": \"\", \"zerolinecolor\": \"white\"}, \"yaxis\": {\"backgroundcolor\": \"#E5ECF6\", \"gridcolor\": \"white\", \"gridwidth\": 2, \"linecolor\": \"white\", \"showbackground\": true, \"ticks\": \"\", \"zerolinecolor\": \"white\"}, \"zaxis\": {\"backgroundcolor\": \"#E5ECF6\", \"gridcolor\": \"white\", \"gridwidth\": 2, \"linecolor\": \"white\", \"showbackground\": true, \"ticks\": \"\", \"zerolinecolor\": \"white\"}}, \"shapedefaults\": {\"line\": {\"color\": \"#2a3f5f\"}}, \"ternary\": {\"aaxis\": {\"gridcolor\": \"white\", \"linecolor\": \"white\", \"ticks\": \"\"}, \"baxis\": {\"gridcolor\": \"white\", \"linecolor\": \"white\", \"ticks\": \"\"}, \"bgcolor\": \"#E5ECF6\", \"caxis\": {\"gridcolor\": \"white\", \"linecolor\": \"white\", \"ticks\": \"\"}}, \"title\": {\"x\": 0.05}, \"xaxis\": {\"automargin\": true, \"gridcolor\": \"white\", \"linecolor\": \"white\", \"ticks\": \"\", \"title\": {\"standoff\": 15}, \"zerolinecolor\": \"white\", \"zerolinewidth\": 2}, \"yaxis\": {\"automargin\": true, \"gridcolor\": \"white\", \"linecolor\": \"white\", \"ticks\": \"\", \"title\": {\"standoff\": 15}, \"zerolinecolor\": \"white\", \"zerolinewidth\": 2}}}, \"title\": {\"font\": {\"family\": \"Verdana\"}, \"text\": \"Revenue Per Consumer\"}, \"xaxis\": {\"anchor\": \"y\", \"domain\": [0.0, 1.0], \"title\": {\"text\": \"Borough\"}}, \"yaxis\": {\"anchor\": \"x\", \"domain\": [0.0, 1.0], \"tickprefix\": \"$\", \"title\": {\"text\": \"Revenue per Customers\"}}},                        {\"responsive\": true}                    ).then(function(){\n",
       "                            \n",
       "var gd = document.getElementById('a6375756-f508-4975-b2c9-0f6274911467');\n",
       "var x = new MutationObserver(function (mutations, observer) {{\n",
       "        var display = window.getComputedStyle(gd).display;\n",
       "        if (!display || display === 'none') {{\n",
       "            console.log([gd, 'removed!']);\n",
       "            Plotly.purge(gd);\n",
       "            observer.disconnect();\n",
       "        }}\n",
       "}});\n",
       "\n",
       "// Listen for the removal of the full notebook cells\n",
       "var notebookContainer = gd.closest('#notebook-container');\n",
       "if (notebookContainer) {{\n",
       "    x.observe(notebookContainer, {childList: true});\n",
       "}}\n",
       "\n",
       "// Listen for the clearing of the current output cell\n",
       "var outputEl = gd.closest('.output');\n",
       "if (outputEl) {{\n",
       "    x.observe(outputEl, {childList: true});\n",
       "}}\n",
       "\n",
       "                        })                };                });            </script>        </div>"
      ]
     },
     "metadata": {},
     "output_type": "display_data"
    }
   ],
   "source": [
    "# Consumers calculated by # of restaurants * people who visit each restaurant per night\n",
    "df['rev_consumer'] = df['Total Restaurant Revenue'] / (df['# of Restaurants'] * df['Averages Diner\\'s Per Night'])\n",
    "rev_consumer2 = df.groupby('Borough')['rev_consumer'].mean().round()\n",
    "rev_consumer2\n",
    "fig8 = px.bar(x=x, y=rev_consumer2, labels={'x': 'Borough', 'y':'Revenue per Customers'},\n",
    "              color=x, title='Revenue Per Consumer')\n",
    "layout(fig8, '$')"
   ]
  },
  {
   "cell_type": "code",
   "execution_count": 15,
   "metadata": {},
   "outputs": [
    {
     "data": {
      "text/plain": [
       "Borough\n",
       "Bronx        7550.00000\n",
       "Brooklyn    25262.00000\n",
       "Manhattan   23443.00000\n",
       "Queens      10876.00000\n",
       "Name: rev_num_rest, dtype: float64"
      ]
     },
     "execution_count": 15,
     "metadata": {},
     "output_type": "execute_result"
    },
    {
     "data": {
      "application/vnd.plotly.v1+json": {
       "config": {
        "plotlyServerURL": "https://plot.ly"
       },
       "data": [
        {
         "alignmentgroup": "True",
         "hovertemplate": "color=Bronx<br>Borough=%{x}<br>Revenue per Restaurant=%{y}<extra></extra>",
         "legendgroup": "Bronx",
         "marker": {
          "color": "#636efa"
         },
         "name": "Bronx",
         "offsetgroup": "Bronx",
         "orientation": "v",
         "showlegend": true,
         "textposition": "auto",
         "type": "bar",
         "x": [
          "Bronx"
         ],
         "xaxis": "x",
         "y": [
          7550
         ],
         "yaxis": "y"
        },
        {
         "alignmentgroup": "True",
         "hovertemplate": "color=Brooklyn<br>Borough=%{x}<br>Revenue per Restaurant=%{y}<extra></extra>",
         "legendgroup": "Brooklyn",
         "marker": {
          "color": "#EF553B"
         },
         "name": "Brooklyn",
         "offsetgroup": "Brooklyn",
         "orientation": "v",
         "showlegend": true,
         "textposition": "auto",
         "type": "bar",
         "x": [
          "Brooklyn"
         ],
         "xaxis": "x",
         "y": [
          25262
         ],
         "yaxis": "y"
        },
        {
         "alignmentgroup": "True",
         "hovertemplate": "color=Manhattan<br>Borough=%{x}<br>Revenue per Restaurant=%{y}<extra></extra>",
         "legendgroup": "Manhattan",
         "marker": {
          "color": "#00cc96"
         },
         "name": "Manhattan",
         "offsetgroup": "Manhattan",
         "orientation": "v",
         "showlegend": true,
         "textposition": "auto",
         "type": "bar",
         "x": [
          "Manhattan"
         ],
         "xaxis": "x",
         "y": [
          23443
         ],
         "yaxis": "y"
        },
        {
         "alignmentgroup": "True",
         "hovertemplate": "color=Queens<br>Borough=%{x}<br>Revenue per Restaurant=%{y}<extra></extra>",
         "legendgroup": "Queens",
         "marker": {
          "color": "#ab63fa"
         },
         "name": "Queens",
         "offsetgroup": "Queens",
         "orientation": "v",
         "showlegend": true,
         "textposition": "auto",
         "type": "bar",
         "x": [
          "Queens"
         ],
         "xaxis": "x",
         "y": [
          10876
         ],
         "yaxis": "y"
        }
       ],
       "layout": {
        "barmode": "relative",
        "font": {
         "color": "White",
         "family": "Verdana",
         "size": 13
        },
        "legend": {
         "title": {
          "text": "color"
         },
         "tracegroupgap": 0
        },
        "paper_bgcolor": "#374C60",
        "plot_bgcolor": "#eee",
        "template": {
         "data": {
          "bar": [
           {
            "error_x": {
             "color": "#2a3f5f"
            },
            "error_y": {
             "color": "#2a3f5f"
            },
            "marker": {
             "line": {
              "color": "#E5ECF6",
              "width": 0.5
             }
            },
            "type": "bar"
           }
          ],
          "barpolar": [
           {
            "marker": {
             "line": {
              "color": "#E5ECF6",
              "width": 0.5
             }
            },
            "type": "barpolar"
           }
          ],
          "carpet": [
           {
            "aaxis": {
             "endlinecolor": "#2a3f5f",
             "gridcolor": "white",
             "linecolor": "white",
             "minorgridcolor": "white",
             "startlinecolor": "#2a3f5f"
            },
            "baxis": {
             "endlinecolor": "#2a3f5f",
             "gridcolor": "white",
             "linecolor": "white",
             "minorgridcolor": "white",
             "startlinecolor": "#2a3f5f"
            },
            "type": "carpet"
           }
          ],
          "choropleth": [
           {
            "colorbar": {
             "outlinewidth": 0,
             "ticks": ""
            },
            "type": "choropleth"
           }
          ],
          "contour": [
           {
            "colorbar": {
             "outlinewidth": 0,
             "ticks": ""
            },
            "colorscale": [
             [
              0,
              "#0d0887"
             ],
             [
              0.1111111111111111,
              "#46039f"
             ],
             [
              0.2222222222222222,
              "#7201a8"
             ],
             [
              0.3333333333333333,
              "#9c179e"
             ],
             [
              0.4444444444444444,
              "#bd3786"
             ],
             [
              0.5555555555555556,
              "#d8576b"
             ],
             [
              0.6666666666666666,
              "#ed7953"
             ],
             [
              0.7777777777777778,
              "#fb9f3a"
             ],
             [
              0.8888888888888888,
              "#fdca26"
             ],
             [
              1,
              "#f0f921"
             ]
            ],
            "type": "contour"
           }
          ],
          "contourcarpet": [
           {
            "colorbar": {
             "outlinewidth": 0,
             "ticks": ""
            },
            "type": "contourcarpet"
           }
          ],
          "heatmap": [
           {
            "colorbar": {
             "outlinewidth": 0,
             "ticks": ""
            },
            "colorscale": [
             [
              0,
              "#0d0887"
             ],
             [
              0.1111111111111111,
              "#46039f"
             ],
             [
              0.2222222222222222,
              "#7201a8"
             ],
             [
              0.3333333333333333,
              "#9c179e"
             ],
             [
              0.4444444444444444,
              "#bd3786"
             ],
             [
              0.5555555555555556,
              "#d8576b"
             ],
             [
              0.6666666666666666,
              "#ed7953"
             ],
             [
              0.7777777777777778,
              "#fb9f3a"
             ],
             [
              0.8888888888888888,
              "#fdca26"
             ],
             [
              1,
              "#f0f921"
             ]
            ],
            "type": "heatmap"
           }
          ],
          "heatmapgl": [
           {
            "colorbar": {
             "outlinewidth": 0,
             "ticks": ""
            },
            "colorscale": [
             [
              0,
              "#0d0887"
             ],
             [
              0.1111111111111111,
              "#46039f"
             ],
             [
              0.2222222222222222,
              "#7201a8"
             ],
             [
              0.3333333333333333,
              "#9c179e"
             ],
             [
              0.4444444444444444,
              "#bd3786"
             ],
             [
              0.5555555555555556,
              "#d8576b"
             ],
             [
              0.6666666666666666,
              "#ed7953"
             ],
             [
              0.7777777777777778,
              "#fb9f3a"
             ],
             [
              0.8888888888888888,
              "#fdca26"
             ],
             [
              1,
              "#f0f921"
             ]
            ],
            "type": "heatmapgl"
           }
          ],
          "histogram": [
           {
            "marker": {
             "colorbar": {
              "outlinewidth": 0,
              "ticks": ""
             }
            },
            "type": "histogram"
           }
          ],
          "histogram2d": [
           {
            "colorbar": {
             "outlinewidth": 0,
             "ticks": ""
            },
            "colorscale": [
             [
              0,
              "#0d0887"
             ],
             [
              0.1111111111111111,
              "#46039f"
             ],
             [
              0.2222222222222222,
              "#7201a8"
             ],
             [
              0.3333333333333333,
              "#9c179e"
             ],
             [
              0.4444444444444444,
              "#bd3786"
             ],
             [
              0.5555555555555556,
              "#d8576b"
             ],
             [
              0.6666666666666666,
              "#ed7953"
             ],
             [
              0.7777777777777778,
              "#fb9f3a"
             ],
             [
              0.8888888888888888,
              "#fdca26"
             ],
             [
              1,
              "#f0f921"
             ]
            ],
            "type": "histogram2d"
           }
          ],
          "histogram2dcontour": [
           {
            "colorbar": {
             "outlinewidth": 0,
             "ticks": ""
            },
            "colorscale": [
             [
              0,
              "#0d0887"
             ],
             [
              0.1111111111111111,
              "#46039f"
             ],
             [
              0.2222222222222222,
              "#7201a8"
             ],
             [
              0.3333333333333333,
              "#9c179e"
             ],
             [
              0.4444444444444444,
              "#bd3786"
             ],
             [
              0.5555555555555556,
              "#d8576b"
             ],
             [
              0.6666666666666666,
              "#ed7953"
             ],
             [
              0.7777777777777778,
              "#fb9f3a"
             ],
             [
              0.8888888888888888,
              "#fdca26"
             ],
             [
              1,
              "#f0f921"
             ]
            ],
            "type": "histogram2dcontour"
           }
          ],
          "mesh3d": [
           {
            "colorbar": {
             "outlinewidth": 0,
             "ticks": ""
            },
            "type": "mesh3d"
           }
          ],
          "parcoords": [
           {
            "line": {
             "colorbar": {
              "outlinewidth": 0,
              "ticks": ""
             }
            },
            "type": "parcoords"
           }
          ],
          "pie": [
           {
            "automargin": true,
            "type": "pie"
           }
          ],
          "scatter": [
           {
            "marker": {
             "colorbar": {
              "outlinewidth": 0,
              "ticks": ""
             }
            },
            "type": "scatter"
           }
          ],
          "scatter3d": [
           {
            "line": {
             "colorbar": {
              "outlinewidth": 0,
              "ticks": ""
             }
            },
            "marker": {
             "colorbar": {
              "outlinewidth": 0,
              "ticks": ""
             }
            },
            "type": "scatter3d"
           }
          ],
          "scattercarpet": [
           {
            "marker": {
             "colorbar": {
              "outlinewidth": 0,
              "ticks": ""
             }
            },
            "type": "scattercarpet"
           }
          ],
          "scattergeo": [
           {
            "marker": {
             "colorbar": {
              "outlinewidth": 0,
              "ticks": ""
             }
            },
            "type": "scattergeo"
           }
          ],
          "scattergl": [
           {
            "marker": {
             "colorbar": {
              "outlinewidth": 0,
              "ticks": ""
             }
            },
            "type": "scattergl"
           }
          ],
          "scattermapbox": [
           {
            "marker": {
             "colorbar": {
              "outlinewidth": 0,
              "ticks": ""
             }
            },
            "type": "scattermapbox"
           }
          ],
          "scatterpolar": [
           {
            "marker": {
             "colorbar": {
              "outlinewidth": 0,
              "ticks": ""
             }
            },
            "type": "scatterpolar"
           }
          ],
          "scatterpolargl": [
           {
            "marker": {
             "colorbar": {
              "outlinewidth": 0,
              "ticks": ""
             }
            },
            "type": "scatterpolargl"
           }
          ],
          "scatterternary": [
           {
            "marker": {
             "colorbar": {
              "outlinewidth": 0,
              "ticks": ""
             }
            },
            "type": "scatterternary"
           }
          ],
          "surface": [
           {
            "colorbar": {
             "outlinewidth": 0,
             "ticks": ""
            },
            "colorscale": [
             [
              0,
              "#0d0887"
             ],
             [
              0.1111111111111111,
              "#46039f"
             ],
             [
              0.2222222222222222,
              "#7201a8"
             ],
             [
              0.3333333333333333,
              "#9c179e"
             ],
             [
              0.4444444444444444,
              "#bd3786"
             ],
             [
              0.5555555555555556,
              "#d8576b"
             ],
             [
              0.6666666666666666,
              "#ed7953"
             ],
             [
              0.7777777777777778,
              "#fb9f3a"
             ],
             [
              0.8888888888888888,
              "#fdca26"
             ],
             [
              1,
              "#f0f921"
             ]
            ],
            "type": "surface"
           }
          ],
          "table": [
           {
            "cells": {
             "fill": {
              "color": "#EBF0F8"
             },
             "line": {
              "color": "white"
             }
            },
            "header": {
             "fill": {
              "color": "#C8D4E3"
             },
             "line": {
              "color": "white"
             }
            },
            "type": "table"
           }
          ]
         },
         "layout": {
          "annotationdefaults": {
           "arrowcolor": "#2a3f5f",
           "arrowhead": 0,
           "arrowwidth": 1
          },
          "autotypenumbers": "strict",
          "coloraxis": {
           "colorbar": {
            "outlinewidth": 0,
            "ticks": ""
           }
          },
          "colorscale": {
           "diverging": [
            [
             0,
             "#8e0152"
            ],
            [
             0.1,
             "#c51b7d"
            ],
            [
             0.2,
             "#de77ae"
            ],
            [
             0.3,
             "#f1b6da"
            ],
            [
             0.4,
             "#fde0ef"
            ],
            [
             0.5,
             "#f7f7f7"
            ],
            [
             0.6,
             "#e6f5d0"
            ],
            [
             0.7,
             "#b8e186"
            ],
            [
             0.8,
             "#7fbc41"
            ],
            [
             0.9,
             "#4d9221"
            ],
            [
             1,
             "#276419"
            ]
           ],
           "sequential": [
            [
             0,
             "#0d0887"
            ],
            [
             0.1111111111111111,
             "#46039f"
            ],
            [
             0.2222222222222222,
             "#7201a8"
            ],
            [
             0.3333333333333333,
             "#9c179e"
            ],
            [
             0.4444444444444444,
             "#bd3786"
            ],
            [
             0.5555555555555556,
             "#d8576b"
            ],
            [
             0.6666666666666666,
             "#ed7953"
            ],
            [
             0.7777777777777778,
             "#fb9f3a"
            ],
            [
             0.8888888888888888,
             "#fdca26"
            ],
            [
             1,
             "#f0f921"
            ]
           ],
           "sequentialminus": [
            [
             0,
             "#0d0887"
            ],
            [
             0.1111111111111111,
             "#46039f"
            ],
            [
             0.2222222222222222,
             "#7201a8"
            ],
            [
             0.3333333333333333,
             "#9c179e"
            ],
            [
             0.4444444444444444,
             "#bd3786"
            ],
            [
             0.5555555555555556,
             "#d8576b"
            ],
            [
             0.6666666666666666,
             "#ed7953"
            ],
            [
             0.7777777777777778,
             "#fb9f3a"
            ],
            [
             0.8888888888888888,
             "#fdca26"
            ],
            [
             1,
             "#f0f921"
            ]
           ]
          },
          "colorway": [
           "#636efa",
           "#EF553B",
           "#00cc96",
           "#ab63fa",
           "#FFA15A",
           "#19d3f3",
           "#FF6692",
           "#B6E880",
           "#FF97FF",
           "#FECB52"
          ],
          "font": {
           "color": "#2a3f5f"
          },
          "geo": {
           "bgcolor": "white",
           "lakecolor": "white",
           "landcolor": "#E5ECF6",
           "showlakes": true,
           "showland": true,
           "subunitcolor": "white"
          },
          "hoverlabel": {
           "align": "left"
          },
          "hovermode": "closest",
          "mapbox": {
           "style": "light"
          },
          "paper_bgcolor": "white",
          "plot_bgcolor": "#E5ECF6",
          "polar": {
           "angularaxis": {
            "gridcolor": "white",
            "linecolor": "white",
            "ticks": ""
           },
           "bgcolor": "#E5ECF6",
           "radialaxis": {
            "gridcolor": "white",
            "linecolor": "white",
            "ticks": ""
           }
          },
          "scene": {
           "xaxis": {
            "backgroundcolor": "#E5ECF6",
            "gridcolor": "white",
            "gridwidth": 2,
            "linecolor": "white",
            "showbackground": true,
            "ticks": "",
            "zerolinecolor": "white"
           },
           "yaxis": {
            "backgroundcolor": "#E5ECF6",
            "gridcolor": "white",
            "gridwidth": 2,
            "linecolor": "white",
            "showbackground": true,
            "ticks": "",
            "zerolinecolor": "white"
           },
           "zaxis": {
            "backgroundcolor": "#E5ECF6",
            "gridcolor": "white",
            "gridwidth": 2,
            "linecolor": "white",
            "showbackground": true,
            "ticks": "",
            "zerolinecolor": "white"
           }
          },
          "shapedefaults": {
           "line": {
            "color": "#2a3f5f"
           }
          },
          "ternary": {
           "aaxis": {
            "gridcolor": "white",
            "linecolor": "white",
            "ticks": ""
           },
           "baxis": {
            "gridcolor": "white",
            "linecolor": "white",
            "ticks": ""
           },
           "bgcolor": "#E5ECF6",
           "caxis": {
            "gridcolor": "white",
            "linecolor": "white",
            "ticks": ""
           }
          },
          "title": {
           "x": 0.05
          },
          "xaxis": {
           "automargin": true,
           "gridcolor": "white",
           "linecolor": "white",
           "ticks": "",
           "title": {
            "standoff": 15
           },
           "zerolinecolor": "white",
           "zerolinewidth": 2
          },
          "yaxis": {
           "automargin": true,
           "gridcolor": "white",
           "linecolor": "white",
           "ticks": "",
           "title": {
            "standoff": 15
           },
           "zerolinecolor": "white",
           "zerolinewidth": 2
          }
         }
        },
        "title": {
         "font": {
          "family": "Verdana"
         },
         "text": "Revenue Per Restaurant"
        },
        "xaxis": {
         "anchor": "y",
         "domain": [
          0,
          1
         ],
         "title": {
          "text": "Borough"
         }
        },
        "yaxis": {
         "anchor": "x",
         "domain": [
          0,
          1
         ],
         "tickprefix": "$",
         "title": {
          "text": "Revenue per Restaurant"
         }
        }
       }
      },
      "text/html": [
       "<div>                            <div id=\"ef5bf03a-a046-42e2-92e4-cc2990874d6a\" class=\"plotly-graph-div\" style=\"height:525px; width:100%;\"></div>            <script type=\"text/javascript\">                require([\"plotly\"], function(Plotly) {                    window.PLOTLYENV=window.PLOTLYENV || {};                                    if (document.getElementById(\"ef5bf03a-a046-42e2-92e4-cc2990874d6a\")) {                    Plotly.newPlot(                        \"ef5bf03a-a046-42e2-92e4-cc2990874d6a\",                        [{\"alignmentgroup\": \"True\", \"hovertemplate\": \"color=Bronx<br>Borough=%{x}<br>Revenue per Restaurant=%{y}<extra></extra>\", \"legendgroup\": \"Bronx\", \"marker\": {\"color\": \"#636efa\"}, \"name\": \"Bronx\", \"offsetgroup\": \"Bronx\", \"orientation\": \"v\", \"showlegend\": true, \"textposition\": \"auto\", \"type\": \"bar\", \"x\": [\"Bronx\"], \"xaxis\": \"x\", \"y\": [7550.0], \"yaxis\": \"y\"}, {\"alignmentgroup\": \"True\", \"hovertemplate\": \"color=Brooklyn<br>Borough=%{x}<br>Revenue per Restaurant=%{y}<extra></extra>\", \"legendgroup\": \"Brooklyn\", \"marker\": {\"color\": \"#EF553B\"}, \"name\": \"Brooklyn\", \"offsetgroup\": \"Brooklyn\", \"orientation\": \"v\", \"showlegend\": true, \"textposition\": \"auto\", \"type\": \"bar\", \"x\": [\"Brooklyn\"], \"xaxis\": \"x\", \"y\": [25262.0], \"yaxis\": \"y\"}, {\"alignmentgroup\": \"True\", \"hovertemplate\": \"color=Manhattan<br>Borough=%{x}<br>Revenue per Restaurant=%{y}<extra></extra>\", \"legendgroup\": \"Manhattan\", \"marker\": {\"color\": \"#00cc96\"}, \"name\": \"Manhattan\", \"offsetgroup\": \"Manhattan\", \"orientation\": \"v\", \"showlegend\": true, \"textposition\": \"auto\", \"type\": \"bar\", \"x\": [\"Manhattan\"], \"xaxis\": \"x\", \"y\": [23443.0], \"yaxis\": \"y\"}, {\"alignmentgroup\": \"True\", \"hovertemplate\": \"color=Queens<br>Borough=%{x}<br>Revenue per Restaurant=%{y}<extra></extra>\", \"legendgroup\": \"Queens\", \"marker\": {\"color\": \"#ab63fa\"}, \"name\": \"Queens\", \"offsetgroup\": \"Queens\", \"orientation\": \"v\", \"showlegend\": true, \"textposition\": \"auto\", \"type\": \"bar\", \"x\": [\"Queens\"], \"xaxis\": \"x\", \"y\": [10876.0], \"yaxis\": \"y\"}],                        {\"barmode\": \"relative\", \"font\": {\"color\": \"White\", \"family\": \"Verdana\", \"size\": 13}, \"legend\": {\"title\": {\"text\": \"color\"}, \"tracegroupgap\": 0}, \"paper_bgcolor\": \"#374C60\", \"plot_bgcolor\": \"#eee\", \"template\": {\"data\": {\"bar\": [{\"error_x\": {\"color\": \"#2a3f5f\"}, \"error_y\": {\"color\": \"#2a3f5f\"}, \"marker\": {\"line\": {\"color\": \"#E5ECF6\", \"width\": 0.5}}, \"type\": \"bar\"}], \"barpolar\": [{\"marker\": {\"line\": {\"color\": \"#E5ECF6\", \"width\": 0.5}}, \"type\": \"barpolar\"}], \"carpet\": [{\"aaxis\": {\"endlinecolor\": \"#2a3f5f\", \"gridcolor\": \"white\", \"linecolor\": \"white\", \"minorgridcolor\": \"white\", \"startlinecolor\": \"#2a3f5f\"}, \"baxis\": {\"endlinecolor\": \"#2a3f5f\", \"gridcolor\": \"white\", \"linecolor\": \"white\", \"minorgridcolor\": \"white\", \"startlinecolor\": \"#2a3f5f\"}, \"type\": \"carpet\"}], \"choropleth\": [{\"colorbar\": {\"outlinewidth\": 0, \"ticks\": \"\"}, \"type\": \"choropleth\"}], \"contour\": [{\"colorbar\": {\"outlinewidth\": 0, \"ticks\": \"\"}, \"colorscale\": [[0.0, \"#0d0887\"], [0.1111111111111111, \"#46039f\"], [0.2222222222222222, \"#7201a8\"], [0.3333333333333333, \"#9c179e\"], [0.4444444444444444, \"#bd3786\"], [0.5555555555555556, \"#d8576b\"], [0.6666666666666666, \"#ed7953\"], [0.7777777777777778, \"#fb9f3a\"], [0.8888888888888888, \"#fdca26\"], [1.0, \"#f0f921\"]], \"type\": \"contour\"}], \"contourcarpet\": [{\"colorbar\": {\"outlinewidth\": 0, \"ticks\": \"\"}, \"type\": \"contourcarpet\"}], \"heatmap\": [{\"colorbar\": {\"outlinewidth\": 0, \"ticks\": \"\"}, \"colorscale\": [[0.0, \"#0d0887\"], [0.1111111111111111, \"#46039f\"], [0.2222222222222222, \"#7201a8\"], [0.3333333333333333, \"#9c179e\"], [0.4444444444444444, \"#bd3786\"], [0.5555555555555556, \"#d8576b\"], [0.6666666666666666, \"#ed7953\"], [0.7777777777777778, \"#fb9f3a\"], [0.8888888888888888, \"#fdca26\"], [1.0, \"#f0f921\"]], \"type\": \"heatmap\"}], \"heatmapgl\": [{\"colorbar\": {\"outlinewidth\": 0, \"ticks\": \"\"}, \"colorscale\": [[0.0, \"#0d0887\"], [0.1111111111111111, \"#46039f\"], [0.2222222222222222, \"#7201a8\"], [0.3333333333333333, \"#9c179e\"], [0.4444444444444444, \"#bd3786\"], [0.5555555555555556, \"#d8576b\"], [0.6666666666666666, \"#ed7953\"], [0.7777777777777778, \"#fb9f3a\"], [0.8888888888888888, \"#fdca26\"], [1.0, \"#f0f921\"]], \"type\": \"heatmapgl\"}], \"histogram\": [{\"marker\": {\"colorbar\": {\"outlinewidth\": 0, \"ticks\": \"\"}}, \"type\": \"histogram\"}], \"histogram2d\": [{\"colorbar\": {\"outlinewidth\": 0, \"ticks\": \"\"}, \"colorscale\": [[0.0, \"#0d0887\"], [0.1111111111111111, \"#46039f\"], [0.2222222222222222, \"#7201a8\"], [0.3333333333333333, \"#9c179e\"], [0.4444444444444444, \"#bd3786\"], [0.5555555555555556, \"#d8576b\"], [0.6666666666666666, \"#ed7953\"], [0.7777777777777778, \"#fb9f3a\"], [0.8888888888888888, \"#fdca26\"], [1.0, \"#f0f921\"]], \"type\": \"histogram2d\"}], \"histogram2dcontour\": [{\"colorbar\": {\"outlinewidth\": 0, \"ticks\": \"\"}, \"colorscale\": [[0.0, \"#0d0887\"], [0.1111111111111111, \"#46039f\"], [0.2222222222222222, \"#7201a8\"], [0.3333333333333333, \"#9c179e\"], [0.4444444444444444, \"#bd3786\"], [0.5555555555555556, \"#d8576b\"], [0.6666666666666666, \"#ed7953\"], [0.7777777777777778, \"#fb9f3a\"], [0.8888888888888888, \"#fdca26\"], [1.0, \"#f0f921\"]], \"type\": \"histogram2dcontour\"}], \"mesh3d\": [{\"colorbar\": {\"outlinewidth\": 0, \"ticks\": \"\"}, \"type\": \"mesh3d\"}], \"parcoords\": [{\"line\": {\"colorbar\": {\"outlinewidth\": 0, \"ticks\": \"\"}}, \"type\": \"parcoords\"}], \"pie\": [{\"automargin\": true, \"type\": \"pie\"}], \"scatter\": [{\"marker\": {\"colorbar\": {\"outlinewidth\": 0, \"ticks\": \"\"}}, \"type\": \"scatter\"}], \"scatter3d\": [{\"line\": {\"colorbar\": {\"outlinewidth\": 0, \"ticks\": \"\"}}, \"marker\": {\"colorbar\": {\"outlinewidth\": 0, \"ticks\": \"\"}}, \"type\": \"scatter3d\"}], \"scattercarpet\": [{\"marker\": {\"colorbar\": {\"outlinewidth\": 0, \"ticks\": \"\"}}, \"type\": \"scattercarpet\"}], \"scattergeo\": [{\"marker\": {\"colorbar\": {\"outlinewidth\": 0, \"ticks\": \"\"}}, \"type\": \"scattergeo\"}], \"scattergl\": [{\"marker\": {\"colorbar\": {\"outlinewidth\": 0, \"ticks\": \"\"}}, \"type\": \"scattergl\"}], \"scattermapbox\": [{\"marker\": {\"colorbar\": {\"outlinewidth\": 0, \"ticks\": \"\"}}, \"type\": \"scattermapbox\"}], \"scatterpolar\": [{\"marker\": {\"colorbar\": {\"outlinewidth\": 0, \"ticks\": \"\"}}, \"type\": \"scatterpolar\"}], \"scatterpolargl\": [{\"marker\": {\"colorbar\": {\"outlinewidth\": 0, \"ticks\": \"\"}}, \"type\": \"scatterpolargl\"}], \"scatterternary\": [{\"marker\": {\"colorbar\": {\"outlinewidth\": 0, \"ticks\": \"\"}}, \"type\": \"scatterternary\"}], \"surface\": [{\"colorbar\": {\"outlinewidth\": 0, \"ticks\": \"\"}, \"colorscale\": [[0.0, \"#0d0887\"], [0.1111111111111111, \"#46039f\"], [0.2222222222222222, \"#7201a8\"], [0.3333333333333333, \"#9c179e\"], [0.4444444444444444, \"#bd3786\"], [0.5555555555555556, \"#d8576b\"], [0.6666666666666666, \"#ed7953\"], [0.7777777777777778, \"#fb9f3a\"], [0.8888888888888888, \"#fdca26\"], [1.0, \"#f0f921\"]], \"type\": \"surface\"}], \"table\": [{\"cells\": {\"fill\": {\"color\": \"#EBF0F8\"}, \"line\": {\"color\": \"white\"}}, \"header\": {\"fill\": {\"color\": \"#C8D4E3\"}, \"line\": {\"color\": \"white\"}}, \"type\": \"table\"}]}, \"layout\": {\"annotationdefaults\": {\"arrowcolor\": \"#2a3f5f\", \"arrowhead\": 0, \"arrowwidth\": 1}, \"autotypenumbers\": \"strict\", \"coloraxis\": {\"colorbar\": {\"outlinewidth\": 0, \"ticks\": \"\"}}, \"colorscale\": {\"diverging\": [[0, \"#8e0152\"], [0.1, \"#c51b7d\"], [0.2, \"#de77ae\"], [0.3, \"#f1b6da\"], [0.4, \"#fde0ef\"], [0.5, \"#f7f7f7\"], [0.6, \"#e6f5d0\"], [0.7, \"#b8e186\"], [0.8, \"#7fbc41\"], [0.9, \"#4d9221\"], [1, \"#276419\"]], \"sequential\": [[0.0, \"#0d0887\"], [0.1111111111111111, \"#46039f\"], [0.2222222222222222, \"#7201a8\"], [0.3333333333333333, \"#9c179e\"], [0.4444444444444444, \"#bd3786\"], [0.5555555555555556, \"#d8576b\"], [0.6666666666666666, \"#ed7953\"], [0.7777777777777778, \"#fb9f3a\"], [0.8888888888888888, \"#fdca26\"], [1.0, \"#f0f921\"]], \"sequentialminus\": [[0.0, \"#0d0887\"], [0.1111111111111111, \"#46039f\"], [0.2222222222222222, \"#7201a8\"], [0.3333333333333333, \"#9c179e\"], [0.4444444444444444, \"#bd3786\"], [0.5555555555555556, \"#d8576b\"], [0.6666666666666666, \"#ed7953\"], [0.7777777777777778, \"#fb9f3a\"], [0.8888888888888888, \"#fdca26\"], [1.0, \"#f0f921\"]]}, \"colorway\": [\"#636efa\", \"#EF553B\", \"#00cc96\", \"#ab63fa\", \"#FFA15A\", \"#19d3f3\", \"#FF6692\", \"#B6E880\", \"#FF97FF\", \"#FECB52\"], \"font\": {\"color\": \"#2a3f5f\"}, \"geo\": {\"bgcolor\": \"white\", \"lakecolor\": \"white\", \"landcolor\": \"#E5ECF6\", \"showlakes\": true, \"showland\": true, \"subunitcolor\": \"white\"}, \"hoverlabel\": {\"align\": \"left\"}, \"hovermode\": \"closest\", \"mapbox\": {\"style\": \"light\"}, \"paper_bgcolor\": \"white\", \"plot_bgcolor\": \"#E5ECF6\", \"polar\": {\"angularaxis\": {\"gridcolor\": \"white\", \"linecolor\": \"white\", \"ticks\": \"\"}, \"bgcolor\": \"#E5ECF6\", \"radialaxis\": {\"gridcolor\": \"white\", \"linecolor\": \"white\", \"ticks\": \"\"}}, \"scene\": {\"xaxis\": {\"backgroundcolor\": \"#E5ECF6\", \"gridcolor\": \"white\", \"gridwidth\": 2, \"linecolor\": \"white\", \"showbackground\": true, \"ticks\": \"\", \"zerolinecolor\": \"white\"}, \"yaxis\": {\"backgroundcolor\": \"#E5ECF6\", \"gridcolor\": \"white\", \"gridwidth\": 2, \"linecolor\": \"white\", \"showbackground\": true, \"ticks\": \"\", \"zerolinecolor\": \"white\"}, \"zaxis\": {\"backgroundcolor\": \"#E5ECF6\", \"gridcolor\": \"white\", \"gridwidth\": 2, \"linecolor\": \"white\", \"showbackground\": true, \"ticks\": \"\", \"zerolinecolor\": \"white\"}}, \"shapedefaults\": {\"line\": {\"color\": \"#2a3f5f\"}}, \"ternary\": {\"aaxis\": {\"gridcolor\": \"white\", \"linecolor\": \"white\", \"ticks\": \"\"}, \"baxis\": {\"gridcolor\": \"white\", \"linecolor\": \"white\", \"ticks\": \"\"}, \"bgcolor\": \"#E5ECF6\", \"caxis\": {\"gridcolor\": \"white\", \"linecolor\": \"white\", \"ticks\": \"\"}}, \"title\": {\"x\": 0.05}, \"xaxis\": {\"automargin\": true, \"gridcolor\": \"white\", \"linecolor\": \"white\", \"ticks\": \"\", \"title\": {\"standoff\": 15}, \"zerolinecolor\": \"white\", \"zerolinewidth\": 2}, \"yaxis\": {\"automargin\": true, \"gridcolor\": \"white\", \"linecolor\": \"white\", \"ticks\": \"\", \"title\": {\"standoff\": 15}, \"zerolinecolor\": \"white\", \"zerolinewidth\": 2}}}, \"title\": {\"font\": {\"family\": \"Verdana\"}, \"text\": \"Revenue Per Restaurant\"}, \"xaxis\": {\"anchor\": \"y\", \"domain\": [0.0, 1.0], \"title\": {\"text\": \"Borough\"}}, \"yaxis\": {\"anchor\": \"x\", \"domain\": [0.0, 1.0], \"tickprefix\": \"$\", \"title\": {\"text\": \"Revenue per Restaurant\"}}},                        {\"responsive\": true}                    ).then(function(){\n",
       "                            \n",
       "var gd = document.getElementById('ef5bf03a-a046-42e2-92e4-cc2990874d6a');\n",
       "var x = new MutationObserver(function (mutations, observer) {{\n",
       "        var display = window.getComputedStyle(gd).display;\n",
       "        if (!display || display === 'none') {{\n",
       "            console.log([gd, 'removed!']);\n",
       "            Plotly.purge(gd);\n",
       "            observer.disconnect();\n",
       "        }}\n",
       "}});\n",
       "\n",
       "// Listen for the removal of the full notebook cells\n",
       "var notebookContainer = gd.closest('#notebook-container');\n",
       "if (notebookContainer) {{\n",
       "    x.observe(notebookContainer, {childList: true});\n",
       "}}\n",
       "\n",
       "// Listen for the clearing of the current output cell\n",
       "var outputEl = gd.closest('.output');\n",
       "if (outputEl) {{\n",
       "    x.observe(outputEl, {childList: true});\n",
       "}}\n",
       "\n",
       "                        })                };                });            </script>        </div>"
      ]
     },
     "metadata": {},
     "output_type": "display_data"
    }
   ],
   "source": [
    "# Revenue per Restaurant\n",
    "df['rev_num_rest'] = df['Total Restaurant Revenue'] / df['# of Restaurants']\n",
    "rev_num_rest2 = df.groupby('Borough')['rev_num_rest'].mean().round()\n",
    "rev_num_rest2\n",
    "\n",
    "fig2 = px.bar(x=x, y=rev_num_rest2, labels={'x': 'Borough', 'y':'Revenue per Restaurant'},\n",
    "              color=x, title='Revenue Per Restaurant')\n",
    "layout(fig2, '$')"
   ]
  },
  {
   "cell_type": "code",
   "execution_count": 16,
   "metadata": {},
   "outputs": [
    {
     "data": {
      "text/plain": [
       "Borough\n",
       "Bronx       0.10700\n",
       "Brooklyn    0.06450\n",
       "Manhattan   0.06490\n",
       "Queens      0.03460\n",
       "Name: pop_num_diners, dtype: float64"
      ]
     },
     "execution_count": 16,
     "metadata": {},
     "output_type": "execute_result"
    },
    {
     "data": {
      "application/vnd.plotly.v1+json": {
       "config": {
        "plotlyServerURL": "https://plot.ly"
       },
       "data": [
        {
         "alignmentgroup": "True",
         "hovertemplate": "color=Bronx<br>Borough=%{x}<br>% of Population who Dines=%{y}<extra></extra>",
         "legendgroup": "Bronx",
         "marker": {
          "color": "#636efa"
         },
         "name": "Bronx",
         "offsetgroup": "Bronx",
         "orientation": "v",
         "showlegend": true,
         "textposition": "auto",
         "type": "bar",
         "x": [
          "Bronx"
         ],
         "xaxis": "x",
         "y": [
          0.107
         ],
         "yaxis": "y"
        },
        {
         "alignmentgroup": "True",
         "hovertemplate": "color=Brooklyn<br>Borough=%{x}<br>% of Population who Dines=%{y}<extra></extra>",
         "legendgroup": "Brooklyn",
         "marker": {
          "color": "#EF553B"
         },
         "name": "Brooklyn",
         "offsetgroup": "Brooklyn",
         "orientation": "v",
         "showlegend": true,
         "textposition": "auto",
         "type": "bar",
         "x": [
          "Brooklyn"
         ],
         "xaxis": "x",
         "y": [
          0.0645
         ],
         "yaxis": "y"
        },
        {
         "alignmentgroup": "True",
         "hovertemplate": "color=Manhattan<br>Borough=%{x}<br>% of Population who Dines=%{y}<extra></extra>",
         "legendgroup": "Manhattan",
         "marker": {
          "color": "#00cc96"
         },
         "name": "Manhattan",
         "offsetgroup": "Manhattan",
         "orientation": "v",
         "showlegend": true,
         "textposition": "auto",
         "type": "bar",
         "x": [
          "Manhattan"
         ],
         "xaxis": "x",
         "y": [
          0.0649
         ],
         "yaxis": "y"
        },
        {
         "alignmentgroup": "True",
         "hovertemplate": "color=Queens<br>Borough=%{x}<br>% of Population who Dines=%{y}<extra></extra>",
         "legendgroup": "Queens",
         "marker": {
          "color": "#ab63fa"
         },
         "name": "Queens",
         "offsetgroup": "Queens",
         "orientation": "v",
         "showlegend": true,
         "textposition": "auto",
         "type": "bar",
         "x": [
          "Queens"
         ],
         "xaxis": "x",
         "y": [
          0.0346
         ],
         "yaxis": "y"
        }
       ],
       "layout": {
        "barmode": "relative",
        "font": {
         "color": "White",
         "family": "Verdana",
         "size": 13
        },
        "legend": {
         "title": {
          "text": "color"
         },
         "tracegroupgap": 0
        },
        "paper_bgcolor": "#374C60",
        "plot_bgcolor": "#eee",
        "template": {
         "data": {
          "bar": [
           {
            "error_x": {
             "color": "#2a3f5f"
            },
            "error_y": {
             "color": "#2a3f5f"
            },
            "marker": {
             "line": {
              "color": "#E5ECF6",
              "width": 0.5
             }
            },
            "type": "bar"
           }
          ],
          "barpolar": [
           {
            "marker": {
             "line": {
              "color": "#E5ECF6",
              "width": 0.5
             }
            },
            "type": "barpolar"
           }
          ],
          "carpet": [
           {
            "aaxis": {
             "endlinecolor": "#2a3f5f",
             "gridcolor": "white",
             "linecolor": "white",
             "minorgridcolor": "white",
             "startlinecolor": "#2a3f5f"
            },
            "baxis": {
             "endlinecolor": "#2a3f5f",
             "gridcolor": "white",
             "linecolor": "white",
             "minorgridcolor": "white",
             "startlinecolor": "#2a3f5f"
            },
            "type": "carpet"
           }
          ],
          "choropleth": [
           {
            "colorbar": {
             "outlinewidth": 0,
             "ticks": ""
            },
            "type": "choropleth"
           }
          ],
          "contour": [
           {
            "colorbar": {
             "outlinewidth": 0,
             "ticks": ""
            },
            "colorscale": [
             [
              0,
              "#0d0887"
             ],
             [
              0.1111111111111111,
              "#46039f"
             ],
             [
              0.2222222222222222,
              "#7201a8"
             ],
             [
              0.3333333333333333,
              "#9c179e"
             ],
             [
              0.4444444444444444,
              "#bd3786"
             ],
             [
              0.5555555555555556,
              "#d8576b"
             ],
             [
              0.6666666666666666,
              "#ed7953"
             ],
             [
              0.7777777777777778,
              "#fb9f3a"
             ],
             [
              0.8888888888888888,
              "#fdca26"
             ],
             [
              1,
              "#f0f921"
             ]
            ],
            "type": "contour"
           }
          ],
          "contourcarpet": [
           {
            "colorbar": {
             "outlinewidth": 0,
             "ticks": ""
            },
            "type": "contourcarpet"
           }
          ],
          "heatmap": [
           {
            "colorbar": {
             "outlinewidth": 0,
             "ticks": ""
            },
            "colorscale": [
             [
              0,
              "#0d0887"
             ],
             [
              0.1111111111111111,
              "#46039f"
             ],
             [
              0.2222222222222222,
              "#7201a8"
             ],
             [
              0.3333333333333333,
              "#9c179e"
             ],
             [
              0.4444444444444444,
              "#bd3786"
             ],
             [
              0.5555555555555556,
              "#d8576b"
             ],
             [
              0.6666666666666666,
              "#ed7953"
             ],
             [
              0.7777777777777778,
              "#fb9f3a"
             ],
             [
              0.8888888888888888,
              "#fdca26"
             ],
             [
              1,
              "#f0f921"
             ]
            ],
            "type": "heatmap"
           }
          ],
          "heatmapgl": [
           {
            "colorbar": {
             "outlinewidth": 0,
             "ticks": ""
            },
            "colorscale": [
             [
              0,
              "#0d0887"
             ],
             [
              0.1111111111111111,
              "#46039f"
             ],
             [
              0.2222222222222222,
              "#7201a8"
             ],
             [
              0.3333333333333333,
              "#9c179e"
             ],
             [
              0.4444444444444444,
              "#bd3786"
             ],
             [
              0.5555555555555556,
              "#d8576b"
             ],
             [
              0.6666666666666666,
              "#ed7953"
             ],
             [
              0.7777777777777778,
              "#fb9f3a"
             ],
             [
              0.8888888888888888,
              "#fdca26"
             ],
             [
              1,
              "#f0f921"
             ]
            ],
            "type": "heatmapgl"
           }
          ],
          "histogram": [
           {
            "marker": {
             "colorbar": {
              "outlinewidth": 0,
              "ticks": ""
             }
            },
            "type": "histogram"
           }
          ],
          "histogram2d": [
           {
            "colorbar": {
             "outlinewidth": 0,
             "ticks": ""
            },
            "colorscale": [
             [
              0,
              "#0d0887"
             ],
             [
              0.1111111111111111,
              "#46039f"
             ],
             [
              0.2222222222222222,
              "#7201a8"
             ],
             [
              0.3333333333333333,
              "#9c179e"
             ],
             [
              0.4444444444444444,
              "#bd3786"
             ],
             [
              0.5555555555555556,
              "#d8576b"
             ],
             [
              0.6666666666666666,
              "#ed7953"
             ],
             [
              0.7777777777777778,
              "#fb9f3a"
             ],
             [
              0.8888888888888888,
              "#fdca26"
             ],
             [
              1,
              "#f0f921"
             ]
            ],
            "type": "histogram2d"
           }
          ],
          "histogram2dcontour": [
           {
            "colorbar": {
             "outlinewidth": 0,
             "ticks": ""
            },
            "colorscale": [
             [
              0,
              "#0d0887"
             ],
             [
              0.1111111111111111,
              "#46039f"
             ],
             [
              0.2222222222222222,
              "#7201a8"
             ],
             [
              0.3333333333333333,
              "#9c179e"
             ],
             [
              0.4444444444444444,
              "#bd3786"
             ],
             [
              0.5555555555555556,
              "#d8576b"
             ],
             [
              0.6666666666666666,
              "#ed7953"
             ],
             [
              0.7777777777777778,
              "#fb9f3a"
             ],
             [
              0.8888888888888888,
              "#fdca26"
             ],
             [
              1,
              "#f0f921"
             ]
            ],
            "type": "histogram2dcontour"
           }
          ],
          "mesh3d": [
           {
            "colorbar": {
             "outlinewidth": 0,
             "ticks": ""
            },
            "type": "mesh3d"
           }
          ],
          "parcoords": [
           {
            "line": {
             "colorbar": {
              "outlinewidth": 0,
              "ticks": ""
             }
            },
            "type": "parcoords"
           }
          ],
          "pie": [
           {
            "automargin": true,
            "type": "pie"
           }
          ],
          "scatter": [
           {
            "marker": {
             "colorbar": {
              "outlinewidth": 0,
              "ticks": ""
             }
            },
            "type": "scatter"
           }
          ],
          "scatter3d": [
           {
            "line": {
             "colorbar": {
              "outlinewidth": 0,
              "ticks": ""
             }
            },
            "marker": {
             "colorbar": {
              "outlinewidth": 0,
              "ticks": ""
             }
            },
            "type": "scatter3d"
           }
          ],
          "scattercarpet": [
           {
            "marker": {
             "colorbar": {
              "outlinewidth": 0,
              "ticks": ""
             }
            },
            "type": "scattercarpet"
           }
          ],
          "scattergeo": [
           {
            "marker": {
             "colorbar": {
              "outlinewidth": 0,
              "ticks": ""
             }
            },
            "type": "scattergeo"
           }
          ],
          "scattergl": [
           {
            "marker": {
             "colorbar": {
              "outlinewidth": 0,
              "ticks": ""
             }
            },
            "type": "scattergl"
           }
          ],
          "scattermapbox": [
           {
            "marker": {
             "colorbar": {
              "outlinewidth": 0,
              "ticks": ""
             }
            },
            "type": "scattermapbox"
           }
          ],
          "scatterpolar": [
           {
            "marker": {
             "colorbar": {
              "outlinewidth": 0,
              "ticks": ""
             }
            },
            "type": "scatterpolar"
           }
          ],
          "scatterpolargl": [
           {
            "marker": {
             "colorbar": {
              "outlinewidth": 0,
              "ticks": ""
             }
            },
            "type": "scatterpolargl"
           }
          ],
          "scatterternary": [
           {
            "marker": {
             "colorbar": {
              "outlinewidth": 0,
              "ticks": ""
             }
            },
            "type": "scatterternary"
           }
          ],
          "surface": [
           {
            "colorbar": {
             "outlinewidth": 0,
             "ticks": ""
            },
            "colorscale": [
             [
              0,
              "#0d0887"
             ],
             [
              0.1111111111111111,
              "#46039f"
             ],
             [
              0.2222222222222222,
              "#7201a8"
             ],
             [
              0.3333333333333333,
              "#9c179e"
             ],
             [
              0.4444444444444444,
              "#bd3786"
             ],
             [
              0.5555555555555556,
              "#d8576b"
             ],
             [
              0.6666666666666666,
              "#ed7953"
             ],
             [
              0.7777777777777778,
              "#fb9f3a"
             ],
             [
              0.8888888888888888,
              "#fdca26"
             ],
             [
              1,
              "#f0f921"
             ]
            ],
            "type": "surface"
           }
          ],
          "table": [
           {
            "cells": {
             "fill": {
              "color": "#EBF0F8"
             },
             "line": {
              "color": "white"
             }
            },
            "header": {
             "fill": {
              "color": "#C8D4E3"
             },
             "line": {
              "color": "white"
             }
            },
            "type": "table"
           }
          ]
         },
         "layout": {
          "annotationdefaults": {
           "arrowcolor": "#2a3f5f",
           "arrowhead": 0,
           "arrowwidth": 1
          },
          "autotypenumbers": "strict",
          "coloraxis": {
           "colorbar": {
            "outlinewidth": 0,
            "ticks": ""
           }
          },
          "colorscale": {
           "diverging": [
            [
             0,
             "#8e0152"
            ],
            [
             0.1,
             "#c51b7d"
            ],
            [
             0.2,
             "#de77ae"
            ],
            [
             0.3,
             "#f1b6da"
            ],
            [
             0.4,
             "#fde0ef"
            ],
            [
             0.5,
             "#f7f7f7"
            ],
            [
             0.6,
             "#e6f5d0"
            ],
            [
             0.7,
             "#b8e186"
            ],
            [
             0.8,
             "#7fbc41"
            ],
            [
             0.9,
             "#4d9221"
            ],
            [
             1,
             "#276419"
            ]
           ],
           "sequential": [
            [
             0,
             "#0d0887"
            ],
            [
             0.1111111111111111,
             "#46039f"
            ],
            [
             0.2222222222222222,
             "#7201a8"
            ],
            [
             0.3333333333333333,
             "#9c179e"
            ],
            [
             0.4444444444444444,
             "#bd3786"
            ],
            [
             0.5555555555555556,
             "#d8576b"
            ],
            [
             0.6666666666666666,
             "#ed7953"
            ],
            [
             0.7777777777777778,
             "#fb9f3a"
            ],
            [
             0.8888888888888888,
             "#fdca26"
            ],
            [
             1,
             "#f0f921"
            ]
           ],
           "sequentialminus": [
            [
             0,
             "#0d0887"
            ],
            [
             0.1111111111111111,
             "#46039f"
            ],
            [
             0.2222222222222222,
             "#7201a8"
            ],
            [
             0.3333333333333333,
             "#9c179e"
            ],
            [
             0.4444444444444444,
             "#bd3786"
            ],
            [
             0.5555555555555556,
             "#d8576b"
            ],
            [
             0.6666666666666666,
             "#ed7953"
            ],
            [
             0.7777777777777778,
             "#fb9f3a"
            ],
            [
             0.8888888888888888,
             "#fdca26"
            ],
            [
             1,
             "#f0f921"
            ]
           ]
          },
          "colorway": [
           "#636efa",
           "#EF553B",
           "#00cc96",
           "#ab63fa",
           "#FFA15A",
           "#19d3f3",
           "#FF6692",
           "#B6E880",
           "#FF97FF",
           "#FECB52"
          ],
          "font": {
           "color": "#2a3f5f"
          },
          "geo": {
           "bgcolor": "white",
           "lakecolor": "white",
           "landcolor": "#E5ECF6",
           "showlakes": true,
           "showland": true,
           "subunitcolor": "white"
          },
          "hoverlabel": {
           "align": "left"
          },
          "hovermode": "closest",
          "mapbox": {
           "style": "light"
          },
          "paper_bgcolor": "white",
          "plot_bgcolor": "#E5ECF6",
          "polar": {
           "angularaxis": {
            "gridcolor": "white",
            "linecolor": "white",
            "ticks": ""
           },
           "bgcolor": "#E5ECF6",
           "radialaxis": {
            "gridcolor": "white",
            "linecolor": "white",
            "ticks": ""
           }
          },
          "scene": {
           "xaxis": {
            "backgroundcolor": "#E5ECF6",
            "gridcolor": "white",
            "gridwidth": 2,
            "linecolor": "white",
            "showbackground": true,
            "ticks": "",
            "zerolinecolor": "white"
           },
           "yaxis": {
            "backgroundcolor": "#E5ECF6",
            "gridcolor": "white",
            "gridwidth": 2,
            "linecolor": "white",
            "showbackground": true,
            "ticks": "",
            "zerolinecolor": "white"
           },
           "zaxis": {
            "backgroundcolor": "#E5ECF6",
            "gridcolor": "white",
            "gridwidth": 2,
            "linecolor": "white",
            "showbackground": true,
            "ticks": "",
            "zerolinecolor": "white"
           }
          },
          "shapedefaults": {
           "line": {
            "color": "#2a3f5f"
           }
          },
          "ternary": {
           "aaxis": {
            "gridcolor": "white",
            "linecolor": "white",
            "ticks": ""
           },
           "baxis": {
            "gridcolor": "white",
            "linecolor": "white",
            "ticks": ""
           },
           "bgcolor": "#E5ECF6",
           "caxis": {
            "gridcolor": "white",
            "linecolor": "white",
            "ticks": ""
           }
          },
          "title": {
           "x": 0.05
          },
          "xaxis": {
           "automargin": true,
           "gridcolor": "white",
           "linecolor": "white",
           "ticks": "",
           "title": {
            "standoff": 15
           },
           "zerolinecolor": "white",
           "zerolinewidth": 2
          },
          "yaxis": {
           "automargin": true,
           "gridcolor": "white",
           "linecolor": "white",
           "ticks": "",
           "title": {
            "standoff": 15
           },
           "zerolinecolor": "white",
           "zerolinewidth": 2
          }
         }
        },
        "title": {
         "font": {
          "family": "Verdana"
         },
         "text": "% of Population who Dines"
        },
        "xaxis": {
         "anchor": "y",
         "domain": [
          0,
          1
         ],
         "title": {
          "text": "Borough"
         }
        },
        "yaxis": {
         "anchor": "x",
         "domain": [
          0,
          1
         ],
         "tickformat": "%",
         "title": {
          "text": "% of Population who Dines"
         }
        }
       }
      },
      "text/html": [
       "<div>                            <div id=\"bda4956a-9023-499e-9cc1-9d2460cb026d\" class=\"plotly-graph-div\" style=\"height:525px; width:100%;\"></div>            <script type=\"text/javascript\">                require([\"plotly\"], function(Plotly) {                    window.PLOTLYENV=window.PLOTLYENV || {};                                    if (document.getElementById(\"bda4956a-9023-499e-9cc1-9d2460cb026d\")) {                    Plotly.newPlot(                        \"bda4956a-9023-499e-9cc1-9d2460cb026d\",                        [{\"alignmentgroup\": \"True\", \"hovertemplate\": \"color=Bronx<br>Borough=%{x}<br>% of Population who Dines=%{y}<extra></extra>\", \"legendgroup\": \"Bronx\", \"marker\": {\"color\": \"#636efa\"}, \"name\": \"Bronx\", \"offsetgroup\": \"Bronx\", \"orientation\": \"v\", \"showlegend\": true, \"textposition\": \"auto\", \"type\": \"bar\", \"x\": [\"Bronx\"], \"xaxis\": \"x\", \"y\": [0.107], \"yaxis\": \"y\"}, {\"alignmentgroup\": \"True\", \"hovertemplate\": \"color=Brooklyn<br>Borough=%{x}<br>% of Population who Dines=%{y}<extra></extra>\", \"legendgroup\": \"Brooklyn\", \"marker\": {\"color\": \"#EF553B\"}, \"name\": \"Brooklyn\", \"offsetgroup\": \"Brooklyn\", \"orientation\": \"v\", \"showlegend\": true, \"textposition\": \"auto\", \"type\": \"bar\", \"x\": [\"Brooklyn\"], \"xaxis\": \"x\", \"y\": [0.0645], \"yaxis\": \"y\"}, {\"alignmentgroup\": \"True\", \"hovertemplate\": \"color=Manhattan<br>Borough=%{x}<br>% of Population who Dines=%{y}<extra></extra>\", \"legendgroup\": \"Manhattan\", \"marker\": {\"color\": \"#00cc96\"}, \"name\": \"Manhattan\", \"offsetgroup\": \"Manhattan\", \"orientation\": \"v\", \"showlegend\": true, \"textposition\": \"auto\", \"type\": \"bar\", \"x\": [\"Manhattan\"], \"xaxis\": \"x\", \"y\": [0.0649], \"yaxis\": \"y\"}, {\"alignmentgroup\": \"True\", \"hovertemplate\": \"color=Queens<br>Borough=%{x}<br>% of Population who Dines=%{y}<extra></extra>\", \"legendgroup\": \"Queens\", \"marker\": {\"color\": \"#ab63fa\"}, \"name\": \"Queens\", \"offsetgroup\": \"Queens\", \"orientation\": \"v\", \"showlegend\": true, \"textposition\": \"auto\", \"type\": \"bar\", \"x\": [\"Queens\"], \"xaxis\": \"x\", \"y\": [0.0346], \"yaxis\": \"y\"}],                        {\"barmode\": \"relative\", \"font\": {\"color\": \"White\", \"family\": \"Verdana\", \"size\": 13}, \"legend\": {\"title\": {\"text\": \"color\"}, \"tracegroupgap\": 0}, \"paper_bgcolor\": \"#374C60\", \"plot_bgcolor\": \"#eee\", \"template\": {\"data\": {\"bar\": [{\"error_x\": {\"color\": \"#2a3f5f\"}, \"error_y\": {\"color\": \"#2a3f5f\"}, \"marker\": {\"line\": {\"color\": \"#E5ECF6\", \"width\": 0.5}}, \"type\": \"bar\"}], \"barpolar\": [{\"marker\": {\"line\": {\"color\": \"#E5ECF6\", \"width\": 0.5}}, \"type\": \"barpolar\"}], \"carpet\": [{\"aaxis\": {\"endlinecolor\": \"#2a3f5f\", \"gridcolor\": \"white\", \"linecolor\": \"white\", \"minorgridcolor\": \"white\", \"startlinecolor\": \"#2a3f5f\"}, \"baxis\": {\"endlinecolor\": \"#2a3f5f\", \"gridcolor\": \"white\", \"linecolor\": \"white\", \"minorgridcolor\": \"white\", \"startlinecolor\": \"#2a3f5f\"}, \"type\": \"carpet\"}], \"choropleth\": [{\"colorbar\": {\"outlinewidth\": 0, \"ticks\": \"\"}, \"type\": \"choropleth\"}], \"contour\": [{\"colorbar\": {\"outlinewidth\": 0, \"ticks\": \"\"}, \"colorscale\": [[0.0, \"#0d0887\"], [0.1111111111111111, \"#46039f\"], [0.2222222222222222, \"#7201a8\"], [0.3333333333333333, \"#9c179e\"], [0.4444444444444444, \"#bd3786\"], [0.5555555555555556, \"#d8576b\"], [0.6666666666666666, \"#ed7953\"], [0.7777777777777778, \"#fb9f3a\"], [0.8888888888888888, \"#fdca26\"], [1.0, \"#f0f921\"]], \"type\": \"contour\"}], \"contourcarpet\": [{\"colorbar\": {\"outlinewidth\": 0, \"ticks\": \"\"}, \"type\": \"contourcarpet\"}], \"heatmap\": [{\"colorbar\": {\"outlinewidth\": 0, \"ticks\": \"\"}, \"colorscale\": [[0.0, \"#0d0887\"], [0.1111111111111111, \"#46039f\"], [0.2222222222222222, \"#7201a8\"], [0.3333333333333333, \"#9c179e\"], [0.4444444444444444, \"#bd3786\"], [0.5555555555555556, \"#d8576b\"], [0.6666666666666666, \"#ed7953\"], [0.7777777777777778, \"#fb9f3a\"], [0.8888888888888888, \"#fdca26\"], [1.0, \"#f0f921\"]], \"type\": \"heatmap\"}], \"heatmapgl\": [{\"colorbar\": {\"outlinewidth\": 0, \"ticks\": \"\"}, \"colorscale\": [[0.0, \"#0d0887\"], [0.1111111111111111, \"#46039f\"], [0.2222222222222222, \"#7201a8\"], [0.3333333333333333, \"#9c179e\"], [0.4444444444444444, \"#bd3786\"], [0.5555555555555556, \"#d8576b\"], [0.6666666666666666, \"#ed7953\"], [0.7777777777777778, \"#fb9f3a\"], [0.8888888888888888, \"#fdca26\"], [1.0, \"#f0f921\"]], \"type\": \"heatmapgl\"}], \"histogram\": [{\"marker\": {\"colorbar\": {\"outlinewidth\": 0, \"ticks\": \"\"}}, \"type\": \"histogram\"}], \"histogram2d\": [{\"colorbar\": {\"outlinewidth\": 0, \"ticks\": \"\"}, \"colorscale\": [[0.0, \"#0d0887\"], [0.1111111111111111, \"#46039f\"], [0.2222222222222222, \"#7201a8\"], [0.3333333333333333, \"#9c179e\"], [0.4444444444444444, \"#bd3786\"], [0.5555555555555556, \"#d8576b\"], [0.6666666666666666, \"#ed7953\"], [0.7777777777777778, \"#fb9f3a\"], [0.8888888888888888, \"#fdca26\"], [1.0, \"#f0f921\"]], \"type\": \"histogram2d\"}], \"histogram2dcontour\": [{\"colorbar\": {\"outlinewidth\": 0, \"ticks\": \"\"}, \"colorscale\": [[0.0, \"#0d0887\"], [0.1111111111111111, \"#46039f\"], [0.2222222222222222, \"#7201a8\"], [0.3333333333333333, \"#9c179e\"], [0.4444444444444444, \"#bd3786\"], [0.5555555555555556, \"#d8576b\"], [0.6666666666666666, \"#ed7953\"], [0.7777777777777778, \"#fb9f3a\"], [0.8888888888888888, \"#fdca26\"], [1.0, \"#f0f921\"]], \"type\": \"histogram2dcontour\"}], \"mesh3d\": [{\"colorbar\": {\"outlinewidth\": 0, \"ticks\": \"\"}, \"type\": \"mesh3d\"}], \"parcoords\": [{\"line\": {\"colorbar\": {\"outlinewidth\": 0, \"ticks\": \"\"}}, \"type\": \"parcoords\"}], \"pie\": [{\"automargin\": true, \"type\": \"pie\"}], \"scatter\": [{\"marker\": {\"colorbar\": {\"outlinewidth\": 0, \"ticks\": \"\"}}, \"type\": \"scatter\"}], \"scatter3d\": [{\"line\": {\"colorbar\": {\"outlinewidth\": 0, \"ticks\": \"\"}}, \"marker\": {\"colorbar\": {\"outlinewidth\": 0, \"ticks\": \"\"}}, \"type\": \"scatter3d\"}], \"scattercarpet\": [{\"marker\": {\"colorbar\": {\"outlinewidth\": 0, \"ticks\": \"\"}}, \"type\": \"scattercarpet\"}], \"scattergeo\": [{\"marker\": {\"colorbar\": {\"outlinewidth\": 0, \"ticks\": \"\"}}, \"type\": \"scattergeo\"}], \"scattergl\": [{\"marker\": {\"colorbar\": {\"outlinewidth\": 0, \"ticks\": \"\"}}, \"type\": \"scattergl\"}], \"scattermapbox\": [{\"marker\": {\"colorbar\": {\"outlinewidth\": 0, \"ticks\": \"\"}}, \"type\": \"scattermapbox\"}], \"scatterpolar\": [{\"marker\": {\"colorbar\": {\"outlinewidth\": 0, \"ticks\": \"\"}}, \"type\": \"scatterpolar\"}], \"scatterpolargl\": [{\"marker\": {\"colorbar\": {\"outlinewidth\": 0, \"ticks\": \"\"}}, \"type\": \"scatterpolargl\"}], \"scatterternary\": [{\"marker\": {\"colorbar\": {\"outlinewidth\": 0, \"ticks\": \"\"}}, \"type\": \"scatterternary\"}], \"surface\": [{\"colorbar\": {\"outlinewidth\": 0, \"ticks\": \"\"}, \"colorscale\": [[0.0, \"#0d0887\"], [0.1111111111111111, \"#46039f\"], [0.2222222222222222, \"#7201a8\"], [0.3333333333333333, \"#9c179e\"], [0.4444444444444444, \"#bd3786\"], [0.5555555555555556, \"#d8576b\"], [0.6666666666666666, \"#ed7953\"], [0.7777777777777778, \"#fb9f3a\"], [0.8888888888888888, \"#fdca26\"], [1.0, \"#f0f921\"]], \"type\": \"surface\"}], \"table\": [{\"cells\": {\"fill\": {\"color\": \"#EBF0F8\"}, \"line\": {\"color\": \"white\"}}, \"header\": {\"fill\": {\"color\": \"#C8D4E3\"}, \"line\": {\"color\": \"white\"}}, \"type\": \"table\"}]}, \"layout\": {\"annotationdefaults\": {\"arrowcolor\": \"#2a3f5f\", \"arrowhead\": 0, \"arrowwidth\": 1}, \"autotypenumbers\": \"strict\", \"coloraxis\": {\"colorbar\": {\"outlinewidth\": 0, \"ticks\": \"\"}}, \"colorscale\": {\"diverging\": [[0, \"#8e0152\"], [0.1, \"#c51b7d\"], [0.2, \"#de77ae\"], [0.3, \"#f1b6da\"], [0.4, \"#fde0ef\"], [0.5, \"#f7f7f7\"], [0.6, \"#e6f5d0\"], [0.7, \"#b8e186\"], [0.8, \"#7fbc41\"], [0.9, \"#4d9221\"], [1, \"#276419\"]], \"sequential\": [[0.0, \"#0d0887\"], [0.1111111111111111, \"#46039f\"], [0.2222222222222222, \"#7201a8\"], [0.3333333333333333, \"#9c179e\"], [0.4444444444444444, \"#bd3786\"], [0.5555555555555556, \"#d8576b\"], [0.6666666666666666, \"#ed7953\"], [0.7777777777777778, \"#fb9f3a\"], [0.8888888888888888, \"#fdca26\"], [1.0, \"#f0f921\"]], \"sequentialminus\": [[0.0, \"#0d0887\"], [0.1111111111111111, \"#46039f\"], [0.2222222222222222, \"#7201a8\"], [0.3333333333333333, \"#9c179e\"], [0.4444444444444444, \"#bd3786\"], [0.5555555555555556, \"#d8576b\"], [0.6666666666666666, \"#ed7953\"], [0.7777777777777778, \"#fb9f3a\"], [0.8888888888888888, \"#fdca26\"], [1.0, \"#f0f921\"]]}, \"colorway\": [\"#636efa\", \"#EF553B\", \"#00cc96\", \"#ab63fa\", \"#FFA15A\", \"#19d3f3\", \"#FF6692\", \"#B6E880\", \"#FF97FF\", \"#FECB52\"], \"font\": {\"color\": \"#2a3f5f\"}, \"geo\": {\"bgcolor\": \"white\", \"lakecolor\": \"white\", \"landcolor\": \"#E5ECF6\", \"showlakes\": true, \"showland\": true, \"subunitcolor\": \"white\"}, \"hoverlabel\": {\"align\": \"left\"}, \"hovermode\": \"closest\", \"mapbox\": {\"style\": \"light\"}, \"paper_bgcolor\": \"white\", \"plot_bgcolor\": \"#E5ECF6\", \"polar\": {\"angularaxis\": {\"gridcolor\": \"white\", \"linecolor\": \"white\", \"ticks\": \"\"}, \"bgcolor\": \"#E5ECF6\", \"radialaxis\": {\"gridcolor\": \"white\", \"linecolor\": \"white\", \"ticks\": \"\"}}, \"scene\": {\"xaxis\": {\"backgroundcolor\": \"#E5ECF6\", \"gridcolor\": \"white\", \"gridwidth\": 2, \"linecolor\": \"white\", \"showbackground\": true, \"ticks\": \"\", \"zerolinecolor\": \"white\"}, \"yaxis\": {\"backgroundcolor\": \"#E5ECF6\", \"gridcolor\": \"white\", \"gridwidth\": 2, \"linecolor\": \"white\", \"showbackground\": true, \"ticks\": \"\", \"zerolinecolor\": \"white\"}, \"zaxis\": {\"backgroundcolor\": \"#E5ECF6\", \"gridcolor\": \"white\", \"gridwidth\": 2, \"linecolor\": \"white\", \"showbackground\": true, \"ticks\": \"\", \"zerolinecolor\": \"white\"}}, \"shapedefaults\": {\"line\": {\"color\": \"#2a3f5f\"}}, \"ternary\": {\"aaxis\": {\"gridcolor\": \"white\", \"linecolor\": \"white\", \"ticks\": \"\"}, \"baxis\": {\"gridcolor\": \"white\", \"linecolor\": \"white\", \"ticks\": \"\"}, \"bgcolor\": \"#E5ECF6\", \"caxis\": {\"gridcolor\": \"white\", \"linecolor\": \"white\", \"ticks\": \"\"}}, \"title\": {\"x\": 0.05}, \"xaxis\": {\"automargin\": true, \"gridcolor\": \"white\", \"linecolor\": \"white\", \"ticks\": \"\", \"title\": {\"standoff\": 15}, \"zerolinecolor\": \"white\", \"zerolinewidth\": 2}, \"yaxis\": {\"automargin\": true, \"gridcolor\": \"white\", \"linecolor\": \"white\", \"ticks\": \"\", \"title\": {\"standoff\": 15}, \"zerolinecolor\": \"white\", \"zerolinewidth\": 2}}}, \"title\": {\"font\": {\"family\": \"Verdana\"}, \"text\": \"% of Population who Dines\"}, \"xaxis\": {\"anchor\": \"y\", \"domain\": [0.0, 1.0], \"title\": {\"text\": \"Borough\"}}, \"yaxis\": {\"anchor\": \"x\", \"domain\": [0.0, 1.0], \"tickformat\": \"%\", \"title\": {\"text\": \"% of Population who Dines\"}}},                        {\"responsive\": true}                    ).then(function(){\n",
       "                            \n",
       "var gd = document.getElementById('bda4956a-9023-499e-9cc1-9d2460cb026d');\n",
       "var x = new MutationObserver(function (mutations, observer) {{\n",
       "        var display = window.getComputedStyle(gd).display;\n",
       "        if (!display || display === 'none') {{\n",
       "            console.log([gd, 'removed!']);\n",
       "            Plotly.purge(gd);\n",
       "            observer.disconnect();\n",
       "        }}\n",
       "}});\n",
       "\n",
       "// Listen for the removal of the full notebook cells\n",
       "var notebookContainer = gd.closest('#notebook-container');\n",
       "if (notebookContainer) {{\n",
       "    x.observe(notebookContainer, {childList: true});\n",
       "}}\n",
       "\n",
       "// Listen for the clearing of the current output cell\n",
       "var outputEl = gd.closest('.output');\n",
       "if (outputEl) {{\n",
       "    x.observe(outputEl, {childList: true});\n",
       "}}\n",
       "\n",
       "                        })                };                });            </script>        </div>"
      ]
     },
     "metadata": {},
     "output_type": "display_data"
    }
   ],
   "source": [
    "# % of nightly diners out of population\n",
    "df['pop_num_diners'] = (df[\"Averages Diner's Per Night\"] * df['# of Restaurants']) / df['Population'] \n",
    "pop_num_diners2 = df.groupby('Borough')['pop_num_diners'].mean().round(4)\n",
    "pop_num_diners2\n",
    "\n",
    "fig3 = px.bar(x=x, y=pop_num_diners2, labels={'x': 'Borough', 'y':'% of Population who Dines'},\n",
    "            color=x, title='% of Population who Dines')\n",
    "layout(fig3, '%')\n"
   ]
  },
  {
   "cell_type": "code",
   "execution_count": 17,
   "metadata": {},
   "outputs": [
    {
     "data": {
      "text/plain": [
       "Borough\n",
       "Bronx       0.08820\n",
       "Brooklyn    0.15280\n",
       "Manhattan   0.13800\n",
       "Queens      0.14850\n",
       "Name: spending_per_diner, dtype: float64"
      ]
     },
     "execution_count": 17,
     "metadata": {},
     "output_type": "execute_result"
    },
    {
     "data": {
      "application/vnd.plotly.v1+json": {
       "config": {
        "plotlyServerURL": "https://plot.ly"
       },
       "data": [
        {
         "alignmentgroup": "True",
         "hovertemplate": "color=Bronx<br>Borough=%{x}<br>% of Salary Spent on Food=%{y}<extra></extra>",
         "legendgroup": "Bronx",
         "marker": {
          "color": "#636efa"
         },
         "name": "Bronx",
         "offsetgroup": "Bronx",
         "orientation": "v",
         "showlegend": true,
         "textposition": "auto",
         "type": "bar",
         "x": [
          "Bronx"
         ],
         "xaxis": "x",
         "y": [
          0.0882
         ],
         "yaxis": "y"
        },
        {
         "alignmentgroup": "True",
         "hovertemplate": "color=Brooklyn<br>Borough=%{x}<br>% of Salary Spent on Food=%{y}<extra></extra>",
         "legendgroup": "Brooklyn",
         "marker": {
          "color": "#EF553B"
         },
         "name": "Brooklyn",
         "offsetgroup": "Brooklyn",
         "orientation": "v",
         "showlegend": true,
         "textposition": "auto",
         "type": "bar",
         "x": [
          "Brooklyn"
         ],
         "xaxis": "x",
         "y": [
          0.1528
         ],
         "yaxis": "y"
        },
        {
         "alignmentgroup": "True",
         "hovertemplate": "color=Manhattan<br>Borough=%{x}<br>% of Salary Spent on Food=%{y}<extra></extra>",
         "legendgroup": "Manhattan",
         "marker": {
          "color": "#00cc96"
         },
         "name": "Manhattan",
         "offsetgroup": "Manhattan",
         "orientation": "v",
         "showlegend": true,
         "textposition": "auto",
         "type": "bar",
         "x": [
          "Manhattan"
         ],
         "xaxis": "x",
         "y": [
          0.138
         ],
         "yaxis": "y"
        },
        {
         "alignmentgroup": "True",
         "hovertemplate": "color=Queens<br>Borough=%{x}<br>% of Salary Spent on Food=%{y}<extra></extra>",
         "legendgroup": "Queens",
         "marker": {
          "color": "#ab63fa"
         },
         "name": "Queens",
         "offsetgroup": "Queens",
         "orientation": "v",
         "showlegend": true,
         "textposition": "auto",
         "type": "bar",
         "x": [
          "Queens"
         ],
         "xaxis": "x",
         "y": [
          0.1485
         ],
         "yaxis": "y"
        }
       ],
       "layout": {
        "barmode": "relative",
        "font": {
         "color": "White",
         "family": "Verdana",
         "size": 13
        },
        "legend": {
         "title": {
          "text": "color"
         },
         "tracegroupgap": 0
        },
        "paper_bgcolor": "#374C60",
        "plot_bgcolor": "#eee",
        "template": {
         "data": {
          "bar": [
           {
            "error_x": {
             "color": "#2a3f5f"
            },
            "error_y": {
             "color": "#2a3f5f"
            },
            "marker": {
             "line": {
              "color": "#E5ECF6",
              "width": 0.5
             }
            },
            "type": "bar"
           }
          ],
          "barpolar": [
           {
            "marker": {
             "line": {
              "color": "#E5ECF6",
              "width": 0.5
             }
            },
            "type": "barpolar"
           }
          ],
          "carpet": [
           {
            "aaxis": {
             "endlinecolor": "#2a3f5f",
             "gridcolor": "white",
             "linecolor": "white",
             "minorgridcolor": "white",
             "startlinecolor": "#2a3f5f"
            },
            "baxis": {
             "endlinecolor": "#2a3f5f",
             "gridcolor": "white",
             "linecolor": "white",
             "minorgridcolor": "white",
             "startlinecolor": "#2a3f5f"
            },
            "type": "carpet"
           }
          ],
          "choropleth": [
           {
            "colorbar": {
             "outlinewidth": 0,
             "ticks": ""
            },
            "type": "choropleth"
           }
          ],
          "contour": [
           {
            "colorbar": {
             "outlinewidth": 0,
             "ticks": ""
            },
            "colorscale": [
             [
              0,
              "#0d0887"
             ],
             [
              0.1111111111111111,
              "#46039f"
             ],
             [
              0.2222222222222222,
              "#7201a8"
             ],
             [
              0.3333333333333333,
              "#9c179e"
             ],
             [
              0.4444444444444444,
              "#bd3786"
             ],
             [
              0.5555555555555556,
              "#d8576b"
             ],
             [
              0.6666666666666666,
              "#ed7953"
             ],
             [
              0.7777777777777778,
              "#fb9f3a"
             ],
             [
              0.8888888888888888,
              "#fdca26"
             ],
             [
              1,
              "#f0f921"
             ]
            ],
            "type": "contour"
           }
          ],
          "contourcarpet": [
           {
            "colorbar": {
             "outlinewidth": 0,
             "ticks": ""
            },
            "type": "contourcarpet"
           }
          ],
          "heatmap": [
           {
            "colorbar": {
             "outlinewidth": 0,
             "ticks": ""
            },
            "colorscale": [
             [
              0,
              "#0d0887"
             ],
             [
              0.1111111111111111,
              "#46039f"
             ],
             [
              0.2222222222222222,
              "#7201a8"
             ],
             [
              0.3333333333333333,
              "#9c179e"
             ],
             [
              0.4444444444444444,
              "#bd3786"
             ],
             [
              0.5555555555555556,
              "#d8576b"
             ],
             [
              0.6666666666666666,
              "#ed7953"
             ],
             [
              0.7777777777777778,
              "#fb9f3a"
             ],
             [
              0.8888888888888888,
              "#fdca26"
             ],
             [
              1,
              "#f0f921"
             ]
            ],
            "type": "heatmap"
           }
          ],
          "heatmapgl": [
           {
            "colorbar": {
             "outlinewidth": 0,
             "ticks": ""
            },
            "colorscale": [
             [
              0,
              "#0d0887"
             ],
             [
              0.1111111111111111,
              "#46039f"
             ],
             [
              0.2222222222222222,
              "#7201a8"
             ],
             [
              0.3333333333333333,
              "#9c179e"
             ],
             [
              0.4444444444444444,
              "#bd3786"
             ],
             [
              0.5555555555555556,
              "#d8576b"
             ],
             [
              0.6666666666666666,
              "#ed7953"
             ],
             [
              0.7777777777777778,
              "#fb9f3a"
             ],
             [
              0.8888888888888888,
              "#fdca26"
             ],
             [
              1,
              "#f0f921"
             ]
            ],
            "type": "heatmapgl"
           }
          ],
          "histogram": [
           {
            "marker": {
             "colorbar": {
              "outlinewidth": 0,
              "ticks": ""
             }
            },
            "type": "histogram"
           }
          ],
          "histogram2d": [
           {
            "colorbar": {
             "outlinewidth": 0,
             "ticks": ""
            },
            "colorscale": [
             [
              0,
              "#0d0887"
             ],
             [
              0.1111111111111111,
              "#46039f"
             ],
             [
              0.2222222222222222,
              "#7201a8"
             ],
             [
              0.3333333333333333,
              "#9c179e"
             ],
             [
              0.4444444444444444,
              "#bd3786"
             ],
             [
              0.5555555555555556,
              "#d8576b"
             ],
             [
              0.6666666666666666,
              "#ed7953"
             ],
             [
              0.7777777777777778,
              "#fb9f3a"
             ],
             [
              0.8888888888888888,
              "#fdca26"
             ],
             [
              1,
              "#f0f921"
             ]
            ],
            "type": "histogram2d"
           }
          ],
          "histogram2dcontour": [
           {
            "colorbar": {
             "outlinewidth": 0,
             "ticks": ""
            },
            "colorscale": [
             [
              0,
              "#0d0887"
             ],
             [
              0.1111111111111111,
              "#46039f"
             ],
             [
              0.2222222222222222,
              "#7201a8"
             ],
             [
              0.3333333333333333,
              "#9c179e"
             ],
             [
              0.4444444444444444,
              "#bd3786"
             ],
             [
              0.5555555555555556,
              "#d8576b"
             ],
             [
              0.6666666666666666,
              "#ed7953"
             ],
             [
              0.7777777777777778,
              "#fb9f3a"
             ],
             [
              0.8888888888888888,
              "#fdca26"
             ],
             [
              1,
              "#f0f921"
             ]
            ],
            "type": "histogram2dcontour"
           }
          ],
          "mesh3d": [
           {
            "colorbar": {
             "outlinewidth": 0,
             "ticks": ""
            },
            "type": "mesh3d"
           }
          ],
          "parcoords": [
           {
            "line": {
             "colorbar": {
              "outlinewidth": 0,
              "ticks": ""
             }
            },
            "type": "parcoords"
           }
          ],
          "pie": [
           {
            "automargin": true,
            "type": "pie"
           }
          ],
          "scatter": [
           {
            "marker": {
             "colorbar": {
              "outlinewidth": 0,
              "ticks": ""
             }
            },
            "type": "scatter"
           }
          ],
          "scatter3d": [
           {
            "line": {
             "colorbar": {
              "outlinewidth": 0,
              "ticks": ""
             }
            },
            "marker": {
             "colorbar": {
              "outlinewidth": 0,
              "ticks": ""
             }
            },
            "type": "scatter3d"
           }
          ],
          "scattercarpet": [
           {
            "marker": {
             "colorbar": {
              "outlinewidth": 0,
              "ticks": ""
             }
            },
            "type": "scattercarpet"
           }
          ],
          "scattergeo": [
           {
            "marker": {
             "colorbar": {
              "outlinewidth": 0,
              "ticks": ""
             }
            },
            "type": "scattergeo"
           }
          ],
          "scattergl": [
           {
            "marker": {
             "colorbar": {
              "outlinewidth": 0,
              "ticks": ""
             }
            },
            "type": "scattergl"
           }
          ],
          "scattermapbox": [
           {
            "marker": {
             "colorbar": {
              "outlinewidth": 0,
              "ticks": ""
             }
            },
            "type": "scattermapbox"
           }
          ],
          "scatterpolar": [
           {
            "marker": {
             "colorbar": {
              "outlinewidth": 0,
              "ticks": ""
             }
            },
            "type": "scatterpolar"
           }
          ],
          "scatterpolargl": [
           {
            "marker": {
             "colorbar": {
              "outlinewidth": 0,
              "ticks": ""
             }
            },
            "type": "scatterpolargl"
           }
          ],
          "scatterternary": [
           {
            "marker": {
             "colorbar": {
              "outlinewidth": 0,
              "ticks": ""
             }
            },
            "type": "scatterternary"
           }
          ],
          "surface": [
           {
            "colorbar": {
             "outlinewidth": 0,
             "ticks": ""
            },
            "colorscale": [
             [
              0,
              "#0d0887"
             ],
             [
              0.1111111111111111,
              "#46039f"
             ],
             [
              0.2222222222222222,
              "#7201a8"
             ],
             [
              0.3333333333333333,
              "#9c179e"
             ],
             [
              0.4444444444444444,
              "#bd3786"
             ],
             [
              0.5555555555555556,
              "#d8576b"
             ],
             [
              0.6666666666666666,
              "#ed7953"
             ],
             [
              0.7777777777777778,
              "#fb9f3a"
             ],
             [
              0.8888888888888888,
              "#fdca26"
             ],
             [
              1,
              "#f0f921"
             ]
            ],
            "type": "surface"
           }
          ],
          "table": [
           {
            "cells": {
             "fill": {
              "color": "#EBF0F8"
             },
             "line": {
              "color": "white"
             }
            },
            "header": {
             "fill": {
              "color": "#C8D4E3"
             },
             "line": {
              "color": "white"
             }
            },
            "type": "table"
           }
          ]
         },
         "layout": {
          "annotationdefaults": {
           "arrowcolor": "#2a3f5f",
           "arrowhead": 0,
           "arrowwidth": 1
          },
          "autotypenumbers": "strict",
          "coloraxis": {
           "colorbar": {
            "outlinewidth": 0,
            "ticks": ""
           }
          },
          "colorscale": {
           "diverging": [
            [
             0,
             "#8e0152"
            ],
            [
             0.1,
             "#c51b7d"
            ],
            [
             0.2,
             "#de77ae"
            ],
            [
             0.3,
             "#f1b6da"
            ],
            [
             0.4,
             "#fde0ef"
            ],
            [
             0.5,
             "#f7f7f7"
            ],
            [
             0.6,
             "#e6f5d0"
            ],
            [
             0.7,
             "#b8e186"
            ],
            [
             0.8,
             "#7fbc41"
            ],
            [
             0.9,
             "#4d9221"
            ],
            [
             1,
             "#276419"
            ]
           ],
           "sequential": [
            [
             0,
             "#0d0887"
            ],
            [
             0.1111111111111111,
             "#46039f"
            ],
            [
             0.2222222222222222,
             "#7201a8"
            ],
            [
             0.3333333333333333,
             "#9c179e"
            ],
            [
             0.4444444444444444,
             "#bd3786"
            ],
            [
             0.5555555555555556,
             "#d8576b"
            ],
            [
             0.6666666666666666,
             "#ed7953"
            ],
            [
             0.7777777777777778,
             "#fb9f3a"
            ],
            [
             0.8888888888888888,
             "#fdca26"
            ],
            [
             1,
             "#f0f921"
            ]
           ],
           "sequentialminus": [
            [
             0,
             "#0d0887"
            ],
            [
             0.1111111111111111,
             "#46039f"
            ],
            [
             0.2222222222222222,
             "#7201a8"
            ],
            [
             0.3333333333333333,
             "#9c179e"
            ],
            [
             0.4444444444444444,
             "#bd3786"
            ],
            [
             0.5555555555555556,
             "#d8576b"
            ],
            [
             0.6666666666666666,
             "#ed7953"
            ],
            [
             0.7777777777777778,
             "#fb9f3a"
            ],
            [
             0.8888888888888888,
             "#fdca26"
            ],
            [
             1,
             "#f0f921"
            ]
           ]
          },
          "colorway": [
           "#636efa",
           "#EF553B",
           "#00cc96",
           "#ab63fa",
           "#FFA15A",
           "#19d3f3",
           "#FF6692",
           "#B6E880",
           "#FF97FF",
           "#FECB52"
          ],
          "font": {
           "color": "#2a3f5f"
          },
          "geo": {
           "bgcolor": "white",
           "lakecolor": "white",
           "landcolor": "#E5ECF6",
           "showlakes": true,
           "showland": true,
           "subunitcolor": "white"
          },
          "hoverlabel": {
           "align": "left"
          },
          "hovermode": "closest",
          "mapbox": {
           "style": "light"
          },
          "paper_bgcolor": "white",
          "plot_bgcolor": "#E5ECF6",
          "polar": {
           "angularaxis": {
            "gridcolor": "white",
            "linecolor": "white",
            "ticks": ""
           },
           "bgcolor": "#E5ECF6",
           "radialaxis": {
            "gridcolor": "white",
            "linecolor": "white",
            "ticks": ""
           }
          },
          "scene": {
           "xaxis": {
            "backgroundcolor": "#E5ECF6",
            "gridcolor": "white",
            "gridwidth": 2,
            "linecolor": "white",
            "showbackground": true,
            "ticks": "",
            "zerolinecolor": "white"
           },
           "yaxis": {
            "backgroundcolor": "#E5ECF6",
            "gridcolor": "white",
            "gridwidth": 2,
            "linecolor": "white",
            "showbackground": true,
            "ticks": "",
            "zerolinecolor": "white"
           },
           "zaxis": {
            "backgroundcolor": "#E5ECF6",
            "gridcolor": "white",
            "gridwidth": 2,
            "linecolor": "white",
            "showbackground": true,
            "ticks": "",
            "zerolinecolor": "white"
           }
          },
          "shapedefaults": {
           "line": {
            "color": "#2a3f5f"
           }
          },
          "ternary": {
           "aaxis": {
            "gridcolor": "white",
            "linecolor": "white",
            "ticks": ""
           },
           "baxis": {
            "gridcolor": "white",
            "linecolor": "white",
            "ticks": ""
           },
           "bgcolor": "#E5ECF6",
           "caxis": {
            "gridcolor": "white",
            "linecolor": "white",
            "ticks": ""
           }
          },
          "title": {
           "x": 0.05
          },
          "xaxis": {
           "automargin": true,
           "gridcolor": "white",
           "linecolor": "white",
           "ticks": "",
           "title": {
            "standoff": 15
           },
           "zerolinecolor": "white",
           "zerolinewidth": 2
          },
          "yaxis": {
           "automargin": true,
           "gridcolor": "white",
           "linecolor": "white",
           "ticks": "",
           "title": {
            "standoff": 15
           },
           "zerolinecolor": "white",
           "zerolinewidth": 2
          }
         }
        },
        "title": {
         "font": {
          "family": "Verdana"
         },
         "text": "Spending on Food from Salary"
        },
        "xaxis": {
         "anchor": "y",
         "domain": [
          0,
          1
         ],
         "title": {
          "text": "Borough"
         }
        },
        "yaxis": {
         "anchor": "x",
         "domain": [
          0,
          1
         ],
         "tickformat": "%",
         "title": {
          "text": "% of Salary Spent on Food"
         }
        }
       }
      },
      "text/html": [
       "<div>                            <div id=\"0cd76669-3cd3-44e9-9afb-6751e1993426\" class=\"plotly-graph-div\" style=\"height:525px; width:100%;\"></div>            <script type=\"text/javascript\">                require([\"plotly\"], function(Plotly) {                    window.PLOTLYENV=window.PLOTLYENV || {};                                    if (document.getElementById(\"0cd76669-3cd3-44e9-9afb-6751e1993426\")) {                    Plotly.newPlot(                        \"0cd76669-3cd3-44e9-9afb-6751e1993426\",                        [{\"alignmentgroup\": \"True\", \"hovertemplate\": \"color=Bronx<br>Borough=%{x}<br>% of Salary Spent on Food=%{y}<extra></extra>\", \"legendgroup\": \"Bronx\", \"marker\": {\"color\": \"#636efa\"}, \"name\": \"Bronx\", \"offsetgroup\": \"Bronx\", \"orientation\": \"v\", \"showlegend\": true, \"textposition\": \"auto\", \"type\": \"bar\", \"x\": [\"Bronx\"], \"xaxis\": \"x\", \"y\": [0.0882], \"yaxis\": \"y\"}, {\"alignmentgroup\": \"True\", \"hovertemplate\": \"color=Brooklyn<br>Borough=%{x}<br>% of Salary Spent on Food=%{y}<extra></extra>\", \"legendgroup\": \"Brooklyn\", \"marker\": {\"color\": \"#EF553B\"}, \"name\": \"Brooklyn\", \"offsetgroup\": \"Brooklyn\", \"orientation\": \"v\", \"showlegend\": true, \"textposition\": \"auto\", \"type\": \"bar\", \"x\": [\"Brooklyn\"], \"xaxis\": \"x\", \"y\": [0.1528], \"yaxis\": \"y\"}, {\"alignmentgroup\": \"True\", \"hovertemplate\": \"color=Manhattan<br>Borough=%{x}<br>% of Salary Spent on Food=%{y}<extra></extra>\", \"legendgroup\": \"Manhattan\", \"marker\": {\"color\": \"#00cc96\"}, \"name\": \"Manhattan\", \"offsetgroup\": \"Manhattan\", \"orientation\": \"v\", \"showlegend\": true, \"textposition\": \"auto\", \"type\": \"bar\", \"x\": [\"Manhattan\"], \"xaxis\": \"x\", \"y\": [0.138], \"yaxis\": \"y\"}, {\"alignmentgroup\": \"True\", \"hovertemplate\": \"color=Queens<br>Borough=%{x}<br>% of Salary Spent on Food=%{y}<extra></extra>\", \"legendgroup\": \"Queens\", \"marker\": {\"color\": \"#ab63fa\"}, \"name\": \"Queens\", \"offsetgroup\": \"Queens\", \"orientation\": \"v\", \"showlegend\": true, \"textposition\": \"auto\", \"type\": \"bar\", \"x\": [\"Queens\"], \"xaxis\": \"x\", \"y\": [0.1485], \"yaxis\": \"y\"}],                        {\"barmode\": \"relative\", \"font\": {\"color\": \"White\", \"family\": \"Verdana\", \"size\": 13}, \"legend\": {\"title\": {\"text\": \"color\"}, \"tracegroupgap\": 0}, \"paper_bgcolor\": \"#374C60\", \"plot_bgcolor\": \"#eee\", \"template\": {\"data\": {\"bar\": [{\"error_x\": {\"color\": \"#2a3f5f\"}, \"error_y\": {\"color\": \"#2a3f5f\"}, \"marker\": {\"line\": {\"color\": \"#E5ECF6\", \"width\": 0.5}}, \"type\": \"bar\"}], \"barpolar\": [{\"marker\": {\"line\": {\"color\": \"#E5ECF6\", \"width\": 0.5}}, \"type\": \"barpolar\"}], \"carpet\": [{\"aaxis\": {\"endlinecolor\": \"#2a3f5f\", \"gridcolor\": \"white\", \"linecolor\": \"white\", \"minorgridcolor\": \"white\", \"startlinecolor\": \"#2a3f5f\"}, \"baxis\": {\"endlinecolor\": \"#2a3f5f\", \"gridcolor\": \"white\", \"linecolor\": \"white\", \"minorgridcolor\": \"white\", \"startlinecolor\": \"#2a3f5f\"}, \"type\": \"carpet\"}], \"choropleth\": [{\"colorbar\": {\"outlinewidth\": 0, \"ticks\": \"\"}, \"type\": \"choropleth\"}], \"contour\": [{\"colorbar\": {\"outlinewidth\": 0, \"ticks\": \"\"}, \"colorscale\": [[0.0, \"#0d0887\"], [0.1111111111111111, \"#46039f\"], [0.2222222222222222, \"#7201a8\"], [0.3333333333333333, \"#9c179e\"], [0.4444444444444444, \"#bd3786\"], [0.5555555555555556, \"#d8576b\"], [0.6666666666666666, \"#ed7953\"], [0.7777777777777778, \"#fb9f3a\"], [0.8888888888888888, \"#fdca26\"], [1.0, \"#f0f921\"]], \"type\": \"contour\"}], \"contourcarpet\": [{\"colorbar\": {\"outlinewidth\": 0, \"ticks\": \"\"}, \"type\": \"contourcarpet\"}], \"heatmap\": [{\"colorbar\": {\"outlinewidth\": 0, \"ticks\": \"\"}, \"colorscale\": [[0.0, \"#0d0887\"], [0.1111111111111111, \"#46039f\"], [0.2222222222222222, \"#7201a8\"], [0.3333333333333333, \"#9c179e\"], [0.4444444444444444, \"#bd3786\"], [0.5555555555555556, \"#d8576b\"], [0.6666666666666666, \"#ed7953\"], [0.7777777777777778, \"#fb9f3a\"], [0.8888888888888888, \"#fdca26\"], [1.0, \"#f0f921\"]], \"type\": \"heatmap\"}], \"heatmapgl\": [{\"colorbar\": {\"outlinewidth\": 0, \"ticks\": \"\"}, \"colorscale\": [[0.0, \"#0d0887\"], [0.1111111111111111, \"#46039f\"], [0.2222222222222222, \"#7201a8\"], [0.3333333333333333, \"#9c179e\"], [0.4444444444444444, \"#bd3786\"], [0.5555555555555556, \"#d8576b\"], [0.6666666666666666, \"#ed7953\"], [0.7777777777777778, \"#fb9f3a\"], [0.8888888888888888, \"#fdca26\"], [1.0, \"#f0f921\"]], \"type\": \"heatmapgl\"}], \"histogram\": [{\"marker\": {\"colorbar\": {\"outlinewidth\": 0, \"ticks\": \"\"}}, \"type\": \"histogram\"}], \"histogram2d\": [{\"colorbar\": {\"outlinewidth\": 0, \"ticks\": \"\"}, \"colorscale\": [[0.0, \"#0d0887\"], [0.1111111111111111, \"#46039f\"], [0.2222222222222222, \"#7201a8\"], [0.3333333333333333, \"#9c179e\"], [0.4444444444444444, \"#bd3786\"], [0.5555555555555556, \"#d8576b\"], [0.6666666666666666, \"#ed7953\"], [0.7777777777777778, \"#fb9f3a\"], [0.8888888888888888, \"#fdca26\"], [1.0, \"#f0f921\"]], \"type\": \"histogram2d\"}], \"histogram2dcontour\": [{\"colorbar\": {\"outlinewidth\": 0, \"ticks\": \"\"}, \"colorscale\": [[0.0, \"#0d0887\"], [0.1111111111111111, \"#46039f\"], [0.2222222222222222, \"#7201a8\"], [0.3333333333333333, \"#9c179e\"], [0.4444444444444444, \"#bd3786\"], [0.5555555555555556, \"#d8576b\"], [0.6666666666666666, \"#ed7953\"], [0.7777777777777778, \"#fb9f3a\"], [0.8888888888888888, \"#fdca26\"], [1.0, \"#f0f921\"]], \"type\": \"histogram2dcontour\"}], \"mesh3d\": [{\"colorbar\": {\"outlinewidth\": 0, \"ticks\": \"\"}, \"type\": \"mesh3d\"}], \"parcoords\": [{\"line\": {\"colorbar\": {\"outlinewidth\": 0, \"ticks\": \"\"}}, \"type\": \"parcoords\"}], \"pie\": [{\"automargin\": true, \"type\": \"pie\"}], \"scatter\": [{\"marker\": {\"colorbar\": {\"outlinewidth\": 0, \"ticks\": \"\"}}, \"type\": \"scatter\"}], \"scatter3d\": [{\"line\": {\"colorbar\": {\"outlinewidth\": 0, \"ticks\": \"\"}}, \"marker\": {\"colorbar\": {\"outlinewidth\": 0, \"ticks\": \"\"}}, \"type\": \"scatter3d\"}], \"scattercarpet\": [{\"marker\": {\"colorbar\": {\"outlinewidth\": 0, \"ticks\": \"\"}}, \"type\": \"scattercarpet\"}], \"scattergeo\": [{\"marker\": {\"colorbar\": {\"outlinewidth\": 0, \"ticks\": \"\"}}, \"type\": \"scattergeo\"}], \"scattergl\": [{\"marker\": {\"colorbar\": {\"outlinewidth\": 0, \"ticks\": \"\"}}, \"type\": \"scattergl\"}], \"scattermapbox\": [{\"marker\": {\"colorbar\": {\"outlinewidth\": 0, \"ticks\": \"\"}}, \"type\": \"scattermapbox\"}], \"scatterpolar\": [{\"marker\": {\"colorbar\": {\"outlinewidth\": 0, \"ticks\": \"\"}}, \"type\": \"scatterpolar\"}], \"scatterpolargl\": [{\"marker\": {\"colorbar\": {\"outlinewidth\": 0, \"ticks\": \"\"}}, \"type\": \"scatterpolargl\"}], \"scatterternary\": [{\"marker\": {\"colorbar\": {\"outlinewidth\": 0, \"ticks\": \"\"}}, \"type\": \"scatterternary\"}], \"surface\": [{\"colorbar\": {\"outlinewidth\": 0, \"ticks\": \"\"}, \"colorscale\": [[0.0, \"#0d0887\"], [0.1111111111111111, \"#46039f\"], [0.2222222222222222, \"#7201a8\"], [0.3333333333333333, \"#9c179e\"], [0.4444444444444444, \"#bd3786\"], [0.5555555555555556, \"#d8576b\"], [0.6666666666666666, \"#ed7953\"], [0.7777777777777778, \"#fb9f3a\"], [0.8888888888888888, \"#fdca26\"], [1.0, \"#f0f921\"]], \"type\": \"surface\"}], \"table\": [{\"cells\": {\"fill\": {\"color\": \"#EBF0F8\"}, \"line\": {\"color\": \"white\"}}, \"header\": {\"fill\": {\"color\": \"#C8D4E3\"}, \"line\": {\"color\": \"white\"}}, \"type\": \"table\"}]}, \"layout\": {\"annotationdefaults\": {\"arrowcolor\": \"#2a3f5f\", \"arrowhead\": 0, \"arrowwidth\": 1}, \"autotypenumbers\": \"strict\", \"coloraxis\": {\"colorbar\": {\"outlinewidth\": 0, \"ticks\": \"\"}}, \"colorscale\": {\"diverging\": [[0, \"#8e0152\"], [0.1, \"#c51b7d\"], [0.2, \"#de77ae\"], [0.3, \"#f1b6da\"], [0.4, \"#fde0ef\"], [0.5, \"#f7f7f7\"], [0.6, \"#e6f5d0\"], [0.7, \"#b8e186\"], [0.8, \"#7fbc41\"], [0.9, \"#4d9221\"], [1, \"#276419\"]], \"sequential\": [[0.0, \"#0d0887\"], [0.1111111111111111, \"#46039f\"], [0.2222222222222222, \"#7201a8\"], [0.3333333333333333, \"#9c179e\"], [0.4444444444444444, \"#bd3786\"], [0.5555555555555556, \"#d8576b\"], [0.6666666666666666, \"#ed7953\"], [0.7777777777777778, \"#fb9f3a\"], [0.8888888888888888, \"#fdca26\"], [1.0, \"#f0f921\"]], \"sequentialminus\": [[0.0, \"#0d0887\"], [0.1111111111111111, \"#46039f\"], [0.2222222222222222, \"#7201a8\"], [0.3333333333333333, \"#9c179e\"], [0.4444444444444444, \"#bd3786\"], [0.5555555555555556, \"#d8576b\"], [0.6666666666666666, \"#ed7953\"], [0.7777777777777778, \"#fb9f3a\"], [0.8888888888888888, \"#fdca26\"], [1.0, \"#f0f921\"]]}, \"colorway\": [\"#636efa\", \"#EF553B\", \"#00cc96\", \"#ab63fa\", \"#FFA15A\", \"#19d3f3\", \"#FF6692\", \"#B6E880\", \"#FF97FF\", \"#FECB52\"], \"font\": {\"color\": \"#2a3f5f\"}, \"geo\": {\"bgcolor\": \"white\", \"lakecolor\": \"white\", \"landcolor\": \"#E5ECF6\", \"showlakes\": true, \"showland\": true, \"subunitcolor\": \"white\"}, \"hoverlabel\": {\"align\": \"left\"}, \"hovermode\": \"closest\", \"mapbox\": {\"style\": \"light\"}, \"paper_bgcolor\": \"white\", \"plot_bgcolor\": \"#E5ECF6\", \"polar\": {\"angularaxis\": {\"gridcolor\": \"white\", \"linecolor\": \"white\", \"ticks\": \"\"}, \"bgcolor\": \"#E5ECF6\", \"radialaxis\": {\"gridcolor\": \"white\", \"linecolor\": \"white\", \"ticks\": \"\"}}, \"scene\": {\"xaxis\": {\"backgroundcolor\": \"#E5ECF6\", \"gridcolor\": \"white\", \"gridwidth\": 2, \"linecolor\": \"white\", \"showbackground\": true, \"ticks\": \"\", \"zerolinecolor\": \"white\"}, \"yaxis\": {\"backgroundcolor\": \"#E5ECF6\", \"gridcolor\": \"white\", \"gridwidth\": 2, \"linecolor\": \"white\", \"showbackground\": true, \"ticks\": \"\", \"zerolinecolor\": \"white\"}, \"zaxis\": {\"backgroundcolor\": \"#E5ECF6\", \"gridcolor\": \"white\", \"gridwidth\": 2, \"linecolor\": \"white\", \"showbackground\": true, \"ticks\": \"\", \"zerolinecolor\": \"white\"}}, \"shapedefaults\": {\"line\": {\"color\": \"#2a3f5f\"}}, \"ternary\": {\"aaxis\": {\"gridcolor\": \"white\", \"linecolor\": \"white\", \"ticks\": \"\"}, \"baxis\": {\"gridcolor\": \"white\", \"linecolor\": \"white\", \"ticks\": \"\"}, \"bgcolor\": \"#E5ECF6\", \"caxis\": {\"gridcolor\": \"white\", \"linecolor\": \"white\", \"ticks\": \"\"}}, \"title\": {\"x\": 0.05}, \"xaxis\": {\"automargin\": true, \"gridcolor\": \"white\", \"linecolor\": \"white\", \"ticks\": \"\", \"title\": {\"standoff\": 15}, \"zerolinecolor\": \"white\", \"zerolinewidth\": 2}, \"yaxis\": {\"automargin\": true, \"gridcolor\": \"white\", \"linecolor\": \"white\", \"ticks\": \"\", \"title\": {\"standoff\": 15}, \"zerolinecolor\": \"white\", \"zerolinewidth\": 2}}}, \"title\": {\"font\": {\"family\": \"Verdana\"}, \"text\": \"Spending on Food from Salary\"}, \"xaxis\": {\"anchor\": \"y\", \"domain\": [0.0, 1.0], \"title\": {\"text\": \"Borough\"}}, \"yaxis\": {\"anchor\": \"x\", \"domain\": [0.0, 1.0], \"tickformat\": \"%\", \"title\": {\"text\": \"% of Salary Spent on Food\"}}},                        {\"responsive\": true}                    ).then(function(){\n",
       "                            \n",
       "var gd = document.getElementById('0cd76669-3cd3-44e9-9afb-6751e1993426');\n",
       "var x = new MutationObserver(function (mutations, observer) {{\n",
       "        var display = window.getComputedStyle(gd).display;\n",
       "        if (!display || display === 'none') {{\n",
       "            console.log([gd, 'removed!']);\n",
       "            Plotly.purge(gd);\n",
       "            observer.disconnect();\n",
       "        }}\n",
       "}});\n",
       "\n",
       "// Listen for the removal of the full notebook cells\n",
       "var notebookContainer = gd.closest('#notebook-container');\n",
       "if (notebookContainer) {{\n",
       "    x.observe(notebookContainer, {childList: true});\n",
       "}}\n",
       "\n",
       "// Listen for the clearing of the current output cell\n",
       "var outputEl = gd.closest('.output');\n",
       "if (outputEl) {{\n",
       "    x.observe(outputEl, {childList: true});\n",
       "}}\n",
       "\n",
       "                        })                };                });            </script>        </div>"
      ]
     },
     "metadata": {},
     "output_type": "display_data"
    }
   ],
   "source": [
    "# how much each person spends on food at restaurants divided by average salary\n",
    "DAYS_IN_QUARTER = 91.25 # CONSTANT to indicate how many days are in each quarter\n",
    "df['spending_per_diner'] = (df['Total Restaurant Revenue'] / ( df[\"Averages Diner's Per Night\"] * DAYS_IN_QUARTER )) / df['Average Resident Salary'] \n",
    "spending_per_diner2 = df.groupby('Borough')['spending_per_diner'].mean().round(4)\n",
    "spending_per_diner2\n",
    "\n",
    "fig4 = px.bar(x=x, y=spending_per_diner2, labels={'x': 'Borough', 'y':'% of Salary Spent on Food'},\n",
    "             color=x, title='Spending on Food from Salary')\n",
    "layout(fig4, '%')"
   ]
  },
  {
   "cell_type": "code",
   "execution_count": 20,
   "metadata": {},
   "outputs": [
    {
     "data": {
      "text/plain": [
       "Borough\n",
       "Bronx       0.00183\n",
       "Brooklyn    0.00089\n",
       "Manhattan   0.00083\n",
       "Queens      0.00082\n",
       "Name: consumer_choice, dtype: float64"
      ]
     },
     "execution_count": 20,
     "metadata": {},
     "output_type": "execute_result"
    },
    {
     "data": {
      "application/vnd.plotly.v1+json": {
       "config": {
        "plotlyServerURL": "https://plot.ly"
       },
       "data": [
        {
         "alignmentgroup": "True",
         "hovertemplate": "color=Bronx<br>Borough=%{x}<br>Restaurants=%{y}<extra></extra>",
         "legendgroup": "Bronx",
         "marker": {
          "color": "#636efa"
         },
         "name": "Bronx",
         "offsetgroup": "Bronx",
         "orientation": "v",
         "showlegend": true,
         "textposition": "auto",
         "type": "bar",
         "x": [
          "Bronx"
         ],
         "xaxis": "x",
         "y": [
          0.001829650992655927
         ],
         "yaxis": "y"
        },
        {
         "alignmentgroup": "True",
         "hovertemplate": "color=Brooklyn<br>Borough=%{x}<br>Restaurants=%{y}<extra></extra>",
         "legendgroup": "Brooklyn",
         "marker": {
          "color": "#EF553B"
         },
         "name": "Brooklyn",
         "offsetgroup": "Brooklyn",
         "orientation": "v",
         "showlegend": true,
         "textposition": "auto",
         "type": "bar",
         "x": [
          "Brooklyn"
         ],
         "xaxis": "x",
         "y": [
          0.0008862884171355512
         ],
         "yaxis": "y"
        },
        {
         "alignmentgroup": "True",
         "hovertemplate": "color=Manhattan<br>Borough=%{x}<br>Restaurants=%{y}<extra></extra>",
         "legendgroup": "Manhattan",
         "marker": {
          "color": "#00cc96"
         },
         "name": "Manhattan",
         "offsetgroup": "Manhattan",
         "orientation": "v",
         "showlegend": true,
         "textposition": "auto",
         "type": "bar",
         "x": [
          "Manhattan"
         ],
         "xaxis": "x",
         "y": [
          0.0008325816017609852
         ],
         "yaxis": "y"
        },
        {
         "alignmentgroup": "True",
         "hovertemplate": "color=Queens<br>Borough=%{x}<br>Restaurants=%{y}<extra></extra>",
         "legendgroup": "Queens",
         "marker": {
          "color": "#ab63fa"
         },
         "name": "Queens",
         "offsetgroup": "Queens",
         "orientation": "v",
         "showlegend": true,
         "textposition": "auto",
         "type": "bar",
         "x": [
          "Queens"
         ],
         "xaxis": "x",
         "y": [
          0.0008238921313878475
         ],
         "yaxis": "y"
        }
       ],
       "layout": {
        "barmode": "relative",
        "font": {
         "color": "White",
         "family": "Verdana",
         "size": 13
        },
        "legend": {
         "title": {
          "text": "color"
         },
         "tracegroupgap": 0
        },
        "paper_bgcolor": "#374C60",
        "plot_bgcolor": "#eee",
        "template": {
         "data": {
          "bar": [
           {
            "error_x": {
             "color": "#2a3f5f"
            },
            "error_y": {
             "color": "#2a3f5f"
            },
            "marker": {
             "line": {
              "color": "#E5ECF6",
              "width": 0.5
             }
            },
            "type": "bar"
           }
          ],
          "barpolar": [
           {
            "marker": {
             "line": {
              "color": "#E5ECF6",
              "width": 0.5
             }
            },
            "type": "barpolar"
           }
          ],
          "carpet": [
           {
            "aaxis": {
             "endlinecolor": "#2a3f5f",
             "gridcolor": "white",
             "linecolor": "white",
             "minorgridcolor": "white",
             "startlinecolor": "#2a3f5f"
            },
            "baxis": {
             "endlinecolor": "#2a3f5f",
             "gridcolor": "white",
             "linecolor": "white",
             "minorgridcolor": "white",
             "startlinecolor": "#2a3f5f"
            },
            "type": "carpet"
           }
          ],
          "choropleth": [
           {
            "colorbar": {
             "outlinewidth": 0,
             "ticks": ""
            },
            "type": "choropleth"
           }
          ],
          "contour": [
           {
            "colorbar": {
             "outlinewidth": 0,
             "ticks": ""
            },
            "colorscale": [
             [
              0,
              "#0d0887"
             ],
             [
              0.1111111111111111,
              "#46039f"
             ],
             [
              0.2222222222222222,
              "#7201a8"
             ],
             [
              0.3333333333333333,
              "#9c179e"
             ],
             [
              0.4444444444444444,
              "#bd3786"
             ],
             [
              0.5555555555555556,
              "#d8576b"
             ],
             [
              0.6666666666666666,
              "#ed7953"
             ],
             [
              0.7777777777777778,
              "#fb9f3a"
             ],
             [
              0.8888888888888888,
              "#fdca26"
             ],
             [
              1,
              "#f0f921"
             ]
            ],
            "type": "contour"
           }
          ],
          "contourcarpet": [
           {
            "colorbar": {
             "outlinewidth": 0,
             "ticks": ""
            },
            "type": "contourcarpet"
           }
          ],
          "heatmap": [
           {
            "colorbar": {
             "outlinewidth": 0,
             "ticks": ""
            },
            "colorscale": [
             [
              0,
              "#0d0887"
             ],
             [
              0.1111111111111111,
              "#46039f"
             ],
             [
              0.2222222222222222,
              "#7201a8"
             ],
             [
              0.3333333333333333,
              "#9c179e"
             ],
             [
              0.4444444444444444,
              "#bd3786"
             ],
             [
              0.5555555555555556,
              "#d8576b"
             ],
             [
              0.6666666666666666,
              "#ed7953"
             ],
             [
              0.7777777777777778,
              "#fb9f3a"
             ],
             [
              0.8888888888888888,
              "#fdca26"
             ],
             [
              1,
              "#f0f921"
             ]
            ],
            "type": "heatmap"
           }
          ],
          "heatmapgl": [
           {
            "colorbar": {
             "outlinewidth": 0,
             "ticks": ""
            },
            "colorscale": [
             [
              0,
              "#0d0887"
             ],
             [
              0.1111111111111111,
              "#46039f"
             ],
             [
              0.2222222222222222,
              "#7201a8"
             ],
             [
              0.3333333333333333,
              "#9c179e"
             ],
             [
              0.4444444444444444,
              "#bd3786"
             ],
             [
              0.5555555555555556,
              "#d8576b"
             ],
             [
              0.6666666666666666,
              "#ed7953"
             ],
             [
              0.7777777777777778,
              "#fb9f3a"
             ],
             [
              0.8888888888888888,
              "#fdca26"
             ],
             [
              1,
              "#f0f921"
             ]
            ],
            "type": "heatmapgl"
           }
          ],
          "histogram": [
           {
            "marker": {
             "colorbar": {
              "outlinewidth": 0,
              "ticks": ""
             }
            },
            "type": "histogram"
           }
          ],
          "histogram2d": [
           {
            "colorbar": {
             "outlinewidth": 0,
             "ticks": ""
            },
            "colorscale": [
             [
              0,
              "#0d0887"
             ],
             [
              0.1111111111111111,
              "#46039f"
             ],
             [
              0.2222222222222222,
              "#7201a8"
             ],
             [
              0.3333333333333333,
              "#9c179e"
             ],
             [
              0.4444444444444444,
              "#bd3786"
             ],
             [
              0.5555555555555556,
              "#d8576b"
             ],
             [
              0.6666666666666666,
              "#ed7953"
             ],
             [
              0.7777777777777778,
              "#fb9f3a"
             ],
             [
              0.8888888888888888,
              "#fdca26"
             ],
             [
              1,
              "#f0f921"
             ]
            ],
            "type": "histogram2d"
           }
          ],
          "histogram2dcontour": [
           {
            "colorbar": {
             "outlinewidth": 0,
             "ticks": ""
            },
            "colorscale": [
             [
              0,
              "#0d0887"
             ],
             [
              0.1111111111111111,
              "#46039f"
             ],
             [
              0.2222222222222222,
              "#7201a8"
             ],
             [
              0.3333333333333333,
              "#9c179e"
             ],
             [
              0.4444444444444444,
              "#bd3786"
             ],
             [
              0.5555555555555556,
              "#d8576b"
             ],
             [
              0.6666666666666666,
              "#ed7953"
             ],
             [
              0.7777777777777778,
              "#fb9f3a"
             ],
             [
              0.8888888888888888,
              "#fdca26"
             ],
             [
              1,
              "#f0f921"
             ]
            ],
            "type": "histogram2dcontour"
           }
          ],
          "mesh3d": [
           {
            "colorbar": {
             "outlinewidth": 0,
             "ticks": ""
            },
            "type": "mesh3d"
           }
          ],
          "parcoords": [
           {
            "line": {
             "colorbar": {
              "outlinewidth": 0,
              "ticks": ""
             }
            },
            "type": "parcoords"
           }
          ],
          "pie": [
           {
            "automargin": true,
            "type": "pie"
           }
          ],
          "scatter": [
           {
            "marker": {
             "colorbar": {
              "outlinewidth": 0,
              "ticks": ""
             }
            },
            "type": "scatter"
           }
          ],
          "scatter3d": [
           {
            "line": {
             "colorbar": {
              "outlinewidth": 0,
              "ticks": ""
             }
            },
            "marker": {
             "colorbar": {
              "outlinewidth": 0,
              "ticks": ""
             }
            },
            "type": "scatter3d"
           }
          ],
          "scattercarpet": [
           {
            "marker": {
             "colorbar": {
              "outlinewidth": 0,
              "ticks": ""
             }
            },
            "type": "scattercarpet"
           }
          ],
          "scattergeo": [
           {
            "marker": {
             "colorbar": {
              "outlinewidth": 0,
              "ticks": ""
             }
            },
            "type": "scattergeo"
           }
          ],
          "scattergl": [
           {
            "marker": {
             "colorbar": {
              "outlinewidth": 0,
              "ticks": ""
             }
            },
            "type": "scattergl"
           }
          ],
          "scattermapbox": [
           {
            "marker": {
             "colorbar": {
              "outlinewidth": 0,
              "ticks": ""
             }
            },
            "type": "scattermapbox"
           }
          ],
          "scatterpolar": [
           {
            "marker": {
             "colorbar": {
              "outlinewidth": 0,
              "ticks": ""
             }
            },
            "type": "scatterpolar"
           }
          ],
          "scatterpolargl": [
           {
            "marker": {
             "colorbar": {
              "outlinewidth": 0,
              "ticks": ""
             }
            },
            "type": "scatterpolargl"
           }
          ],
          "scatterternary": [
           {
            "marker": {
             "colorbar": {
              "outlinewidth": 0,
              "ticks": ""
             }
            },
            "type": "scatterternary"
           }
          ],
          "surface": [
           {
            "colorbar": {
             "outlinewidth": 0,
             "ticks": ""
            },
            "colorscale": [
             [
              0,
              "#0d0887"
             ],
             [
              0.1111111111111111,
              "#46039f"
             ],
             [
              0.2222222222222222,
              "#7201a8"
             ],
             [
              0.3333333333333333,
              "#9c179e"
             ],
             [
              0.4444444444444444,
              "#bd3786"
             ],
             [
              0.5555555555555556,
              "#d8576b"
             ],
             [
              0.6666666666666666,
              "#ed7953"
             ],
             [
              0.7777777777777778,
              "#fb9f3a"
             ],
             [
              0.8888888888888888,
              "#fdca26"
             ],
             [
              1,
              "#f0f921"
             ]
            ],
            "type": "surface"
           }
          ],
          "table": [
           {
            "cells": {
             "fill": {
              "color": "#EBF0F8"
             },
             "line": {
              "color": "white"
             }
            },
            "header": {
             "fill": {
              "color": "#C8D4E3"
             },
             "line": {
              "color": "white"
             }
            },
            "type": "table"
           }
          ]
         },
         "layout": {
          "annotationdefaults": {
           "arrowcolor": "#2a3f5f",
           "arrowhead": 0,
           "arrowwidth": 1
          },
          "autotypenumbers": "strict",
          "coloraxis": {
           "colorbar": {
            "outlinewidth": 0,
            "ticks": ""
           }
          },
          "colorscale": {
           "diverging": [
            [
             0,
             "#8e0152"
            ],
            [
             0.1,
             "#c51b7d"
            ],
            [
             0.2,
             "#de77ae"
            ],
            [
             0.3,
             "#f1b6da"
            ],
            [
             0.4,
             "#fde0ef"
            ],
            [
             0.5,
             "#f7f7f7"
            ],
            [
             0.6,
             "#e6f5d0"
            ],
            [
             0.7,
             "#b8e186"
            ],
            [
             0.8,
             "#7fbc41"
            ],
            [
             0.9,
             "#4d9221"
            ],
            [
             1,
             "#276419"
            ]
           ],
           "sequential": [
            [
             0,
             "#0d0887"
            ],
            [
             0.1111111111111111,
             "#46039f"
            ],
            [
             0.2222222222222222,
             "#7201a8"
            ],
            [
             0.3333333333333333,
             "#9c179e"
            ],
            [
             0.4444444444444444,
             "#bd3786"
            ],
            [
             0.5555555555555556,
             "#d8576b"
            ],
            [
             0.6666666666666666,
             "#ed7953"
            ],
            [
             0.7777777777777778,
             "#fb9f3a"
            ],
            [
             0.8888888888888888,
             "#fdca26"
            ],
            [
             1,
             "#f0f921"
            ]
           ],
           "sequentialminus": [
            [
             0,
             "#0d0887"
            ],
            [
             0.1111111111111111,
             "#46039f"
            ],
            [
             0.2222222222222222,
             "#7201a8"
            ],
            [
             0.3333333333333333,
             "#9c179e"
            ],
            [
             0.4444444444444444,
             "#bd3786"
            ],
            [
             0.5555555555555556,
             "#d8576b"
            ],
            [
             0.6666666666666666,
             "#ed7953"
            ],
            [
             0.7777777777777778,
             "#fb9f3a"
            ],
            [
             0.8888888888888888,
             "#fdca26"
            ],
            [
             1,
             "#f0f921"
            ]
           ]
          },
          "colorway": [
           "#636efa",
           "#EF553B",
           "#00cc96",
           "#ab63fa",
           "#FFA15A",
           "#19d3f3",
           "#FF6692",
           "#B6E880",
           "#FF97FF",
           "#FECB52"
          ],
          "font": {
           "color": "#2a3f5f"
          },
          "geo": {
           "bgcolor": "white",
           "lakecolor": "white",
           "landcolor": "#E5ECF6",
           "showlakes": true,
           "showland": true,
           "subunitcolor": "white"
          },
          "hoverlabel": {
           "align": "left"
          },
          "hovermode": "closest",
          "mapbox": {
           "style": "light"
          },
          "paper_bgcolor": "white",
          "plot_bgcolor": "#E5ECF6",
          "polar": {
           "angularaxis": {
            "gridcolor": "white",
            "linecolor": "white",
            "ticks": ""
           },
           "bgcolor": "#E5ECF6",
           "radialaxis": {
            "gridcolor": "white",
            "linecolor": "white",
            "ticks": ""
           }
          },
          "scene": {
           "xaxis": {
            "backgroundcolor": "#E5ECF6",
            "gridcolor": "white",
            "gridwidth": 2,
            "linecolor": "white",
            "showbackground": true,
            "ticks": "",
            "zerolinecolor": "white"
           },
           "yaxis": {
            "backgroundcolor": "#E5ECF6",
            "gridcolor": "white",
            "gridwidth": 2,
            "linecolor": "white",
            "showbackground": true,
            "ticks": "",
            "zerolinecolor": "white"
           },
           "zaxis": {
            "backgroundcolor": "#E5ECF6",
            "gridcolor": "white",
            "gridwidth": 2,
            "linecolor": "white",
            "showbackground": true,
            "ticks": "",
            "zerolinecolor": "white"
           }
          },
          "shapedefaults": {
           "line": {
            "color": "#2a3f5f"
           }
          },
          "ternary": {
           "aaxis": {
            "gridcolor": "white",
            "linecolor": "white",
            "ticks": ""
           },
           "baxis": {
            "gridcolor": "white",
            "linecolor": "white",
            "ticks": ""
           },
           "bgcolor": "#E5ECF6",
           "caxis": {
            "gridcolor": "white",
            "linecolor": "white",
            "ticks": ""
           }
          },
          "title": {
           "x": 0.05
          },
          "xaxis": {
           "automargin": true,
           "gridcolor": "white",
           "linecolor": "white",
           "ticks": "",
           "title": {
            "standoff": 15
           },
           "zerolinecolor": "white",
           "zerolinewidth": 2
          },
          "yaxis": {
           "automargin": true,
           "gridcolor": "white",
           "linecolor": "white",
           "ticks": "",
           "title": {
            "standoff": 15
           },
           "zerolinecolor": "white",
           "zerolinewidth": 2
          }
         }
        },
        "title": {
         "font": {
          "family": "Verdana"
         },
         "text": "Restaurants Per Person"
        },
        "xaxis": {
         "anchor": "y",
         "domain": [
          0,
          1
         ],
         "title": {
          "text": "Borough"
         }
        },
        "yaxis": {
         "anchor": "x",
         "domain": [
          0,
          1
         ],
         "tickprefix": "",
         "title": {
          "text": "Restaurants"
         }
        }
       }
      },
      "text/html": [
       "<div>                            <div id=\"ccacc857-78c5-4994-84d7-f82dfad495f5\" class=\"plotly-graph-div\" style=\"height:525px; width:100%;\"></div>            <script type=\"text/javascript\">                require([\"plotly\"], function(Plotly) {                    window.PLOTLYENV=window.PLOTLYENV || {};                                    if (document.getElementById(\"ccacc857-78c5-4994-84d7-f82dfad495f5\")) {                    Plotly.newPlot(                        \"ccacc857-78c5-4994-84d7-f82dfad495f5\",                        [{\"alignmentgroup\": \"True\", \"hovertemplate\": \"color=Bronx<br>Borough=%{x}<br>Restaurants=%{y}<extra></extra>\", \"legendgroup\": \"Bronx\", \"marker\": {\"color\": \"#636efa\"}, \"name\": \"Bronx\", \"offsetgroup\": \"Bronx\", \"orientation\": \"v\", \"showlegend\": true, \"textposition\": \"auto\", \"type\": \"bar\", \"x\": [\"Bronx\"], \"xaxis\": \"x\", \"y\": [0.001829650992655927], \"yaxis\": \"y\"}, {\"alignmentgroup\": \"True\", \"hovertemplate\": \"color=Brooklyn<br>Borough=%{x}<br>Restaurants=%{y}<extra></extra>\", \"legendgroup\": \"Brooklyn\", \"marker\": {\"color\": \"#EF553B\"}, \"name\": \"Brooklyn\", \"offsetgroup\": \"Brooklyn\", \"orientation\": \"v\", \"showlegend\": true, \"textposition\": \"auto\", \"type\": \"bar\", \"x\": [\"Brooklyn\"], \"xaxis\": \"x\", \"y\": [0.0008862884171355512], \"yaxis\": \"y\"}, {\"alignmentgroup\": \"True\", \"hovertemplate\": \"color=Manhattan<br>Borough=%{x}<br>Restaurants=%{y}<extra></extra>\", \"legendgroup\": \"Manhattan\", \"marker\": {\"color\": \"#00cc96\"}, \"name\": \"Manhattan\", \"offsetgroup\": \"Manhattan\", \"orientation\": \"v\", \"showlegend\": true, \"textposition\": \"auto\", \"type\": \"bar\", \"x\": [\"Manhattan\"], \"xaxis\": \"x\", \"y\": [0.0008325816017609852], \"yaxis\": \"y\"}, {\"alignmentgroup\": \"True\", \"hovertemplate\": \"color=Queens<br>Borough=%{x}<br>Restaurants=%{y}<extra></extra>\", \"legendgroup\": \"Queens\", \"marker\": {\"color\": \"#ab63fa\"}, \"name\": \"Queens\", \"offsetgroup\": \"Queens\", \"orientation\": \"v\", \"showlegend\": true, \"textposition\": \"auto\", \"type\": \"bar\", \"x\": [\"Queens\"], \"xaxis\": \"x\", \"y\": [0.0008238921313878475], \"yaxis\": \"y\"}],                        {\"barmode\": \"relative\", \"font\": {\"color\": \"White\", \"family\": \"Verdana\", \"size\": 13}, \"legend\": {\"title\": {\"text\": \"color\"}, \"tracegroupgap\": 0}, \"paper_bgcolor\": \"#374C60\", \"plot_bgcolor\": \"#eee\", \"template\": {\"data\": {\"bar\": [{\"error_x\": {\"color\": \"#2a3f5f\"}, \"error_y\": {\"color\": \"#2a3f5f\"}, \"marker\": {\"line\": {\"color\": \"#E5ECF6\", \"width\": 0.5}}, \"type\": \"bar\"}], \"barpolar\": [{\"marker\": {\"line\": {\"color\": \"#E5ECF6\", \"width\": 0.5}}, \"type\": \"barpolar\"}], \"carpet\": [{\"aaxis\": {\"endlinecolor\": \"#2a3f5f\", \"gridcolor\": \"white\", \"linecolor\": \"white\", \"minorgridcolor\": \"white\", \"startlinecolor\": \"#2a3f5f\"}, \"baxis\": {\"endlinecolor\": \"#2a3f5f\", \"gridcolor\": \"white\", \"linecolor\": \"white\", \"minorgridcolor\": \"white\", \"startlinecolor\": \"#2a3f5f\"}, \"type\": \"carpet\"}], \"choropleth\": [{\"colorbar\": {\"outlinewidth\": 0, \"ticks\": \"\"}, \"type\": \"choropleth\"}], \"contour\": [{\"colorbar\": {\"outlinewidth\": 0, \"ticks\": \"\"}, \"colorscale\": [[0.0, \"#0d0887\"], [0.1111111111111111, \"#46039f\"], [0.2222222222222222, \"#7201a8\"], [0.3333333333333333, \"#9c179e\"], [0.4444444444444444, \"#bd3786\"], [0.5555555555555556, \"#d8576b\"], [0.6666666666666666, \"#ed7953\"], [0.7777777777777778, \"#fb9f3a\"], [0.8888888888888888, \"#fdca26\"], [1.0, \"#f0f921\"]], \"type\": \"contour\"}], \"contourcarpet\": [{\"colorbar\": {\"outlinewidth\": 0, \"ticks\": \"\"}, \"type\": \"contourcarpet\"}], \"heatmap\": [{\"colorbar\": {\"outlinewidth\": 0, \"ticks\": \"\"}, \"colorscale\": [[0.0, \"#0d0887\"], [0.1111111111111111, \"#46039f\"], [0.2222222222222222, \"#7201a8\"], [0.3333333333333333, \"#9c179e\"], [0.4444444444444444, \"#bd3786\"], [0.5555555555555556, \"#d8576b\"], [0.6666666666666666, \"#ed7953\"], [0.7777777777777778, \"#fb9f3a\"], [0.8888888888888888, \"#fdca26\"], [1.0, \"#f0f921\"]], \"type\": \"heatmap\"}], \"heatmapgl\": [{\"colorbar\": {\"outlinewidth\": 0, \"ticks\": \"\"}, \"colorscale\": [[0.0, \"#0d0887\"], [0.1111111111111111, \"#46039f\"], [0.2222222222222222, \"#7201a8\"], [0.3333333333333333, \"#9c179e\"], [0.4444444444444444, \"#bd3786\"], [0.5555555555555556, \"#d8576b\"], [0.6666666666666666, \"#ed7953\"], [0.7777777777777778, \"#fb9f3a\"], [0.8888888888888888, \"#fdca26\"], [1.0, \"#f0f921\"]], \"type\": \"heatmapgl\"}], \"histogram\": [{\"marker\": {\"colorbar\": {\"outlinewidth\": 0, \"ticks\": \"\"}}, \"type\": \"histogram\"}], \"histogram2d\": [{\"colorbar\": {\"outlinewidth\": 0, \"ticks\": \"\"}, \"colorscale\": [[0.0, \"#0d0887\"], [0.1111111111111111, \"#46039f\"], [0.2222222222222222, \"#7201a8\"], [0.3333333333333333, \"#9c179e\"], [0.4444444444444444, \"#bd3786\"], [0.5555555555555556, \"#d8576b\"], [0.6666666666666666, \"#ed7953\"], [0.7777777777777778, \"#fb9f3a\"], [0.8888888888888888, \"#fdca26\"], [1.0, \"#f0f921\"]], \"type\": \"histogram2d\"}], \"histogram2dcontour\": [{\"colorbar\": {\"outlinewidth\": 0, \"ticks\": \"\"}, \"colorscale\": [[0.0, \"#0d0887\"], [0.1111111111111111, \"#46039f\"], [0.2222222222222222, \"#7201a8\"], [0.3333333333333333, \"#9c179e\"], [0.4444444444444444, \"#bd3786\"], [0.5555555555555556, \"#d8576b\"], [0.6666666666666666, \"#ed7953\"], [0.7777777777777778, \"#fb9f3a\"], [0.8888888888888888, \"#fdca26\"], [1.0, \"#f0f921\"]], \"type\": \"histogram2dcontour\"}], \"mesh3d\": [{\"colorbar\": {\"outlinewidth\": 0, \"ticks\": \"\"}, \"type\": \"mesh3d\"}], \"parcoords\": [{\"line\": {\"colorbar\": {\"outlinewidth\": 0, \"ticks\": \"\"}}, \"type\": \"parcoords\"}], \"pie\": [{\"automargin\": true, \"type\": \"pie\"}], \"scatter\": [{\"marker\": {\"colorbar\": {\"outlinewidth\": 0, \"ticks\": \"\"}}, \"type\": \"scatter\"}], \"scatter3d\": [{\"line\": {\"colorbar\": {\"outlinewidth\": 0, \"ticks\": \"\"}}, \"marker\": {\"colorbar\": {\"outlinewidth\": 0, \"ticks\": \"\"}}, \"type\": \"scatter3d\"}], \"scattercarpet\": [{\"marker\": {\"colorbar\": {\"outlinewidth\": 0, \"ticks\": \"\"}}, \"type\": \"scattercarpet\"}], \"scattergeo\": [{\"marker\": {\"colorbar\": {\"outlinewidth\": 0, \"ticks\": \"\"}}, \"type\": \"scattergeo\"}], \"scattergl\": [{\"marker\": {\"colorbar\": {\"outlinewidth\": 0, \"ticks\": \"\"}}, \"type\": \"scattergl\"}], \"scattermapbox\": [{\"marker\": {\"colorbar\": {\"outlinewidth\": 0, \"ticks\": \"\"}}, \"type\": \"scattermapbox\"}], \"scatterpolar\": [{\"marker\": {\"colorbar\": {\"outlinewidth\": 0, \"ticks\": \"\"}}, \"type\": \"scatterpolar\"}], \"scatterpolargl\": [{\"marker\": {\"colorbar\": {\"outlinewidth\": 0, \"ticks\": \"\"}}, \"type\": \"scatterpolargl\"}], \"scatterternary\": [{\"marker\": {\"colorbar\": {\"outlinewidth\": 0, \"ticks\": \"\"}}, \"type\": \"scatterternary\"}], \"surface\": [{\"colorbar\": {\"outlinewidth\": 0, \"ticks\": \"\"}, \"colorscale\": [[0.0, \"#0d0887\"], [0.1111111111111111, \"#46039f\"], [0.2222222222222222, \"#7201a8\"], [0.3333333333333333, \"#9c179e\"], [0.4444444444444444, \"#bd3786\"], [0.5555555555555556, \"#d8576b\"], [0.6666666666666666, \"#ed7953\"], [0.7777777777777778, \"#fb9f3a\"], [0.8888888888888888, \"#fdca26\"], [1.0, \"#f0f921\"]], \"type\": \"surface\"}], \"table\": [{\"cells\": {\"fill\": {\"color\": \"#EBF0F8\"}, \"line\": {\"color\": \"white\"}}, \"header\": {\"fill\": {\"color\": \"#C8D4E3\"}, \"line\": {\"color\": \"white\"}}, \"type\": \"table\"}]}, \"layout\": {\"annotationdefaults\": {\"arrowcolor\": \"#2a3f5f\", \"arrowhead\": 0, \"arrowwidth\": 1}, \"autotypenumbers\": \"strict\", \"coloraxis\": {\"colorbar\": {\"outlinewidth\": 0, \"ticks\": \"\"}}, \"colorscale\": {\"diverging\": [[0, \"#8e0152\"], [0.1, \"#c51b7d\"], [0.2, \"#de77ae\"], [0.3, \"#f1b6da\"], [0.4, \"#fde0ef\"], [0.5, \"#f7f7f7\"], [0.6, \"#e6f5d0\"], [0.7, \"#b8e186\"], [0.8, \"#7fbc41\"], [0.9, \"#4d9221\"], [1, \"#276419\"]], \"sequential\": [[0.0, \"#0d0887\"], [0.1111111111111111, \"#46039f\"], [0.2222222222222222, \"#7201a8\"], [0.3333333333333333, \"#9c179e\"], [0.4444444444444444, \"#bd3786\"], [0.5555555555555556, \"#d8576b\"], [0.6666666666666666, \"#ed7953\"], [0.7777777777777778, \"#fb9f3a\"], [0.8888888888888888, \"#fdca26\"], [1.0, \"#f0f921\"]], \"sequentialminus\": [[0.0, \"#0d0887\"], [0.1111111111111111, \"#46039f\"], [0.2222222222222222, \"#7201a8\"], [0.3333333333333333, \"#9c179e\"], [0.4444444444444444, \"#bd3786\"], [0.5555555555555556, \"#d8576b\"], [0.6666666666666666, \"#ed7953\"], [0.7777777777777778, \"#fb9f3a\"], [0.8888888888888888, \"#fdca26\"], [1.0, \"#f0f921\"]]}, \"colorway\": [\"#636efa\", \"#EF553B\", \"#00cc96\", \"#ab63fa\", \"#FFA15A\", \"#19d3f3\", \"#FF6692\", \"#B6E880\", \"#FF97FF\", \"#FECB52\"], \"font\": {\"color\": \"#2a3f5f\"}, \"geo\": {\"bgcolor\": \"white\", \"lakecolor\": \"white\", \"landcolor\": \"#E5ECF6\", \"showlakes\": true, \"showland\": true, \"subunitcolor\": \"white\"}, \"hoverlabel\": {\"align\": \"left\"}, \"hovermode\": \"closest\", \"mapbox\": {\"style\": \"light\"}, \"paper_bgcolor\": \"white\", \"plot_bgcolor\": \"#E5ECF6\", \"polar\": {\"angularaxis\": {\"gridcolor\": \"white\", \"linecolor\": \"white\", \"ticks\": \"\"}, \"bgcolor\": \"#E5ECF6\", \"radialaxis\": {\"gridcolor\": \"white\", \"linecolor\": \"white\", \"ticks\": \"\"}}, \"scene\": {\"xaxis\": {\"backgroundcolor\": \"#E5ECF6\", \"gridcolor\": \"white\", \"gridwidth\": 2, \"linecolor\": \"white\", \"showbackground\": true, \"ticks\": \"\", \"zerolinecolor\": \"white\"}, \"yaxis\": {\"backgroundcolor\": \"#E5ECF6\", \"gridcolor\": \"white\", \"gridwidth\": 2, \"linecolor\": \"white\", \"showbackground\": true, \"ticks\": \"\", \"zerolinecolor\": \"white\"}, \"zaxis\": {\"backgroundcolor\": \"#E5ECF6\", \"gridcolor\": \"white\", \"gridwidth\": 2, \"linecolor\": \"white\", \"showbackground\": true, \"ticks\": \"\", \"zerolinecolor\": \"white\"}}, \"shapedefaults\": {\"line\": {\"color\": \"#2a3f5f\"}}, \"ternary\": {\"aaxis\": {\"gridcolor\": \"white\", \"linecolor\": \"white\", \"ticks\": \"\"}, \"baxis\": {\"gridcolor\": \"white\", \"linecolor\": \"white\", \"ticks\": \"\"}, \"bgcolor\": \"#E5ECF6\", \"caxis\": {\"gridcolor\": \"white\", \"linecolor\": \"white\", \"ticks\": \"\"}}, \"title\": {\"x\": 0.05}, \"xaxis\": {\"automargin\": true, \"gridcolor\": \"white\", \"linecolor\": \"white\", \"ticks\": \"\", \"title\": {\"standoff\": 15}, \"zerolinecolor\": \"white\", \"zerolinewidth\": 2}, \"yaxis\": {\"automargin\": true, \"gridcolor\": \"white\", \"linecolor\": \"white\", \"ticks\": \"\", \"title\": {\"standoff\": 15}, \"zerolinecolor\": \"white\", \"zerolinewidth\": 2}}}, \"title\": {\"font\": {\"family\": \"Verdana\"}, \"text\": \"Restaurants Per Person\"}, \"xaxis\": {\"anchor\": \"y\", \"domain\": [0.0, 1.0], \"title\": {\"text\": \"Borough\"}}, \"yaxis\": {\"anchor\": \"x\", \"domain\": [0.0, 1.0], \"tickprefix\": \"\", \"title\": {\"text\": \"Restaurants\"}}},                        {\"responsive\": true}                    ).then(function(){\n",
       "                            \n",
       "var gd = document.getElementById('ccacc857-78c5-4994-84d7-f82dfad495f5');\n",
       "var x = new MutationObserver(function (mutations, observer) {{\n",
       "        var display = window.getComputedStyle(gd).display;\n",
       "        if (!display || display === 'none') {{\n",
       "            console.log([gd, 'removed!']);\n",
       "            Plotly.purge(gd);\n",
       "            observer.disconnect();\n",
       "        }}\n",
       "}});\n",
       "\n",
       "// Listen for the removal of the full notebook cells\n",
       "var notebookContainer = gd.closest('#notebook-container');\n",
       "if (notebookContainer) {{\n",
       "    x.observe(notebookContainer, {childList: true});\n",
       "}}\n",
       "\n",
       "// Listen for the clearing of the current output cell\n",
       "var outputEl = gd.closest('.output');\n",
       "if (outputEl) {{\n",
       "    x.observe(outputEl, {childList: true});\n",
       "}}\n",
       "\n",
       "                        })                };                });            </script>        </div>"
      ]
     },
     "metadata": {},
     "output_type": "display_data"
    }
   ],
   "source": [
    "# How many restaurants a person can chocie between, lower is better for our business\n",
    "df['consumer_choice'] = df['# of Restaurants'] / df['Population']\n",
    "consumer_choice2 = df.groupby('Borough')['consumer_choice'].mean()\n",
    "consumer_choice2\n",
    "\n",
    "fig5 = px.bar(x=x, y=consumer_choice2, labels={'x': 'Borough', 'y':'Restaurants'},\n",
    "              color=x, title='Restaurants Per Person')\n",
    "layout(fig5)"
   ]
  },
  {
   "cell_type": "code",
   "execution_count": 8,
   "metadata": {},
   "outputs": [
    {
     "data": {
      "application/vnd.plotly.v1+json": {
       "config": {
        "plotlyServerURL": "https://plot.ly"
       },
       "data": [
        {
         "hovertemplate": "Borough=Manhattan<br>Quarter (2020)=%{x}<br>rev_pct2=%{y}<extra></extra>",
         "legendgroup": "Manhattan",
         "line": {
          "color": "#08cc94",
          "dash": "solid"
         },
         "mode": "lines",
         "name": "Manhattan",
         "orientation": "v",
         "showlegend": true,
         "type": "scatter",
         "x": [
          1,
          2,
          3,
          4
         ],
         "xaxis": "x",
         "y": [
          0,
          -0.079,
          -0.052000000000000005,
          -0.03
         ],
         "yaxis": "y"
        },
        {
         "hovertemplate": "Borough=Queens<br>Quarter (2020)=%{x}<br>rev_pct2=%{y}<extra></extra>",
         "legendgroup": "Queens",
         "line": {
          "color": "#b064fc",
          "dash": "solid"
         },
         "mode": "lines",
         "name": "Queens",
         "orientation": "v",
         "showlegend": true,
         "type": "scatter",
         "x": [
          1,
          2,
          3,
          4
         ],
         "xaxis": "x",
         "y": [
          0,
          -0.136,
          -0.14300000000000002,
          -0.077
         ],
         "yaxis": "y"
        },
        {
         "hovertemplate": "Borough=Bronx<br>Quarter (2020)=%{x}<br>rev_pct2=%{y}<extra></extra>",
         "legendgroup": "Bronx",
         "line": {
          "color": "#686cfc",
          "dash": "solid"
         },
         "mode": "lines",
         "name": "Bronx",
         "orientation": "v",
         "showlegend": true,
         "type": "scatter",
         "x": [
          1,
          2,
          3,
          4
         ],
         "xaxis": "x",
         "y": [
          0,
          0.032,
          -0.0049999999999999975,
          0.009
         ],
         "yaxis": "y"
        },
        {
         "hovertemplate": "Borough=Brooklyn<br>Quarter (2020)=%{x}<br>rev_pct2=%{y}<extra></extra>",
         "legendgroup": "Brooklyn",
         "line": {
          "color": "#f0543c",
          "dash": "solid"
         },
         "mode": "lines",
         "name": "Brooklyn",
         "orientation": "v",
         "showlegend": true,
         "type": "scatter",
         "x": [
          1,
          2,
          3,
          4
         ],
         "xaxis": "x",
         "y": [
          0,
          -0.025,
          -0.025,
          -0.011
         ],
         "yaxis": "y"
        }
       ],
       "layout": {
        "font": {
         "color": "White",
         "family": "Verdana",
         "size": 13
        },
        "legend": {
         "title": {
          "text": "Borough"
         },
         "tracegroupgap": 0
        },
        "margin": {
         "t": 60
        },
        "paper_bgcolor": "#374C60",
        "plot_bgcolor": "#eee",
        "template": {
         "data": {
          "bar": [
           {
            "error_x": {
             "color": "#2a3f5f"
            },
            "error_y": {
             "color": "#2a3f5f"
            },
            "marker": {
             "line": {
              "color": "#E5ECF6",
              "width": 0.5
             }
            },
            "type": "bar"
           }
          ],
          "barpolar": [
           {
            "marker": {
             "line": {
              "color": "#E5ECF6",
              "width": 0.5
             }
            },
            "type": "barpolar"
           }
          ],
          "carpet": [
           {
            "aaxis": {
             "endlinecolor": "#2a3f5f",
             "gridcolor": "white",
             "linecolor": "white",
             "minorgridcolor": "white",
             "startlinecolor": "#2a3f5f"
            },
            "baxis": {
             "endlinecolor": "#2a3f5f",
             "gridcolor": "white",
             "linecolor": "white",
             "minorgridcolor": "white",
             "startlinecolor": "#2a3f5f"
            },
            "type": "carpet"
           }
          ],
          "choropleth": [
           {
            "colorbar": {
             "outlinewidth": 0,
             "ticks": ""
            },
            "type": "choropleth"
           }
          ],
          "contour": [
           {
            "colorbar": {
             "outlinewidth": 0,
             "ticks": ""
            },
            "colorscale": [
             [
              0,
              "#0d0887"
             ],
             [
              0.1111111111111111,
              "#46039f"
             ],
             [
              0.2222222222222222,
              "#7201a8"
             ],
             [
              0.3333333333333333,
              "#9c179e"
             ],
             [
              0.4444444444444444,
              "#bd3786"
             ],
             [
              0.5555555555555556,
              "#d8576b"
             ],
             [
              0.6666666666666666,
              "#ed7953"
             ],
             [
              0.7777777777777778,
              "#fb9f3a"
             ],
             [
              0.8888888888888888,
              "#fdca26"
             ],
             [
              1,
              "#f0f921"
             ]
            ],
            "type": "contour"
           }
          ],
          "contourcarpet": [
           {
            "colorbar": {
             "outlinewidth": 0,
             "ticks": ""
            },
            "type": "contourcarpet"
           }
          ],
          "heatmap": [
           {
            "colorbar": {
             "outlinewidth": 0,
             "ticks": ""
            },
            "colorscale": [
             [
              0,
              "#0d0887"
             ],
             [
              0.1111111111111111,
              "#46039f"
             ],
             [
              0.2222222222222222,
              "#7201a8"
             ],
             [
              0.3333333333333333,
              "#9c179e"
             ],
             [
              0.4444444444444444,
              "#bd3786"
             ],
             [
              0.5555555555555556,
              "#d8576b"
             ],
             [
              0.6666666666666666,
              "#ed7953"
             ],
             [
              0.7777777777777778,
              "#fb9f3a"
             ],
             [
              0.8888888888888888,
              "#fdca26"
             ],
             [
              1,
              "#f0f921"
             ]
            ],
            "type": "heatmap"
           }
          ],
          "heatmapgl": [
           {
            "colorbar": {
             "outlinewidth": 0,
             "ticks": ""
            },
            "colorscale": [
             [
              0,
              "#0d0887"
             ],
             [
              0.1111111111111111,
              "#46039f"
             ],
             [
              0.2222222222222222,
              "#7201a8"
             ],
             [
              0.3333333333333333,
              "#9c179e"
             ],
             [
              0.4444444444444444,
              "#bd3786"
             ],
             [
              0.5555555555555556,
              "#d8576b"
             ],
             [
              0.6666666666666666,
              "#ed7953"
             ],
             [
              0.7777777777777778,
              "#fb9f3a"
             ],
             [
              0.8888888888888888,
              "#fdca26"
             ],
             [
              1,
              "#f0f921"
             ]
            ],
            "type": "heatmapgl"
           }
          ],
          "histogram": [
           {
            "marker": {
             "colorbar": {
              "outlinewidth": 0,
              "ticks": ""
             }
            },
            "type": "histogram"
           }
          ],
          "histogram2d": [
           {
            "colorbar": {
             "outlinewidth": 0,
             "ticks": ""
            },
            "colorscale": [
             [
              0,
              "#0d0887"
             ],
             [
              0.1111111111111111,
              "#46039f"
             ],
             [
              0.2222222222222222,
              "#7201a8"
             ],
             [
              0.3333333333333333,
              "#9c179e"
             ],
             [
              0.4444444444444444,
              "#bd3786"
             ],
             [
              0.5555555555555556,
              "#d8576b"
             ],
             [
              0.6666666666666666,
              "#ed7953"
             ],
             [
              0.7777777777777778,
              "#fb9f3a"
             ],
             [
              0.8888888888888888,
              "#fdca26"
             ],
             [
              1,
              "#f0f921"
             ]
            ],
            "type": "histogram2d"
           }
          ],
          "histogram2dcontour": [
           {
            "colorbar": {
             "outlinewidth": 0,
             "ticks": ""
            },
            "colorscale": [
             [
              0,
              "#0d0887"
             ],
             [
              0.1111111111111111,
              "#46039f"
             ],
             [
              0.2222222222222222,
              "#7201a8"
             ],
             [
              0.3333333333333333,
              "#9c179e"
             ],
             [
              0.4444444444444444,
              "#bd3786"
             ],
             [
              0.5555555555555556,
              "#d8576b"
             ],
             [
              0.6666666666666666,
              "#ed7953"
             ],
             [
              0.7777777777777778,
              "#fb9f3a"
             ],
             [
              0.8888888888888888,
              "#fdca26"
             ],
             [
              1,
              "#f0f921"
             ]
            ],
            "type": "histogram2dcontour"
           }
          ],
          "mesh3d": [
           {
            "colorbar": {
             "outlinewidth": 0,
             "ticks": ""
            },
            "type": "mesh3d"
           }
          ],
          "parcoords": [
           {
            "line": {
             "colorbar": {
              "outlinewidth": 0,
              "ticks": ""
             }
            },
            "type": "parcoords"
           }
          ],
          "pie": [
           {
            "automargin": true,
            "type": "pie"
           }
          ],
          "scatter": [
           {
            "marker": {
             "colorbar": {
              "outlinewidth": 0,
              "ticks": ""
             }
            },
            "type": "scatter"
           }
          ],
          "scatter3d": [
           {
            "line": {
             "colorbar": {
              "outlinewidth": 0,
              "ticks": ""
             }
            },
            "marker": {
             "colorbar": {
              "outlinewidth": 0,
              "ticks": ""
             }
            },
            "type": "scatter3d"
           }
          ],
          "scattercarpet": [
           {
            "marker": {
             "colorbar": {
              "outlinewidth": 0,
              "ticks": ""
             }
            },
            "type": "scattercarpet"
           }
          ],
          "scattergeo": [
           {
            "marker": {
             "colorbar": {
              "outlinewidth": 0,
              "ticks": ""
             }
            },
            "type": "scattergeo"
           }
          ],
          "scattergl": [
           {
            "marker": {
             "colorbar": {
              "outlinewidth": 0,
              "ticks": ""
             }
            },
            "type": "scattergl"
           }
          ],
          "scattermapbox": [
           {
            "marker": {
             "colorbar": {
              "outlinewidth": 0,
              "ticks": ""
             }
            },
            "type": "scattermapbox"
           }
          ],
          "scatterpolar": [
           {
            "marker": {
             "colorbar": {
              "outlinewidth": 0,
              "ticks": ""
             }
            },
            "type": "scatterpolar"
           }
          ],
          "scatterpolargl": [
           {
            "marker": {
             "colorbar": {
              "outlinewidth": 0,
              "ticks": ""
             }
            },
            "type": "scatterpolargl"
           }
          ],
          "scatterternary": [
           {
            "marker": {
             "colorbar": {
              "outlinewidth": 0,
              "ticks": ""
             }
            },
            "type": "scatterternary"
           }
          ],
          "surface": [
           {
            "colorbar": {
             "outlinewidth": 0,
             "ticks": ""
            },
            "colorscale": [
             [
              0,
              "#0d0887"
             ],
             [
              0.1111111111111111,
              "#46039f"
             ],
             [
              0.2222222222222222,
              "#7201a8"
             ],
             [
              0.3333333333333333,
              "#9c179e"
             ],
             [
              0.4444444444444444,
              "#bd3786"
             ],
             [
              0.5555555555555556,
              "#d8576b"
             ],
             [
              0.6666666666666666,
              "#ed7953"
             ],
             [
              0.7777777777777778,
              "#fb9f3a"
             ],
             [
              0.8888888888888888,
              "#fdca26"
             ],
             [
              1,
              "#f0f921"
             ]
            ],
            "type": "surface"
           }
          ],
          "table": [
           {
            "cells": {
             "fill": {
              "color": "#EBF0F8"
             },
             "line": {
              "color": "white"
             }
            },
            "header": {
             "fill": {
              "color": "#C8D4E3"
             },
             "line": {
              "color": "white"
             }
            },
            "type": "table"
           }
          ]
         },
         "layout": {
          "annotationdefaults": {
           "arrowcolor": "#2a3f5f",
           "arrowhead": 0,
           "arrowwidth": 1
          },
          "autotypenumbers": "strict",
          "coloraxis": {
           "colorbar": {
            "outlinewidth": 0,
            "ticks": ""
           }
          },
          "colorscale": {
           "diverging": [
            [
             0,
             "#8e0152"
            ],
            [
             0.1,
             "#c51b7d"
            ],
            [
             0.2,
             "#de77ae"
            ],
            [
             0.3,
             "#f1b6da"
            ],
            [
             0.4,
             "#fde0ef"
            ],
            [
             0.5,
             "#f7f7f7"
            ],
            [
             0.6,
             "#e6f5d0"
            ],
            [
             0.7,
             "#b8e186"
            ],
            [
             0.8,
             "#7fbc41"
            ],
            [
             0.9,
             "#4d9221"
            ],
            [
             1,
             "#276419"
            ]
           ],
           "sequential": [
            [
             0,
             "#0d0887"
            ],
            [
             0.1111111111111111,
             "#46039f"
            ],
            [
             0.2222222222222222,
             "#7201a8"
            ],
            [
             0.3333333333333333,
             "#9c179e"
            ],
            [
             0.4444444444444444,
             "#bd3786"
            ],
            [
             0.5555555555555556,
             "#d8576b"
            ],
            [
             0.6666666666666666,
             "#ed7953"
            ],
            [
             0.7777777777777778,
             "#fb9f3a"
            ],
            [
             0.8888888888888888,
             "#fdca26"
            ],
            [
             1,
             "#f0f921"
            ]
           ],
           "sequentialminus": [
            [
             0,
             "#0d0887"
            ],
            [
             0.1111111111111111,
             "#46039f"
            ],
            [
             0.2222222222222222,
             "#7201a8"
            ],
            [
             0.3333333333333333,
             "#9c179e"
            ],
            [
             0.4444444444444444,
             "#bd3786"
            ],
            [
             0.5555555555555556,
             "#d8576b"
            ],
            [
             0.6666666666666666,
             "#ed7953"
            ],
            [
             0.7777777777777778,
             "#fb9f3a"
            ],
            [
             0.8888888888888888,
             "#fdca26"
            ],
            [
             1,
             "#f0f921"
            ]
           ]
          },
          "colorway": [
           "#636efa",
           "#EF553B",
           "#00cc96",
           "#ab63fa",
           "#FFA15A",
           "#19d3f3",
           "#FF6692",
           "#B6E880",
           "#FF97FF",
           "#FECB52"
          ],
          "font": {
           "color": "#2a3f5f"
          },
          "geo": {
           "bgcolor": "white",
           "lakecolor": "white",
           "landcolor": "#E5ECF6",
           "showlakes": true,
           "showland": true,
           "subunitcolor": "white"
          },
          "hoverlabel": {
           "align": "left"
          },
          "hovermode": "closest",
          "mapbox": {
           "style": "light"
          },
          "paper_bgcolor": "white",
          "plot_bgcolor": "#E5ECF6",
          "polar": {
           "angularaxis": {
            "gridcolor": "white",
            "linecolor": "white",
            "ticks": ""
           },
           "bgcolor": "#E5ECF6",
           "radialaxis": {
            "gridcolor": "white",
            "linecolor": "white",
            "ticks": ""
           }
          },
          "scene": {
           "xaxis": {
            "backgroundcolor": "#E5ECF6",
            "gridcolor": "white",
            "gridwidth": 2,
            "linecolor": "white",
            "showbackground": true,
            "ticks": "",
            "zerolinecolor": "white"
           },
           "yaxis": {
            "backgroundcolor": "#E5ECF6",
            "gridcolor": "white",
            "gridwidth": 2,
            "linecolor": "white",
            "showbackground": true,
            "ticks": "",
            "zerolinecolor": "white"
           },
           "zaxis": {
            "backgroundcolor": "#E5ECF6",
            "gridcolor": "white",
            "gridwidth": 2,
            "linecolor": "white",
            "showbackground": true,
            "ticks": "",
            "zerolinecolor": "white"
           }
          },
          "shapedefaults": {
           "line": {
            "color": "#2a3f5f"
           }
          },
          "ternary": {
           "aaxis": {
            "gridcolor": "white",
            "linecolor": "white",
            "ticks": ""
           },
           "baxis": {
            "gridcolor": "white",
            "linecolor": "white",
            "ticks": ""
           },
           "bgcolor": "#E5ECF6",
           "caxis": {
            "gridcolor": "white",
            "linecolor": "white",
            "ticks": ""
           }
          },
          "title": {
           "x": 0.05
          },
          "xaxis": {
           "automargin": true,
           "gridcolor": "white",
           "linecolor": "white",
           "ticks": "",
           "title": {
            "standoff": 15
           },
           "zerolinecolor": "white",
           "zerolinewidth": 2
          },
          "yaxis": {
           "automargin": true,
           "gridcolor": "white",
           "linecolor": "white",
           "ticks": "",
           "title": {
            "standoff": 15
           },
           "zerolinecolor": "white",
           "zerolinewidth": 2
          }
         }
        },
        "title": {
         "font": {
          "family": "Verdana"
         },
         "text": "Percent Change on Total Restaurant Revenue"
        },
        "xaxis": {
         "anchor": "y",
         "domain": [
          0,
          1
         ],
         "title": {
          "text": "Quarter (2020)"
         }
        },
        "yaxis": {
         "anchor": "x",
         "domain": [
          0,
          1
         ],
         "tickformat": "%",
         "tickprefix": "",
         "title": {
          "text": "Total Restaurant Revenue"
         }
        }
       }
      },
      "text/html": [
       "<div>                            <div id=\"08bf8f2f-309d-4069-9f95-326a71c8347e\" class=\"plotly-graph-div\" style=\"height:525px; width:100%;\"></div>            <script type=\"text/javascript\">                require([\"plotly\"], function(Plotly) {                    window.PLOTLYENV=window.PLOTLYENV || {};                                    if (document.getElementById(\"08bf8f2f-309d-4069-9f95-326a71c8347e\")) {                    Plotly.newPlot(                        \"08bf8f2f-309d-4069-9f95-326a71c8347e\",                        [{\"hovertemplate\": \"Borough=Manhattan<br>Quarter (2020)=%{x}<br>rev_pct2=%{y}<extra></extra>\", \"legendgroup\": \"Manhattan\", \"line\": {\"color\": \"#08cc94\", \"dash\": \"solid\"}, \"mode\": \"lines\", \"name\": \"Manhattan\", \"orientation\": \"v\", \"showlegend\": true, \"type\": \"scatter\", \"x\": [1, 2, 3, 4], \"xaxis\": \"x\", \"y\": [0.0, -0.079, -0.052000000000000005, -0.03], \"yaxis\": \"y\"}, {\"hovertemplate\": \"Borough=Queens<br>Quarter (2020)=%{x}<br>rev_pct2=%{y}<extra></extra>\", \"legendgroup\": \"Queens\", \"line\": {\"color\": \"#b064fc\", \"dash\": \"solid\"}, \"mode\": \"lines\", \"name\": \"Queens\", \"orientation\": \"v\", \"showlegend\": true, \"type\": \"scatter\", \"x\": [1, 2, 3, 4], \"xaxis\": \"x\", \"y\": [0.0, -0.136, -0.14300000000000002, -0.077], \"yaxis\": \"y\"}, {\"hovertemplate\": \"Borough=Bronx<br>Quarter (2020)=%{x}<br>rev_pct2=%{y}<extra></extra>\", \"legendgroup\": \"Bronx\", \"line\": {\"color\": \"#686cfc\", \"dash\": \"solid\"}, \"mode\": \"lines\", \"name\": \"Bronx\", \"orientation\": \"v\", \"showlegend\": true, \"type\": \"scatter\", \"x\": [1, 2, 3, 4], \"xaxis\": \"x\", \"y\": [0.0, 0.032, -0.0049999999999999975, 0.009], \"yaxis\": \"y\"}, {\"hovertemplate\": \"Borough=Brooklyn<br>Quarter (2020)=%{x}<br>rev_pct2=%{y}<extra></extra>\", \"legendgroup\": \"Brooklyn\", \"line\": {\"color\": \"#f0543c\", \"dash\": \"solid\"}, \"mode\": \"lines\", \"name\": \"Brooklyn\", \"orientation\": \"v\", \"showlegend\": true, \"type\": \"scatter\", \"x\": [1, 2, 3, 4], \"xaxis\": \"x\", \"y\": [0.0, -0.025, -0.025, -0.011], \"yaxis\": \"y\"}],                        {\"font\": {\"color\": \"White\", \"family\": \"Verdana\", \"size\": 13}, \"legend\": {\"title\": {\"text\": \"Borough\"}, \"tracegroupgap\": 0}, \"margin\": {\"t\": 60}, \"paper_bgcolor\": \"#374C60\", \"plot_bgcolor\": \"#eee\", \"template\": {\"data\": {\"bar\": [{\"error_x\": {\"color\": \"#2a3f5f\"}, \"error_y\": {\"color\": \"#2a3f5f\"}, \"marker\": {\"line\": {\"color\": \"#E5ECF6\", \"width\": 0.5}}, \"type\": \"bar\"}], \"barpolar\": [{\"marker\": {\"line\": {\"color\": \"#E5ECF6\", \"width\": 0.5}}, \"type\": \"barpolar\"}], \"carpet\": [{\"aaxis\": {\"endlinecolor\": \"#2a3f5f\", \"gridcolor\": \"white\", \"linecolor\": \"white\", \"minorgridcolor\": \"white\", \"startlinecolor\": \"#2a3f5f\"}, \"baxis\": {\"endlinecolor\": \"#2a3f5f\", \"gridcolor\": \"white\", \"linecolor\": \"white\", \"minorgridcolor\": \"white\", \"startlinecolor\": \"#2a3f5f\"}, \"type\": \"carpet\"}], \"choropleth\": [{\"colorbar\": {\"outlinewidth\": 0, \"ticks\": \"\"}, \"type\": \"choropleth\"}], \"contour\": [{\"colorbar\": {\"outlinewidth\": 0, \"ticks\": \"\"}, \"colorscale\": [[0.0, \"#0d0887\"], [0.1111111111111111, \"#46039f\"], [0.2222222222222222, \"#7201a8\"], [0.3333333333333333, \"#9c179e\"], [0.4444444444444444, \"#bd3786\"], [0.5555555555555556, \"#d8576b\"], [0.6666666666666666, \"#ed7953\"], [0.7777777777777778, \"#fb9f3a\"], [0.8888888888888888, \"#fdca26\"], [1.0, \"#f0f921\"]], \"type\": \"contour\"}], \"contourcarpet\": [{\"colorbar\": {\"outlinewidth\": 0, \"ticks\": \"\"}, \"type\": \"contourcarpet\"}], \"heatmap\": [{\"colorbar\": {\"outlinewidth\": 0, \"ticks\": \"\"}, \"colorscale\": [[0.0, \"#0d0887\"], [0.1111111111111111, \"#46039f\"], [0.2222222222222222, \"#7201a8\"], [0.3333333333333333, \"#9c179e\"], [0.4444444444444444, \"#bd3786\"], [0.5555555555555556, \"#d8576b\"], [0.6666666666666666, \"#ed7953\"], [0.7777777777777778, \"#fb9f3a\"], [0.8888888888888888, \"#fdca26\"], [1.0, \"#f0f921\"]], \"type\": \"heatmap\"}], \"heatmapgl\": [{\"colorbar\": {\"outlinewidth\": 0, \"ticks\": \"\"}, \"colorscale\": [[0.0, \"#0d0887\"], [0.1111111111111111, \"#46039f\"], [0.2222222222222222, \"#7201a8\"], [0.3333333333333333, \"#9c179e\"], [0.4444444444444444, \"#bd3786\"], [0.5555555555555556, \"#d8576b\"], [0.6666666666666666, \"#ed7953\"], [0.7777777777777778, \"#fb9f3a\"], [0.8888888888888888, \"#fdca26\"], [1.0, \"#f0f921\"]], \"type\": \"heatmapgl\"}], \"histogram\": [{\"marker\": {\"colorbar\": {\"outlinewidth\": 0, \"ticks\": \"\"}}, \"type\": \"histogram\"}], \"histogram2d\": [{\"colorbar\": {\"outlinewidth\": 0, \"ticks\": \"\"}, \"colorscale\": [[0.0, \"#0d0887\"], [0.1111111111111111, \"#46039f\"], [0.2222222222222222, \"#7201a8\"], [0.3333333333333333, \"#9c179e\"], [0.4444444444444444, \"#bd3786\"], [0.5555555555555556, \"#d8576b\"], [0.6666666666666666, \"#ed7953\"], [0.7777777777777778, \"#fb9f3a\"], [0.8888888888888888, \"#fdca26\"], [1.0, \"#f0f921\"]], \"type\": \"histogram2d\"}], \"histogram2dcontour\": [{\"colorbar\": {\"outlinewidth\": 0, \"ticks\": \"\"}, \"colorscale\": [[0.0, \"#0d0887\"], [0.1111111111111111, \"#46039f\"], [0.2222222222222222, \"#7201a8\"], [0.3333333333333333, \"#9c179e\"], [0.4444444444444444, \"#bd3786\"], [0.5555555555555556, \"#d8576b\"], [0.6666666666666666, \"#ed7953\"], [0.7777777777777778, \"#fb9f3a\"], [0.8888888888888888, \"#fdca26\"], [1.0, \"#f0f921\"]], \"type\": \"histogram2dcontour\"}], \"mesh3d\": [{\"colorbar\": {\"outlinewidth\": 0, \"ticks\": \"\"}, \"type\": \"mesh3d\"}], \"parcoords\": [{\"line\": {\"colorbar\": {\"outlinewidth\": 0, \"ticks\": \"\"}}, \"type\": \"parcoords\"}], \"pie\": [{\"automargin\": true, \"type\": \"pie\"}], \"scatter\": [{\"marker\": {\"colorbar\": {\"outlinewidth\": 0, \"ticks\": \"\"}}, \"type\": \"scatter\"}], \"scatter3d\": [{\"line\": {\"colorbar\": {\"outlinewidth\": 0, \"ticks\": \"\"}}, \"marker\": {\"colorbar\": {\"outlinewidth\": 0, \"ticks\": \"\"}}, \"type\": \"scatter3d\"}], \"scattercarpet\": [{\"marker\": {\"colorbar\": {\"outlinewidth\": 0, \"ticks\": \"\"}}, \"type\": \"scattercarpet\"}], \"scattergeo\": [{\"marker\": {\"colorbar\": {\"outlinewidth\": 0, \"ticks\": \"\"}}, \"type\": \"scattergeo\"}], \"scattergl\": [{\"marker\": {\"colorbar\": {\"outlinewidth\": 0, \"ticks\": \"\"}}, \"type\": \"scattergl\"}], \"scattermapbox\": [{\"marker\": {\"colorbar\": {\"outlinewidth\": 0, \"ticks\": \"\"}}, \"type\": \"scattermapbox\"}], \"scatterpolar\": [{\"marker\": {\"colorbar\": {\"outlinewidth\": 0, \"ticks\": \"\"}}, \"type\": \"scatterpolar\"}], \"scatterpolargl\": [{\"marker\": {\"colorbar\": {\"outlinewidth\": 0, \"ticks\": \"\"}}, \"type\": \"scatterpolargl\"}], \"scatterternary\": [{\"marker\": {\"colorbar\": {\"outlinewidth\": 0, \"ticks\": \"\"}}, \"type\": \"scatterternary\"}], \"surface\": [{\"colorbar\": {\"outlinewidth\": 0, \"ticks\": \"\"}, \"colorscale\": [[0.0, \"#0d0887\"], [0.1111111111111111, \"#46039f\"], [0.2222222222222222, \"#7201a8\"], [0.3333333333333333, \"#9c179e\"], [0.4444444444444444, \"#bd3786\"], [0.5555555555555556, \"#d8576b\"], [0.6666666666666666, \"#ed7953\"], [0.7777777777777778, \"#fb9f3a\"], [0.8888888888888888, \"#fdca26\"], [1.0, \"#f0f921\"]], \"type\": \"surface\"}], \"table\": [{\"cells\": {\"fill\": {\"color\": \"#EBF0F8\"}, \"line\": {\"color\": \"white\"}}, \"header\": {\"fill\": {\"color\": \"#C8D4E3\"}, \"line\": {\"color\": \"white\"}}, \"type\": \"table\"}]}, \"layout\": {\"annotationdefaults\": {\"arrowcolor\": \"#2a3f5f\", \"arrowhead\": 0, \"arrowwidth\": 1}, \"autotypenumbers\": \"strict\", \"coloraxis\": {\"colorbar\": {\"outlinewidth\": 0, \"ticks\": \"\"}}, \"colorscale\": {\"diverging\": [[0, \"#8e0152\"], [0.1, \"#c51b7d\"], [0.2, \"#de77ae\"], [0.3, \"#f1b6da\"], [0.4, \"#fde0ef\"], [0.5, \"#f7f7f7\"], [0.6, \"#e6f5d0\"], [0.7, \"#b8e186\"], [0.8, \"#7fbc41\"], [0.9, \"#4d9221\"], [1, \"#276419\"]], \"sequential\": [[0.0, \"#0d0887\"], [0.1111111111111111, \"#46039f\"], [0.2222222222222222, \"#7201a8\"], [0.3333333333333333, \"#9c179e\"], [0.4444444444444444, \"#bd3786\"], [0.5555555555555556, \"#d8576b\"], [0.6666666666666666, \"#ed7953\"], [0.7777777777777778, \"#fb9f3a\"], [0.8888888888888888, \"#fdca26\"], [1.0, \"#f0f921\"]], \"sequentialminus\": [[0.0, \"#0d0887\"], [0.1111111111111111, \"#46039f\"], [0.2222222222222222, \"#7201a8\"], [0.3333333333333333, \"#9c179e\"], [0.4444444444444444, \"#bd3786\"], [0.5555555555555556, \"#d8576b\"], [0.6666666666666666, \"#ed7953\"], [0.7777777777777778, \"#fb9f3a\"], [0.8888888888888888, \"#fdca26\"], [1.0, \"#f0f921\"]]}, \"colorway\": [\"#636efa\", \"#EF553B\", \"#00cc96\", \"#ab63fa\", \"#FFA15A\", \"#19d3f3\", \"#FF6692\", \"#B6E880\", \"#FF97FF\", \"#FECB52\"], \"font\": {\"color\": \"#2a3f5f\"}, \"geo\": {\"bgcolor\": \"white\", \"lakecolor\": \"white\", \"landcolor\": \"#E5ECF6\", \"showlakes\": true, \"showland\": true, \"subunitcolor\": \"white\"}, \"hoverlabel\": {\"align\": \"left\"}, \"hovermode\": \"closest\", \"mapbox\": {\"style\": \"light\"}, \"paper_bgcolor\": \"white\", \"plot_bgcolor\": \"#E5ECF6\", \"polar\": {\"angularaxis\": {\"gridcolor\": \"white\", \"linecolor\": \"white\", \"ticks\": \"\"}, \"bgcolor\": \"#E5ECF6\", \"radialaxis\": {\"gridcolor\": \"white\", \"linecolor\": \"white\", \"ticks\": \"\"}}, \"scene\": {\"xaxis\": {\"backgroundcolor\": \"#E5ECF6\", \"gridcolor\": \"white\", \"gridwidth\": 2, \"linecolor\": \"white\", \"showbackground\": true, \"ticks\": \"\", \"zerolinecolor\": \"white\"}, \"yaxis\": {\"backgroundcolor\": \"#E5ECF6\", \"gridcolor\": \"white\", \"gridwidth\": 2, \"linecolor\": \"white\", \"showbackground\": true, \"ticks\": \"\", \"zerolinecolor\": \"white\"}, \"zaxis\": {\"backgroundcolor\": \"#E5ECF6\", \"gridcolor\": \"white\", \"gridwidth\": 2, \"linecolor\": \"white\", \"showbackground\": true, \"ticks\": \"\", \"zerolinecolor\": \"white\"}}, \"shapedefaults\": {\"line\": {\"color\": \"#2a3f5f\"}}, \"ternary\": {\"aaxis\": {\"gridcolor\": \"white\", \"linecolor\": \"white\", \"ticks\": \"\"}, \"baxis\": {\"gridcolor\": \"white\", \"linecolor\": \"white\", \"ticks\": \"\"}, \"bgcolor\": \"#E5ECF6\", \"caxis\": {\"gridcolor\": \"white\", \"linecolor\": \"white\", \"ticks\": \"\"}}, \"title\": {\"x\": 0.05}, \"xaxis\": {\"automargin\": true, \"gridcolor\": \"white\", \"linecolor\": \"white\", \"ticks\": \"\", \"title\": {\"standoff\": 15}, \"zerolinecolor\": \"white\", \"zerolinewidth\": 2}, \"yaxis\": {\"automargin\": true, \"gridcolor\": \"white\", \"linecolor\": \"white\", \"ticks\": \"\", \"title\": {\"standoff\": 15}, \"zerolinecolor\": \"white\", \"zerolinewidth\": 2}}}, \"title\": {\"font\": {\"family\": \"Verdana\"}, \"text\": \"Percent Change on Total Restaurant Revenue\"}, \"xaxis\": {\"anchor\": \"y\", \"domain\": [0.0, 1.0], \"title\": {\"text\": \"Quarter (2020)\"}}, \"yaxis\": {\"anchor\": \"x\", \"domain\": [0.0, 1.0], \"tickformat\": \"%\", \"tickprefix\": \"\", \"title\": {\"text\": \"Total Restaurant Revenue\"}}},                        {\"responsive\": true}                    ).then(function(){\n",
       "                            \n",
       "var gd = document.getElementById('08bf8f2f-309d-4069-9f95-326a71c8347e');\n",
       "var x = new MutationObserver(function (mutations, observer) {{\n",
       "        var display = window.getComputedStyle(gd).display;\n",
       "        if (!display || display === 'none') {{\n",
       "            console.log([gd, 'removed!']);\n",
       "            Plotly.purge(gd);\n",
       "            observer.disconnect();\n",
       "        }}\n",
       "}});\n",
       "\n",
       "// Listen for the removal of the full notebook cells\n",
       "var notebookContainer = gd.closest('#notebook-container');\n",
       "if (notebookContainer) {{\n",
       "    x.observe(notebookContainer, {childList: true});\n",
       "}}\n",
       "\n",
       "// Listen for the clearing of the current output cell\n",
       "var outputEl = gd.closest('.output');\n",
       "if (outputEl) {{\n",
       "    x.observe(outputEl, {childList: true});\n",
       "}}\n",
       "\n",
       "                        })                };                });            </script>        </div>"
      ]
     },
     "metadata": {},
     "output_type": "display_data"
    },
    {
     "data": {
      "application/vnd.plotly.v1+json": {
       "config": {
        "plotlyServerURL": "https://plot.ly"
       },
       "data": [
        {
         "hovertemplate": "Borough=Manhattan<br>Quarter (2020)=%{x}<br>ars_pct2=%{y}<extra></extra>",
         "legendgroup": "Manhattan",
         "line": {
          "color": "#08cc94",
          "dash": "solid"
         },
         "mode": "lines",
         "name": "Manhattan",
         "orientation": "v",
         "showlegend": true,
         "type": "scatter",
         "x": [
          1,
          2,
          3,
          4
         ],
         "xaxis": "x",
         "y": [
          0,
          -0.039,
          -0.045,
          -0.027
         ],
         "yaxis": "y"
        },
        {
         "hovertemplate": "Borough=Queens<br>Quarter (2020)=%{x}<br>ars_pct2=%{y}<extra></extra>",
         "legendgroup": "Queens",
         "line": {
          "color": "#b064fc",
          "dash": "solid"
         },
         "mode": "lines",
         "name": "Queens",
         "orientation": "v",
         "showlegend": true,
         "type": "scatter",
         "x": [
          1,
          2,
          3,
          4
         ],
         "xaxis": "x",
         "y": [
          0,
          -0.017,
          -0.004000000000000002,
          0.019
         ],
         "yaxis": "y"
        },
        {
         "hovertemplate": "Borough=Bronx<br>Quarter (2020)=%{x}<br>ars_pct2=%{y}<extra></extra>",
         "legendgroup": "Bronx",
         "line": {
          "color": "#686cfc",
          "dash": "solid"
         },
         "mode": "lines",
         "name": "Bronx",
         "orientation": "v",
         "showlegend": true,
         "type": "scatter",
         "x": [
          1,
          2,
          3,
          4
         ],
         "xaxis": "x",
         "y": [
          0,
          -0.041,
          -0.079,
          -0.096
         ],
         "yaxis": "y"
        },
        {
         "hovertemplate": "Borough=Brooklyn<br>Quarter (2020)=%{x}<br>ars_pct2=%{y}<extra></extra>",
         "legendgroup": "Brooklyn",
         "line": {
          "color": "#f0543c",
          "dash": "solid"
         },
         "mode": "lines",
         "name": "Brooklyn",
         "orientation": "v",
         "showlegend": true,
         "type": "scatter",
         "x": [
          1,
          2,
          3,
          4
         ],
         "xaxis": "x",
         "y": [
          0,
          -0.002,
          -0.008,
          -0.013
         ],
         "yaxis": "y"
        }
       ],
       "layout": {
        "font": {
         "color": "White",
         "family": "Verdana",
         "size": 13
        },
        "legend": {
         "title": {
          "text": "Borough"
         },
         "tracegroupgap": 0
        },
        "margin": {
         "t": 60
        },
        "paper_bgcolor": "#374C60",
        "plot_bgcolor": "#eee",
        "template": {
         "data": {
          "bar": [
           {
            "error_x": {
             "color": "#2a3f5f"
            },
            "error_y": {
             "color": "#2a3f5f"
            },
            "marker": {
             "line": {
              "color": "#E5ECF6",
              "width": 0.5
             }
            },
            "type": "bar"
           }
          ],
          "barpolar": [
           {
            "marker": {
             "line": {
              "color": "#E5ECF6",
              "width": 0.5
             }
            },
            "type": "barpolar"
           }
          ],
          "carpet": [
           {
            "aaxis": {
             "endlinecolor": "#2a3f5f",
             "gridcolor": "white",
             "linecolor": "white",
             "minorgridcolor": "white",
             "startlinecolor": "#2a3f5f"
            },
            "baxis": {
             "endlinecolor": "#2a3f5f",
             "gridcolor": "white",
             "linecolor": "white",
             "minorgridcolor": "white",
             "startlinecolor": "#2a3f5f"
            },
            "type": "carpet"
           }
          ],
          "choropleth": [
           {
            "colorbar": {
             "outlinewidth": 0,
             "ticks": ""
            },
            "type": "choropleth"
           }
          ],
          "contour": [
           {
            "colorbar": {
             "outlinewidth": 0,
             "ticks": ""
            },
            "colorscale": [
             [
              0,
              "#0d0887"
             ],
             [
              0.1111111111111111,
              "#46039f"
             ],
             [
              0.2222222222222222,
              "#7201a8"
             ],
             [
              0.3333333333333333,
              "#9c179e"
             ],
             [
              0.4444444444444444,
              "#bd3786"
             ],
             [
              0.5555555555555556,
              "#d8576b"
             ],
             [
              0.6666666666666666,
              "#ed7953"
             ],
             [
              0.7777777777777778,
              "#fb9f3a"
             ],
             [
              0.8888888888888888,
              "#fdca26"
             ],
             [
              1,
              "#f0f921"
             ]
            ],
            "type": "contour"
           }
          ],
          "contourcarpet": [
           {
            "colorbar": {
             "outlinewidth": 0,
             "ticks": ""
            },
            "type": "contourcarpet"
           }
          ],
          "heatmap": [
           {
            "colorbar": {
             "outlinewidth": 0,
             "ticks": ""
            },
            "colorscale": [
             [
              0,
              "#0d0887"
             ],
             [
              0.1111111111111111,
              "#46039f"
             ],
             [
              0.2222222222222222,
              "#7201a8"
             ],
             [
              0.3333333333333333,
              "#9c179e"
             ],
             [
              0.4444444444444444,
              "#bd3786"
             ],
             [
              0.5555555555555556,
              "#d8576b"
             ],
             [
              0.6666666666666666,
              "#ed7953"
             ],
             [
              0.7777777777777778,
              "#fb9f3a"
             ],
             [
              0.8888888888888888,
              "#fdca26"
             ],
             [
              1,
              "#f0f921"
             ]
            ],
            "type": "heatmap"
           }
          ],
          "heatmapgl": [
           {
            "colorbar": {
             "outlinewidth": 0,
             "ticks": ""
            },
            "colorscale": [
             [
              0,
              "#0d0887"
             ],
             [
              0.1111111111111111,
              "#46039f"
             ],
             [
              0.2222222222222222,
              "#7201a8"
             ],
             [
              0.3333333333333333,
              "#9c179e"
             ],
             [
              0.4444444444444444,
              "#bd3786"
             ],
             [
              0.5555555555555556,
              "#d8576b"
             ],
             [
              0.6666666666666666,
              "#ed7953"
             ],
             [
              0.7777777777777778,
              "#fb9f3a"
             ],
             [
              0.8888888888888888,
              "#fdca26"
             ],
             [
              1,
              "#f0f921"
             ]
            ],
            "type": "heatmapgl"
           }
          ],
          "histogram": [
           {
            "marker": {
             "colorbar": {
              "outlinewidth": 0,
              "ticks": ""
             }
            },
            "type": "histogram"
           }
          ],
          "histogram2d": [
           {
            "colorbar": {
             "outlinewidth": 0,
             "ticks": ""
            },
            "colorscale": [
             [
              0,
              "#0d0887"
             ],
             [
              0.1111111111111111,
              "#46039f"
             ],
             [
              0.2222222222222222,
              "#7201a8"
             ],
             [
              0.3333333333333333,
              "#9c179e"
             ],
             [
              0.4444444444444444,
              "#bd3786"
             ],
             [
              0.5555555555555556,
              "#d8576b"
             ],
             [
              0.6666666666666666,
              "#ed7953"
             ],
             [
              0.7777777777777778,
              "#fb9f3a"
             ],
             [
              0.8888888888888888,
              "#fdca26"
             ],
             [
              1,
              "#f0f921"
             ]
            ],
            "type": "histogram2d"
           }
          ],
          "histogram2dcontour": [
           {
            "colorbar": {
             "outlinewidth": 0,
             "ticks": ""
            },
            "colorscale": [
             [
              0,
              "#0d0887"
             ],
             [
              0.1111111111111111,
              "#46039f"
             ],
             [
              0.2222222222222222,
              "#7201a8"
             ],
             [
              0.3333333333333333,
              "#9c179e"
             ],
             [
              0.4444444444444444,
              "#bd3786"
             ],
             [
              0.5555555555555556,
              "#d8576b"
             ],
             [
              0.6666666666666666,
              "#ed7953"
             ],
             [
              0.7777777777777778,
              "#fb9f3a"
             ],
             [
              0.8888888888888888,
              "#fdca26"
             ],
             [
              1,
              "#f0f921"
             ]
            ],
            "type": "histogram2dcontour"
           }
          ],
          "mesh3d": [
           {
            "colorbar": {
             "outlinewidth": 0,
             "ticks": ""
            },
            "type": "mesh3d"
           }
          ],
          "parcoords": [
           {
            "line": {
             "colorbar": {
              "outlinewidth": 0,
              "ticks": ""
             }
            },
            "type": "parcoords"
           }
          ],
          "pie": [
           {
            "automargin": true,
            "type": "pie"
           }
          ],
          "scatter": [
           {
            "marker": {
             "colorbar": {
              "outlinewidth": 0,
              "ticks": ""
             }
            },
            "type": "scatter"
           }
          ],
          "scatter3d": [
           {
            "line": {
             "colorbar": {
              "outlinewidth": 0,
              "ticks": ""
             }
            },
            "marker": {
             "colorbar": {
              "outlinewidth": 0,
              "ticks": ""
             }
            },
            "type": "scatter3d"
           }
          ],
          "scattercarpet": [
           {
            "marker": {
             "colorbar": {
              "outlinewidth": 0,
              "ticks": ""
             }
            },
            "type": "scattercarpet"
           }
          ],
          "scattergeo": [
           {
            "marker": {
             "colorbar": {
              "outlinewidth": 0,
              "ticks": ""
             }
            },
            "type": "scattergeo"
           }
          ],
          "scattergl": [
           {
            "marker": {
             "colorbar": {
              "outlinewidth": 0,
              "ticks": ""
             }
            },
            "type": "scattergl"
           }
          ],
          "scattermapbox": [
           {
            "marker": {
             "colorbar": {
              "outlinewidth": 0,
              "ticks": ""
             }
            },
            "type": "scattermapbox"
           }
          ],
          "scatterpolar": [
           {
            "marker": {
             "colorbar": {
              "outlinewidth": 0,
              "ticks": ""
             }
            },
            "type": "scatterpolar"
           }
          ],
          "scatterpolargl": [
           {
            "marker": {
             "colorbar": {
              "outlinewidth": 0,
              "ticks": ""
             }
            },
            "type": "scatterpolargl"
           }
          ],
          "scatterternary": [
           {
            "marker": {
             "colorbar": {
              "outlinewidth": 0,
              "ticks": ""
             }
            },
            "type": "scatterternary"
           }
          ],
          "surface": [
           {
            "colorbar": {
             "outlinewidth": 0,
             "ticks": ""
            },
            "colorscale": [
             [
              0,
              "#0d0887"
             ],
             [
              0.1111111111111111,
              "#46039f"
             ],
             [
              0.2222222222222222,
              "#7201a8"
             ],
             [
              0.3333333333333333,
              "#9c179e"
             ],
             [
              0.4444444444444444,
              "#bd3786"
             ],
             [
              0.5555555555555556,
              "#d8576b"
             ],
             [
              0.6666666666666666,
              "#ed7953"
             ],
             [
              0.7777777777777778,
              "#fb9f3a"
             ],
             [
              0.8888888888888888,
              "#fdca26"
             ],
             [
              1,
              "#f0f921"
             ]
            ],
            "type": "surface"
           }
          ],
          "table": [
           {
            "cells": {
             "fill": {
              "color": "#EBF0F8"
             },
             "line": {
              "color": "white"
             }
            },
            "header": {
             "fill": {
              "color": "#C8D4E3"
             },
             "line": {
              "color": "white"
             }
            },
            "type": "table"
           }
          ]
         },
         "layout": {
          "annotationdefaults": {
           "arrowcolor": "#2a3f5f",
           "arrowhead": 0,
           "arrowwidth": 1
          },
          "autotypenumbers": "strict",
          "coloraxis": {
           "colorbar": {
            "outlinewidth": 0,
            "ticks": ""
           }
          },
          "colorscale": {
           "diverging": [
            [
             0,
             "#8e0152"
            ],
            [
             0.1,
             "#c51b7d"
            ],
            [
             0.2,
             "#de77ae"
            ],
            [
             0.3,
             "#f1b6da"
            ],
            [
             0.4,
             "#fde0ef"
            ],
            [
             0.5,
             "#f7f7f7"
            ],
            [
             0.6,
             "#e6f5d0"
            ],
            [
             0.7,
             "#b8e186"
            ],
            [
             0.8,
             "#7fbc41"
            ],
            [
             0.9,
             "#4d9221"
            ],
            [
             1,
             "#276419"
            ]
           ],
           "sequential": [
            [
             0,
             "#0d0887"
            ],
            [
             0.1111111111111111,
             "#46039f"
            ],
            [
             0.2222222222222222,
             "#7201a8"
            ],
            [
             0.3333333333333333,
             "#9c179e"
            ],
            [
             0.4444444444444444,
             "#bd3786"
            ],
            [
             0.5555555555555556,
             "#d8576b"
            ],
            [
             0.6666666666666666,
             "#ed7953"
            ],
            [
             0.7777777777777778,
             "#fb9f3a"
            ],
            [
             0.8888888888888888,
             "#fdca26"
            ],
            [
             1,
             "#f0f921"
            ]
           ],
           "sequentialminus": [
            [
             0,
             "#0d0887"
            ],
            [
             0.1111111111111111,
             "#46039f"
            ],
            [
             0.2222222222222222,
             "#7201a8"
            ],
            [
             0.3333333333333333,
             "#9c179e"
            ],
            [
             0.4444444444444444,
             "#bd3786"
            ],
            [
             0.5555555555555556,
             "#d8576b"
            ],
            [
             0.6666666666666666,
             "#ed7953"
            ],
            [
             0.7777777777777778,
             "#fb9f3a"
            ],
            [
             0.8888888888888888,
             "#fdca26"
            ],
            [
             1,
             "#f0f921"
            ]
           ]
          },
          "colorway": [
           "#636efa",
           "#EF553B",
           "#00cc96",
           "#ab63fa",
           "#FFA15A",
           "#19d3f3",
           "#FF6692",
           "#B6E880",
           "#FF97FF",
           "#FECB52"
          ],
          "font": {
           "color": "#2a3f5f"
          },
          "geo": {
           "bgcolor": "white",
           "lakecolor": "white",
           "landcolor": "#E5ECF6",
           "showlakes": true,
           "showland": true,
           "subunitcolor": "white"
          },
          "hoverlabel": {
           "align": "left"
          },
          "hovermode": "closest",
          "mapbox": {
           "style": "light"
          },
          "paper_bgcolor": "white",
          "plot_bgcolor": "#E5ECF6",
          "polar": {
           "angularaxis": {
            "gridcolor": "white",
            "linecolor": "white",
            "ticks": ""
           },
           "bgcolor": "#E5ECF6",
           "radialaxis": {
            "gridcolor": "white",
            "linecolor": "white",
            "ticks": ""
           }
          },
          "scene": {
           "xaxis": {
            "backgroundcolor": "#E5ECF6",
            "gridcolor": "white",
            "gridwidth": 2,
            "linecolor": "white",
            "showbackground": true,
            "ticks": "",
            "zerolinecolor": "white"
           },
           "yaxis": {
            "backgroundcolor": "#E5ECF6",
            "gridcolor": "white",
            "gridwidth": 2,
            "linecolor": "white",
            "showbackground": true,
            "ticks": "",
            "zerolinecolor": "white"
           },
           "zaxis": {
            "backgroundcolor": "#E5ECF6",
            "gridcolor": "white",
            "gridwidth": 2,
            "linecolor": "white",
            "showbackground": true,
            "ticks": "",
            "zerolinecolor": "white"
           }
          },
          "shapedefaults": {
           "line": {
            "color": "#2a3f5f"
           }
          },
          "ternary": {
           "aaxis": {
            "gridcolor": "white",
            "linecolor": "white",
            "ticks": ""
           },
           "baxis": {
            "gridcolor": "white",
            "linecolor": "white",
            "ticks": ""
           },
           "bgcolor": "#E5ECF6",
           "caxis": {
            "gridcolor": "white",
            "linecolor": "white",
            "ticks": ""
           }
          },
          "title": {
           "x": 0.05
          },
          "xaxis": {
           "automargin": true,
           "gridcolor": "white",
           "linecolor": "white",
           "ticks": "",
           "title": {
            "standoff": 15
           },
           "zerolinecolor": "white",
           "zerolinewidth": 2
          },
          "yaxis": {
           "automargin": true,
           "gridcolor": "white",
           "linecolor": "white",
           "ticks": "",
           "title": {
            "standoff": 15
           },
           "zerolinecolor": "white",
           "zerolinewidth": 2
          }
         }
        },
        "title": {
         "font": {
          "family": "Verdana"
         },
         "text": "Percent Change on Average Resident Salary"
        },
        "xaxis": {
         "anchor": "y",
         "domain": [
          0,
          1
         ],
         "title": {
          "text": "Quarter (2020)"
         }
        },
        "yaxis": {
         "anchor": "x",
         "domain": [
          0,
          1
         ],
         "tickformat": "%",
         "tickprefix": "",
         "title": {
          "text": "Average Resident Salary"
         }
        }
       }
      },
      "text/html": [
       "<div>                            <div id=\"37a48308-a283-44ca-b697-1b14d63aebe5\" class=\"plotly-graph-div\" style=\"height:525px; width:100%;\"></div>            <script type=\"text/javascript\">                require([\"plotly\"], function(Plotly) {                    window.PLOTLYENV=window.PLOTLYENV || {};                                    if (document.getElementById(\"37a48308-a283-44ca-b697-1b14d63aebe5\")) {                    Plotly.newPlot(                        \"37a48308-a283-44ca-b697-1b14d63aebe5\",                        [{\"hovertemplate\": \"Borough=Manhattan<br>Quarter (2020)=%{x}<br>ars_pct2=%{y}<extra></extra>\", \"legendgroup\": \"Manhattan\", \"line\": {\"color\": \"#08cc94\", \"dash\": \"solid\"}, \"mode\": \"lines\", \"name\": \"Manhattan\", \"orientation\": \"v\", \"showlegend\": true, \"type\": \"scatter\", \"x\": [1, 2, 3, 4], \"xaxis\": \"x\", \"y\": [0.0, -0.039, -0.045, -0.027], \"yaxis\": \"y\"}, {\"hovertemplate\": \"Borough=Queens<br>Quarter (2020)=%{x}<br>ars_pct2=%{y}<extra></extra>\", \"legendgroup\": \"Queens\", \"line\": {\"color\": \"#b064fc\", \"dash\": \"solid\"}, \"mode\": \"lines\", \"name\": \"Queens\", \"orientation\": \"v\", \"showlegend\": true, \"type\": \"scatter\", \"x\": [1, 2, 3, 4], \"xaxis\": \"x\", \"y\": [0.0, -0.017, -0.004000000000000002, 0.019], \"yaxis\": \"y\"}, {\"hovertemplate\": \"Borough=Bronx<br>Quarter (2020)=%{x}<br>ars_pct2=%{y}<extra></extra>\", \"legendgroup\": \"Bronx\", \"line\": {\"color\": \"#686cfc\", \"dash\": \"solid\"}, \"mode\": \"lines\", \"name\": \"Bronx\", \"orientation\": \"v\", \"showlegend\": true, \"type\": \"scatter\", \"x\": [1, 2, 3, 4], \"xaxis\": \"x\", \"y\": [0.0, -0.041, -0.079, -0.096], \"yaxis\": \"y\"}, {\"hovertemplate\": \"Borough=Brooklyn<br>Quarter (2020)=%{x}<br>ars_pct2=%{y}<extra></extra>\", \"legendgroup\": \"Brooklyn\", \"line\": {\"color\": \"#f0543c\", \"dash\": \"solid\"}, \"mode\": \"lines\", \"name\": \"Brooklyn\", \"orientation\": \"v\", \"showlegend\": true, \"type\": \"scatter\", \"x\": [1, 2, 3, 4], \"xaxis\": \"x\", \"y\": [0.0, -0.002, -0.008, -0.013], \"yaxis\": \"y\"}],                        {\"font\": {\"color\": \"White\", \"family\": \"Verdana\", \"size\": 13}, \"legend\": {\"title\": {\"text\": \"Borough\"}, \"tracegroupgap\": 0}, \"margin\": {\"t\": 60}, \"paper_bgcolor\": \"#374C60\", \"plot_bgcolor\": \"#eee\", \"template\": {\"data\": {\"bar\": [{\"error_x\": {\"color\": \"#2a3f5f\"}, \"error_y\": {\"color\": \"#2a3f5f\"}, \"marker\": {\"line\": {\"color\": \"#E5ECF6\", \"width\": 0.5}}, \"type\": \"bar\"}], \"barpolar\": [{\"marker\": {\"line\": {\"color\": \"#E5ECF6\", \"width\": 0.5}}, \"type\": \"barpolar\"}], \"carpet\": [{\"aaxis\": {\"endlinecolor\": \"#2a3f5f\", \"gridcolor\": \"white\", \"linecolor\": \"white\", \"minorgridcolor\": \"white\", \"startlinecolor\": \"#2a3f5f\"}, \"baxis\": {\"endlinecolor\": \"#2a3f5f\", \"gridcolor\": \"white\", \"linecolor\": \"white\", \"minorgridcolor\": \"white\", \"startlinecolor\": \"#2a3f5f\"}, \"type\": \"carpet\"}], \"choropleth\": [{\"colorbar\": {\"outlinewidth\": 0, \"ticks\": \"\"}, \"type\": \"choropleth\"}], \"contour\": [{\"colorbar\": {\"outlinewidth\": 0, \"ticks\": \"\"}, \"colorscale\": [[0.0, \"#0d0887\"], [0.1111111111111111, \"#46039f\"], [0.2222222222222222, \"#7201a8\"], [0.3333333333333333, \"#9c179e\"], [0.4444444444444444, \"#bd3786\"], [0.5555555555555556, \"#d8576b\"], [0.6666666666666666, \"#ed7953\"], [0.7777777777777778, \"#fb9f3a\"], [0.8888888888888888, \"#fdca26\"], [1.0, \"#f0f921\"]], \"type\": \"contour\"}], \"contourcarpet\": [{\"colorbar\": {\"outlinewidth\": 0, \"ticks\": \"\"}, \"type\": \"contourcarpet\"}], \"heatmap\": [{\"colorbar\": {\"outlinewidth\": 0, \"ticks\": \"\"}, \"colorscale\": [[0.0, \"#0d0887\"], [0.1111111111111111, \"#46039f\"], [0.2222222222222222, \"#7201a8\"], [0.3333333333333333, \"#9c179e\"], [0.4444444444444444, \"#bd3786\"], [0.5555555555555556, \"#d8576b\"], [0.6666666666666666, \"#ed7953\"], [0.7777777777777778, \"#fb9f3a\"], [0.8888888888888888, \"#fdca26\"], [1.0, \"#f0f921\"]], \"type\": \"heatmap\"}], \"heatmapgl\": [{\"colorbar\": {\"outlinewidth\": 0, \"ticks\": \"\"}, \"colorscale\": [[0.0, \"#0d0887\"], [0.1111111111111111, \"#46039f\"], [0.2222222222222222, \"#7201a8\"], [0.3333333333333333, \"#9c179e\"], [0.4444444444444444, \"#bd3786\"], [0.5555555555555556, \"#d8576b\"], [0.6666666666666666, \"#ed7953\"], [0.7777777777777778, \"#fb9f3a\"], [0.8888888888888888, \"#fdca26\"], [1.0, \"#f0f921\"]], \"type\": \"heatmapgl\"}], \"histogram\": [{\"marker\": {\"colorbar\": {\"outlinewidth\": 0, \"ticks\": \"\"}}, \"type\": \"histogram\"}], \"histogram2d\": [{\"colorbar\": {\"outlinewidth\": 0, \"ticks\": \"\"}, \"colorscale\": [[0.0, \"#0d0887\"], [0.1111111111111111, \"#46039f\"], [0.2222222222222222, \"#7201a8\"], [0.3333333333333333, \"#9c179e\"], [0.4444444444444444, \"#bd3786\"], [0.5555555555555556, \"#d8576b\"], [0.6666666666666666, \"#ed7953\"], [0.7777777777777778, \"#fb9f3a\"], [0.8888888888888888, \"#fdca26\"], [1.0, \"#f0f921\"]], \"type\": \"histogram2d\"}], \"histogram2dcontour\": [{\"colorbar\": {\"outlinewidth\": 0, \"ticks\": \"\"}, \"colorscale\": [[0.0, \"#0d0887\"], [0.1111111111111111, \"#46039f\"], [0.2222222222222222, \"#7201a8\"], [0.3333333333333333, \"#9c179e\"], [0.4444444444444444, \"#bd3786\"], [0.5555555555555556, \"#d8576b\"], [0.6666666666666666, \"#ed7953\"], [0.7777777777777778, \"#fb9f3a\"], [0.8888888888888888, \"#fdca26\"], [1.0, \"#f0f921\"]], \"type\": \"histogram2dcontour\"}], \"mesh3d\": [{\"colorbar\": {\"outlinewidth\": 0, \"ticks\": \"\"}, \"type\": \"mesh3d\"}], \"parcoords\": [{\"line\": {\"colorbar\": {\"outlinewidth\": 0, \"ticks\": \"\"}}, \"type\": \"parcoords\"}], \"pie\": [{\"automargin\": true, \"type\": \"pie\"}], \"scatter\": [{\"marker\": {\"colorbar\": {\"outlinewidth\": 0, \"ticks\": \"\"}}, \"type\": \"scatter\"}], \"scatter3d\": [{\"line\": {\"colorbar\": {\"outlinewidth\": 0, \"ticks\": \"\"}}, \"marker\": {\"colorbar\": {\"outlinewidth\": 0, \"ticks\": \"\"}}, \"type\": \"scatter3d\"}], \"scattercarpet\": [{\"marker\": {\"colorbar\": {\"outlinewidth\": 0, \"ticks\": \"\"}}, \"type\": \"scattercarpet\"}], \"scattergeo\": [{\"marker\": {\"colorbar\": {\"outlinewidth\": 0, \"ticks\": \"\"}}, \"type\": \"scattergeo\"}], \"scattergl\": [{\"marker\": {\"colorbar\": {\"outlinewidth\": 0, \"ticks\": \"\"}}, \"type\": \"scattergl\"}], \"scattermapbox\": [{\"marker\": {\"colorbar\": {\"outlinewidth\": 0, \"ticks\": \"\"}}, \"type\": \"scattermapbox\"}], \"scatterpolar\": [{\"marker\": {\"colorbar\": {\"outlinewidth\": 0, \"ticks\": \"\"}}, \"type\": \"scatterpolar\"}], \"scatterpolargl\": [{\"marker\": {\"colorbar\": {\"outlinewidth\": 0, \"ticks\": \"\"}}, \"type\": \"scatterpolargl\"}], \"scatterternary\": [{\"marker\": {\"colorbar\": {\"outlinewidth\": 0, \"ticks\": \"\"}}, \"type\": \"scatterternary\"}], \"surface\": [{\"colorbar\": {\"outlinewidth\": 0, \"ticks\": \"\"}, \"colorscale\": [[0.0, \"#0d0887\"], [0.1111111111111111, \"#46039f\"], [0.2222222222222222, \"#7201a8\"], [0.3333333333333333, \"#9c179e\"], [0.4444444444444444, \"#bd3786\"], [0.5555555555555556, \"#d8576b\"], [0.6666666666666666, \"#ed7953\"], [0.7777777777777778, \"#fb9f3a\"], [0.8888888888888888, \"#fdca26\"], [1.0, \"#f0f921\"]], \"type\": \"surface\"}], \"table\": [{\"cells\": {\"fill\": {\"color\": \"#EBF0F8\"}, \"line\": {\"color\": \"white\"}}, \"header\": {\"fill\": {\"color\": \"#C8D4E3\"}, \"line\": {\"color\": \"white\"}}, \"type\": \"table\"}]}, \"layout\": {\"annotationdefaults\": {\"arrowcolor\": \"#2a3f5f\", \"arrowhead\": 0, \"arrowwidth\": 1}, \"autotypenumbers\": \"strict\", \"coloraxis\": {\"colorbar\": {\"outlinewidth\": 0, \"ticks\": \"\"}}, \"colorscale\": {\"diverging\": [[0, \"#8e0152\"], [0.1, \"#c51b7d\"], [0.2, \"#de77ae\"], [0.3, \"#f1b6da\"], [0.4, \"#fde0ef\"], [0.5, \"#f7f7f7\"], [0.6, \"#e6f5d0\"], [0.7, \"#b8e186\"], [0.8, \"#7fbc41\"], [0.9, \"#4d9221\"], [1, \"#276419\"]], \"sequential\": [[0.0, \"#0d0887\"], [0.1111111111111111, \"#46039f\"], [0.2222222222222222, \"#7201a8\"], [0.3333333333333333, \"#9c179e\"], [0.4444444444444444, \"#bd3786\"], [0.5555555555555556, \"#d8576b\"], [0.6666666666666666, \"#ed7953\"], [0.7777777777777778, \"#fb9f3a\"], [0.8888888888888888, \"#fdca26\"], [1.0, \"#f0f921\"]], \"sequentialminus\": [[0.0, \"#0d0887\"], [0.1111111111111111, \"#46039f\"], [0.2222222222222222, \"#7201a8\"], [0.3333333333333333, \"#9c179e\"], [0.4444444444444444, \"#bd3786\"], [0.5555555555555556, \"#d8576b\"], [0.6666666666666666, \"#ed7953\"], [0.7777777777777778, \"#fb9f3a\"], [0.8888888888888888, \"#fdca26\"], [1.0, \"#f0f921\"]]}, \"colorway\": [\"#636efa\", \"#EF553B\", \"#00cc96\", \"#ab63fa\", \"#FFA15A\", \"#19d3f3\", \"#FF6692\", \"#B6E880\", \"#FF97FF\", \"#FECB52\"], \"font\": {\"color\": \"#2a3f5f\"}, \"geo\": {\"bgcolor\": \"white\", \"lakecolor\": \"white\", \"landcolor\": \"#E5ECF6\", \"showlakes\": true, \"showland\": true, \"subunitcolor\": \"white\"}, \"hoverlabel\": {\"align\": \"left\"}, \"hovermode\": \"closest\", \"mapbox\": {\"style\": \"light\"}, \"paper_bgcolor\": \"white\", \"plot_bgcolor\": \"#E5ECF6\", \"polar\": {\"angularaxis\": {\"gridcolor\": \"white\", \"linecolor\": \"white\", \"ticks\": \"\"}, \"bgcolor\": \"#E5ECF6\", \"radialaxis\": {\"gridcolor\": \"white\", \"linecolor\": \"white\", \"ticks\": \"\"}}, \"scene\": {\"xaxis\": {\"backgroundcolor\": \"#E5ECF6\", \"gridcolor\": \"white\", \"gridwidth\": 2, \"linecolor\": \"white\", \"showbackground\": true, \"ticks\": \"\", \"zerolinecolor\": \"white\"}, \"yaxis\": {\"backgroundcolor\": \"#E5ECF6\", \"gridcolor\": \"white\", \"gridwidth\": 2, \"linecolor\": \"white\", \"showbackground\": true, \"ticks\": \"\", \"zerolinecolor\": \"white\"}, \"zaxis\": {\"backgroundcolor\": \"#E5ECF6\", \"gridcolor\": \"white\", \"gridwidth\": 2, \"linecolor\": \"white\", \"showbackground\": true, \"ticks\": \"\", \"zerolinecolor\": \"white\"}}, \"shapedefaults\": {\"line\": {\"color\": \"#2a3f5f\"}}, \"ternary\": {\"aaxis\": {\"gridcolor\": \"white\", \"linecolor\": \"white\", \"ticks\": \"\"}, \"baxis\": {\"gridcolor\": \"white\", \"linecolor\": \"white\", \"ticks\": \"\"}, \"bgcolor\": \"#E5ECF6\", \"caxis\": {\"gridcolor\": \"white\", \"linecolor\": \"white\", \"ticks\": \"\"}}, \"title\": {\"x\": 0.05}, \"xaxis\": {\"automargin\": true, \"gridcolor\": \"white\", \"linecolor\": \"white\", \"ticks\": \"\", \"title\": {\"standoff\": 15}, \"zerolinecolor\": \"white\", \"zerolinewidth\": 2}, \"yaxis\": {\"automargin\": true, \"gridcolor\": \"white\", \"linecolor\": \"white\", \"ticks\": \"\", \"title\": {\"standoff\": 15}, \"zerolinecolor\": \"white\", \"zerolinewidth\": 2}}}, \"title\": {\"font\": {\"family\": \"Verdana\"}, \"text\": \"Percent Change on Average Resident Salary\"}, \"xaxis\": {\"anchor\": \"y\", \"domain\": [0.0, 1.0], \"title\": {\"text\": \"Quarter (2020)\"}}, \"yaxis\": {\"anchor\": \"x\", \"domain\": [0.0, 1.0], \"tickformat\": \"%\", \"tickprefix\": \"\", \"title\": {\"text\": \"Average Resident Salary\"}}},                        {\"responsive\": true}                    ).then(function(){\n",
       "                            \n",
       "var gd = document.getElementById('37a48308-a283-44ca-b697-1b14d63aebe5');\n",
       "var x = new MutationObserver(function (mutations, observer) {{\n",
       "        var display = window.getComputedStyle(gd).display;\n",
       "        if (!display || display === 'none') {{\n",
       "            console.log([gd, 'removed!']);\n",
       "            Plotly.purge(gd);\n",
       "            observer.disconnect();\n",
       "        }}\n",
       "}});\n",
       "\n",
       "// Listen for the removal of the full notebook cells\n",
       "var notebookContainer = gd.closest('#notebook-container');\n",
       "if (notebookContainer) {{\n",
       "    x.observe(notebookContainer, {childList: true});\n",
       "}}\n",
       "\n",
       "// Listen for the clearing of the current output cell\n",
       "var outputEl = gd.closest('.output');\n",
       "if (outputEl) {{\n",
       "    x.observe(outputEl, {childList: true});\n",
       "}}\n",
       "\n",
       "                        })                };                });            </script>        </div>"
      ]
     },
     "metadata": {},
     "output_type": "display_data"
    },
    {
     "data": {
      "application/vnd.plotly.v1+json": {
       "config": {
        "plotlyServerURL": "https://plot.ly"
       },
       "data": [
        {
         "hovertemplate": "Borough=Manhattan<br>Quarter (2020)=%{x}<br>num_pct2=%{y}<extra></extra>",
         "legendgroup": "Manhattan",
         "line": {
          "color": "#08cc94",
          "dash": "solid"
         },
         "mode": "lines",
         "name": "Manhattan",
         "orientation": "v",
         "showlegend": true,
         "type": "scatter",
         "x": [
          1,
          2,
          3,
          4
         ],
         "xaxis": "x",
         "y": [
          0,
          -0.023,
          -0.11199999999999999,
          -0.112
         ],
         "yaxis": "y"
        },
        {
         "hovertemplate": "Borough=Queens<br>Quarter (2020)=%{x}<br>num_pct2=%{y}<extra></extra>",
         "legendgroup": "Queens",
         "line": {
          "color": "#b064fc",
          "dash": "solid"
         },
         "mode": "lines",
         "name": "Queens",
         "orientation": "v",
         "showlegend": true,
         "type": "scatter",
         "x": [
          1,
          2,
          3,
          4
         ],
         "xaxis": "x",
         "y": [
          0,
          -0.049,
          0.023999999999999994,
          0.03
         ],
         "yaxis": "y"
        },
        {
         "hovertemplate": "Borough=Bronx<br>Quarter (2020)=%{x}<br>num_pct2=%{y}<extra></extra>",
         "legendgroup": "Bronx",
         "line": {
          "color": "#686cfc",
          "dash": "solid"
         },
         "mode": "lines",
         "name": "Bronx",
         "orientation": "v",
         "showlegend": true,
         "type": "scatter",
         "x": [
          1,
          2,
          3,
          4
         ],
         "xaxis": "x",
         "y": [
          0,
          0.052,
          0.06,
          0.122
         ],
         "yaxis": "y"
        },
        {
         "hovertemplate": "Borough=Brooklyn<br>Quarter (2020)=%{x}<br>num_pct2=%{y}<extra></extra>",
         "legendgroup": "Brooklyn",
         "line": {
          "color": "#f0543c",
          "dash": "solid"
         },
         "mode": "lines",
         "name": "Brooklyn",
         "orientation": "v",
         "showlegend": true,
         "type": "scatter",
         "x": [
          1,
          2,
          3,
          4
         ],
         "xaxis": "x",
         "y": [
          0,
          -0.052,
          -0.015,
          0.025
         ],
         "yaxis": "y"
        }
       ],
       "layout": {
        "font": {
         "color": "White",
         "family": "Verdana",
         "size": 13
        },
        "legend": {
         "title": {
          "text": "Borough"
         },
         "tracegroupgap": 0
        },
        "margin": {
         "t": 60
        },
        "paper_bgcolor": "#374C60",
        "plot_bgcolor": "#eee",
        "template": {
         "data": {
          "bar": [
           {
            "error_x": {
             "color": "#2a3f5f"
            },
            "error_y": {
             "color": "#2a3f5f"
            },
            "marker": {
             "line": {
              "color": "#E5ECF6",
              "width": 0.5
             }
            },
            "type": "bar"
           }
          ],
          "barpolar": [
           {
            "marker": {
             "line": {
              "color": "#E5ECF6",
              "width": 0.5
             }
            },
            "type": "barpolar"
           }
          ],
          "carpet": [
           {
            "aaxis": {
             "endlinecolor": "#2a3f5f",
             "gridcolor": "white",
             "linecolor": "white",
             "minorgridcolor": "white",
             "startlinecolor": "#2a3f5f"
            },
            "baxis": {
             "endlinecolor": "#2a3f5f",
             "gridcolor": "white",
             "linecolor": "white",
             "minorgridcolor": "white",
             "startlinecolor": "#2a3f5f"
            },
            "type": "carpet"
           }
          ],
          "choropleth": [
           {
            "colorbar": {
             "outlinewidth": 0,
             "ticks": ""
            },
            "type": "choropleth"
           }
          ],
          "contour": [
           {
            "colorbar": {
             "outlinewidth": 0,
             "ticks": ""
            },
            "colorscale": [
             [
              0,
              "#0d0887"
             ],
             [
              0.1111111111111111,
              "#46039f"
             ],
             [
              0.2222222222222222,
              "#7201a8"
             ],
             [
              0.3333333333333333,
              "#9c179e"
             ],
             [
              0.4444444444444444,
              "#bd3786"
             ],
             [
              0.5555555555555556,
              "#d8576b"
             ],
             [
              0.6666666666666666,
              "#ed7953"
             ],
             [
              0.7777777777777778,
              "#fb9f3a"
             ],
             [
              0.8888888888888888,
              "#fdca26"
             ],
             [
              1,
              "#f0f921"
             ]
            ],
            "type": "contour"
           }
          ],
          "contourcarpet": [
           {
            "colorbar": {
             "outlinewidth": 0,
             "ticks": ""
            },
            "type": "contourcarpet"
           }
          ],
          "heatmap": [
           {
            "colorbar": {
             "outlinewidth": 0,
             "ticks": ""
            },
            "colorscale": [
             [
              0,
              "#0d0887"
             ],
             [
              0.1111111111111111,
              "#46039f"
             ],
             [
              0.2222222222222222,
              "#7201a8"
             ],
             [
              0.3333333333333333,
              "#9c179e"
             ],
             [
              0.4444444444444444,
              "#bd3786"
             ],
             [
              0.5555555555555556,
              "#d8576b"
             ],
             [
              0.6666666666666666,
              "#ed7953"
             ],
             [
              0.7777777777777778,
              "#fb9f3a"
             ],
             [
              0.8888888888888888,
              "#fdca26"
             ],
             [
              1,
              "#f0f921"
             ]
            ],
            "type": "heatmap"
           }
          ],
          "heatmapgl": [
           {
            "colorbar": {
             "outlinewidth": 0,
             "ticks": ""
            },
            "colorscale": [
             [
              0,
              "#0d0887"
             ],
             [
              0.1111111111111111,
              "#46039f"
             ],
             [
              0.2222222222222222,
              "#7201a8"
             ],
             [
              0.3333333333333333,
              "#9c179e"
             ],
             [
              0.4444444444444444,
              "#bd3786"
             ],
             [
              0.5555555555555556,
              "#d8576b"
             ],
             [
              0.6666666666666666,
              "#ed7953"
             ],
             [
              0.7777777777777778,
              "#fb9f3a"
             ],
             [
              0.8888888888888888,
              "#fdca26"
             ],
             [
              1,
              "#f0f921"
             ]
            ],
            "type": "heatmapgl"
           }
          ],
          "histogram": [
           {
            "marker": {
             "colorbar": {
              "outlinewidth": 0,
              "ticks": ""
             }
            },
            "type": "histogram"
           }
          ],
          "histogram2d": [
           {
            "colorbar": {
             "outlinewidth": 0,
             "ticks": ""
            },
            "colorscale": [
             [
              0,
              "#0d0887"
             ],
             [
              0.1111111111111111,
              "#46039f"
             ],
             [
              0.2222222222222222,
              "#7201a8"
             ],
             [
              0.3333333333333333,
              "#9c179e"
             ],
             [
              0.4444444444444444,
              "#bd3786"
             ],
             [
              0.5555555555555556,
              "#d8576b"
             ],
             [
              0.6666666666666666,
              "#ed7953"
             ],
             [
              0.7777777777777778,
              "#fb9f3a"
             ],
             [
              0.8888888888888888,
              "#fdca26"
             ],
             [
              1,
              "#f0f921"
             ]
            ],
            "type": "histogram2d"
           }
          ],
          "histogram2dcontour": [
           {
            "colorbar": {
             "outlinewidth": 0,
             "ticks": ""
            },
            "colorscale": [
             [
              0,
              "#0d0887"
             ],
             [
              0.1111111111111111,
              "#46039f"
             ],
             [
              0.2222222222222222,
              "#7201a8"
             ],
             [
              0.3333333333333333,
              "#9c179e"
             ],
             [
              0.4444444444444444,
              "#bd3786"
             ],
             [
              0.5555555555555556,
              "#d8576b"
             ],
             [
              0.6666666666666666,
              "#ed7953"
             ],
             [
              0.7777777777777778,
              "#fb9f3a"
             ],
             [
              0.8888888888888888,
              "#fdca26"
             ],
             [
              1,
              "#f0f921"
             ]
            ],
            "type": "histogram2dcontour"
           }
          ],
          "mesh3d": [
           {
            "colorbar": {
             "outlinewidth": 0,
             "ticks": ""
            },
            "type": "mesh3d"
           }
          ],
          "parcoords": [
           {
            "line": {
             "colorbar": {
              "outlinewidth": 0,
              "ticks": ""
             }
            },
            "type": "parcoords"
           }
          ],
          "pie": [
           {
            "automargin": true,
            "type": "pie"
           }
          ],
          "scatter": [
           {
            "marker": {
             "colorbar": {
              "outlinewidth": 0,
              "ticks": ""
             }
            },
            "type": "scatter"
           }
          ],
          "scatter3d": [
           {
            "line": {
             "colorbar": {
              "outlinewidth": 0,
              "ticks": ""
             }
            },
            "marker": {
             "colorbar": {
              "outlinewidth": 0,
              "ticks": ""
             }
            },
            "type": "scatter3d"
           }
          ],
          "scattercarpet": [
           {
            "marker": {
             "colorbar": {
              "outlinewidth": 0,
              "ticks": ""
             }
            },
            "type": "scattercarpet"
           }
          ],
          "scattergeo": [
           {
            "marker": {
             "colorbar": {
              "outlinewidth": 0,
              "ticks": ""
             }
            },
            "type": "scattergeo"
           }
          ],
          "scattergl": [
           {
            "marker": {
             "colorbar": {
              "outlinewidth": 0,
              "ticks": ""
             }
            },
            "type": "scattergl"
           }
          ],
          "scattermapbox": [
           {
            "marker": {
             "colorbar": {
              "outlinewidth": 0,
              "ticks": ""
             }
            },
            "type": "scattermapbox"
           }
          ],
          "scatterpolar": [
           {
            "marker": {
             "colorbar": {
              "outlinewidth": 0,
              "ticks": ""
             }
            },
            "type": "scatterpolar"
           }
          ],
          "scatterpolargl": [
           {
            "marker": {
             "colorbar": {
              "outlinewidth": 0,
              "ticks": ""
             }
            },
            "type": "scatterpolargl"
           }
          ],
          "scatterternary": [
           {
            "marker": {
             "colorbar": {
              "outlinewidth": 0,
              "ticks": ""
             }
            },
            "type": "scatterternary"
           }
          ],
          "surface": [
           {
            "colorbar": {
             "outlinewidth": 0,
             "ticks": ""
            },
            "colorscale": [
             [
              0,
              "#0d0887"
             ],
             [
              0.1111111111111111,
              "#46039f"
             ],
             [
              0.2222222222222222,
              "#7201a8"
             ],
             [
              0.3333333333333333,
              "#9c179e"
             ],
             [
              0.4444444444444444,
              "#bd3786"
             ],
             [
              0.5555555555555556,
              "#d8576b"
             ],
             [
              0.6666666666666666,
              "#ed7953"
             ],
             [
              0.7777777777777778,
              "#fb9f3a"
             ],
             [
              0.8888888888888888,
              "#fdca26"
             ],
             [
              1,
              "#f0f921"
             ]
            ],
            "type": "surface"
           }
          ],
          "table": [
           {
            "cells": {
             "fill": {
              "color": "#EBF0F8"
             },
             "line": {
              "color": "white"
             }
            },
            "header": {
             "fill": {
              "color": "#C8D4E3"
             },
             "line": {
              "color": "white"
             }
            },
            "type": "table"
           }
          ]
         },
         "layout": {
          "annotationdefaults": {
           "arrowcolor": "#2a3f5f",
           "arrowhead": 0,
           "arrowwidth": 1
          },
          "autotypenumbers": "strict",
          "coloraxis": {
           "colorbar": {
            "outlinewidth": 0,
            "ticks": ""
           }
          },
          "colorscale": {
           "diverging": [
            [
             0,
             "#8e0152"
            ],
            [
             0.1,
             "#c51b7d"
            ],
            [
             0.2,
             "#de77ae"
            ],
            [
             0.3,
             "#f1b6da"
            ],
            [
             0.4,
             "#fde0ef"
            ],
            [
             0.5,
             "#f7f7f7"
            ],
            [
             0.6,
             "#e6f5d0"
            ],
            [
             0.7,
             "#b8e186"
            ],
            [
             0.8,
             "#7fbc41"
            ],
            [
             0.9,
             "#4d9221"
            ],
            [
             1,
             "#276419"
            ]
           ],
           "sequential": [
            [
             0,
             "#0d0887"
            ],
            [
             0.1111111111111111,
             "#46039f"
            ],
            [
             0.2222222222222222,
             "#7201a8"
            ],
            [
             0.3333333333333333,
             "#9c179e"
            ],
            [
             0.4444444444444444,
             "#bd3786"
            ],
            [
             0.5555555555555556,
             "#d8576b"
            ],
            [
             0.6666666666666666,
             "#ed7953"
            ],
            [
             0.7777777777777778,
             "#fb9f3a"
            ],
            [
             0.8888888888888888,
             "#fdca26"
            ],
            [
             1,
             "#f0f921"
            ]
           ],
           "sequentialminus": [
            [
             0,
             "#0d0887"
            ],
            [
             0.1111111111111111,
             "#46039f"
            ],
            [
             0.2222222222222222,
             "#7201a8"
            ],
            [
             0.3333333333333333,
             "#9c179e"
            ],
            [
             0.4444444444444444,
             "#bd3786"
            ],
            [
             0.5555555555555556,
             "#d8576b"
            ],
            [
             0.6666666666666666,
             "#ed7953"
            ],
            [
             0.7777777777777778,
             "#fb9f3a"
            ],
            [
             0.8888888888888888,
             "#fdca26"
            ],
            [
             1,
             "#f0f921"
            ]
           ]
          },
          "colorway": [
           "#636efa",
           "#EF553B",
           "#00cc96",
           "#ab63fa",
           "#FFA15A",
           "#19d3f3",
           "#FF6692",
           "#B6E880",
           "#FF97FF",
           "#FECB52"
          ],
          "font": {
           "color": "#2a3f5f"
          },
          "geo": {
           "bgcolor": "white",
           "lakecolor": "white",
           "landcolor": "#E5ECF6",
           "showlakes": true,
           "showland": true,
           "subunitcolor": "white"
          },
          "hoverlabel": {
           "align": "left"
          },
          "hovermode": "closest",
          "mapbox": {
           "style": "light"
          },
          "paper_bgcolor": "white",
          "plot_bgcolor": "#E5ECF6",
          "polar": {
           "angularaxis": {
            "gridcolor": "white",
            "linecolor": "white",
            "ticks": ""
           },
           "bgcolor": "#E5ECF6",
           "radialaxis": {
            "gridcolor": "white",
            "linecolor": "white",
            "ticks": ""
           }
          },
          "scene": {
           "xaxis": {
            "backgroundcolor": "#E5ECF6",
            "gridcolor": "white",
            "gridwidth": 2,
            "linecolor": "white",
            "showbackground": true,
            "ticks": "",
            "zerolinecolor": "white"
           },
           "yaxis": {
            "backgroundcolor": "#E5ECF6",
            "gridcolor": "white",
            "gridwidth": 2,
            "linecolor": "white",
            "showbackground": true,
            "ticks": "",
            "zerolinecolor": "white"
           },
           "zaxis": {
            "backgroundcolor": "#E5ECF6",
            "gridcolor": "white",
            "gridwidth": 2,
            "linecolor": "white",
            "showbackground": true,
            "ticks": "",
            "zerolinecolor": "white"
           }
          },
          "shapedefaults": {
           "line": {
            "color": "#2a3f5f"
           }
          },
          "ternary": {
           "aaxis": {
            "gridcolor": "white",
            "linecolor": "white",
            "ticks": ""
           },
           "baxis": {
            "gridcolor": "white",
            "linecolor": "white",
            "ticks": ""
           },
           "bgcolor": "#E5ECF6",
           "caxis": {
            "gridcolor": "white",
            "linecolor": "white",
            "ticks": ""
           }
          },
          "title": {
           "x": 0.05
          },
          "xaxis": {
           "automargin": true,
           "gridcolor": "white",
           "linecolor": "white",
           "ticks": "",
           "title": {
            "standoff": 15
           },
           "zerolinecolor": "white",
           "zerolinewidth": 2
          },
          "yaxis": {
           "automargin": true,
           "gridcolor": "white",
           "linecolor": "white",
           "ticks": "",
           "title": {
            "standoff": 15
           },
           "zerolinecolor": "white",
           "zerolinewidth": 2
          }
         }
        },
        "title": {
         "font": {
          "family": "Verdana"
         },
         "text": "Percent Change on # of Restaurants"
        },
        "xaxis": {
         "anchor": "y",
         "domain": [
          0,
          1
         ],
         "title": {
          "text": "Quarter (2020)"
         }
        },
        "yaxis": {
         "anchor": "x",
         "domain": [
          0,
          1
         ],
         "tickformat": "%",
         "tickprefix": "",
         "title": {
          "text": "# of Restaurants"
         }
        }
       }
      },
      "text/html": [
       "<div>                            <div id=\"8c83a74c-38f1-4678-b1da-3741101a3550\" class=\"plotly-graph-div\" style=\"height:525px; width:100%;\"></div>            <script type=\"text/javascript\">                require([\"plotly\"], function(Plotly) {                    window.PLOTLYENV=window.PLOTLYENV || {};                                    if (document.getElementById(\"8c83a74c-38f1-4678-b1da-3741101a3550\")) {                    Plotly.newPlot(                        \"8c83a74c-38f1-4678-b1da-3741101a3550\",                        [{\"hovertemplate\": \"Borough=Manhattan<br>Quarter (2020)=%{x}<br>num_pct2=%{y}<extra></extra>\", \"legendgroup\": \"Manhattan\", \"line\": {\"color\": \"#08cc94\", \"dash\": \"solid\"}, \"mode\": \"lines\", \"name\": \"Manhattan\", \"orientation\": \"v\", \"showlegend\": true, \"type\": \"scatter\", \"x\": [1, 2, 3, 4], \"xaxis\": \"x\", \"y\": [0.0, -0.023, -0.11199999999999999, -0.112], \"yaxis\": \"y\"}, {\"hovertemplate\": \"Borough=Queens<br>Quarter (2020)=%{x}<br>num_pct2=%{y}<extra></extra>\", \"legendgroup\": \"Queens\", \"line\": {\"color\": \"#b064fc\", \"dash\": \"solid\"}, \"mode\": \"lines\", \"name\": \"Queens\", \"orientation\": \"v\", \"showlegend\": true, \"type\": \"scatter\", \"x\": [1, 2, 3, 4], \"xaxis\": \"x\", \"y\": [0.0, -0.049, 0.023999999999999994, 0.03], \"yaxis\": \"y\"}, {\"hovertemplate\": \"Borough=Bronx<br>Quarter (2020)=%{x}<br>num_pct2=%{y}<extra></extra>\", \"legendgroup\": \"Bronx\", \"line\": {\"color\": \"#686cfc\", \"dash\": \"solid\"}, \"mode\": \"lines\", \"name\": \"Bronx\", \"orientation\": \"v\", \"showlegend\": true, \"type\": \"scatter\", \"x\": [1, 2, 3, 4], \"xaxis\": \"x\", \"y\": [0.0, 0.052, 0.06, 0.122], \"yaxis\": \"y\"}, {\"hovertemplate\": \"Borough=Brooklyn<br>Quarter (2020)=%{x}<br>num_pct2=%{y}<extra></extra>\", \"legendgroup\": \"Brooklyn\", \"line\": {\"color\": \"#f0543c\", \"dash\": \"solid\"}, \"mode\": \"lines\", \"name\": \"Brooklyn\", \"orientation\": \"v\", \"showlegend\": true, \"type\": \"scatter\", \"x\": [1, 2, 3, 4], \"xaxis\": \"x\", \"y\": [0.0, -0.052, -0.015, 0.025], \"yaxis\": \"y\"}],                        {\"font\": {\"color\": \"White\", \"family\": \"Verdana\", \"size\": 13}, \"legend\": {\"title\": {\"text\": \"Borough\"}, \"tracegroupgap\": 0}, \"margin\": {\"t\": 60}, \"paper_bgcolor\": \"#374C60\", \"plot_bgcolor\": \"#eee\", \"template\": {\"data\": {\"bar\": [{\"error_x\": {\"color\": \"#2a3f5f\"}, \"error_y\": {\"color\": \"#2a3f5f\"}, \"marker\": {\"line\": {\"color\": \"#E5ECF6\", \"width\": 0.5}}, \"type\": \"bar\"}], \"barpolar\": [{\"marker\": {\"line\": {\"color\": \"#E5ECF6\", \"width\": 0.5}}, \"type\": \"barpolar\"}], \"carpet\": [{\"aaxis\": {\"endlinecolor\": \"#2a3f5f\", \"gridcolor\": \"white\", \"linecolor\": \"white\", \"minorgridcolor\": \"white\", \"startlinecolor\": \"#2a3f5f\"}, \"baxis\": {\"endlinecolor\": \"#2a3f5f\", \"gridcolor\": \"white\", \"linecolor\": \"white\", \"minorgridcolor\": \"white\", \"startlinecolor\": \"#2a3f5f\"}, \"type\": \"carpet\"}], \"choropleth\": [{\"colorbar\": {\"outlinewidth\": 0, \"ticks\": \"\"}, \"type\": \"choropleth\"}], \"contour\": [{\"colorbar\": {\"outlinewidth\": 0, \"ticks\": \"\"}, \"colorscale\": [[0.0, \"#0d0887\"], [0.1111111111111111, \"#46039f\"], [0.2222222222222222, \"#7201a8\"], [0.3333333333333333, \"#9c179e\"], [0.4444444444444444, \"#bd3786\"], [0.5555555555555556, \"#d8576b\"], [0.6666666666666666, \"#ed7953\"], [0.7777777777777778, \"#fb9f3a\"], [0.8888888888888888, \"#fdca26\"], [1.0, \"#f0f921\"]], \"type\": \"contour\"}], \"contourcarpet\": [{\"colorbar\": {\"outlinewidth\": 0, \"ticks\": \"\"}, \"type\": \"contourcarpet\"}], \"heatmap\": [{\"colorbar\": {\"outlinewidth\": 0, \"ticks\": \"\"}, \"colorscale\": [[0.0, \"#0d0887\"], [0.1111111111111111, \"#46039f\"], [0.2222222222222222, \"#7201a8\"], [0.3333333333333333, \"#9c179e\"], [0.4444444444444444, \"#bd3786\"], [0.5555555555555556, \"#d8576b\"], [0.6666666666666666, \"#ed7953\"], [0.7777777777777778, \"#fb9f3a\"], [0.8888888888888888, \"#fdca26\"], [1.0, \"#f0f921\"]], \"type\": \"heatmap\"}], \"heatmapgl\": [{\"colorbar\": {\"outlinewidth\": 0, \"ticks\": \"\"}, \"colorscale\": [[0.0, \"#0d0887\"], [0.1111111111111111, \"#46039f\"], [0.2222222222222222, \"#7201a8\"], [0.3333333333333333, \"#9c179e\"], [0.4444444444444444, \"#bd3786\"], [0.5555555555555556, \"#d8576b\"], [0.6666666666666666, \"#ed7953\"], [0.7777777777777778, \"#fb9f3a\"], [0.8888888888888888, \"#fdca26\"], [1.0, \"#f0f921\"]], \"type\": \"heatmapgl\"}], \"histogram\": [{\"marker\": {\"colorbar\": {\"outlinewidth\": 0, \"ticks\": \"\"}}, \"type\": \"histogram\"}], \"histogram2d\": [{\"colorbar\": {\"outlinewidth\": 0, \"ticks\": \"\"}, \"colorscale\": [[0.0, \"#0d0887\"], [0.1111111111111111, \"#46039f\"], [0.2222222222222222, \"#7201a8\"], [0.3333333333333333, \"#9c179e\"], [0.4444444444444444, \"#bd3786\"], [0.5555555555555556, \"#d8576b\"], [0.6666666666666666, \"#ed7953\"], [0.7777777777777778, \"#fb9f3a\"], [0.8888888888888888, \"#fdca26\"], [1.0, \"#f0f921\"]], \"type\": \"histogram2d\"}], \"histogram2dcontour\": [{\"colorbar\": {\"outlinewidth\": 0, \"ticks\": \"\"}, \"colorscale\": [[0.0, \"#0d0887\"], [0.1111111111111111, \"#46039f\"], [0.2222222222222222, \"#7201a8\"], [0.3333333333333333, \"#9c179e\"], [0.4444444444444444, \"#bd3786\"], [0.5555555555555556, \"#d8576b\"], [0.6666666666666666, \"#ed7953\"], [0.7777777777777778, \"#fb9f3a\"], [0.8888888888888888, \"#fdca26\"], [1.0, \"#f0f921\"]], \"type\": \"histogram2dcontour\"}], \"mesh3d\": [{\"colorbar\": {\"outlinewidth\": 0, \"ticks\": \"\"}, \"type\": \"mesh3d\"}], \"parcoords\": [{\"line\": {\"colorbar\": {\"outlinewidth\": 0, \"ticks\": \"\"}}, \"type\": \"parcoords\"}], \"pie\": [{\"automargin\": true, \"type\": \"pie\"}], \"scatter\": [{\"marker\": {\"colorbar\": {\"outlinewidth\": 0, \"ticks\": \"\"}}, \"type\": \"scatter\"}], \"scatter3d\": [{\"line\": {\"colorbar\": {\"outlinewidth\": 0, \"ticks\": \"\"}}, \"marker\": {\"colorbar\": {\"outlinewidth\": 0, \"ticks\": \"\"}}, \"type\": \"scatter3d\"}], \"scattercarpet\": [{\"marker\": {\"colorbar\": {\"outlinewidth\": 0, \"ticks\": \"\"}}, \"type\": \"scattercarpet\"}], \"scattergeo\": [{\"marker\": {\"colorbar\": {\"outlinewidth\": 0, \"ticks\": \"\"}}, \"type\": \"scattergeo\"}], \"scattergl\": [{\"marker\": {\"colorbar\": {\"outlinewidth\": 0, \"ticks\": \"\"}}, \"type\": \"scattergl\"}], \"scattermapbox\": [{\"marker\": {\"colorbar\": {\"outlinewidth\": 0, \"ticks\": \"\"}}, \"type\": \"scattermapbox\"}], \"scatterpolar\": [{\"marker\": {\"colorbar\": {\"outlinewidth\": 0, \"ticks\": \"\"}}, \"type\": \"scatterpolar\"}], \"scatterpolargl\": [{\"marker\": {\"colorbar\": {\"outlinewidth\": 0, \"ticks\": \"\"}}, \"type\": \"scatterpolargl\"}], \"scatterternary\": [{\"marker\": {\"colorbar\": {\"outlinewidth\": 0, \"ticks\": \"\"}}, \"type\": \"scatterternary\"}], \"surface\": [{\"colorbar\": {\"outlinewidth\": 0, \"ticks\": \"\"}, \"colorscale\": [[0.0, \"#0d0887\"], [0.1111111111111111, \"#46039f\"], [0.2222222222222222, \"#7201a8\"], [0.3333333333333333, \"#9c179e\"], [0.4444444444444444, \"#bd3786\"], [0.5555555555555556, \"#d8576b\"], [0.6666666666666666, \"#ed7953\"], [0.7777777777777778, \"#fb9f3a\"], [0.8888888888888888, \"#fdca26\"], [1.0, \"#f0f921\"]], \"type\": \"surface\"}], \"table\": [{\"cells\": {\"fill\": {\"color\": \"#EBF0F8\"}, \"line\": {\"color\": \"white\"}}, \"header\": {\"fill\": {\"color\": \"#C8D4E3\"}, \"line\": {\"color\": \"white\"}}, \"type\": \"table\"}]}, \"layout\": {\"annotationdefaults\": {\"arrowcolor\": \"#2a3f5f\", \"arrowhead\": 0, \"arrowwidth\": 1}, \"autotypenumbers\": \"strict\", \"coloraxis\": {\"colorbar\": {\"outlinewidth\": 0, \"ticks\": \"\"}}, \"colorscale\": {\"diverging\": [[0, \"#8e0152\"], [0.1, \"#c51b7d\"], [0.2, \"#de77ae\"], [0.3, \"#f1b6da\"], [0.4, \"#fde0ef\"], [0.5, \"#f7f7f7\"], [0.6, \"#e6f5d0\"], [0.7, \"#b8e186\"], [0.8, \"#7fbc41\"], [0.9, \"#4d9221\"], [1, \"#276419\"]], \"sequential\": [[0.0, \"#0d0887\"], [0.1111111111111111, \"#46039f\"], [0.2222222222222222, \"#7201a8\"], [0.3333333333333333, \"#9c179e\"], [0.4444444444444444, \"#bd3786\"], [0.5555555555555556, \"#d8576b\"], [0.6666666666666666, \"#ed7953\"], [0.7777777777777778, \"#fb9f3a\"], [0.8888888888888888, \"#fdca26\"], [1.0, \"#f0f921\"]], \"sequentialminus\": [[0.0, \"#0d0887\"], [0.1111111111111111, \"#46039f\"], [0.2222222222222222, \"#7201a8\"], [0.3333333333333333, \"#9c179e\"], [0.4444444444444444, \"#bd3786\"], [0.5555555555555556, \"#d8576b\"], [0.6666666666666666, \"#ed7953\"], [0.7777777777777778, \"#fb9f3a\"], [0.8888888888888888, \"#fdca26\"], [1.0, \"#f0f921\"]]}, \"colorway\": [\"#636efa\", \"#EF553B\", \"#00cc96\", \"#ab63fa\", \"#FFA15A\", \"#19d3f3\", \"#FF6692\", \"#B6E880\", \"#FF97FF\", \"#FECB52\"], \"font\": {\"color\": \"#2a3f5f\"}, \"geo\": {\"bgcolor\": \"white\", \"lakecolor\": \"white\", \"landcolor\": \"#E5ECF6\", \"showlakes\": true, \"showland\": true, \"subunitcolor\": \"white\"}, \"hoverlabel\": {\"align\": \"left\"}, \"hovermode\": \"closest\", \"mapbox\": {\"style\": \"light\"}, \"paper_bgcolor\": \"white\", \"plot_bgcolor\": \"#E5ECF6\", \"polar\": {\"angularaxis\": {\"gridcolor\": \"white\", \"linecolor\": \"white\", \"ticks\": \"\"}, \"bgcolor\": \"#E5ECF6\", \"radialaxis\": {\"gridcolor\": \"white\", \"linecolor\": \"white\", \"ticks\": \"\"}}, \"scene\": {\"xaxis\": {\"backgroundcolor\": \"#E5ECF6\", \"gridcolor\": \"white\", \"gridwidth\": 2, \"linecolor\": \"white\", \"showbackground\": true, \"ticks\": \"\", \"zerolinecolor\": \"white\"}, \"yaxis\": {\"backgroundcolor\": \"#E5ECF6\", \"gridcolor\": \"white\", \"gridwidth\": 2, \"linecolor\": \"white\", \"showbackground\": true, \"ticks\": \"\", \"zerolinecolor\": \"white\"}, \"zaxis\": {\"backgroundcolor\": \"#E5ECF6\", \"gridcolor\": \"white\", \"gridwidth\": 2, \"linecolor\": \"white\", \"showbackground\": true, \"ticks\": \"\", \"zerolinecolor\": \"white\"}}, \"shapedefaults\": {\"line\": {\"color\": \"#2a3f5f\"}}, \"ternary\": {\"aaxis\": {\"gridcolor\": \"white\", \"linecolor\": \"white\", \"ticks\": \"\"}, \"baxis\": {\"gridcolor\": \"white\", \"linecolor\": \"white\", \"ticks\": \"\"}, \"bgcolor\": \"#E5ECF6\", \"caxis\": {\"gridcolor\": \"white\", \"linecolor\": \"white\", \"ticks\": \"\"}}, \"title\": {\"x\": 0.05}, \"xaxis\": {\"automargin\": true, \"gridcolor\": \"white\", \"linecolor\": \"white\", \"ticks\": \"\", \"title\": {\"standoff\": 15}, \"zerolinecolor\": \"white\", \"zerolinewidth\": 2}, \"yaxis\": {\"automargin\": true, \"gridcolor\": \"white\", \"linecolor\": \"white\", \"ticks\": \"\", \"title\": {\"standoff\": 15}, \"zerolinecolor\": \"white\", \"zerolinewidth\": 2}}}, \"title\": {\"font\": {\"family\": \"Verdana\"}, \"text\": \"Percent Change on # of Restaurants\"}, \"xaxis\": {\"anchor\": \"y\", \"domain\": [0.0, 1.0], \"title\": {\"text\": \"Quarter (2020)\"}}, \"yaxis\": {\"anchor\": \"x\", \"domain\": [0.0, 1.0], \"tickformat\": \"%\", \"tickprefix\": \"\", \"title\": {\"text\": \"# of Restaurants\"}}},                        {\"responsive\": true}                    ).then(function(){\n",
       "                            \n",
       "var gd = document.getElementById('8c83a74c-38f1-4678-b1da-3741101a3550');\n",
       "var x = new MutationObserver(function (mutations, observer) {{\n",
       "        var display = window.getComputedStyle(gd).display;\n",
       "        if (!display || display === 'none') {{\n",
       "            console.log([gd, 'removed!']);\n",
       "            Plotly.purge(gd);\n",
       "            observer.disconnect();\n",
       "        }}\n",
       "}});\n",
       "\n",
       "// Listen for the removal of the full notebook cells\n",
       "var notebookContainer = gd.closest('#notebook-container');\n",
       "if (notebookContainer) {{\n",
       "    x.observe(notebookContainer, {childList: true});\n",
       "}}\n",
       "\n",
       "// Listen for the clearing of the current output cell\n",
       "var outputEl = gd.closest('.output');\n",
       "if (outputEl) {{\n",
       "    x.observe(outputEl, {childList: true});\n",
       "}}\n",
       "\n",
       "                        })                };                });            </script>        </div>"
      ]
     },
     "metadata": {},
     "output_type": "display_data"
    },
    {
     "data": {
      "application/vnd.plotly.v1+json": {
       "config": {
        "plotlyServerURL": "https://plot.ly"
       },
       "data": [
        {
         "hovertemplate": "Borough=Manhattan<br>Quarter (2020)=%{x}<br>diner_pct2=%{y}<extra></extra>",
         "legendgroup": "Manhattan",
         "line": {
          "color": "#08cc94",
          "dash": "solid"
         },
         "mode": "lines",
         "name": "Manhattan",
         "orientation": "v",
         "showlegend": true,
         "type": "scatter",
         "x": [
          1,
          2,
          3,
          4
         ],
         "xaxis": "x",
         "y": [
          0,
          -0.33,
          -0.28500000000000003,
          -0.25
         ],
         "yaxis": "y"
        },
        {
         "hovertemplate": "Borough=Queens<br>Quarter (2020)=%{x}<br>diner_pct2=%{y}<extra></extra>",
         "legendgroup": "Queens",
         "line": {
          "color": "#b064fc",
          "dash": "solid"
         },
         "mode": "lines",
         "name": "Queens",
         "orientation": "v",
         "showlegend": true,
         "type": "scatter",
         "x": [
          1,
          2,
          3,
          4
         ],
         "xaxis": "x",
         "y": [
          0,
          -0.672,
          -0.21700000000000003,
          -0.299
         ],
         "yaxis": "y"
        },
        {
         "hovertemplate": "Borough=Bronx<br>Quarter (2020)=%{x}<br>diner_pct2=%{y}<extra></extra>",
         "legendgroup": "Bronx",
         "line": {
          "color": "#686cfc",
          "dash": "solid"
         },
         "mode": "lines",
         "name": "Bronx",
         "orientation": "v",
         "showlegend": true,
         "type": "scatter",
         "x": [
          1,
          2,
          3,
          4
         ],
         "xaxis": "x",
         "y": [
          0,
          -0.133,
          -0.07500000000000001,
          0.117
         ],
         "yaxis": "y"
        },
        {
         "hovertemplate": "Borough=Brooklyn<br>Quarter (2020)=%{x}<br>diner_pct2=%{y}<extra></extra>",
         "legendgroup": "Brooklyn",
         "line": {
          "color": "#f0543c",
          "dash": "solid"
         },
         "mode": "lines",
         "name": "Brooklyn",
         "orientation": "v",
         "showlegend": true,
         "type": "scatter",
         "x": [
          1,
          2,
          3,
          4
         ],
         "xaxis": "x",
         "y": [
          0,
          -0.267,
          -0.15600000000000003,
          -0.163
         ],
         "yaxis": "y"
        }
       ],
       "layout": {
        "font": {
         "color": "White",
         "family": "Verdana",
         "size": 13
        },
        "legend": {
         "title": {
          "text": "Borough"
         },
         "tracegroupgap": 0
        },
        "margin": {
         "t": 60
        },
        "paper_bgcolor": "#374C60",
        "plot_bgcolor": "#eee",
        "template": {
         "data": {
          "bar": [
           {
            "error_x": {
             "color": "#2a3f5f"
            },
            "error_y": {
             "color": "#2a3f5f"
            },
            "marker": {
             "line": {
              "color": "#E5ECF6",
              "width": 0.5
             }
            },
            "type": "bar"
           }
          ],
          "barpolar": [
           {
            "marker": {
             "line": {
              "color": "#E5ECF6",
              "width": 0.5
             }
            },
            "type": "barpolar"
           }
          ],
          "carpet": [
           {
            "aaxis": {
             "endlinecolor": "#2a3f5f",
             "gridcolor": "white",
             "linecolor": "white",
             "minorgridcolor": "white",
             "startlinecolor": "#2a3f5f"
            },
            "baxis": {
             "endlinecolor": "#2a3f5f",
             "gridcolor": "white",
             "linecolor": "white",
             "minorgridcolor": "white",
             "startlinecolor": "#2a3f5f"
            },
            "type": "carpet"
           }
          ],
          "choropleth": [
           {
            "colorbar": {
             "outlinewidth": 0,
             "ticks": ""
            },
            "type": "choropleth"
           }
          ],
          "contour": [
           {
            "colorbar": {
             "outlinewidth": 0,
             "ticks": ""
            },
            "colorscale": [
             [
              0,
              "#0d0887"
             ],
             [
              0.1111111111111111,
              "#46039f"
             ],
             [
              0.2222222222222222,
              "#7201a8"
             ],
             [
              0.3333333333333333,
              "#9c179e"
             ],
             [
              0.4444444444444444,
              "#bd3786"
             ],
             [
              0.5555555555555556,
              "#d8576b"
             ],
             [
              0.6666666666666666,
              "#ed7953"
             ],
             [
              0.7777777777777778,
              "#fb9f3a"
             ],
             [
              0.8888888888888888,
              "#fdca26"
             ],
             [
              1,
              "#f0f921"
             ]
            ],
            "type": "contour"
           }
          ],
          "contourcarpet": [
           {
            "colorbar": {
             "outlinewidth": 0,
             "ticks": ""
            },
            "type": "contourcarpet"
           }
          ],
          "heatmap": [
           {
            "colorbar": {
             "outlinewidth": 0,
             "ticks": ""
            },
            "colorscale": [
             [
              0,
              "#0d0887"
             ],
             [
              0.1111111111111111,
              "#46039f"
             ],
             [
              0.2222222222222222,
              "#7201a8"
             ],
             [
              0.3333333333333333,
              "#9c179e"
             ],
             [
              0.4444444444444444,
              "#bd3786"
             ],
             [
              0.5555555555555556,
              "#d8576b"
             ],
             [
              0.6666666666666666,
              "#ed7953"
             ],
             [
              0.7777777777777778,
              "#fb9f3a"
             ],
             [
              0.8888888888888888,
              "#fdca26"
             ],
             [
              1,
              "#f0f921"
             ]
            ],
            "type": "heatmap"
           }
          ],
          "heatmapgl": [
           {
            "colorbar": {
             "outlinewidth": 0,
             "ticks": ""
            },
            "colorscale": [
             [
              0,
              "#0d0887"
             ],
             [
              0.1111111111111111,
              "#46039f"
             ],
             [
              0.2222222222222222,
              "#7201a8"
             ],
             [
              0.3333333333333333,
              "#9c179e"
             ],
             [
              0.4444444444444444,
              "#bd3786"
             ],
             [
              0.5555555555555556,
              "#d8576b"
             ],
             [
              0.6666666666666666,
              "#ed7953"
             ],
             [
              0.7777777777777778,
              "#fb9f3a"
             ],
             [
              0.8888888888888888,
              "#fdca26"
             ],
             [
              1,
              "#f0f921"
             ]
            ],
            "type": "heatmapgl"
           }
          ],
          "histogram": [
           {
            "marker": {
             "colorbar": {
              "outlinewidth": 0,
              "ticks": ""
             }
            },
            "type": "histogram"
           }
          ],
          "histogram2d": [
           {
            "colorbar": {
             "outlinewidth": 0,
             "ticks": ""
            },
            "colorscale": [
             [
              0,
              "#0d0887"
             ],
             [
              0.1111111111111111,
              "#46039f"
             ],
             [
              0.2222222222222222,
              "#7201a8"
             ],
             [
              0.3333333333333333,
              "#9c179e"
             ],
             [
              0.4444444444444444,
              "#bd3786"
             ],
             [
              0.5555555555555556,
              "#d8576b"
             ],
             [
              0.6666666666666666,
              "#ed7953"
             ],
             [
              0.7777777777777778,
              "#fb9f3a"
             ],
             [
              0.8888888888888888,
              "#fdca26"
             ],
             [
              1,
              "#f0f921"
             ]
            ],
            "type": "histogram2d"
           }
          ],
          "histogram2dcontour": [
           {
            "colorbar": {
             "outlinewidth": 0,
             "ticks": ""
            },
            "colorscale": [
             [
              0,
              "#0d0887"
             ],
             [
              0.1111111111111111,
              "#46039f"
             ],
             [
              0.2222222222222222,
              "#7201a8"
             ],
             [
              0.3333333333333333,
              "#9c179e"
             ],
             [
              0.4444444444444444,
              "#bd3786"
             ],
             [
              0.5555555555555556,
              "#d8576b"
             ],
             [
              0.6666666666666666,
              "#ed7953"
             ],
             [
              0.7777777777777778,
              "#fb9f3a"
             ],
             [
              0.8888888888888888,
              "#fdca26"
             ],
             [
              1,
              "#f0f921"
             ]
            ],
            "type": "histogram2dcontour"
           }
          ],
          "mesh3d": [
           {
            "colorbar": {
             "outlinewidth": 0,
             "ticks": ""
            },
            "type": "mesh3d"
           }
          ],
          "parcoords": [
           {
            "line": {
             "colorbar": {
              "outlinewidth": 0,
              "ticks": ""
             }
            },
            "type": "parcoords"
           }
          ],
          "pie": [
           {
            "automargin": true,
            "type": "pie"
           }
          ],
          "scatter": [
           {
            "marker": {
             "colorbar": {
              "outlinewidth": 0,
              "ticks": ""
             }
            },
            "type": "scatter"
           }
          ],
          "scatter3d": [
           {
            "line": {
             "colorbar": {
              "outlinewidth": 0,
              "ticks": ""
             }
            },
            "marker": {
             "colorbar": {
              "outlinewidth": 0,
              "ticks": ""
             }
            },
            "type": "scatter3d"
           }
          ],
          "scattercarpet": [
           {
            "marker": {
             "colorbar": {
              "outlinewidth": 0,
              "ticks": ""
             }
            },
            "type": "scattercarpet"
           }
          ],
          "scattergeo": [
           {
            "marker": {
             "colorbar": {
              "outlinewidth": 0,
              "ticks": ""
             }
            },
            "type": "scattergeo"
           }
          ],
          "scattergl": [
           {
            "marker": {
             "colorbar": {
              "outlinewidth": 0,
              "ticks": ""
             }
            },
            "type": "scattergl"
           }
          ],
          "scattermapbox": [
           {
            "marker": {
             "colorbar": {
              "outlinewidth": 0,
              "ticks": ""
             }
            },
            "type": "scattermapbox"
           }
          ],
          "scatterpolar": [
           {
            "marker": {
             "colorbar": {
              "outlinewidth": 0,
              "ticks": ""
             }
            },
            "type": "scatterpolar"
           }
          ],
          "scatterpolargl": [
           {
            "marker": {
             "colorbar": {
              "outlinewidth": 0,
              "ticks": ""
             }
            },
            "type": "scatterpolargl"
           }
          ],
          "scatterternary": [
           {
            "marker": {
             "colorbar": {
              "outlinewidth": 0,
              "ticks": ""
             }
            },
            "type": "scatterternary"
           }
          ],
          "surface": [
           {
            "colorbar": {
             "outlinewidth": 0,
             "ticks": ""
            },
            "colorscale": [
             [
              0,
              "#0d0887"
             ],
             [
              0.1111111111111111,
              "#46039f"
             ],
             [
              0.2222222222222222,
              "#7201a8"
             ],
             [
              0.3333333333333333,
              "#9c179e"
             ],
             [
              0.4444444444444444,
              "#bd3786"
             ],
             [
              0.5555555555555556,
              "#d8576b"
             ],
             [
              0.6666666666666666,
              "#ed7953"
             ],
             [
              0.7777777777777778,
              "#fb9f3a"
             ],
             [
              0.8888888888888888,
              "#fdca26"
             ],
             [
              1,
              "#f0f921"
             ]
            ],
            "type": "surface"
           }
          ],
          "table": [
           {
            "cells": {
             "fill": {
              "color": "#EBF0F8"
             },
             "line": {
              "color": "white"
             }
            },
            "header": {
             "fill": {
              "color": "#C8D4E3"
             },
             "line": {
              "color": "white"
             }
            },
            "type": "table"
           }
          ]
         },
         "layout": {
          "annotationdefaults": {
           "arrowcolor": "#2a3f5f",
           "arrowhead": 0,
           "arrowwidth": 1
          },
          "autotypenumbers": "strict",
          "coloraxis": {
           "colorbar": {
            "outlinewidth": 0,
            "ticks": ""
           }
          },
          "colorscale": {
           "diverging": [
            [
             0,
             "#8e0152"
            ],
            [
             0.1,
             "#c51b7d"
            ],
            [
             0.2,
             "#de77ae"
            ],
            [
             0.3,
             "#f1b6da"
            ],
            [
             0.4,
             "#fde0ef"
            ],
            [
             0.5,
             "#f7f7f7"
            ],
            [
             0.6,
             "#e6f5d0"
            ],
            [
             0.7,
             "#b8e186"
            ],
            [
             0.8,
             "#7fbc41"
            ],
            [
             0.9,
             "#4d9221"
            ],
            [
             1,
             "#276419"
            ]
           ],
           "sequential": [
            [
             0,
             "#0d0887"
            ],
            [
             0.1111111111111111,
             "#46039f"
            ],
            [
             0.2222222222222222,
             "#7201a8"
            ],
            [
             0.3333333333333333,
             "#9c179e"
            ],
            [
             0.4444444444444444,
             "#bd3786"
            ],
            [
             0.5555555555555556,
             "#d8576b"
            ],
            [
             0.6666666666666666,
             "#ed7953"
            ],
            [
             0.7777777777777778,
             "#fb9f3a"
            ],
            [
             0.8888888888888888,
             "#fdca26"
            ],
            [
             1,
             "#f0f921"
            ]
           ],
           "sequentialminus": [
            [
             0,
             "#0d0887"
            ],
            [
             0.1111111111111111,
             "#46039f"
            ],
            [
             0.2222222222222222,
             "#7201a8"
            ],
            [
             0.3333333333333333,
             "#9c179e"
            ],
            [
             0.4444444444444444,
             "#bd3786"
            ],
            [
             0.5555555555555556,
             "#d8576b"
            ],
            [
             0.6666666666666666,
             "#ed7953"
            ],
            [
             0.7777777777777778,
             "#fb9f3a"
            ],
            [
             0.8888888888888888,
             "#fdca26"
            ],
            [
             1,
             "#f0f921"
            ]
           ]
          },
          "colorway": [
           "#636efa",
           "#EF553B",
           "#00cc96",
           "#ab63fa",
           "#FFA15A",
           "#19d3f3",
           "#FF6692",
           "#B6E880",
           "#FF97FF",
           "#FECB52"
          ],
          "font": {
           "color": "#2a3f5f"
          },
          "geo": {
           "bgcolor": "white",
           "lakecolor": "white",
           "landcolor": "#E5ECF6",
           "showlakes": true,
           "showland": true,
           "subunitcolor": "white"
          },
          "hoverlabel": {
           "align": "left"
          },
          "hovermode": "closest",
          "mapbox": {
           "style": "light"
          },
          "paper_bgcolor": "white",
          "plot_bgcolor": "#E5ECF6",
          "polar": {
           "angularaxis": {
            "gridcolor": "white",
            "linecolor": "white",
            "ticks": ""
           },
           "bgcolor": "#E5ECF6",
           "radialaxis": {
            "gridcolor": "white",
            "linecolor": "white",
            "ticks": ""
           }
          },
          "scene": {
           "xaxis": {
            "backgroundcolor": "#E5ECF6",
            "gridcolor": "white",
            "gridwidth": 2,
            "linecolor": "white",
            "showbackground": true,
            "ticks": "",
            "zerolinecolor": "white"
           },
           "yaxis": {
            "backgroundcolor": "#E5ECF6",
            "gridcolor": "white",
            "gridwidth": 2,
            "linecolor": "white",
            "showbackground": true,
            "ticks": "",
            "zerolinecolor": "white"
           },
           "zaxis": {
            "backgroundcolor": "#E5ECF6",
            "gridcolor": "white",
            "gridwidth": 2,
            "linecolor": "white",
            "showbackground": true,
            "ticks": "",
            "zerolinecolor": "white"
           }
          },
          "shapedefaults": {
           "line": {
            "color": "#2a3f5f"
           }
          },
          "ternary": {
           "aaxis": {
            "gridcolor": "white",
            "linecolor": "white",
            "ticks": ""
           },
           "baxis": {
            "gridcolor": "white",
            "linecolor": "white",
            "ticks": ""
           },
           "bgcolor": "#E5ECF6",
           "caxis": {
            "gridcolor": "white",
            "linecolor": "white",
            "ticks": ""
           }
          },
          "title": {
           "x": 0.05
          },
          "xaxis": {
           "automargin": true,
           "gridcolor": "white",
           "linecolor": "white",
           "ticks": "",
           "title": {
            "standoff": 15
           },
           "zerolinecolor": "white",
           "zerolinewidth": 2
          },
          "yaxis": {
           "automargin": true,
           "gridcolor": "white",
           "linecolor": "white",
           "ticks": "",
           "title": {
            "standoff": 15
           },
           "zerolinecolor": "white",
           "zerolinewidth": 2
          }
         }
        },
        "title": {
         "font": {
          "family": "Verdana"
         },
         "text": "Percent Change on Average Diner's per Night"
        },
        "xaxis": {
         "anchor": "y",
         "domain": [
          0,
          1
         ],
         "title": {
          "text": "Quarter (2020)"
         }
        },
        "yaxis": {
         "anchor": "x",
         "domain": [
          0,
          1
         ],
         "tickformat": "%",
         "tickprefix": "",
         "title": {
          "text": "Average Diner's per Night"
         }
        }
       }
      },
      "text/html": [
       "<div>                            <div id=\"2a5bb7b3-0ab9-49ac-a235-1d60bbc33c68\" class=\"plotly-graph-div\" style=\"height:525px; width:100%;\"></div>            <script type=\"text/javascript\">                require([\"plotly\"], function(Plotly) {                    window.PLOTLYENV=window.PLOTLYENV || {};                                    if (document.getElementById(\"2a5bb7b3-0ab9-49ac-a235-1d60bbc33c68\")) {                    Plotly.newPlot(                        \"2a5bb7b3-0ab9-49ac-a235-1d60bbc33c68\",                        [{\"hovertemplate\": \"Borough=Manhattan<br>Quarter (2020)=%{x}<br>diner_pct2=%{y}<extra></extra>\", \"legendgroup\": \"Manhattan\", \"line\": {\"color\": \"#08cc94\", \"dash\": \"solid\"}, \"mode\": \"lines\", \"name\": \"Manhattan\", \"orientation\": \"v\", \"showlegend\": true, \"type\": \"scatter\", \"x\": [1, 2, 3, 4], \"xaxis\": \"x\", \"y\": [0.0, -0.33, -0.28500000000000003, -0.25], \"yaxis\": \"y\"}, {\"hovertemplate\": \"Borough=Queens<br>Quarter (2020)=%{x}<br>diner_pct2=%{y}<extra></extra>\", \"legendgroup\": \"Queens\", \"line\": {\"color\": \"#b064fc\", \"dash\": \"solid\"}, \"mode\": \"lines\", \"name\": \"Queens\", \"orientation\": \"v\", \"showlegend\": true, \"type\": \"scatter\", \"x\": [1, 2, 3, 4], \"xaxis\": \"x\", \"y\": [0.0, -0.672, -0.21700000000000003, -0.299], \"yaxis\": \"y\"}, {\"hovertemplate\": \"Borough=Bronx<br>Quarter (2020)=%{x}<br>diner_pct2=%{y}<extra></extra>\", \"legendgroup\": \"Bronx\", \"line\": {\"color\": \"#686cfc\", \"dash\": \"solid\"}, \"mode\": \"lines\", \"name\": \"Bronx\", \"orientation\": \"v\", \"showlegend\": true, \"type\": \"scatter\", \"x\": [1, 2, 3, 4], \"xaxis\": \"x\", \"y\": [0.0, -0.133, -0.07500000000000001, 0.117], \"yaxis\": \"y\"}, {\"hovertemplate\": \"Borough=Brooklyn<br>Quarter (2020)=%{x}<br>diner_pct2=%{y}<extra></extra>\", \"legendgroup\": \"Brooklyn\", \"line\": {\"color\": \"#f0543c\", \"dash\": \"solid\"}, \"mode\": \"lines\", \"name\": \"Brooklyn\", \"orientation\": \"v\", \"showlegend\": true, \"type\": \"scatter\", \"x\": [1, 2, 3, 4], \"xaxis\": \"x\", \"y\": [0.0, -0.267, -0.15600000000000003, -0.163], \"yaxis\": \"y\"}],                        {\"font\": {\"color\": \"White\", \"family\": \"Verdana\", \"size\": 13}, \"legend\": {\"title\": {\"text\": \"Borough\"}, \"tracegroupgap\": 0}, \"margin\": {\"t\": 60}, \"paper_bgcolor\": \"#374C60\", \"plot_bgcolor\": \"#eee\", \"template\": {\"data\": {\"bar\": [{\"error_x\": {\"color\": \"#2a3f5f\"}, \"error_y\": {\"color\": \"#2a3f5f\"}, \"marker\": {\"line\": {\"color\": \"#E5ECF6\", \"width\": 0.5}}, \"type\": \"bar\"}], \"barpolar\": [{\"marker\": {\"line\": {\"color\": \"#E5ECF6\", \"width\": 0.5}}, \"type\": \"barpolar\"}], \"carpet\": [{\"aaxis\": {\"endlinecolor\": \"#2a3f5f\", \"gridcolor\": \"white\", \"linecolor\": \"white\", \"minorgridcolor\": \"white\", \"startlinecolor\": \"#2a3f5f\"}, \"baxis\": {\"endlinecolor\": \"#2a3f5f\", \"gridcolor\": \"white\", \"linecolor\": \"white\", \"minorgridcolor\": \"white\", \"startlinecolor\": \"#2a3f5f\"}, \"type\": \"carpet\"}], \"choropleth\": [{\"colorbar\": {\"outlinewidth\": 0, \"ticks\": \"\"}, \"type\": \"choropleth\"}], \"contour\": [{\"colorbar\": {\"outlinewidth\": 0, \"ticks\": \"\"}, \"colorscale\": [[0.0, \"#0d0887\"], [0.1111111111111111, \"#46039f\"], [0.2222222222222222, \"#7201a8\"], [0.3333333333333333, \"#9c179e\"], [0.4444444444444444, \"#bd3786\"], [0.5555555555555556, \"#d8576b\"], [0.6666666666666666, \"#ed7953\"], [0.7777777777777778, \"#fb9f3a\"], [0.8888888888888888, \"#fdca26\"], [1.0, \"#f0f921\"]], \"type\": \"contour\"}], \"contourcarpet\": [{\"colorbar\": {\"outlinewidth\": 0, \"ticks\": \"\"}, \"type\": \"contourcarpet\"}], \"heatmap\": [{\"colorbar\": {\"outlinewidth\": 0, \"ticks\": \"\"}, \"colorscale\": [[0.0, \"#0d0887\"], [0.1111111111111111, \"#46039f\"], [0.2222222222222222, \"#7201a8\"], [0.3333333333333333, \"#9c179e\"], [0.4444444444444444, \"#bd3786\"], [0.5555555555555556, \"#d8576b\"], [0.6666666666666666, \"#ed7953\"], [0.7777777777777778, \"#fb9f3a\"], [0.8888888888888888, \"#fdca26\"], [1.0, \"#f0f921\"]], \"type\": \"heatmap\"}], \"heatmapgl\": [{\"colorbar\": {\"outlinewidth\": 0, \"ticks\": \"\"}, \"colorscale\": [[0.0, \"#0d0887\"], [0.1111111111111111, \"#46039f\"], [0.2222222222222222, \"#7201a8\"], [0.3333333333333333, \"#9c179e\"], [0.4444444444444444, \"#bd3786\"], [0.5555555555555556, \"#d8576b\"], [0.6666666666666666, \"#ed7953\"], [0.7777777777777778, \"#fb9f3a\"], [0.8888888888888888, \"#fdca26\"], [1.0, \"#f0f921\"]], \"type\": \"heatmapgl\"}], \"histogram\": [{\"marker\": {\"colorbar\": {\"outlinewidth\": 0, \"ticks\": \"\"}}, \"type\": \"histogram\"}], \"histogram2d\": [{\"colorbar\": {\"outlinewidth\": 0, \"ticks\": \"\"}, \"colorscale\": [[0.0, \"#0d0887\"], [0.1111111111111111, \"#46039f\"], [0.2222222222222222, \"#7201a8\"], [0.3333333333333333, \"#9c179e\"], [0.4444444444444444, \"#bd3786\"], [0.5555555555555556, \"#d8576b\"], [0.6666666666666666, \"#ed7953\"], [0.7777777777777778, \"#fb9f3a\"], [0.8888888888888888, \"#fdca26\"], [1.0, \"#f0f921\"]], \"type\": \"histogram2d\"}], \"histogram2dcontour\": [{\"colorbar\": {\"outlinewidth\": 0, \"ticks\": \"\"}, \"colorscale\": [[0.0, \"#0d0887\"], [0.1111111111111111, \"#46039f\"], [0.2222222222222222, \"#7201a8\"], [0.3333333333333333, \"#9c179e\"], [0.4444444444444444, \"#bd3786\"], [0.5555555555555556, \"#d8576b\"], [0.6666666666666666, \"#ed7953\"], [0.7777777777777778, \"#fb9f3a\"], [0.8888888888888888, \"#fdca26\"], [1.0, \"#f0f921\"]], \"type\": \"histogram2dcontour\"}], \"mesh3d\": [{\"colorbar\": {\"outlinewidth\": 0, \"ticks\": \"\"}, \"type\": \"mesh3d\"}], \"parcoords\": [{\"line\": {\"colorbar\": {\"outlinewidth\": 0, \"ticks\": \"\"}}, \"type\": \"parcoords\"}], \"pie\": [{\"automargin\": true, \"type\": \"pie\"}], \"scatter\": [{\"marker\": {\"colorbar\": {\"outlinewidth\": 0, \"ticks\": \"\"}}, \"type\": \"scatter\"}], \"scatter3d\": [{\"line\": {\"colorbar\": {\"outlinewidth\": 0, \"ticks\": \"\"}}, \"marker\": {\"colorbar\": {\"outlinewidth\": 0, \"ticks\": \"\"}}, \"type\": \"scatter3d\"}], \"scattercarpet\": [{\"marker\": {\"colorbar\": {\"outlinewidth\": 0, \"ticks\": \"\"}}, \"type\": \"scattercarpet\"}], \"scattergeo\": [{\"marker\": {\"colorbar\": {\"outlinewidth\": 0, \"ticks\": \"\"}}, \"type\": \"scattergeo\"}], \"scattergl\": [{\"marker\": {\"colorbar\": {\"outlinewidth\": 0, \"ticks\": \"\"}}, \"type\": \"scattergl\"}], \"scattermapbox\": [{\"marker\": {\"colorbar\": {\"outlinewidth\": 0, \"ticks\": \"\"}}, \"type\": \"scattermapbox\"}], \"scatterpolar\": [{\"marker\": {\"colorbar\": {\"outlinewidth\": 0, \"ticks\": \"\"}}, \"type\": \"scatterpolar\"}], \"scatterpolargl\": [{\"marker\": {\"colorbar\": {\"outlinewidth\": 0, \"ticks\": \"\"}}, \"type\": \"scatterpolargl\"}], \"scatterternary\": [{\"marker\": {\"colorbar\": {\"outlinewidth\": 0, \"ticks\": \"\"}}, \"type\": \"scatterternary\"}], \"surface\": [{\"colorbar\": {\"outlinewidth\": 0, \"ticks\": \"\"}, \"colorscale\": [[0.0, \"#0d0887\"], [0.1111111111111111, \"#46039f\"], [0.2222222222222222, \"#7201a8\"], [0.3333333333333333, \"#9c179e\"], [0.4444444444444444, \"#bd3786\"], [0.5555555555555556, \"#d8576b\"], [0.6666666666666666, \"#ed7953\"], [0.7777777777777778, \"#fb9f3a\"], [0.8888888888888888, \"#fdca26\"], [1.0, \"#f0f921\"]], \"type\": \"surface\"}], \"table\": [{\"cells\": {\"fill\": {\"color\": \"#EBF0F8\"}, \"line\": {\"color\": \"white\"}}, \"header\": {\"fill\": {\"color\": \"#C8D4E3\"}, \"line\": {\"color\": \"white\"}}, \"type\": \"table\"}]}, \"layout\": {\"annotationdefaults\": {\"arrowcolor\": \"#2a3f5f\", \"arrowhead\": 0, \"arrowwidth\": 1}, \"autotypenumbers\": \"strict\", \"coloraxis\": {\"colorbar\": {\"outlinewidth\": 0, \"ticks\": \"\"}}, \"colorscale\": {\"diverging\": [[0, \"#8e0152\"], [0.1, \"#c51b7d\"], [0.2, \"#de77ae\"], [0.3, \"#f1b6da\"], [0.4, \"#fde0ef\"], [0.5, \"#f7f7f7\"], [0.6, \"#e6f5d0\"], [0.7, \"#b8e186\"], [0.8, \"#7fbc41\"], [0.9, \"#4d9221\"], [1, \"#276419\"]], \"sequential\": [[0.0, \"#0d0887\"], [0.1111111111111111, \"#46039f\"], [0.2222222222222222, \"#7201a8\"], [0.3333333333333333, \"#9c179e\"], [0.4444444444444444, \"#bd3786\"], [0.5555555555555556, \"#d8576b\"], [0.6666666666666666, \"#ed7953\"], [0.7777777777777778, \"#fb9f3a\"], [0.8888888888888888, \"#fdca26\"], [1.0, \"#f0f921\"]], \"sequentialminus\": [[0.0, \"#0d0887\"], [0.1111111111111111, \"#46039f\"], [0.2222222222222222, \"#7201a8\"], [0.3333333333333333, \"#9c179e\"], [0.4444444444444444, \"#bd3786\"], [0.5555555555555556, \"#d8576b\"], [0.6666666666666666, \"#ed7953\"], [0.7777777777777778, \"#fb9f3a\"], [0.8888888888888888, \"#fdca26\"], [1.0, \"#f0f921\"]]}, \"colorway\": [\"#636efa\", \"#EF553B\", \"#00cc96\", \"#ab63fa\", \"#FFA15A\", \"#19d3f3\", \"#FF6692\", \"#B6E880\", \"#FF97FF\", \"#FECB52\"], \"font\": {\"color\": \"#2a3f5f\"}, \"geo\": {\"bgcolor\": \"white\", \"lakecolor\": \"white\", \"landcolor\": \"#E5ECF6\", \"showlakes\": true, \"showland\": true, \"subunitcolor\": \"white\"}, \"hoverlabel\": {\"align\": \"left\"}, \"hovermode\": \"closest\", \"mapbox\": {\"style\": \"light\"}, \"paper_bgcolor\": \"white\", \"plot_bgcolor\": \"#E5ECF6\", \"polar\": {\"angularaxis\": {\"gridcolor\": \"white\", \"linecolor\": \"white\", \"ticks\": \"\"}, \"bgcolor\": \"#E5ECF6\", \"radialaxis\": {\"gridcolor\": \"white\", \"linecolor\": \"white\", \"ticks\": \"\"}}, \"scene\": {\"xaxis\": {\"backgroundcolor\": \"#E5ECF6\", \"gridcolor\": \"white\", \"gridwidth\": 2, \"linecolor\": \"white\", \"showbackground\": true, \"ticks\": \"\", \"zerolinecolor\": \"white\"}, \"yaxis\": {\"backgroundcolor\": \"#E5ECF6\", \"gridcolor\": \"white\", \"gridwidth\": 2, \"linecolor\": \"white\", \"showbackground\": true, \"ticks\": \"\", \"zerolinecolor\": \"white\"}, \"zaxis\": {\"backgroundcolor\": \"#E5ECF6\", \"gridcolor\": \"white\", \"gridwidth\": 2, \"linecolor\": \"white\", \"showbackground\": true, \"ticks\": \"\", \"zerolinecolor\": \"white\"}}, \"shapedefaults\": {\"line\": {\"color\": \"#2a3f5f\"}}, \"ternary\": {\"aaxis\": {\"gridcolor\": \"white\", \"linecolor\": \"white\", \"ticks\": \"\"}, \"baxis\": {\"gridcolor\": \"white\", \"linecolor\": \"white\", \"ticks\": \"\"}, \"bgcolor\": \"#E5ECF6\", \"caxis\": {\"gridcolor\": \"white\", \"linecolor\": \"white\", \"ticks\": \"\"}}, \"title\": {\"x\": 0.05}, \"xaxis\": {\"automargin\": true, \"gridcolor\": \"white\", \"linecolor\": \"white\", \"ticks\": \"\", \"title\": {\"standoff\": 15}, \"zerolinecolor\": \"white\", \"zerolinewidth\": 2}, \"yaxis\": {\"automargin\": true, \"gridcolor\": \"white\", \"linecolor\": \"white\", \"ticks\": \"\", \"title\": {\"standoff\": 15}, \"zerolinecolor\": \"white\", \"zerolinewidth\": 2}}}, \"title\": {\"font\": {\"family\": \"Verdana\"}, \"text\": \"Percent Change on Average Diner's per Night\"}, \"xaxis\": {\"anchor\": \"y\", \"domain\": [0.0, 1.0], \"title\": {\"text\": \"Quarter (2020)\"}}, \"yaxis\": {\"anchor\": \"x\", \"domain\": [0.0, 1.0], \"tickformat\": \"%\", \"tickprefix\": \"\", \"title\": {\"text\": \"Average Diner's per Night\"}}},                        {\"responsive\": true}                    ).then(function(){\n",
       "                            \n",
       "var gd = document.getElementById('2a5bb7b3-0ab9-49ac-a235-1d60bbc33c68');\n",
       "var x = new MutationObserver(function (mutations, observer) {{\n",
       "        var display = window.getComputedStyle(gd).display;\n",
       "        if (!display || display === 'none') {{\n",
       "            console.log([gd, 'removed!']);\n",
       "            Plotly.purge(gd);\n",
       "            observer.disconnect();\n",
       "        }}\n",
       "}});\n",
       "\n",
       "// Listen for the removal of the full notebook cells\n",
       "var notebookContainer = gd.closest('#notebook-container');\n",
       "if (notebookContainer) {{\n",
       "    x.observe(notebookContainer, {childList: true});\n",
       "}}\n",
       "\n",
       "// Listen for the clearing of the current output cell\n",
       "var outputEl = gd.closest('.output');\n",
       "if (outputEl) {{\n",
       "    x.observe(outputEl, {childList: true});\n",
       "}}\n",
       "\n",
       "                        })                };                });            </script>        </div>"
      ]
     },
     "metadata": {},
     "output_type": "display_data"
    }
   ],
   "source": [
    "# Compute percent change across whole year\n",
    "df['diner_pct2'] = df.groupby(['Borough'])['Averages Diner\\'s Per Night'].pct_change(periods=3).round(3)\n",
    "# Computes Percent change across individual quarters\n",
    "df['diner_pct'] = df.groupby(['Borough'])['Averages Diner\\'s Per Night'].pct_change(periods=1).round(3)\n",
    "# cumsum() adds/subtracts change between quarters\n",
    "df['diner_pct']= df.groupby(['Borough'])['diner_pct'].cumsum()\n",
    "# replace null values generated by pctchange with the individual quarter values calculated above\n",
    "df['diner_pct2'][df['diner_pct2'].isnull()] = df['diner_pct']\n",
    "\n",
    "# same process repeated for four other features\n",
    "\n",
    "df['rev_pct2'] = df.groupby(['Borough'])['Total Restaurant Revenue'].pct_change(periods=3).round(3)\n",
    "df['rev_pct'] = df.groupby(['Borough'])['Total Restaurant Revenue'].pct_change(periods=1).round(3)\n",
    "df['rev_pct']= df.groupby(['Borough'])['rev_pct'].cumsum()\n",
    "df['rev_pct2'][df['rev_pct2'].isnull()] = df['rev_pct']\n",
    "\n",
    "df['ars_pct2'] = df.groupby(['Borough'])['Average Resident Salary'].pct_change(periods=3).round(3)\n",
    "df['ars_pct'] = df.groupby(['Borough'])['Average Resident Salary'].pct_change(periods=1).round(3)\n",
    "df['ars_pct'] = df.groupby(['Borough'])['ars_pct'].cumsum()\n",
    "df['ars_pct2'][df['ars_pct2'].isnull()] = df['ars_pct']\n",
    "\n",
    "df['num_pct2'] = df.groupby(['Borough'])['# of Restaurants'].pct_change(periods=3).round(3)\n",
    "df['num_pct'] = df.groupby(['Borough'])['# of Restaurants'].pct_change(periods=1).round(3)\n",
    "df['num_pct'] = df.groupby(['Borough'])['num_pct'].cumsum()\n",
    "df['num_pct2'][df['num_pct2'].isnull()] = df['num_pct']\n",
    "\n",
    "df.fillna(0, inplace=True) # adding starting 0 for quarter 1\n",
    "\n",
    "line = px.line(df, x='Quarter (2020)', y='rev_pct2' , color='Borough', color_discrete_map={'Bronx': '#686cfc', 'Queens': '#b064fc',\n",
    "                                                              'Brooklyn': '#f0543c', 'Manhattan': '#08cc94'}\n",
    "              ).update_layout( yaxis_title='Total Restaurant Revenue', \n",
    "                   title_text='Percent Change on Total Restaurant Revenue',\n",
    "                      yaxis_tickformat = '%')\n",
    "line2 = px.line(df, x='Quarter (2020)', y='ars_pct2' , color='Borough', color_discrete_map={'Bronx': '#686cfc', 'Queens': '#b064fc',\n",
    "                                                              'Brooklyn': '#f0543c', 'Manhattan': '#08cc94'}\n",
    "               ).update_layout( yaxis_title='Average Resident Salary', title_text='Percent Change on Average Resident Salary',\n",
    "                               yaxis_tickformat = '%')\n",
    "line3 = px.line(df, x='Quarter (2020)', y='num_pct2' , color='Borough', color_discrete_map={'Bronx': '#686cfc', 'Queens': '#b064fc',\n",
    "                                                              'Brooklyn': '#f0543c', 'Manhattan': '#08cc94'}\n",
    "               ).update_layout( yaxis_title='# of Restaurants',title_text='Percent Change on # of Restaurants',\n",
    "                               yaxis_tickformat = '%')\n",
    "line4 = px.line(df, x='Quarter (2020)', y='diner_pct2' , color='Borough', color_discrete_map={'Bronx': '#686cfc', 'Queens': '#b064fc',\n",
    "                                                              'Brooklyn': '#f0543c', 'Manhattan': '#08cc94'}\n",
    "               ).update_layout( yaxis_title='Average Diner\\'s per Night', title_text='Percent Change on Average Diner\\'s per Night',\n",
    "                               yaxis_tickformat = '%')\n",
    "layout(line)\n",
    "layout(line2)\n",
    "layout(line3)\n",
    "layout(line4)"
   ]
  },
  {
   "cell_type": "markdown",
   "metadata": {},
   "source": [
    "<h1 style=\"color:#f0543c; text-align:center;\"> The restauranter should open their restaurant <br> in Brooklyn based on the data provided"
   ]
  },
  {
   "cell_type": "code",
   "execution_count": 30,
   "metadata": {},
   "outputs": [
    {
     "data": {
      "text/plain": [
       "LinearRegression()"
      ]
     },
     "execution_count": 30,
     "metadata": {},
     "output_type": "execute_result"
    },
    {
     "data": {
      "text/plain": [
       "array([80420264.82905938, 76096040.1150088 , 78585186.26579668,\n",
       "       82380494.27542499, 21747532.75758789, 22079809.75209153,\n",
       "       19543797.67287514, 21673282.79449988, 25794820.79775377,\n",
       "       20697603.39848298, 17089148.69673853, 13343140.99736172,\n",
       "       62698910.74950138, 64146239.40940037, 63675689.44659825,\n",
       "       62166433.04181865])"
      ]
     },
     "execution_count": 30,
     "metadata": {},
     "output_type": "execute_result"
    },
    {
     "data": {
      "text/plain": [
       "-35881116.20208311"
      ]
     },
     "execution_count": 30,
     "metadata": {},
     "output_type": "execute_result"
    },
    {
     "data": {
      "text/plain": [
       "array([-8.56632079e+00, -8.64057001e+03,  2.21332852e+03])"
      ]
     },
     "execution_count": 30,
     "metadata": {},
     "output_type": "execute_result"
    },
    {
     "name": "stdout",
     "output_type": "stream",
     "text": [
      "0.9832664298917432 0.9790830373646789\n"
     ]
    },
    {
     "name": "stderr",
     "output_type": "stream",
     "text": [
      "/Users/luke/anaconda3/lib/python3.8/site-packages/scipy/stats/stats.py:1603: UserWarning:\n",
      "\n",
      "kurtosistest only valid for n>=20 ... continuing anyway, n=16\n",
      "\n"
     ]
    },
    {
     "data": {
      "text/html": [
       "<table class=\"simpletable\">\n",
       "<caption>OLS Regression Results</caption>\n",
       "<tr>\n",
       "  <th>Dep. Variable:</th>    <td>Total Restaurant Revenue</td> <th>  R-squared:         </th> <td>   0.983</td>\n",
       "</tr>\n",
       "<tr>\n",
       "  <th>Model:</th>                       <td>OLS</td>           <th>  Adj. R-squared:    </th> <td>   0.979</td>\n",
       "</tr>\n",
       "<tr>\n",
       "  <th>Method:</th>                 <td>Least Squares</td>      <th>  F-statistic:       </th> <td>   235.0</td>\n",
       "</tr>\n",
       "<tr>\n",
       "  <th>Date:</th>                 <td>Fri, 05 Mar 2021</td>     <th>  Prob (F-statistic):</th> <td>6.39e-11</td>\n",
       "</tr>\n",
       "<tr>\n",
       "  <th>Time:</th>                     <td>12:50:17</td>         <th>  Log-Likelihood:    </th> <td> -263.47</td>\n",
       "</tr>\n",
       "<tr>\n",
       "  <th>No. Observations:</th>          <td>    16</td>          <th>  AIC:               </th> <td>   534.9</td>\n",
       "</tr>\n",
       "<tr>\n",
       "  <th>Df Residuals:</th>              <td>    12</td>          <th>  BIC:               </th> <td>   538.0</td>\n",
       "</tr>\n",
       "<tr>\n",
       "  <th>Df Model:</th>                  <td>     3</td>          <th>                     </th>     <td> </td>   \n",
       "</tr>\n",
       "<tr>\n",
       "  <th>Covariance Type:</th>          <td>nonrobust</td>        <th>                     </th>     <td> </td>   \n",
       "</tr>\n",
       "</table>\n",
       "<table class=\"simpletable\">\n",
       "<tr>\n",
       "             <td></td>                <th>coef</th>     <th>std err</th>      <th>t</th>      <th>P>|t|</th>  <th>[0.025</th>    <th>0.975]</th>  \n",
       "</tr>\n",
       "<tr>\n",
       "  <th>const</th>                   <td>-3.588e+07</td> <td> 5.44e+06</td> <td>   -6.592</td> <td> 0.000</td> <td>-4.77e+07</td> <td> -2.4e+07</td>\n",
       "</tr>\n",
       "<tr>\n",
       "  <th>Population</th>              <td>   -8.5663</td> <td>    3.570</td> <td>   -2.400</td> <td> 0.034</td> <td>  -16.345</td> <td>   -0.788</td>\n",
       "</tr>\n",
       "<tr>\n",
       "  <th># of Restaurants</th>        <td>-8640.5700</td> <td> 4300.476</td> <td>   -2.009</td> <td> 0.068</td> <td> -1.8e+04</td> <td>  729.363</td>\n",
       "</tr>\n",
       "<tr>\n",
       "  <th>Average Resident Salary</th> <td> 2213.3285</td> <td>  271.390</td> <td>    8.156</td> <td> 0.000</td> <td> 1622.020</td> <td> 2804.637</td>\n",
       "</tr>\n",
       "</table>\n",
       "<table class=\"simpletable\">\n",
       "<tr>\n",
       "  <th>Omnibus:</th>       <td> 0.170</td> <th>  Durbin-Watson:     </th> <td>   0.909</td>\n",
       "</tr>\n",
       "<tr>\n",
       "  <th>Prob(Omnibus):</th> <td> 0.919</td> <th>  Jarque-Bera (JB):  </th> <td>   0.201</td>\n",
       "</tr>\n",
       "<tr>\n",
       "  <th>Skew:</th>          <td>-0.185</td> <th>  Prob(JB):          </th> <td>   0.905</td>\n",
       "</tr>\n",
       "<tr>\n",
       "  <th>Kurtosis:</th>      <td> 2.594</td> <th>  Cond. No.          </th> <td>1.55e+07</td>\n",
       "</tr>\n",
       "</table><br/><br/>Warnings:<br/>[1] Standard Errors assume that the covariance matrix of the errors is correctly specified.<br/>[2] The condition number is large, 1.55e+07. This might indicate that there are<br/>strong multicollinearity or other numerical problems."
      ],
      "text/plain": [
       "<class 'statsmodels.iolib.summary.Summary'>\n",
       "\"\"\"\n",
       "                               OLS Regression Results                               \n",
       "====================================================================================\n",
       "Dep. Variable:     Total Restaurant Revenue   R-squared:                       0.983\n",
       "Model:                                  OLS   Adj. R-squared:                  0.979\n",
       "Method:                       Least Squares   F-statistic:                     235.0\n",
       "Date:                      Fri, 05 Mar 2021   Prob (F-statistic):           6.39e-11\n",
       "Time:                              12:50:17   Log-Likelihood:                -263.47\n",
       "No. Observations:                        16   AIC:                             534.9\n",
       "Df Residuals:                            12   BIC:                             538.0\n",
       "Df Model:                                 3                                         \n",
       "Covariance Type:                  nonrobust                                         \n",
       "===========================================================================================\n",
       "                              coef    std err          t      P>|t|      [0.025      0.975]\n",
       "-------------------------------------------------------------------------------------------\n",
       "const                   -3.588e+07   5.44e+06     -6.592      0.000   -4.77e+07    -2.4e+07\n",
       "Population                 -8.5663      3.570     -2.400      0.034     -16.345      -0.788\n",
       "# of Restaurants        -8640.5700   4300.476     -2.009      0.068    -1.8e+04     729.363\n",
       "Average Resident Salary  2213.3285    271.390      8.156      0.000    1622.020    2804.637\n",
       "==============================================================================\n",
       "Omnibus:                        0.170   Durbin-Watson:                   0.909\n",
       "Prob(Omnibus):                  0.919   Jarque-Bera (JB):                0.201\n",
       "Skew:                          -0.185   Prob(JB):                        0.905\n",
       "Kurtosis:                       2.594   Cond. No.                     1.55e+07\n",
       "==============================================================================\n",
       "\n",
       "Warnings:\n",
       "[1] Standard Errors assume that the covariance matrix of the errors is correctly specified.\n",
       "[2] The condition number is large, 1.55e+07. This might indicate that there are\n",
       "strong multicollinearity or other numerical problems.\n",
       "\"\"\""
      ]
     },
     "execution_count": 30,
     "metadata": {},
     "output_type": "execute_result"
    },
    {
     "data": {
      "application/vnd.plotly.v1+json": {
       "config": {
        "plotlyServerURL": "https://plot.ly"
       },
       "data": [
        {
         "legendgroup": "Y Actual",
         "marker": {
          "color": "rgb(31, 119, 180)"
         },
         "mode": "lines",
         "name": "Y Actual",
         "showlegend": true,
         "type": "scatter",
         "x": [
          18214958,
          18339256.578,
          18463555.156,
          18587853.734,
          18712152.312,
          18836450.89,
          18960749.468,
          19085048.046,
          19209346.624,
          19333645.202,
          19457943.78,
          19582242.358,
          19706540.936,
          19830839.514,
          19955138.092,
          20079436.67,
          20203735.248,
          20328033.826,
          20452332.404,
          20576630.982,
          20700929.56,
          20825228.138,
          20949526.716,
          21073825.294,
          21198123.872,
          21322422.45,
          21446721.028,
          21571019.606,
          21695318.184,
          21819616.762000002,
          21943915.34,
          22068213.918,
          22192512.496,
          22316811.074,
          22441109.652,
          22565408.23,
          22689706.808,
          22814005.386,
          22938303.964,
          23062602.542,
          23186901.12,
          23311199.698,
          23435498.276,
          23559796.854000002,
          23684095.432,
          23808394.009999998,
          23932692.588,
          24056991.166,
          24181289.744,
          24305588.322,
          24429886.9,
          24554185.478,
          24678484.056,
          24802782.634,
          24927081.212,
          25051379.79,
          25175678.368,
          25299976.946000002,
          25424275.524,
          25548574.101999998,
          25672872.68,
          25797171.258,
          25921469.836,
          26045768.414,
          26170066.992,
          26294365.57,
          26418664.148000002,
          26542962.726,
          26667261.303999998,
          26791559.882,
          26915858.46,
          27040157.038000003,
          27164455.616,
          27288754.194,
          27413052.772,
          27537351.35,
          27661649.928,
          27785948.505999997,
          27910247.084,
          28034545.662,
          28158844.240000002,
          28283142.818,
          28407441.395999998,
          28531739.974,
          28656038.552,
          28780337.130000003,
          28904635.708,
          29028934.286,
          29153232.864,
          29277531.442,
          29401830.02,
          29526128.597999997,
          29650427.176,
          29774725.754,
          29899024.332000002,
          30023322.91,
          30147621.487999998,
          30271920.066,
          30396218.644,
          30520517.222,
          30644815.8,
          30769114.378,
          30893412.956,
          31017711.534,
          31142010.112,
          31266308.689999998,
          31390607.268,
          31514905.846,
          31639204.424000002,
          31763503.002,
          31887801.58,
          32012100.158,
          32136398.736,
          32260697.314,
          32384995.892,
          32509294.47,
          32633593.048,
          32757891.626000002,
          32882190.204,
          33006488.781999998,
          33130787.36,
          33255085.938,
          33379384.516000003,
          33503683.094,
          33627981.672,
          33752280.25,
          33876578.828,
          34000877.406,
          34125175.984,
          34249474.562,
          34373773.14,
          34498071.718,
          34622370.296000004,
          34746668.874,
          34870967.452,
          34995266.03,
          35119564.607999995,
          35243863.186000004,
          35368161.764,
          35492460.342,
          35616758.92,
          35741057.497999996,
          35865356.076000005,
          35989654.654,
          36113953.232,
          36238251.81,
          36362550.388,
          36486848.966,
          36611147.544,
          36735446.122,
          36859744.7,
          36984043.278,
          37108341.856,
          37232640.434,
          37356939.011999995,
          37481237.59,
          37605536.168,
          37729834.746,
          37854133.324,
          37978431.901999995,
          38102730.480000004,
          38227029.058,
          38351327.636,
          38475626.214,
          38599924.791999996,
          38724223.370000005,
          38848521.948,
          38972820.526,
          39097119.104,
          39221417.682,
          39345716.260000005,
          39470014.838,
          39594313.416,
          39718611.994,
          39842910.572,
          39967209.15,
          40091507.728,
          40215806.306,
          40340104.884,
          40464403.462,
          40588702.04,
          40713000.618,
          40837299.195999995,
          40961597.774000004,
          41085896.352,
          41210194.93,
          41334493.508,
          41458792.085999995,
          41583090.664000005,
          41707389.242,
          41831687.82,
          41955986.398,
          42080284.975999996,
          42204583.554000005,
          42328882.132,
          42453180.71,
          42577479.288,
          42701777.866,
          42826076.444,
          42950375.022,
          43074673.6,
          43198972.178,
          43323270.756,
          43447569.334,
          43571867.912,
          43696166.489999995,
          43820465.068,
          43944763.646,
          44069062.224,
          44193360.802,
          44317659.379999995,
          44441957.958000004,
          44566256.536,
          44690555.114,
          44814853.692,
          44939152.269999996,
          45063450.848000005,
          45187749.426,
          45312048.004,
          45436346.582,
          45560645.16,
          45684943.738000005,
          45809242.316,
          45933540.894,
          46057839.472,
          46182138.05,
          46306436.628,
          46430735.206,
          46555033.784,
          46679332.362,
          46803630.94,
          46927929.518,
          47052228.096,
          47176526.673999995,
          47300825.252000004,
          47425123.83,
          47549422.408,
          47673720.986,
          47798019.563999996,
          47922318.142000005,
          48046616.72,
          48170915.298,
          48295213.876,
          48419512.453999996,
          48543811.032000005,
          48668109.61,
          48792408.188,
          48916706.766,
          49041005.344,
          49165303.922,
          49289602.5,
          49413901.078,
          49538199.656,
          49662498.234,
          49786796.812,
          49911095.39,
          50035393.967999995,
          50159692.546000004,
          50283991.124,
          50408289.702,
          50532588.28,
          50656886.857999995,
          50781185.436000004,
          50905484.014,
          51029782.592,
          51154081.17,
          51278379.747999996,
          51402678.326000005,
          51526976.904,
          51651275.482,
          51775574.06,
          51899872.638,
          52024171.216,
          52148469.794,
          52272768.372,
          52397066.95,
          52521365.528,
          52645664.106,
          52769962.684,
          52894261.262,
          53018559.84,
          53142858.418,
          53267156.996,
          53391455.574,
          53515754.152,
          53640052.73,
          53764351.308,
          53888649.886,
          54012948.464,
          54137247.042,
          54261545.62,
          54385844.198,
          54510142.776,
          54634441.354,
          54758739.932,
          54883038.51,
          55007337.088,
          55131635.666,
          55255934.244,
          55380232.822,
          55504531.4,
          55628829.978,
          55753128.556,
          55877427.134,
          56001725.712,
          56126024.29,
          56250322.868,
          56374621.446,
          56498920.024,
          56623218.602,
          56747517.18,
          56871815.758,
          56996114.336,
          57120412.914,
          57244711.492,
          57369010.07,
          57493308.648,
          57617607.226,
          57741905.804,
          57866204.382,
          57990502.96,
          58114801.538,
          58239100.116,
          58363398.694,
          58487697.272,
          58611995.85,
          58736294.428,
          58860593.006,
          58984891.584,
          59109190.162,
          59233488.74,
          59357787.318,
          59482085.896,
          59606384.474,
          59730683.052,
          59854981.63,
          59979280.208,
          60103578.786,
          60227877.364,
          60352175.942,
          60476474.52,
          60600773.098,
          60725071.676,
          60849370.254,
          60973668.832,
          61097967.41,
          61222265.988,
          61346564.566,
          61470863.144,
          61595161.722,
          61719460.3,
          61843758.878,
          61968057.456,
          62092356.034,
          62216654.612,
          62340953.19,
          62465251.768,
          62589550.346,
          62713848.924,
          62838147.502,
          62962446.08,
          63086744.658,
          63211043.236,
          63335341.814,
          63459640.392,
          63583938.97,
          63708237.548,
          63832536.126,
          63956834.704,
          64081133.282,
          64205431.86,
          64329730.438,
          64454029.016,
          64578327.594,
          64702626.172,
          64826924.75,
          64951223.328,
          65075521.906,
          65199820.484,
          65324119.062,
          65448417.64,
          65572716.218,
          65697014.796,
          65821313.374,
          65945611.952,
          66069910.53,
          66194209.108,
          66318507.686,
          66442806.264,
          66567104.842,
          66691403.42,
          66815701.998,
          66940000.576,
          67064299.154,
          67188597.732,
          67312896.31,
          67437194.888,
          67561493.46599999,
          67685792.044,
          67810090.62200001,
          67934389.2,
          68058687.778,
          68182986.356,
          68307284.934,
          68431583.512,
          68555882.09,
          68680180.668,
          68804479.24599999,
          68928777.824,
          69053076.40200001,
          69177374.97999999,
          69301673.558,
          69425972.136,
          69550270.714,
          69674569.292,
          69798867.87,
          69923166.448,
          70047465.026,
          70171763.604,
          70296062.182,
          70420360.75999999,
          70544659.338,
          70668957.91600001,
          70793256.494,
          70917555.072,
          71041853.65,
          71166152.228,
          71290450.806,
          71414749.384,
          71539047.962,
          71663346.53999999,
          71787645.118,
          71911943.69600001,
          72036242.27399999,
          72160540.852,
          72284839.43,
          72409138.008,
          72533436.586,
          72657735.164,
          72782033.742,
          72906332.32,
          73030630.898,
          73154929.47600001,
          73279228.05399999,
          73403526.632,
          73527825.21000001,
          73652123.788,
          73776422.366,
          73900720.944,
          74025019.522,
          74149318.1,
          74273616.678,
          74397915.256,
          74522213.83399999,
          74646512.412,
          74770810.99000001,
          74895109.568,
          75019408.146,
          75143706.724,
          75268005.302,
          75392303.88,
          75516602.458,
          75640901.036,
          75765199.614,
          75889498.192,
          76013796.77000001,
          76138095.34799999,
          76262393.926,
          76386692.50400001,
          76510991.082,
          76635289.66,
          76759588.238,
          76883886.816,
          77008185.394,
          77132483.972,
          77256782.55,
          77381081.12799999,
          77505379.706,
          77629678.28400001,
          77753976.862,
          77878275.44,
          78002574.018,
          78126872.596,
          78251171.174,
          78375469.752,
          78499768.33,
          78624066.90799999,
          78748365.486,
          78872664.06400001,
          78996962.64199999,
          79121261.22,
          79245559.79800001,
          79369858.376,
          79494156.954,
          79618455.532,
          79742754.11,
          79867052.688,
          79991351.266,
          80115649.844,
          80239948.42199999
         ],
         "xaxis": "x",
         "y": [
          1.2648979347895759e-08,
          1.2658373681017902e-08,
          1.2667026094862375e-08,
          1.2674935948784777e-08,
          1.2682102756587373e-08,
          1.268852618697956e-08,
          1.2694206063993065e-08,
          1.269914236735184e-08,
          1.2703335232796286e-08,
          1.2706784952361837e-08,
          1.2709491974611658e-08,
          1.2711456904823392e-08,
          1.2712680505129822e-08,
          1.271316369461345e-08,
          1.271290754935483e-08,
          1.2711913302434704e-08,
          1.2710182343889869e-08,
          1.2707716220622806e-08,
          1.2704516636265062e-08,
          1.2700585450994415e-08,
          1.2695924681305934e-08,
          1.2690536499736932e-08,
          1.2684423234545938e-08,
          1.2677587369345808e-08,
          1.2670031542691058e-08,
          1.2661758547619665e-08,
          1.2652771331149326e-08,
          1.2643072993728556e-08,
          1.2632666788642662e-08,
          1.2621556121374924e-08,
          1.2609744548923134e-08,
          1.259723577907179e-08,
          1.2584033669620223e-08,
          1.2570142227566884e-08,
          1.255556560825018e-08,
          1.2540308114446085e-08,
          1.2524374195422967e-08,
          1.2507768445953843e-08,
          1.2490495605286601e-08,
          1.2472560556072409e-08,
          1.2453968323252835e-08,
          1.2434724072906018e-08,
          1.241483311105234e-08,
          1.2394300882420081e-08,
          1.2373132969171437e-08,
          1.2351335089589456e-08,
          1.232891309672633e-08,
          1.230587297701357e-08,
          1.228222084883454e-08,
          1.225796296105994e-08,
          1.2233105691546722e-08,
          1.2207655545601025e-08,
          1.2181619154405674e-08,
          1.215500327341285e-08,
          1.212781478070247e-08,
          1.2100060675306935e-08,
          1.207174807550283e-08,
          1.204288421707018e-08,
          1.2013476451519918e-08,
          1.1983532244290241e-08,
          1.1953059172912371e-08,
          1.1922064925146615e-08,
          1.1890557297089128e-08,
          1.1858544191250266e-08,
          1.18260336146051e-08,
          1.1793033676616839e-08,
          1.175955258723384e-08,
          1.1725598654860913e-08,
          1.169118028430565e-08,
          1.1656305974700496e-08,
          1.1620984317401295e-08,
          1.1585223993863e-08,
          1.1549033773493373e-08,
          1.1512422511485341e-08,
          1.1475399146628775e-08,
          1.1437972699102467e-08,
          1.1400152268247054e-08,
          1.1361947030319615e-08,
          1.1323366236230743e-08,
          1.1284419209264851e-08,
          1.124511534278446e-08,
          1.120546409791924e-08,
          1.1165475001240593e-08,
          1.1125157642422546e-08,
          1.1084521671889707e-08,
          1.1043576798453077e-08,
          1.1002332786934469e-08,
          1.096079945578035e-08,
          1.091898667466582e-08,
          1.0876904362089541e-08,
          1.0834562482960374e-08,
          1.0791971046176482e-08,
          1.0749140102197684e-08,
          1.070607974061181e-08,
          1.066280008769581e-08,
          1.0619311303972418e-08,
          1.0575623581763037e-08,
          1.0531747142737734e-08,
          1.048769223546292e-08,
          1.0443469132947638e-08,
          1.0399088130189048e-08,
          1.0354559541717912e-08,
          1.0309893699144843e-08,
          1.0265100948707925e-08,
          1.0220191648822585e-08,
          1.0175176167634236e-08,
          1.01300648805746e-08,
          1.008486816792221e-08,
          1.0039596412367983e-08,
          9.994259996586353e-09,
          9.948869300812804e-09,
          9.903434700428378e-09,
          9.857966563551867e-09,
          9.812475248640288e-09,
          9.766971102098408e-09,
          9.72146445589778e-09,
          9.675965625206103e-09,
          9.63048490602738e-09,
          9.585032572853615e-09,
          9.53961887632852e-09,
          9.494254040923962e-09,
          9.448948262629615e-09,
          9.403711706656498e-09,
          9.358554505154882e-09,
          9.313486754947158e-09,
          9.26851851527624e-09,
          9.223659805569989e-09,
          9.17892060322223e-09,
          9.134310841390805e-09,
          9.089840406813307e-09,
          9.04551913764084e-09,
          9.001356821290362e-09,
          8.957363192316118e-09,
          8.913547930300553e-09,
          8.869920657765207e-09,
          8.826490938102022e-09,
          8.783268273525528e-09,
          8.740262103046223e-09,
          8.697481800465726e-09,
          8.65493667239391e-09,
          8.612635956288602e-09,
          8.570588818518047e-09,
          8.528804352446613e-09,
          8.487291576544101e-09,
          8.446059432518912e-09,
          8.405116783475493e-09,
          8.364472412096358e-09,
          8.324135018848985e-09,
          8.284113220217903e-09,
          8.244415546962257e-09,
          8.205050442399142e-09,
          8.166026260712963e-09,
          8.127351265291057e-09,
          8.089033627085895e-09,
          8.051081423004057e-09,
          8.013502634322149e-09,
          7.976305145130044e-09,
          7.939496740801448e-09,
          7.903085106492194e-09,
          7.867077825666253e-09,
          7.831482378649797e-09,
          7.796306141213444e-09,
          7.761556383182728e-09,
          7.727240267077126e-09,
          7.693364846777656e-09,
          7.659937066223195e-09,
          7.626963758135689e-09,
          7.594451642774264e-09,
          7.562407326718492e-09,
          7.530837301680747e-09,
          7.499747943347838e-09,
          7.469145510251958e-09,
          7.4390361426710255e-09,
          7.4094258615584714e-09,
          7.380320567502521e-09,
          7.351726039715029e-09,
          7.323647935049891e-09,
          7.296091787051057e-09,
          7.269063005030166e-09,
          7.242566873173842e-09,
          7.2166085496805994e-09,
          7.191193065927423e-09,
          7.166325325665969e-09,
          7.142010104248381e-09,
          7.118252047882721e-09,
          7.0950556729179376e-09,
          7.07242536515841e-09,
          7.050365379207951e-09,
          7.028879837843272e-09,
          7.007972731416851e-09,
          6.987647917289123e-09,
          6.967909119289958e-09,
          6.948759927209321e-09,
          6.9302037963171e-09,
          6.912244046911949e-09,
          6.894883863899129e-09,
          6.878126296397201e-09,
          6.861974257373543e-09,
          6.8464305233085125e-09,
          6.831497733888238e-09,
          6.817178391725866e-09,
          6.803474862111193e-09,
          6.790389372788563e-09,
          6.777924013762882e-09,
          6.7660807371336896e-09,
          6.754861356957105e-09,
          6.744267549135547e-09,
          6.734300851335105e-09,
          6.724962662930407e-09,
          6.7162542449768584e-09,
          6.708176720210128e-09,
          6.700731073072704e-09,
          6.693918149767412e-09,
          6.687738658337732e-09,
          6.682193168774749e-09,
          6.677282113150637e-09,
          6.6730057857784655e-09,
          6.669364343398207e-09,
          6.666357805388778e-09,
          6.663986054005964e-09,
          6.66224883464607e-09,
          6.661145756135091e-09,
          6.660676291043327e-09,
          6.6608397760251786e-09,
          6.661635412184039e-09,
          6.663062265462063e-09,
          6.665119267054657e-09,
          6.667805213849546e-09,
          6.6711187688902025e-09,
          6.675058461863512e-09,
          6.679622689611446e-09,
          6.6848097166666435e-09,
          6.6906176758116465e-09,
          6.697044568661678e-09,
          6.70408826627074e-09,
          6.711746509760885e-09,
          6.720016910974483e-09,
          6.728896953149262e-09,
          6.73838399161601e-09,
          6.7484752545187e-09,
          6.759167843556892e-09,
          6.7704587347502176e-09,
          6.782344779224769e-09,
          6.794822704021191e-09,
          6.80788911292434e-09,
          6.821540487314263e-09,
          6.835773187038378e-09,
          6.8505834513046e-09,
          6.865967399595289e-09,
          6.8819210326018106e-09,
          6.898440233179493e-09,
          6.915520767322851e-09,
          6.933158285160828e-09,
          6.951348321971919e-09,
          6.9700862992189355e-09,
          6.989367525603267e-09,
          7.0091871981384054e-09,
          7.029540403242589e-09,
          7.050422117850292e-09,
          7.071827210542476e-09,
          7.093750442695306e-09,
          7.1161864696471754e-09,
          7.139129841883877e-09,
          7.16257500624163e-09,
          7.186516307127883e-09,
          7.210947987759563e-09,
          7.235864191418677e-09,
          7.261258962724997e-09,
          7.287126248925636e-09,
          7.313459901201333e-09,
          7.340253675989199e-09,
          7.367501236321744e-09,
          7.3951961531819635e-09,
          7.423331906874265e-09,
          7.45190188841102e-09,
          7.480899400914548e-09,
          7.51031766103427e-09,
          7.540149800378852e-09,
          7.570388866963087e-09,
          7.601027826669306e-09,
          7.632059564723094e-09,
          7.663476887183045e-09,
          7.695272522444414e-09,
          7.727439122756281e-09,
          7.759969265752175e-09,
          7.792855455993757e-09,
          7.826090126527431e-09,
          7.859665640453572e-09,
          7.893574292508152e-09,
          7.92780831065655e-09,
          7.962359857699197e-09,
          7.997221032888926e-09,
          8.032383873559645e-09,
          8.067840356766198e-09,
          8.103582400935029e-09,
          8.13960186752549e-09,
          8.175890562701458e-09,
          8.212440239012983e-09,
          8.249242597087763e-09,
          8.286289287332095e-09,
          8.323571911641066e-09,
          8.361082025117653e-09,
          8.398811137800507e-09,
          8.436750716400083e-09,
          8.474892186042844e-09,
          8.513226932023238e-09,
          8.551746301563124e-09,
          8.590441605578413e-09,
          8.629304120452517e-09,
          8.668325089816396e-09,
          8.707495726334801e-09,
          8.746807213498498e-09,
          8.786250707422024e-09,
          8.825817338646777e-09,
          8.865498213949056e-09,
          8.905284418152688e-09,
          8.94516701594599e-09,
          8.985137053702664e-09,
          9.025185561306322e-09,
          9.06530355397829e-09,
          9.105482034108305e-09,
          9.145711993087856e-09,
          9.185984413145708e-09,
          9.226290269185316e-09,
          9.266620530623756e-09,
          9.30696616323184e-09,
          9.347318130974966e-09,
          9.387667397854466e-09,
          9.42800492974897e-09,
          9.468321696255463e-09,
          9.508608672529685e-09,
          9.548856841125416e-09,
          9.589057193832388e-09,
          9.629200733512302e-09,
          9.669278475932689e-09,
          9.70928145159814e-09,
          9.749200707578607e-09,
          9.78902730933425e-09,
          9.828752342536582e-09,
          9.868366914885448e-09,
          9.907862157921401e-09,
          9.947229228833167e-09,
          9.986459312259751e-09,
          1.0025543622086765e-08,
          1.0064473403236591e-08,
          1.0103239933452034e-08,
          1.0141834525072945e-08,
          1.0180248526805508e-08,
          1.0218473325483715e-08,
          1.0256500347822704e-08,
          1.0294321062163433e-08,
          1.0331926980208414e-08,
          1.036930965874798e-08,
          1.0406460701376745e-08,
          1.0443371760199863e-08,
          1.048003453752859e-08,
          1.0516440787564815e-08,
          1.0552582318074159e-08,
          1.0588450992047151e-08,
          1.0624038729348158e-08,
          1.0659337508351647e-08,
          1.0694339367565307e-08,
          1.072903640723971e-08,
          1.0763420790964074e-08,
          1.0797484747247717e-08,
          1.0831220571086792e-08,
          1.0864620625515954e-08,
          1.0897677343144483e-08,
          1.0930383227676579e-08,
          1.0962730855415296e-08,
          1.0994712876749872e-08,
          1.1026322017625923e-08,
          1.105755108099825e-08,
          1.1088392948265778e-08,
          1.1118840580688313e-08,
          1.1148887020784665e-08,
          1.1178525393711867e-08,
          1.1207748908625042e-08,
          1.123655086001756e-08,
          1.1264924629041192e-08,
          1.1292863684805799e-08,
          1.1320361585658287e-08,
          1.1347411980440436e-08,
          1.1374008609725306e-08,
          1.1400145307031807e-08,
          1.1425816000017167e-08,
          1.1451014711646914e-08,
          1.1475735561342127e-08,
          1.1499972766103551e-08,
          1.1523720641612282e-08,
          1.1546973603306783e-08,
          1.1569726167435847e-08,
          1.1591972952087242e-08,
          1.1613708678191776e-08,
          1.1634928170502427e-08,
          1.1655626358548387e-08,
          1.167579827756358e-08,
          1.1695439069389555e-08,
          1.1714543983352402e-08,
          1.1733108377113467e-08,
          1.1751127717493612e-08,
          1.176859758127083e-08,
          1.1785513655950948e-08,
          1.1801871740511156e-08,
          1.1817667746116304e-08,
          1.1832897696807564e-08,
          1.184755773016341e-08,
          1.186164409793267e-08,
          1.1875153166639471e-08,
          1.1888081418159925e-08,
          1.1900425450270349e-08,
          1.191218197716696e-08,
          1.1923347829956765e-08,
          1.1933919957119634e-08,
          1.1943895424941347e-08,
          1.1953271417917533e-08,
          1.1962045239128387e-08,
          1.1970214310584042e-08,
          1.1977776173540547e-08,
          1.1984728488786303e-08,
          1.1991069036898969e-08,
          1.199679571847269e-08,
          1.200190655431564e-08,
          1.2006399685617824e-08,
          1.2010273374089127e-08,
          1.2013526002067504e-08,
          1.2016156072597402e-08,
          1.2018162209478328e-08,
          1.2019543157283603e-08,
          1.2020297781349296e-08,
          1.202042506773336e-08,
          1.2019924123145035e-08,
          1.2018794174844492e-08,
          1.2017034570512851e-08,
          1.2014644778092566e-08,
          1.2011624385598279e-08,
          1.2007973100898204e-08,
          1.2003690751466189e-08,
          1.1998777284104456e-08,
          1.1993232764637223e-08,
          1.1987057377575255e-08,
          1.1980251425751541e-08,
          1.197281532992817e-08,
          1.1964749628374592e-08,
          1.19560549764174e-08,
          1.1946732145961856e-08,
          1.1936782024985225e-08,
          1.1926205617002214e-08,
          1.1915004040502671e-08,
          1.1903178528361712e-08,
          1.1890730427222538e-08,
          1.1877661196852153e-08,
          1.1863972409470216e-08,
          1.1849665749051196e-08,
          1.1834743010600246e-08,
          1.181920609940286e-08,
          1.1803057030248713e-08,
          1.1786297926629901e-08,
          1.1768931019913879e-08,
          1.1750958648491403e-08,
          1.1732383256899723e-08,
          1.1713207394921416e-08,
          1.169343371665911e-08,
          1.1673064979586435e-08,
          1.1652104043575551e-08,
          1.163055386990159e-08,
          1.1608417520224349e-08,
          1.1585698155547544e-08,
          1.1562399035156122e-08,
          1.1538523515531828e-08,
          1.1514075049247502e-08,
          1.1489057183840487e-08,
          1.1463473560665504e-08,
          1.1437327913727399e-08,
          1.1410624068494143e-08,
          1.1383365940690574e-08,
          1.1355557535073162e-08,
          1.1327202944186322e-08,
          1.1298306347100671e-08,
          1.1268872008133628e-08,
          1.1238904275552798e-08,
          1.1208407580262644e-08,
          1.1177386434474822e-08,
          1.1145845430362607e-08,
          1.1113789238699958e-08,
          1.1081222607485602e-08,
          1.1048150360552629e-08,
          1.1014577396164028e-08,
          1.0980508685594714e-08,
          1.0945949271700435e-08,
          1.0910904267474033e-08,
          1.0875378854589664e-08,
          1.083937828193527e-08,
          1.0802907864133946e-08,
          1.0765972980054591e-08,
          1.0728579071312403e-08,
          1.0690731640759636e-08,
          1.065243625096719e-08,
          1.0613698522697485e-08,
          1.0574524133369077e-08
         ],
         "yaxis": "y"
        },
        {
         "legendgroup": "Y Predicted",
         "marker": {
          "color": "rgb(255, 127, 14)"
         },
         "mode": "lines",
         "name": "Y Predicted",
         "showlegend": true,
         "type": "scatter",
         "x": [
          13343140.99736172,
          13481215.703917846,
          13619290.410473973,
          13757365.117030099,
          13895439.823586226,
          14033514.530142352,
          14171589.236698478,
          14309663.943254605,
          14447738.649810731,
          14585813.356366858,
          14723888.062922984,
          14861962.76947911,
          15000037.476035237,
          15138112.182591364,
          15276186.88914749,
          15414261.595703617,
          15552336.302259743,
          15690411.00881587,
          15828485.715371998,
          15966560.421928125,
          16104635.128484251,
          16242709.835040376,
          16380784.541596504,
          16518859.24815263,
          16656933.954708757,
          16795008.66126488,
          16933083.367821008,
          17071158.074377134,
          17209232.78093326,
          17347307.487489387,
          17485382.194045514,
          17623456.90060164,
          17761531.607157767,
          17899606.313713893,
          18037681.02027002,
          18175755.726826146,
          18313830.433382276,
          18451905.139938403,
          18589979.84649453,
          18728054.553050656,
          18866129.259606782,
          19004203.966162905,
          19142278.67271903,
          19280353.379275158,
          19418428.08583129,
          19556502.792387415,
          19694577.49894354,
          19832652.205499668,
          19970726.912055794,
          20108801.61861192,
          20246876.325168047,
          20384951.031724174,
          20523025.7382803,
          20661100.444836427,
          20799175.151392553,
          20937249.85794868,
          21075324.564504806,
          21213399.271060932,
          21351473.97761706,
          21489548.684173185,
          21627623.39072931,
          21765698.09728544,
          21903772.803841565,
          22041847.51039769,
          22179922.216953818,
          22317996.923509944,
          22456071.63006607,
          22594146.336622197,
          22732221.043178324,
          22870295.74973445,
          23008370.456290577,
          23146445.162846703,
          23284519.869402833,
          23422594.575958956,
          23560669.282515086,
          23698743.98907121,
          23836818.69562734,
          23974893.402183462,
          24112968.108739592,
          24251042.815295715,
          24389117.521851845,
          24527192.22840797,
          24665266.934964094,
          24803341.641520225,
          24941416.348076347,
          25079491.054632477,
          25217565.7611886,
          25355640.46774473,
          25493715.174300857,
          25631789.880856983,
          25769864.58741311,
          25907939.293969236,
          26046014.000525363,
          26184088.70708149,
          26322163.413637616,
          26460238.120193742,
          26598312.82674987,
          26736387.533305995,
          26874462.23986212,
          27012536.946418248,
          27150611.652974375,
          27288686.3595305,
          27426761.066086628,
          27564835.772642754,
          27702910.47919888,
          27840985.185755007,
          27979059.892311133,
          28117134.59886726,
          28255209.305423386,
          28393284.011979513,
          28531358.71853564,
          28669433.425091766,
          28807508.131647892,
          28945582.83820402,
          29083657.544760145,
          29221732.25131627,
          29359806.9578724,
          29497881.664428525,
          29635956.37098465,
          29774031.077540778,
          29912105.784096904,
          30050180.49065303,
          30188255.197209157,
          30326329.903765284,
          30464404.61032141,
          30602479.316877536,
          30740554.023433663,
          30878628.72998979,
          31016703.436545916,
          31154778.143102042,
          31292852.84965817,
          31430927.556214295,
          31569002.26277042,
          31707076.96932655,
          31845151.675882675,
          31983226.382438805,
          32121301.088994928,
          32259375.795551054,
          32397450.50210718,
          32535525.20866331,
          32673599.915219434,
          32811674.62177556,
          32949749.328331687,
          33087824.034887817,
          33225898.741443943,
          33363973.448000066,
          33502048.154556192,
          33640122.86111232,
          33778197.56766845,
          33916272.27422457,
          34054346.9807807,
          34192421.687336825,
          34330496.39389296,
          34468571.100449085,
          34606645.807005204,
          34744720.51356133,
          34882795.220117465,
          35020869.92667359,
          35158944.63322971,
          35297019.33978584,
          35435094.04634197,
          35573168.7528981,
          35711243.45945422,
          35849318.16601034,
          35987392.87256647,
          36125467.5791226,
          36263542.28567873,
          36401616.992234856,
          36539691.698790975,
          36677766.40534711,
          36815841.111903235,
          36953915.81845936,
          37091990.52501548,
          37230065.231571615,
          37368139.93812774,
          37506214.64468387,
          37644289.351239994,
          37782364.05779611,
          37920438.76435225,
          38058513.47090837,
          38196588.1774645,
          38334662.88402062,
          38472737.59057675,
          38610812.29713288,
          38748887.003689006,
          38886961.71024513,
          39025036.41680126,
          39163111.123357385,
          39301185.82991351,
          39439260.53646964,
          39577335.243025765,
          39715409.94958189,
          39853484.65613802,
          39991559.362694144,
          40129634.06925027,
          40267708.7758064,
          40405783.48236252,
          40543858.18891865,
          40681932.89547478,
          40820007.6020309,
          40958082.30858703,
          41096157.015143156,
          41234231.72169928,
          41372306.42825541,
          41510381.134811535,
          41648455.84136766,
          41786530.54792379,
          41924605.254479915,
          42062679.96103604,
          42200754.66759217,
          42338829.374148294,
          42476904.08070442,
          42614978.78726055,
          42753053.493816674,
          42891128.2003728,
          43029202.90692893,
          43167277.61348505,
          43305352.32004118,
          43443427.026597306,
          43581501.73315343,
          43719576.43970956,
          43857651.146265686,
          43995725.85282181,
          44133800.55937794,
          44271875.265934065,
          44409949.97249019,
          44548024.67904632,
          44686099.385602444,
          44824174.09215857,
          44962248.7987147,
          45100323.505270824,
          45238398.21182695,
          45376472.91838308,
          45514547.6249392,
          45652622.33149533,
          45790697.038051456,
          45928771.74460758,
          46066846.45116371,
          46204921.157719836,
          46342995.86427596,
          46481070.57083209,
          46619145.277388215,
          46757219.98394434,
          46895294.69050047,
          47033369.397056594,
          47171444.10361272,
          47309518.81016885,
          47447593.516724974,
          47585668.2232811,
          47723742.92983723,
          47861817.63639335,
          47999892.34294948,
          48137967.04950561,
          48276041.75606173,
          48414116.46261786,
          48552191.169173986,
          48690265.87573011,
          48828340.58228624,
          48966415.288842365,
          49104489.99539849,
          49242564.70195462,
          49380639.408510745,
          49518714.11506687,
          49656788.821623,
          49794863.528179124,
          49932938.23473526,
          50071012.94129138,
          50209087.6478475,
          50347162.35440363,
          50485237.06095976,
          50623311.76751589,
          50761386.47407201,
          50899461.180628136,
          51037535.88718426,
          51175610.59374039,
          51313685.300296515,
          51451760.00685264,
          51589834.71340877,
          51727909.4199649,
          51865984.12652102,
          52004058.83307715,
          52142133.539633274,
          52280208.2461894,
          52418282.952745534,
          52556357.65930165,
          52694432.36585778,
          52832507.072413914,
          52970581.77897003,
          53108656.48552617,
          53246731.192082286,
          53384805.89863841,
          53522880.60519455,
          53660955.311750665,
          53799030.0183068,
          53937104.72486292,
          54075179.431419045,
          54213254.13797518,
          54351328.8445313,
          54489403.551087424,
          54627478.25764356,
          54765552.96419968,
          54903627.67075581,
          55041702.37731193,
          55179777.08386806,
          55317851.79042419,
          55455926.49698031,
          55594001.20353644,
          55732075.91009256,
          55870150.61664869,
          56008225.32320482,
          56146300.02976094,
          56284374.736317076,
          56422449.4428732,
          56560524.14942932,
          56698598.855985455,
          56836673.562541574,
          56974748.2690977,
          57112822.975653835,
          57250897.68220995,
          57388972.38876609,
          57527047.095322214,
          57665121.80187833,
          57803196.50843447,
          57941271.214990586,
          58079345.92154672,
          58217420.62810285,
          58355495.334658965,
          58493570.0412151,
          58631644.74777122,
          58769719.45432735,
          58907794.16088348,
          59045868.8674396,
          59183943.57399573,
          59322018.28055186,
          59460092.987107985,
          59598167.69366411,
          59736242.40022023,
          59874317.106776364,
          60012391.81333249,
          60150466.51988861,
          60288541.22644474,
          60426615.93300086,
          60564690.639557,
          60702765.34611312,
          60840840.05266924,
          60978914.759225376,
          61116989.4657815,
          61255064.17233763,
          61393138.878893755,
          61531213.585449874,
          61669288.29200601,
          61807362.998562135,
          61945437.70511826,
          62083512.41167439,
          62221587.11823051,
          62359661.82478664,
          62497736.53134277,
          62635811.23789889,
          62773885.94445502,
          62911960.65101115,
          63050035.35756727,
          63188110.0641234,
          63326184.77067952,
          63464259.47723565,
          63602334.18379178,
          63740408.890347905,
          63878483.59690403,
          64016558.30346016,
          64154633.010016285,
          64292707.71657241,
          64430782.42312854,
          64568857.129684664,
          64706931.83624079,
          64845006.54279692,
          64983081.249353044,
          65121155.95590917,
          65259230.6624653,
          65397305.36902142,
          65535380.07557755,
          65673454.782133676,
          65811529.48868981,
          65949604.19524593,
          66087678.901802056,
          66225753.60835818,
          66363828.31491431,
          66501903.021470435,
          66639977.72802656,
          66778052.43458269,
          66916127.141138814,
          67054201.84769494,
          67192276.55425107,
          67330351.26080719,
          67468425.96736333,
          67606500.67391945,
          67744575.38047558,
          67882650.08703169,
          68020724.79358783,
          68158799.50014395,
          68296874.20670009,
          68434948.9132562,
          68573023.61981234,
          68711098.32636845,
          68849173.03292459,
          68987247.73948072,
          69125322.44603685,
          69263397.15259296,
          69401471.8591491,
          69539546.56570521,
          69677621.27226135,
          69815695.97881746,
          69953770.6853736,
          70091845.39192973,
          70229920.09848586,
          70367994.80504197,
          70506069.51159811,
          70644144.21815422,
          70782218.92471036,
          70920293.63126647,
          71058368.33782262,
          71196443.04437874,
          71334517.75093487,
          71472592.457491,
          71610667.16404712,
          71748741.87060323,
          71886816.57715937,
          72024891.28371549,
          72162965.99027163,
          72301040.69682775,
          72439115.40338388,
          72577190.10994,
          72715264.81649613,
          72853339.52305225,
          72991414.22960839,
          73129488.9361645,
          73267563.64272064,
          73405638.34927675,
          73543713.0558329,
          73681787.76238902,
          73819862.46894515,
          73957937.17550127,
          74096011.8820574,
          74234086.58861351,
          74372161.29516965,
          74510236.00172576,
          74648310.7082819,
          74786385.41483803,
          74924460.12139416,
          75062534.82795028,
          75200609.53450641,
          75338684.24106252,
          75476758.94761866,
          75614833.65417477,
          75752908.36073092,
          75890983.06728704,
          76029057.77384317,
          76167132.4803993,
          76305207.18695542,
          76443281.89351155,
          76581356.60006768,
          76719431.30662379,
          76857506.01317993,
          76995580.71973605,
          77133655.42629218,
          77271730.13284831,
          77409804.83940443,
          77547879.54596056,
          77685954.25251669,
          77824028.95907281,
          77962103.66562894,
          78100178.37218505,
          78238253.0787412,
          78376327.78529732,
          78514402.49185345,
          78652477.19840957,
          78790551.9049657,
          78928626.61152183,
          79066701.31807795,
          79204776.02463406,
          79342850.7311902,
          79480925.43774633,
          79619000.14430246,
          79757074.85085858,
          79895149.55741471,
          80033224.26397084,
          80171298.97052696,
          80309373.67708309,
          80447448.38363922,
          80585523.09019534,
          80723597.79675147,
          80861672.5033076,
          80999747.20986372,
          81137821.91641985,
          81275896.62297598,
          81413971.3295321,
          81552046.03608823,
          81690120.74264435,
          81828195.44920048,
          81966270.15575661,
          82104344.86231273,
          82242419.56886886
         ],
         "xaxis": "x",
         "y": [
          1.1398123542174502e-08,
          1.144156126805099e-08,
          1.1484334386838942e-08,
          1.1526434796764306e-08,
          1.1567854533705524e-08,
          1.1608585774385544e-08,
          1.1648620839526542e-08,
          1.1687952196965795e-08,
          1.1726572464731159e-08,
          1.1764474414074552e-08,
          1.180165097246208e-08,
          1.1838095226519072e-08,
          1.1873800424928746e-08,
          1.1908759981282922e-08,
          1.1942967476883319e-08,
          1.1976416663492082e-08,
          1.2009101466030056e-08,
          1.2041015985221401e-08,
          1.2072154500183282e-08,
          1.2102511470959144e-08,
          1.2132081540994327e-08,
          1.2160859539552742e-08,
          1.2188840484073266e-08,
          1.2216019582464601e-08,
          1.2242392235337494e-08,
          1.2267954038172957e-08,
          1.2292700783425418e-08,
          1.231662846255964e-08,
          1.2339733268020322e-08,
          1.2362011595133232e-08,
          1.2383460043936913e-08,
          1.2404075420943876e-08,
          1.2423854740830329e-08,
          1.244279522805348e-08,
          1.2460894318395499e-08,
          1.247814966043325e-08,
          1.249455911693294e-08,
          1.25101207661689e-08,
          1.2524832903165633e-08,
          1.2538694040862543e-08,
          1.2551702911200444e-08,
          1.256385846612935e-08,
          1.2575159878536809e-08,
          1.2585606543096212e-08,
          1.259519807703457e-08,
          1.2603934320819157e-08,
          1.2611815338762625e-08,
          1.2618841419546067e-08,
          1.2625013076659726e-08,
          1.2630331048760898e-08,
          1.2634796299948784e-08,
          1.2638410019955938e-08,
          1.264117362425615e-08,
          1.2643088754088506e-08,
          1.2644157276397506e-08,
          1.2644381283689078e-08,
          1.2643763093802488e-08,
          1.2642305249597996e-08,
          1.2640010518560394e-08,
          1.2636881892318384e-08,
          1.26329225860799e-08,
          1.2628136037983524e-08,
          1.2622525908366149e-08,
          1.261609607894711e-08,
          1.2608850651929015e-08,
          1.26007939490156e-08,
          1.2591930510346872e-08,
          1.258226509335201e-08,
          1.2571802671520367e-08,
          1.2560548433090992e-08,
          1.2548507779661292e-08,
          1.2535686324715194e-08,
          1.2522089892071509e-08,
          1.250772451425306e-08,
          1.2492596430777156e-08,
          1.2476712086368218e-08,
          1.246007812909315e-08,
          1.2442701408420282e-08,
          1.2424588973202682e-08,
          1.2405748069586612e-08,
          1.2386186138846023e-08,
          1.2365910815143979e-08,
          1.2344929923221979e-08,
          1.2323251476018044e-08,
          1.2300883672214684e-08,
          1.2277834893717677e-08,
          1.2254113703066808e-08,
          1.2229728840779565e-08,
          1.2204689222629017e-08,
          1.2179003936856937e-08,
          1.2152682241323415e-08,
          1.2125733560594155e-08,
          1.2098167482966658e-08,
          1.2069993757436642e-08,
          1.2041222290605868e-08,
          1.2011863143532828e-08,
          1.1981926528527515e-08,
          1.195142280589172e-08,
          1.1920362480606213e-08,
          1.1888756198966236e-08,
          1.1856614745166706e-08,
          1.1823949037838643e-08,
          1.1790770126538231e-08,
          1.175708918819004e-08,
          1.1722917523485951e-08,
          1.168826655324121e-08,
          1.1653147814709289e-08,
          1.1617572957857024e-08,
          1.1581553741601607e-08,
          1.1545102030011083e-08,
          1.1508229788469891e-08,
          1.147094907981109e-08,
          1.1433272060416913e-08,
          1.1395210976289233e-08,
          1.1356778159091643e-08,
          1.1317986022164767e-08,
          1.1278847056516487e-08,
          1.1239373826788723e-08,
          1.119957896720248e-08,
          1.1159475177482792e-08,
          1.1119075218765323e-08,
          1.107839190948619e-08,
          1.1037438121256837e-08,
          1.0996226774725529e-08,
          1.0954770835427243e-08,
          1.0913083309623595e-08,
          1.0871177240134494e-08,
          1.0829065702163244e-08,
          1.0786761799116743e-08,
          1.0744278658422466e-08,
          1.0701629427343937e-08,
          1.0658827268796298e-08,
          1.0615885357163701e-08,
          1.0572816874120152e-08,
          1.0529635004455433e-08,
          1.0486352931907784e-08,
          1.0442983835004974e-08,
          1.0399540882915302e-08,
          1.0356037231310257e-08,
          1.0312486018240356e-08,
          1.026890036002574e-08,
          1.0225293347163148e-08,
          1.0181678040250785e-08,
          1.0138067465932652e-08,
          1.0094474612863836e-08,
          1.005091242769832e-08,
          1.0007393811100729e-08,
          9.963931613783584e-09,
          9.920538632571453e-09,
          9.877227606493463e-09,
          9.83401121290559e-09,
          9.790902063644155e-09,
          9.747912701211844e-09,
          9.705055594997696e-09,
          9.66234313753233e-09,
          9.61978764077975e-09,
          9.577401332467045e-09,
          9.535196352453214e-09,
          9.493184749138408e-09,
          9.451378475914765e-09,
          9.409789387660093e-09,
          9.368429237275532e-09,
          9.327309672268362e-09,
          9.286442231381075e-09,
          9.245838341267834e-09,
          9.20550931321935e-09,
          9.165466339937272e-09,
          9.125720492359057e-09,
          9.08628271653435e-09,
          9.047163830553826e-09,
          9.008374521531442e-09,
          8.969925342640965e-09,
          8.931826710207724e-09,
          8.894088900856379e-09,
          8.856722048715568e-09,
          8.819736142680198e-09,
          8.783141023732168e-09,
          8.746946382320257e-09,
          8.711161755799863e-09,
          8.675796525933324e-09,
          8.640859916451378e-09,
          8.606360990676492e-09,
          8.572308649208548e-09,
          8.538711627673531e-09,
          8.505578494535683e-09,
          8.472917648973658e-09,
          8.440737318821138e-09,
          8.409045558572372e-09,
          8.377850247452997e-09,
          8.347159087556593e-09,
          8.31697960204727e-09,
          8.287319133428628e-09,
          8.258184841879405e-09,
          8.229583703656022e-09,
          8.201522509562327e-09,
          8.1740078634867e-09,
          8.14704618100671e-09,
          8.120643688061474e-09,
          8.094806419691827e-09,
          8.069540218848417e-09,
          8.04485073526777e-09,
          8.020743424416365e-09,
          7.99722354650273e-09,
          7.974296165557535e-09,
          7.951966148581656e-09,
          7.930238164762083e-09,
          7.909116684755654e-09,
          7.888605980040402e-09,
          7.868710122334419e-09,
          7.849432983082056e-09,
          7.830778233007213e-09,
          7.812749341733528e-09,
          7.795349577471204e-09,
          7.778582006770191e-09,
          7.762449494339412e-09,
          7.74695470293171e-09,
          7.732100093294176e-09,
          7.717887924183483e-09,
          7.704320252445794e-09,
          7.691398933160892e-09,
          7.679125619850018e-09,
          7.667501764747011e-09,
          7.65652861913223e-09,
          7.64620723372877e-09,
          7.636538459160451e-09,
          7.627522946471007e-09,
          7.619161147703956e-09,
          7.611453316542512e-09,
          7.604399509008988e-09,
          7.597999584223022e-09,
          7.592253205218036e-09,
          7.58715983981522e-09,
          7.582718761554411e-09,
          7.578929050681135e-09,
          7.575789595189164e-09,
          7.573299091917796e-09,
          7.571456047703164e-09,
          7.570258780582837e-09,
          7.569705421052881e-09,
          7.569793913376682e-09,
          7.570522016944674e-09,
          7.571887307684186e-09,
          7.573887179518615e-09,
          7.576518845875046e-09,
          7.579779341239516e-09,
          7.583665522759044e-09,
          7.588174071889585e-09,
          7.593301496089015e-09,
          7.599044130554267e-09,
          7.60539814000173e-09,
          7.612359520490018e-09,
          7.619924101284162e-09,
          7.62808754676037e-09,
          7.636845358350347e-09,
          7.646192876524343e-09,
          7.65612528281188e-09,
          7.666637601859314e-09,
          7.677724703523211e-09,
          7.689381304998622e-09,
          7.70160197298128e-09,
          7.714381125862746e-09,
          7.727713035957574e-09,
          7.741591831761467e-09,
          7.756011500239514e-09,
          7.770965889143474e-09,
          7.786448709357163e-09,
          7.802453537268955e-09,
          7.818973817170414e-09,
          7.836002863680083e-09,
          7.853533864191421e-09,
          7.871559881343955e-09,
          7.890073855516606e-09,
          7.909068607342269e-09,
          7.928536840242607e-09,
          7.948471142982132e-09,
          7.968863992240569e-09,
          7.989707755202535e-09,
          8.010994692163564e-09,
          8.032716959151519e-09,
          8.054866610562397e-09,
          8.077435601809631e-09,
          8.100415791985832e-09,
          8.123798946536143e-09,
          8.147576739942147e-09,
          8.171740758415446e-09,
          8.196282502600002e-09,
          8.221193390282226e-09,
          8.246464759107968e-09,
          8.272087869305471e-09,
          8.298053906413345e-09,
          8.324353984012736e-09,
          8.350979146462693e-09,
          8.377920371637936e-09,
          8.405168573668114e-09,
          8.432714605677639e-09,
          8.460549262525342e-09,
          8.48866328354296e-09,
          8.517047355271728e-09,
          8.545692114196188e-09,
          8.574588149474382e-09,
          8.603726005663637e-09,
          8.63309618544115e-09,
          8.662689152318515e-09,
          8.692495333349509e-09,
          8.722505121830255e-09,
          8.75270887999107e-09,
          8.783096941679258e-09,
          8.813659615032022e-09,
          8.84438718513887e-09,
          8.875269916692746e-09,
          8.906298056629147e-09,
          8.937461836752635e-09,
          8.968751476349948e-09,
          9.000157184789128e-09,
          9.031669164103966e-09,
          9.063277611563114e-09,
          9.094972722223292e-09,
          9.126744691465878e-09,
          9.158583717516366e-09,
          9.19048000394605e-09,
          9.222423762155338e-09,
          9.254405213838209e-09,
          9.286414593427158e-09,
          9.318442150518147e-09,
          9.350478152275065e-09,
          9.382512885813057e-09,
          9.414536660560419e-09,
          9.446539810598366e-09,
          9.478512696978341e-09,
          9.510445710016348e-09,
          9.542329271563858e-09,
          9.574153837254898e-09,
          9.605909898728845e-09,
          9.637587985828551e-09,
          9.669178668773414e-09,
          9.700672560306979e-09,
          9.73206031781875e-09,
          9.763332645439815e-09,
          9.794480296111969e-09,
          9.825494073630005e-09,
          9.856364834656849e-09,
          9.887083490711243e-09,
          9.91764101012771e-09,
          9.94802841998846e-09,
          9.978236808027076e-09,
          1.0008257324503631e-08,
          1.0038081184051056e-08,
          1.0067699667492525e-08,
          1.0097104123629631e-08,
          1.0126285971001156e-08,
          1.0155236699612294e-08,
          1.0183947872634019e-08,
          1.0212411128072627e-08,
          1.0240618180409142e-08,
          1.0268560822208486e-08,
          1.0296230925698348e-08,
          1.032362044431754e-08,
          1.0350721414233785e-08,
          1.0377525955830856e-08,
          1.0404026275164928e-08,
          1.0430214665390117e-08,
          1.0456083508153099e-08,
          1.0481625274956818e-08,
          1.0506832528493162e-08,
          1.0531697923944615e-08,
          1.0556214210254893e-08,
          1.0580374231368464e-08,
          1.0604170927439029e-08,
          1.0627597336006937e-08,
          1.0650646593145502e-08,
          1.0673311934576349e-08,
          1.0695586696753712e-08,
          1.0717464317917774e-08,
          1.0738938339117116e-08,
          1.076000240520026e-08,
          1.0780650265776448e-08,
          1.0800875776145677e-08,
          1.0820672898198058e-08,
          1.0840035701282657e-08,
          1.0858958363045802e-08,
          1.0877435170239048e-08,
          1.089546051949685e-08,
          1.0913028918084065e-08,
          1.0930134984613434e-08,
          1.0946773449733109e-08,
          1.096293915678437e-08,
          1.0978627062429748e-08,
          1.0993832237251533e-08,
          1.1008549866320972e-08,
          1.1022775249738188e-08,
          1.1036503803143059e-08,
          1.1049731058197139e-08,
          1.1062452663036862e-08,
          1.1074664382698103e-08,
          1.1086362099512372e-08,
          1.1097541813474722e-08,
          1.1108199642583594e-08,
          1.111833182315278e-08,
          1.1127934710095676e-08,
          1.1137004777182003e-08,
          1.1145538617267224e-08,
          1.1153532942494781e-08,
          1.1160984584471437e-08,
          1.116789049441582e-08,
          1.1174247743280461e-08,
          1.1180053521847455e-08,
          1.1185305140797992e-08,
          1.1190000030755935e-08,
          1.1194135742305664e-08,
          1.119770994598441e-08,
          1.1200720432249235e-08,
          1.1203165111418936e-08,
          1.1205042013591023e-08,
          1.1206349288534021e-08,
          1.1207085205555293e-08,
          1.1207248153344598e-08,
          1.1206836639793596e-08,
          1.1205849291791536e-08,
          1.120428485499728e-08,
          1.1202142193587986e-08,
          1.119942028998451e-08,
          1.119611824455393e-08,
          1.1192235275289226e-08,
          1.1187770717466442e-08,
          1.1182724023279559e-08,
          1.1177094761453162e-08,
          1.1170882616833283e-08,
          1.1164087389956517e-08,
          1.1156708996597674e-08,
          1.1148747467296184e-08,
          1.1140202946861417e-08,
          1.1131075693857228e-08,
          1.1121366080065834e-08,
          1.1111074589931304e-08,
          1.1100201819982862e-08,
          1.10887484782382e-08,
          1.1076715383586997e-08,
          1.1064103465154938e-08,
          1.1050913761648318e-08,
          1.1037147420679544e-08,
          1.102280569807372e-08,
          1.1007889957156471e-08,
          1.09924016680233e-08,
          1.0976342406790645e-08,
          1.0959713854828787e-08,
          1.0942517797976974e-08,
          1.0924756125740797e-08,
          1.0906430830472123e-08,
          1.0887544006531795e-08,
          1.086809784943527e-08,
          1.0848094654981403e-08,
          1.0827536818364653e-08,
          1.0806426833270825e-08,
          1.078476729095662e-08,
          1.0762560879313205e-08,
          1.0739810381913959e-08,
          1.0716518677046672e-08,
          1.069268873673038e-08,
          1.0668323625717013e-08,
          1.0643426500478155e-08,
          1.0618000608177021e-08,
          1.0592049285625974e-08,
          1.0565575958229707e-08,
          1.0538584138914357e-08,
          1.051107742704277e-08,
          1.0483059507316103e-08,
          1.0454534148662005e-08,
          1.0425505203109621e-08,
          1.0395976604651568e-08,
          1.0365952368093208e-08,
          1.0335436587889348e-08,
          1.0304433436968693e-08,
          1.0272947165546156e-08,
          1.0240982099923381e-08,
          1.0208542641277656e-08,
          1.0175633264439431e-08,
          1.0142258516658715e-08,
          1.0108423016360575e-08,
          1.007413145189e-08,
          1.0039388580246324e-08,
          1.0004199225807521e-08,
          9.968568279044558e-09,
          9.932500695226107e-09,
          9.896001493113849e-09,
          9.859075753648604e-09,
          9.82172861862761e-09,
          9.783965289373122e-09,
          9.745791025392704e-09,
          9.707211143031366e-09,
          9.668231014115918e-09,
          9.628856064591758e-09,
          9.589091773152358e-09,
          9.548943669861792e-09,
          9.508417334770531e-09,
          9.467518396524799e-09,
          9.426252530969773e-09,
          9.384625459747003e-09,
          9.342642948886156e-09,
          9.300310807391627e-09,
          9.257634885824077e-09
         ],
         "yaxis": "y"
        }
       ],
       "layout": {
        "barmode": "overlay",
        "font": {
         "color": "White",
         "family": "Verdana",
         "size": 13
        },
        "hovermode": "closest",
        "legend": {
         "traceorder": "reversed"
        },
        "paper_bgcolor": "#374C60",
        "plot_bgcolor": "#eee",
        "template": {
         "data": {
          "bar": [
           {
            "error_x": {
             "color": "#2a3f5f"
            },
            "error_y": {
             "color": "#2a3f5f"
            },
            "marker": {
             "line": {
              "color": "#E5ECF6",
              "width": 0.5
             }
            },
            "type": "bar"
           }
          ],
          "barpolar": [
           {
            "marker": {
             "line": {
              "color": "#E5ECF6",
              "width": 0.5
             }
            },
            "type": "barpolar"
           }
          ],
          "carpet": [
           {
            "aaxis": {
             "endlinecolor": "#2a3f5f",
             "gridcolor": "white",
             "linecolor": "white",
             "minorgridcolor": "white",
             "startlinecolor": "#2a3f5f"
            },
            "baxis": {
             "endlinecolor": "#2a3f5f",
             "gridcolor": "white",
             "linecolor": "white",
             "minorgridcolor": "white",
             "startlinecolor": "#2a3f5f"
            },
            "type": "carpet"
           }
          ],
          "choropleth": [
           {
            "colorbar": {
             "outlinewidth": 0,
             "ticks": ""
            },
            "type": "choropleth"
           }
          ],
          "contour": [
           {
            "colorbar": {
             "outlinewidth": 0,
             "ticks": ""
            },
            "colorscale": [
             [
              0,
              "#0d0887"
             ],
             [
              0.1111111111111111,
              "#46039f"
             ],
             [
              0.2222222222222222,
              "#7201a8"
             ],
             [
              0.3333333333333333,
              "#9c179e"
             ],
             [
              0.4444444444444444,
              "#bd3786"
             ],
             [
              0.5555555555555556,
              "#d8576b"
             ],
             [
              0.6666666666666666,
              "#ed7953"
             ],
             [
              0.7777777777777778,
              "#fb9f3a"
             ],
             [
              0.8888888888888888,
              "#fdca26"
             ],
             [
              1,
              "#f0f921"
             ]
            ],
            "type": "contour"
           }
          ],
          "contourcarpet": [
           {
            "colorbar": {
             "outlinewidth": 0,
             "ticks": ""
            },
            "type": "contourcarpet"
           }
          ],
          "heatmap": [
           {
            "colorbar": {
             "outlinewidth": 0,
             "ticks": ""
            },
            "colorscale": [
             [
              0,
              "#0d0887"
             ],
             [
              0.1111111111111111,
              "#46039f"
             ],
             [
              0.2222222222222222,
              "#7201a8"
             ],
             [
              0.3333333333333333,
              "#9c179e"
             ],
             [
              0.4444444444444444,
              "#bd3786"
             ],
             [
              0.5555555555555556,
              "#d8576b"
             ],
             [
              0.6666666666666666,
              "#ed7953"
             ],
             [
              0.7777777777777778,
              "#fb9f3a"
             ],
             [
              0.8888888888888888,
              "#fdca26"
             ],
             [
              1,
              "#f0f921"
             ]
            ],
            "type": "heatmap"
           }
          ],
          "heatmapgl": [
           {
            "colorbar": {
             "outlinewidth": 0,
             "ticks": ""
            },
            "colorscale": [
             [
              0,
              "#0d0887"
             ],
             [
              0.1111111111111111,
              "#46039f"
             ],
             [
              0.2222222222222222,
              "#7201a8"
             ],
             [
              0.3333333333333333,
              "#9c179e"
             ],
             [
              0.4444444444444444,
              "#bd3786"
             ],
             [
              0.5555555555555556,
              "#d8576b"
             ],
             [
              0.6666666666666666,
              "#ed7953"
             ],
             [
              0.7777777777777778,
              "#fb9f3a"
             ],
             [
              0.8888888888888888,
              "#fdca26"
             ],
             [
              1,
              "#f0f921"
             ]
            ],
            "type": "heatmapgl"
           }
          ],
          "histogram": [
           {
            "marker": {
             "colorbar": {
              "outlinewidth": 0,
              "ticks": ""
             }
            },
            "type": "histogram"
           }
          ],
          "histogram2d": [
           {
            "colorbar": {
             "outlinewidth": 0,
             "ticks": ""
            },
            "colorscale": [
             [
              0,
              "#0d0887"
             ],
             [
              0.1111111111111111,
              "#46039f"
             ],
             [
              0.2222222222222222,
              "#7201a8"
             ],
             [
              0.3333333333333333,
              "#9c179e"
             ],
             [
              0.4444444444444444,
              "#bd3786"
             ],
             [
              0.5555555555555556,
              "#d8576b"
             ],
             [
              0.6666666666666666,
              "#ed7953"
             ],
             [
              0.7777777777777778,
              "#fb9f3a"
             ],
             [
              0.8888888888888888,
              "#fdca26"
             ],
             [
              1,
              "#f0f921"
             ]
            ],
            "type": "histogram2d"
           }
          ],
          "histogram2dcontour": [
           {
            "colorbar": {
             "outlinewidth": 0,
             "ticks": ""
            },
            "colorscale": [
             [
              0,
              "#0d0887"
             ],
             [
              0.1111111111111111,
              "#46039f"
             ],
             [
              0.2222222222222222,
              "#7201a8"
             ],
             [
              0.3333333333333333,
              "#9c179e"
             ],
             [
              0.4444444444444444,
              "#bd3786"
             ],
             [
              0.5555555555555556,
              "#d8576b"
             ],
             [
              0.6666666666666666,
              "#ed7953"
             ],
             [
              0.7777777777777778,
              "#fb9f3a"
             ],
             [
              0.8888888888888888,
              "#fdca26"
             ],
             [
              1,
              "#f0f921"
             ]
            ],
            "type": "histogram2dcontour"
           }
          ],
          "mesh3d": [
           {
            "colorbar": {
             "outlinewidth": 0,
             "ticks": ""
            },
            "type": "mesh3d"
           }
          ],
          "parcoords": [
           {
            "line": {
             "colorbar": {
              "outlinewidth": 0,
              "ticks": ""
             }
            },
            "type": "parcoords"
           }
          ],
          "pie": [
           {
            "automargin": true,
            "type": "pie"
           }
          ],
          "scatter": [
           {
            "marker": {
             "colorbar": {
              "outlinewidth": 0,
              "ticks": ""
             }
            },
            "type": "scatter"
           }
          ],
          "scatter3d": [
           {
            "line": {
             "colorbar": {
              "outlinewidth": 0,
              "ticks": ""
             }
            },
            "marker": {
             "colorbar": {
              "outlinewidth": 0,
              "ticks": ""
             }
            },
            "type": "scatter3d"
           }
          ],
          "scattercarpet": [
           {
            "marker": {
             "colorbar": {
              "outlinewidth": 0,
              "ticks": ""
             }
            },
            "type": "scattercarpet"
           }
          ],
          "scattergeo": [
           {
            "marker": {
             "colorbar": {
              "outlinewidth": 0,
              "ticks": ""
             }
            },
            "type": "scattergeo"
           }
          ],
          "scattergl": [
           {
            "marker": {
             "colorbar": {
              "outlinewidth": 0,
              "ticks": ""
             }
            },
            "type": "scattergl"
           }
          ],
          "scattermapbox": [
           {
            "marker": {
             "colorbar": {
              "outlinewidth": 0,
              "ticks": ""
             }
            },
            "type": "scattermapbox"
           }
          ],
          "scatterpolar": [
           {
            "marker": {
             "colorbar": {
              "outlinewidth": 0,
              "ticks": ""
             }
            },
            "type": "scatterpolar"
           }
          ],
          "scatterpolargl": [
           {
            "marker": {
             "colorbar": {
              "outlinewidth": 0,
              "ticks": ""
             }
            },
            "type": "scatterpolargl"
           }
          ],
          "scatterternary": [
           {
            "marker": {
             "colorbar": {
              "outlinewidth": 0,
              "ticks": ""
             }
            },
            "type": "scatterternary"
           }
          ],
          "surface": [
           {
            "colorbar": {
             "outlinewidth": 0,
             "ticks": ""
            },
            "colorscale": [
             [
              0,
              "#0d0887"
             ],
             [
              0.1111111111111111,
              "#46039f"
             ],
             [
              0.2222222222222222,
              "#7201a8"
             ],
             [
              0.3333333333333333,
              "#9c179e"
             ],
             [
              0.4444444444444444,
              "#bd3786"
             ],
             [
              0.5555555555555556,
              "#d8576b"
             ],
             [
              0.6666666666666666,
              "#ed7953"
             ],
             [
              0.7777777777777778,
              "#fb9f3a"
             ],
             [
              0.8888888888888888,
              "#fdca26"
             ],
             [
              1,
              "#f0f921"
             ]
            ],
            "type": "surface"
           }
          ],
          "table": [
           {
            "cells": {
             "fill": {
              "color": "#EBF0F8"
             },
             "line": {
              "color": "white"
             }
            },
            "header": {
             "fill": {
              "color": "#C8D4E3"
             },
             "line": {
              "color": "white"
             }
            },
            "type": "table"
           }
          ]
         },
         "layout": {
          "annotationdefaults": {
           "arrowcolor": "#2a3f5f",
           "arrowhead": 0,
           "arrowwidth": 1
          },
          "autotypenumbers": "strict",
          "coloraxis": {
           "colorbar": {
            "outlinewidth": 0,
            "ticks": ""
           }
          },
          "colorscale": {
           "diverging": [
            [
             0,
             "#8e0152"
            ],
            [
             0.1,
             "#c51b7d"
            ],
            [
             0.2,
             "#de77ae"
            ],
            [
             0.3,
             "#f1b6da"
            ],
            [
             0.4,
             "#fde0ef"
            ],
            [
             0.5,
             "#f7f7f7"
            ],
            [
             0.6,
             "#e6f5d0"
            ],
            [
             0.7,
             "#b8e186"
            ],
            [
             0.8,
             "#7fbc41"
            ],
            [
             0.9,
             "#4d9221"
            ],
            [
             1,
             "#276419"
            ]
           ],
           "sequential": [
            [
             0,
             "#0d0887"
            ],
            [
             0.1111111111111111,
             "#46039f"
            ],
            [
             0.2222222222222222,
             "#7201a8"
            ],
            [
             0.3333333333333333,
             "#9c179e"
            ],
            [
             0.4444444444444444,
             "#bd3786"
            ],
            [
             0.5555555555555556,
             "#d8576b"
            ],
            [
             0.6666666666666666,
             "#ed7953"
            ],
            [
             0.7777777777777778,
             "#fb9f3a"
            ],
            [
             0.8888888888888888,
             "#fdca26"
            ],
            [
             1,
             "#f0f921"
            ]
           ],
           "sequentialminus": [
            [
             0,
             "#0d0887"
            ],
            [
             0.1111111111111111,
             "#46039f"
            ],
            [
             0.2222222222222222,
             "#7201a8"
            ],
            [
             0.3333333333333333,
             "#9c179e"
            ],
            [
             0.4444444444444444,
             "#bd3786"
            ],
            [
             0.5555555555555556,
             "#d8576b"
            ],
            [
             0.6666666666666666,
             "#ed7953"
            ],
            [
             0.7777777777777778,
             "#fb9f3a"
            ],
            [
             0.8888888888888888,
             "#fdca26"
            ],
            [
             1,
             "#f0f921"
            ]
           ]
          },
          "colorway": [
           "#636efa",
           "#EF553B",
           "#00cc96",
           "#ab63fa",
           "#FFA15A",
           "#19d3f3",
           "#FF6692",
           "#B6E880",
           "#FF97FF",
           "#FECB52"
          ],
          "font": {
           "color": "#2a3f5f"
          },
          "geo": {
           "bgcolor": "white",
           "lakecolor": "white",
           "landcolor": "#E5ECF6",
           "showlakes": true,
           "showland": true,
           "subunitcolor": "white"
          },
          "hoverlabel": {
           "align": "left"
          },
          "hovermode": "closest",
          "mapbox": {
           "style": "light"
          },
          "paper_bgcolor": "white",
          "plot_bgcolor": "#E5ECF6",
          "polar": {
           "angularaxis": {
            "gridcolor": "white",
            "linecolor": "white",
            "ticks": ""
           },
           "bgcolor": "#E5ECF6",
           "radialaxis": {
            "gridcolor": "white",
            "linecolor": "white",
            "ticks": ""
           }
          },
          "scene": {
           "xaxis": {
            "backgroundcolor": "#E5ECF6",
            "gridcolor": "white",
            "gridwidth": 2,
            "linecolor": "white",
            "showbackground": true,
            "ticks": "",
            "zerolinecolor": "white"
           },
           "yaxis": {
            "backgroundcolor": "#E5ECF6",
            "gridcolor": "white",
            "gridwidth": 2,
            "linecolor": "white",
            "showbackground": true,
            "ticks": "",
            "zerolinecolor": "white"
           },
           "zaxis": {
            "backgroundcolor": "#E5ECF6",
            "gridcolor": "white",
            "gridwidth": 2,
            "linecolor": "white",
            "showbackground": true,
            "ticks": "",
            "zerolinecolor": "white"
           }
          },
          "shapedefaults": {
           "line": {
            "color": "#2a3f5f"
           }
          },
          "ternary": {
           "aaxis": {
            "gridcolor": "white",
            "linecolor": "white",
            "ticks": ""
           },
           "baxis": {
            "gridcolor": "white",
            "linecolor": "white",
            "ticks": ""
           },
           "bgcolor": "#E5ECF6",
           "caxis": {
            "gridcolor": "white",
            "linecolor": "white",
            "ticks": ""
           }
          },
          "title": {
           "x": 0.05
          },
          "xaxis": {
           "automargin": true,
           "gridcolor": "white",
           "linecolor": "white",
           "ticks": "",
           "title": {
            "standoff": 15
           },
           "zerolinecolor": "white",
           "zerolinewidth": 2
          },
          "yaxis": {
           "automargin": true,
           "gridcolor": "white",
           "linecolor": "white",
           "ticks": "",
           "title": {
            "standoff": 15
           },
           "zerolinecolor": "white",
           "zerolinewidth": 2
          }
         }
        },
        "title": {
         "font": {
          "family": "Verdana"
         },
         "text": "Difference between Actual Total Revenue and Predicted Total Revenue"
        },
        "xaxis": {
         "anchor": "y2",
         "domain": [
          0,
          1
         ],
         "zeroline": false
        },
        "yaxis": {
         "anchor": "free",
         "domain": [
          0,
          1
         ],
         "position": 0,
         "tickprefix": ""
        }
       }
      },
      "text/html": [
       "<div>                            <div id=\"3cf81902-b9b3-4a09-898d-d328b6bebe4e\" class=\"plotly-graph-div\" style=\"height:525px; width:100%;\"></div>            <script type=\"text/javascript\">                require([\"plotly\"], function(Plotly) {                    window.PLOTLYENV=window.PLOTLYENV || {};                                    if (document.getElementById(\"3cf81902-b9b3-4a09-898d-d328b6bebe4e\")) {                    Plotly.newPlot(                        \"3cf81902-b9b3-4a09-898d-d328b6bebe4e\",                        [{\"legendgroup\": \"Y Actual\", \"marker\": {\"color\": \"rgb(31, 119, 180)\"}, \"mode\": \"lines\", \"name\": \"Y Actual\", \"showlegend\": true, \"type\": \"scatter\", \"x\": [18214958.0, 18339256.578, 18463555.156, 18587853.734, 18712152.312, 18836450.89, 18960749.468, 19085048.046, 19209346.624, 19333645.202, 19457943.78, 19582242.358, 19706540.936, 19830839.514, 19955138.092, 20079436.67, 20203735.248, 20328033.826, 20452332.404, 20576630.982, 20700929.56, 20825228.138, 20949526.716, 21073825.294, 21198123.872, 21322422.45, 21446721.028, 21571019.606, 21695318.184, 21819616.762000002, 21943915.34, 22068213.918, 22192512.496, 22316811.074, 22441109.652, 22565408.23, 22689706.808, 22814005.386, 22938303.964, 23062602.542, 23186901.12, 23311199.698, 23435498.276, 23559796.854000002, 23684095.432, 23808394.009999998, 23932692.588, 24056991.166, 24181289.744, 24305588.322, 24429886.9, 24554185.478, 24678484.056, 24802782.634, 24927081.212, 25051379.79, 25175678.368, 25299976.946000002, 25424275.524, 25548574.101999998, 25672872.68, 25797171.258, 25921469.836, 26045768.414, 26170066.992, 26294365.57, 26418664.148000002, 26542962.726, 26667261.303999998, 26791559.882, 26915858.46, 27040157.038000003, 27164455.616, 27288754.194, 27413052.772, 27537351.35, 27661649.928, 27785948.505999997, 27910247.084, 28034545.662, 28158844.240000002, 28283142.818, 28407441.395999998, 28531739.974, 28656038.552, 28780337.130000003, 28904635.708, 29028934.286, 29153232.864, 29277531.442, 29401830.02, 29526128.597999997, 29650427.176, 29774725.754, 29899024.332000002, 30023322.91, 30147621.487999998, 30271920.066, 30396218.644, 30520517.222, 30644815.8, 30769114.378, 30893412.956, 31017711.534, 31142010.112, 31266308.689999998, 31390607.268, 31514905.846, 31639204.424000002, 31763503.002, 31887801.58, 32012100.158, 32136398.736, 32260697.314, 32384995.892, 32509294.47, 32633593.048, 32757891.626000002, 32882190.204, 33006488.781999998, 33130787.36, 33255085.938, 33379384.516000003, 33503683.094, 33627981.672, 33752280.25, 33876578.828, 34000877.406, 34125175.984, 34249474.562, 34373773.14, 34498071.718, 34622370.296000004, 34746668.874, 34870967.452, 34995266.03, 35119564.607999995, 35243863.186000004, 35368161.764, 35492460.342, 35616758.92, 35741057.497999996, 35865356.076000005, 35989654.654, 36113953.232, 36238251.81, 36362550.388, 36486848.966, 36611147.544, 36735446.122, 36859744.7, 36984043.278, 37108341.856, 37232640.434, 37356939.011999995, 37481237.59, 37605536.168, 37729834.746, 37854133.324, 37978431.901999995, 38102730.480000004, 38227029.058, 38351327.636, 38475626.214, 38599924.791999996, 38724223.370000005, 38848521.948, 38972820.526, 39097119.104, 39221417.682, 39345716.260000005, 39470014.838, 39594313.416, 39718611.994, 39842910.572, 39967209.15, 40091507.728, 40215806.306, 40340104.884, 40464403.462, 40588702.04, 40713000.618, 40837299.195999995, 40961597.774000004, 41085896.352, 41210194.93, 41334493.508, 41458792.085999995, 41583090.664000005, 41707389.242, 41831687.82, 41955986.398, 42080284.975999996, 42204583.554000005, 42328882.132, 42453180.71, 42577479.288, 42701777.866, 42826076.444, 42950375.022, 43074673.6, 43198972.178, 43323270.756, 43447569.334, 43571867.912, 43696166.489999995, 43820465.068, 43944763.646, 44069062.224, 44193360.802, 44317659.379999995, 44441957.958000004, 44566256.536, 44690555.114, 44814853.692, 44939152.269999996, 45063450.848000005, 45187749.426, 45312048.004, 45436346.582, 45560645.16, 45684943.738000005, 45809242.316, 45933540.894, 46057839.472, 46182138.05, 46306436.628, 46430735.206, 46555033.784, 46679332.362, 46803630.94, 46927929.518, 47052228.096, 47176526.673999995, 47300825.252000004, 47425123.83, 47549422.408, 47673720.986, 47798019.563999996, 47922318.142000005, 48046616.72, 48170915.298, 48295213.876, 48419512.453999996, 48543811.032000005, 48668109.61, 48792408.188, 48916706.766, 49041005.344, 49165303.922, 49289602.5, 49413901.078, 49538199.656, 49662498.234, 49786796.812, 49911095.39, 50035393.967999995, 50159692.546000004, 50283991.124, 50408289.702, 50532588.28, 50656886.857999995, 50781185.436000004, 50905484.014, 51029782.592, 51154081.17, 51278379.747999996, 51402678.326000005, 51526976.904, 51651275.482, 51775574.06, 51899872.638, 52024171.216, 52148469.794, 52272768.372, 52397066.95, 52521365.528, 52645664.106, 52769962.684, 52894261.262, 53018559.84, 53142858.418, 53267156.996, 53391455.574, 53515754.152, 53640052.73, 53764351.308, 53888649.886, 54012948.464, 54137247.042, 54261545.62, 54385844.198, 54510142.776, 54634441.354, 54758739.932, 54883038.51, 55007337.088, 55131635.666, 55255934.244, 55380232.822, 55504531.4, 55628829.978, 55753128.556, 55877427.134, 56001725.712, 56126024.29, 56250322.868, 56374621.446, 56498920.024, 56623218.602, 56747517.18, 56871815.758, 56996114.336, 57120412.914, 57244711.492, 57369010.07, 57493308.648, 57617607.226, 57741905.804, 57866204.382, 57990502.96, 58114801.538, 58239100.116, 58363398.694, 58487697.272, 58611995.85, 58736294.428, 58860593.006, 58984891.584, 59109190.162, 59233488.74, 59357787.318, 59482085.896, 59606384.474, 59730683.052, 59854981.63, 59979280.208, 60103578.786, 60227877.364, 60352175.942, 60476474.52, 60600773.098, 60725071.676, 60849370.254, 60973668.832, 61097967.41, 61222265.988, 61346564.566, 61470863.144, 61595161.722, 61719460.3, 61843758.878, 61968057.456, 62092356.034, 62216654.612, 62340953.19, 62465251.768, 62589550.346, 62713848.924, 62838147.502, 62962446.08, 63086744.658, 63211043.236, 63335341.814, 63459640.392, 63583938.97, 63708237.548, 63832536.126, 63956834.704, 64081133.282, 64205431.86, 64329730.438, 64454029.016, 64578327.594, 64702626.172, 64826924.75, 64951223.328, 65075521.906, 65199820.484, 65324119.062, 65448417.64, 65572716.218, 65697014.796, 65821313.374, 65945611.952, 66069910.53, 66194209.108, 66318507.686, 66442806.264, 66567104.842, 66691403.42, 66815701.998, 66940000.576, 67064299.154, 67188597.732, 67312896.31, 67437194.888, 67561493.46599999, 67685792.044, 67810090.62200001, 67934389.2, 68058687.778, 68182986.356, 68307284.934, 68431583.512, 68555882.09, 68680180.668, 68804479.24599999, 68928777.824, 69053076.40200001, 69177374.97999999, 69301673.558, 69425972.136, 69550270.714, 69674569.292, 69798867.87, 69923166.448, 70047465.026, 70171763.604, 70296062.182, 70420360.75999999, 70544659.338, 70668957.91600001, 70793256.494, 70917555.072, 71041853.65, 71166152.228, 71290450.806, 71414749.384, 71539047.962, 71663346.53999999, 71787645.118, 71911943.69600001, 72036242.27399999, 72160540.852, 72284839.43, 72409138.008, 72533436.586, 72657735.164, 72782033.742, 72906332.32, 73030630.898, 73154929.47600001, 73279228.05399999, 73403526.632, 73527825.21000001, 73652123.788, 73776422.366, 73900720.944, 74025019.522, 74149318.1, 74273616.678, 74397915.256, 74522213.83399999, 74646512.412, 74770810.99000001, 74895109.568, 75019408.146, 75143706.724, 75268005.302, 75392303.88, 75516602.458, 75640901.036, 75765199.614, 75889498.192, 76013796.77000001, 76138095.34799999, 76262393.926, 76386692.50400001, 76510991.082, 76635289.66, 76759588.238, 76883886.816, 77008185.394, 77132483.972, 77256782.55, 77381081.12799999, 77505379.706, 77629678.28400001, 77753976.862, 77878275.44, 78002574.018, 78126872.596, 78251171.174, 78375469.752, 78499768.33, 78624066.90799999, 78748365.486, 78872664.06400001, 78996962.64199999, 79121261.22, 79245559.79800001, 79369858.376, 79494156.954, 79618455.532, 79742754.11, 79867052.688, 79991351.266, 80115649.844, 80239948.42199999], \"xaxis\": \"x\", \"y\": [1.2648979347895759e-08, 1.2658373681017902e-08, 1.2667026094862375e-08, 1.2674935948784777e-08, 1.2682102756587373e-08, 1.268852618697956e-08, 1.2694206063993065e-08, 1.269914236735184e-08, 1.2703335232796286e-08, 1.2706784952361837e-08, 1.2709491974611658e-08, 1.2711456904823392e-08, 1.2712680505129822e-08, 1.271316369461345e-08, 1.271290754935483e-08, 1.2711913302434704e-08, 1.2710182343889869e-08, 1.2707716220622806e-08, 1.2704516636265062e-08, 1.2700585450994415e-08, 1.2695924681305934e-08, 1.2690536499736932e-08, 1.2684423234545938e-08, 1.2677587369345808e-08, 1.2670031542691058e-08, 1.2661758547619665e-08, 1.2652771331149326e-08, 1.2643072993728556e-08, 1.2632666788642662e-08, 1.2621556121374924e-08, 1.2609744548923134e-08, 1.259723577907179e-08, 1.2584033669620223e-08, 1.2570142227566884e-08, 1.255556560825018e-08, 1.2540308114446085e-08, 1.2524374195422967e-08, 1.2507768445953843e-08, 1.2490495605286601e-08, 1.2472560556072409e-08, 1.2453968323252835e-08, 1.2434724072906018e-08, 1.241483311105234e-08, 1.2394300882420081e-08, 1.2373132969171437e-08, 1.2351335089589456e-08, 1.232891309672633e-08, 1.230587297701357e-08, 1.228222084883454e-08, 1.225796296105994e-08, 1.2233105691546722e-08, 1.2207655545601025e-08, 1.2181619154405674e-08, 1.215500327341285e-08, 1.212781478070247e-08, 1.2100060675306935e-08, 1.207174807550283e-08, 1.204288421707018e-08, 1.2013476451519918e-08, 1.1983532244290241e-08, 1.1953059172912371e-08, 1.1922064925146615e-08, 1.1890557297089128e-08, 1.1858544191250266e-08, 1.18260336146051e-08, 1.1793033676616839e-08, 1.175955258723384e-08, 1.1725598654860913e-08, 1.169118028430565e-08, 1.1656305974700496e-08, 1.1620984317401295e-08, 1.1585223993863e-08, 1.1549033773493373e-08, 1.1512422511485341e-08, 1.1475399146628775e-08, 1.1437972699102467e-08, 1.1400152268247054e-08, 1.1361947030319615e-08, 1.1323366236230743e-08, 1.1284419209264851e-08, 1.124511534278446e-08, 1.120546409791924e-08, 1.1165475001240593e-08, 1.1125157642422546e-08, 1.1084521671889707e-08, 1.1043576798453077e-08, 1.1002332786934469e-08, 1.096079945578035e-08, 1.091898667466582e-08, 1.0876904362089541e-08, 1.0834562482960374e-08, 1.0791971046176482e-08, 1.0749140102197684e-08, 1.070607974061181e-08, 1.066280008769581e-08, 1.0619311303972418e-08, 1.0575623581763037e-08, 1.0531747142737734e-08, 1.048769223546292e-08, 1.0443469132947638e-08, 1.0399088130189048e-08, 1.0354559541717912e-08, 1.0309893699144843e-08, 1.0265100948707925e-08, 1.0220191648822585e-08, 1.0175176167634236e-08, 1.01300648805746e-08, 1.008486816792221e-08, 1.0039596412367983e-08, 9.994259996586353e-09, 9.948869300812804e-09, 9.903434700428378e-09, 9.857966563551867e-09, 9.812475248640288e-09, 9.766971102098408e-09, 9.72146445589778e-09, 9.675965625206103e-09, 9.63048490602738e-09, 9.585032572853615e-09, 9.53961887632852e-09, 9.494254040923962e-09, 9.448948262629615e-09, 9.403711706656498e-09, 9.358554505154882e-09, 9.313486754947158e-09, 9.26851851527624e-09, 9.223659805569989e-09, 9.17892060322223e-09, 9.134310841390805e-09, 9.089840406813307e-09, 9.04551913764084e-09, 9.001356821290362e-09, 8.957363192316118e-09, 8.913547930300553e-09, 8.869920657765207e-09, 8.826490938102022e-09, 8.783268273525528e-09, 8.740262103046223e-09, 8.697481800465726e-09, 8.65493667239391e-09, 8.612635956288602e-09, 8.570588818518047e-09, 8.528804352446613e-09, 8.487291576544101e-09, 8.446059432518912e-09, 8.405116783475493e-09, 8.364472412096358e-09, 8.324135018848985e-09, 8.284113220217903e-09, 8.244415546962257e-09, 8.205050442399142e-09, 8.166026260712963e-09, 8.127351265291057e-09, 8.089033627085895e-09, 8.051081423004057e-09, 8.013502634322149e-09, 7.976305145130044e-09, 7.939496740801448e-09, 7.903085106492194e-09, 7.867077825666253e-09, 7.831482378649797e-09, 7.796306141213444e-09, 7.761556383182728e-09, 7.727240267077126e-09, 7.693364846777656e-09, 7.659937066223195e-09, 7.626963758135689e-09, 7.594451642774264e-09, 7.562407326718492e-09, 7.530837301680747e-09, 7.499747943347838e-09, 7.469145510251958e-09, 7.4390361426710255e-09, 7.4094258615584714e-09, 7.380320567502521e-09, 7.351726039715029e-09, 7.323647935049891e-09, 7.296091787051057e-09, 7.269063005030166e-09, 7.242566873173842e-09, 7.2166085496805994e-09, 7.191193065927423e-09, 7.166325325665969e-09, 7.142010104248381e-09, 7.118252047882721e-09, 7.0950556729179376e-09, 7.07242536515841e-09, 7.050365379207951e-09, 7.028879837843272e-09, 7.007972731416851e-09, 6.987647917289123e-09, 6.967909119289958e-09, 6.948759927209321e-09, 6.9302037963171e-09, 6.912244046911949e-09, 6.894883863899129e-09, 6.878126296397201e-09, 6.861974257373543e-09, 6.8464305233085125e-09, 6.831497733888238e-09, 6.817178391725866e-09, 6.803474862111193e-09, 6.790389372788563e-09, 6.777924013762882e-09, 6.7660807371336896e-09, 6.754861356957105e-09, 6.744267549135547e-09, 6.734300851335105e-09, 6.724962662930407e-09, 6.7162542449768584e-09, 6.708176720210128e-09, 6.700731073072704e-09, 6.693918149767412e-09, 6.687738658337732e-09, 6.682193168774749e-09, 6.677282113150637e-09, 6.6730057857784655e-09, 6.669364343398207e-09, 6.666357805388778e-09, 6.663986054005964e-09, 6.66224883464607e-09, 6.661145756135091e-09, 6.660676291043327e-09, 6.6608397760251786e-09, 6.661635412184039e-09, 6.663062265462063e-09, 6.665119267054657e-09, 6.667805213849546e-09, 6.6711187688902025e-09, 6.675058461863512e-09, 6.679622689611446e-09, 6.6848097166666435e-09, 6.6906176758116465e-09, 6.697044568661678e-09, 6.70408826627074e-09, 6.711746509760885e-09, 6.720016910974483e-09, 6.728896953149262e-09, 6.73838399161601e-09, 6.7484752545187e-09, 6.759167843556892e-09, 6.7704587347502176e-09, 6.782344779224769e-09, 6.794822704021191e-09, 6.80788911292434e-09, 6.821540487314263e-09, 6.835773187038378e-09, 6.8505834513046e-09, 6.865967399595289e-09, 6.8819210326018106e-09, 6.898440233179493e-09, 6.915520767322851e-09, 6.933158285160828e-09, 6.951348321971919e-09, 6.9700862992189355e-09, 6.989367525603267e-09, 7.0091871981384054e-09, 7.029540403242589e-09, 7.050422117850292e-09, 7.071827210542476e-09, 7.093750442695306e-09, 7.1161864696471754e-09, 7.139129841883877e-09, 7.16257500624163e-09, 7.186516307127883e-09, 7.210947987759563e-09, 7.235864191418677e-09, 7.261258962724997e-09, 7.287126248925636e-09, 7.313459901201333e-09, 7.340253675989199e-09, 7.367501236321744e-09, 7.3951961531819635e-09, 7.423331906874265e-09, 7.45190188841102e-09, 7.480899400914548e-09, 7.51031766103427e-09, 7.540149800378852e-09, 7.570388866963087e-09, 7.601027826669306e-09, 7.632059564723094e-09, 7.663476887183045e-09, 7.695272522444414e-09, 7.727439122756281e-09, 7.759969265752175e-09, 7.792855455993757e-09, 7.826090126527431e-09, 7.859665640453572e-09, 7.893574292508152e-09, 7.92780831065655e-09, 7.962359857699197e-09, 7.997221032888926e-09, 8.032383873559645e-09, 8.067840356766198e-09, 8.103582400935029e-09, 8.13960186752549e-09, 8.175890562701458e-09, 8.212440239012983e-09, 8.249242597087763e-09, 8.286289287332095e-09, 8.323571911641066e-09, 8.361082025117653e-09, 8.398811137800507e-09, 8.436750716400083e-09, 8.474892186042844e-09, 8.513226932023238e-09, 8.551746301563124e-09, 8.590441605578413e-09, 8.629304120452517e-09, 8.668325089816396e-09, 8.707495726334801e-09, 8.746807213498498e-09, 8.786250707422024e-09, 8.825817338646777e-09, 8.865498213949056e-09, 8.905284418152688e-09, 8.94516701594599e-09, 8.985137053702664e-09, 9.025185561306322e-09, 9.06530355397829e-09, 9.105482034108305e-09, 9.145711993087856e-09, 9.185984413145708e-09, 9.226290269185316e-09, 9.266620530623756e-09, 9.30696616323184e-09, 9.347318130974966e-09, 9.387667397854466e-09, 9.42800492974897e-09, 9.468321696255463e-09, 9.508608672529685e-09, 9.548856841125416e-09, 9.589057193832388e-09, 9.629200733512302e-09, 9.669278475932689e-09, 9.70928145159814e-09, 9.749200707578607e-09, 9.78902730933425e-09, 9.828752342536582e-09, 9.868366914885448e-09, 9.907862157921401e-09, 9.947229228833167e-09, 9.986459312259751e-09, 1.0025543622086765e-08, 1.0064473403236591e-08, 1.0103239933452034e-08, 1.0141834525072945e-08, 1.0180248526805508e-08, 1.0218473325483715e-08, 1.0256500347822704e-08, 1.0294321062163433e-08, 1.0331926980208414e-08, 1.036930965874798e-08, 1.0406460701376745e-08, 1.0443371760199863e-08, 1.048003453752859e-08, 1.0516440787564815e-08, 1.0552582318074159e-08, 1.0588450992047151e-08, 1.0624038729348158e-08, 1.0659337508351647e-08, 1.0694339367565307e-08, 1.072903640723971e-08, 1.0763420790964074e-08, 1.0797484747247717e-08, 1.0831220571086792e-08, 1.0864620625515954e-08, 1.0897677343144483e-08, 1.0930383227676579e-08, 1.0962730855415296e-08, 1.0994712876749872e-08, 1.1026322017625923e-08, 1.105755108099825e-08, 1.1088392948265778e-08, 1.1118840580688313e-08, 1.1148887020784665e-08, 1.1178525393711867e-08, 1.1207748908625042e-08, 1.123655086001756e-08, 1.1264924629041192e-08, 1.1292863684805799e-08, 1.1320361585658287e-08, 1.1347411980440436e-08, 1.1374008609725306e-08, 1.1400145307031807e-08, 1.1425816000017167e-08, 1.1451014711646914e-08, 1.1475735561342127e-08, 1.1499972766103551e-08, 1.1523720641612282e-08, 1.1546973603306783e-08, 1.1569726167435847e-08, 1.1591972952087242e-08, 1.1613708678191776e-08, 1.1634928170502427e-08, 1.1655626358548387e-08, 1.167579827756358e-08, 1.1695439069389555e-08, 1.1714543983352402e-08, 1.1733108377113467e-08, 1.1751127717493612e-08, 1.176859758127083e-08, 1.1785513655950948e-08, 1.1801871740511156e-08, 1.1817667746116304e-08, 1.1832897696807564e-08, 1.184755773016341e-08, 1.186164409793267e-08, 1.1875153166639471e-08, 1.1888081418159925e-08, 1.1900425450270349e-08, 1.191218197716696e-08, 1.1923347829956765e-08, 1.1933919957119634e-08, 1.1943895424941347e-08, 1.1953271417917533e-08, 1.1962045239128387e-08, 1.1970214310584042e-08, 1.1977776173540547e-08, 1.1984728488786303e-08, 1.1991069036898969e-08, 1.199679571847269e-08, 1.200190655431564e-08, 1.2006399685617824e-08, 1.2010273374089127e-08, 1.2013526002067504e-08, 1.2016156072597402e-08, 1.2018162209478328e-08, 1.2019543157283603e-08, 1.2020297781349296e-08, 1.202042506773336e-08, 1.2019924123145035e-08, 1.2018794174844492e-08, 1.2017034570512851e-08, 1.2014644778092566e-08, 1.2011624385598279e-08, 1.2007973100898204e-08, 1.2003690751466189e-08, 1.1998777284104456e-08, 1.1993232764637223e-08, 1.1987057377575255e-08, 1.1980251425751541e-08, 1.197281532992817e-08, 1.1964749628374592e-08, 1.19560549764174e-08, 1.1946732145961856e-08, 1.1936782024985225e-08, 1.1926205617002214e-08, 1.1915004040502671e-08, 1.1903178528361712e-08, 1.1890730427222538e-08, 1.1877661196852153e-08, 1.1863972409470216e-08, 1.1849665749051196e-08, 1.1834743010600246e-08, 1.181920609940286e-08, 1.1803057030248713e-08, 1.1786297926629901e-08, 1.1768931019913879e-08, 1.1750958648491403e-08, 1.1732383256899723e-08, 1.1713207394921416e-08, 1.169343371665911e-08, 1.1673064979586435e-08, 1.1652104043575551e-08, 1.163055386990159e-08, 1.1608417520224349e-08, 1.1585698155547544e-08, 1.1562399035156122e-08, 1.1538523515531828e-08, 1.1514075049247502e-08, 1.1489057183840487e-08, 1.1463473560665504e-08, 1.1437327913727399e-08, 1.1410624068494143e-08, 1.1383365940690574e-08, 1.1355557535073162e-08, 1.1327202944186322e-08, 1.1298306347100671e-08, 1.1268872008133628e-08, 1.1238904275552798e-08, 1.1208407580262644e-08, 1.1177386434474822e-08, 1.1145845430362607e-08, 1.1113789238699958e-08, 1.1081222607485602e-08, 1.1048150360552629e-08, 1.1014577396164028e-08, 1.0980508685594714e-08, 1.0945949271700435e-08, 1.0910904267474033e-08, 1.0875378854589664e-08, 1.083937828193527e-08, 1.0802907864133946e-08, 1.0765972980054591e-08, 1.0728579071312403e-08, 1.0690731640759636e-08, 1.065243625096719e-08, 1.0613698522697485e-08, 1.0574524133369077e-08], \"yaxis\": \"y\"}, {\"legendgroup\": \"Y Predicted\", \"marker\": {\"color\": \"rgb(255, 127, 14)\"}, \"mode\": \"lines\", \"name\": \"Y Predicted\", \"showlegend\": true, \"type\": \"scatter\", \"x\": [13343140.99736172, 13481215.703917846, 13619290.410473973, 13757365.117030099, 13895439.823586226, 14033514.530142352, 14171589.236698478, 14309663.943254605, 14447738.649810731, 14585813.356366858, 14723888.062922984, 14861962.76947911, 15000037.476035237, 15138112.182591364, 15276186.88914749, 15414261.595703617, 15552336.302259743, 15690411.00881587, 15828485.715371998, 15966560.421928125, 16104635.128484251, 16242709.835040376, 16380784.541596504, 16518859.24815263, 16656933.954708757, 16795008.66126488, 16933083.367821008, 17071158.074377134, 17209232.78093326, 17347307.487489387, 17485382.194045514, 17623456.90060164, 17761531.607157767, 17899606.313713893, 18037681.02027002, 18175755.726826146, 18313830.433382276, 18451905.139938403, 18589979.84649453, 18728054.553050656, 18866129.259606782, 19004203.966162905, 19142278.67271903, 19280353.379275158, 19418428.08583129, 19556502.792387415, 19694577.49894354, 19832652.205499668, 19970726.912055794, 20108801.61861192, 20246876.325168047, 20384951.031724174, 20523025.7382803, 20661100.444836427, 20799175.151392553, 20937249.85794868, 21075324.564504806, 21213399.271060932, 21351473.97761706, 21489548.684173185, 21627623.39072931, 21765698.09728544, 21903772.803841565, 22041847.51039769, 22179922.216953818, 22317996.923509944, 22456071.63006607, 22594146.336622197, 22732221.043178324, 22870295.74973445, 23008370.456290577, 23146445.162846703, 23284519.869402833, 23422594.575958956, 23560669.282515086, 23698743.98907121, 23836818.69562734, 23974893.402183462, 24112968.108739592, 24251042.815295715, 24389117.521851845, 24527192.22840797, 24665266.934964094, 24803341.641520225, 24941416.348076347, 25079491.054632477, 25217565.7611886, 25355640.46774473, 25493715.174300857, 25631789.880856983, 25769864.58741311, 25907939.293969236, 26046014.000525363, 26184088.70708149, 26322163.413637616, 26460238.120193742, 26598312.82674987, 26736387.533305995, 26874462.23986212, 27012536.946418248, 27150611.652974375, 27288686.3595305, 27426761.066086628, 27564835.772642754, 27702910.47919888, 27840985.185755007, 27979059.892311133, 28117134.59886726, 28255209.305423386, 28393284.011979513, 28531358.71853564, 28669433.425091766, 28807508.131647892, 28945582.83820402, 29083657.544760145, 29221732.25131627, 29359806.9578724, 29497881.664428525, 29635956.37098465, 29774031.077540778, 29912105.784096904, 30050180.49065303, 30188255.197209157, 30326329.903765284, 30464404.61032141, 30602479.316877536, 30740554.023433663, 30878628.72998979, 31016703.436545916, 31154778.143102042, 31292852.84965817, 31430927.556214295, 31569002.26277042, 31707076.96932655, 31845151.675882675, 31983226.382438805, 32121301.088994928, 32259375.795551054, 32397450.50210718, 32535525.20866331, 32673599.915219434, 32811674.62177556, 32949749.328331687, 33087824.034887817, 33225898.741443943, 33363973.448000066, 33502048.154556192, 33640122.86111232, 33778197.56766845, 33916272.27422457, 34054346.9807807, 34192421.687336825, 34330496.39389296, 34468571.100449085, 34606645.807005204, 34744720.51356133, 34882795.220117465, 35020869.92667359, 35158944.63322971, 35297019.33978584, 35435094.04634197, 35573168.7528981, 35711243.45945422, 35849318.16601034, 35987392.87256647, 36125467.5791226, 36263542.28567873, 36401616.992234856, 36539691.698790975, 36677766.40534711, 36815841.111903235, 36953915.81845936, 37091990.52501548, 37230065.231571615, 37368139.93812774, 37506214.64468387, 37644289.351239994, 37782364.05779611, 37920438.76435225, 38058513.47090837, 38196588.1774645, 38334662.88402062, 38472737.59057675, 38610812.29713288, 38748887.003689006, 38886961.71024513, 39025036.41680126, 39163111.123357385, 39301185.82991351, 39439260.53646964, 39577335.243025765, 39715409.94958189, 39853484.65613802, 39991559.362694144, 40129634.06925027, 40267708.7758064, 40405783.48236252, 40543858.18891865, 40681932.89547478, 40820007.6020309, 40958082.30858703, 41096157.015143156, 41234231.72169928, 41372306.42825541, 41510381.134811535, 41648455.84136766, 41786530.54792379, 41924605.254479915, 42062679.96103604, 42200754.66759217, 42338829.374148294, 42476904.08070442, 42614978.78726055, 42753053.493816674, 42891128.2003728, 43029202.90692893, 43167277.61348505, 43305352.32004118, 43443427.026597306, 43581501.73315343, 43719576.43970956, 43857651.146265686, 43995725.85282181, 44133800.55937794, 44271875.265934065, 44409949.97249019, 44548024.67904632, 44686099.385602444, 44824174.09215857, 44962248.7987147, 45100323.505270824, 45238398.21182695, 45376472.91838308, 45514547.6249392, 45652622.33149533, 45790697.038051456, 45928771.74460758, 46066846.45116371, 46204921.157719836, 46342995.86427596, 46481070.57083209, 46619145.277388215, 46757219.98394434, 46895294.69050047, 47033369.397056594, 47171444.10361272, 47309518.81016885, 47447593.516724974, 47585668.2232811, 47723742.92983723, 47861817.63639335, 47999892.34294948, 48137967.04950561, 48276041.75606173, 48414116.46261786, 48552191.169173986, 48690265.87573011, 48828340.58228624, 48966415.288842365, 49104489.99539849, 49242564.70195462, 49380639.408510745, 49518714.11506687, 49656788.821623, 49794863.528179124, 49932938.23473526, 50071012.94129138, 50209087.6478475, 50347162.35440363, 50485237.06095976, 50623311.76751589, 50761386.47407201, 50899461.180628136, 51037535.88718426, 51175610.59374039, 51313685.300296515, 51451760.00685264, 51589834.71340877, 51727909.4199649, 51865984.12652102, 52004058.83307715, 52142133.539633274, 52280208.2461894, 52418282.952745534, 52556357.65930165, 52694432.36585778, 52832507.072413914, 52970581.77897003, 53108656.48552617, 53246731.192082286, 53384805.89863841, 53522880.60519455, 53660955.311750665, 53799030.0183068, 53937104.72486292, 54075179.431419045, 54213254.13797518, 54351328.8445313, 54489403.551087424, 54627478.25764356, 54765552.96419968, 54903627.67075581, 55041702.37731193, 55179777.08386806, 55317851.79042419, 55455926.49698031, 55594001.20353644, 55732075.91009256, 55870150.61664869, 56008225.32320482, 56146300.02976094, 56284374.736317076, 56422449.4428732, 56560524.14942932, 56698598.855985455, 56836673.562541574, 56974748.2690977, 57112822.975653835, 57250897.68220995, 57388972.38876609, 57527047.095322214, 57665121.80187833, 57803196.50843447, 57941271.214990586, 58079345.92154672, 58217420.62810285, 58355495.334658965, 58493570.0412151, 58631644.74777122, 58769719.45432735, 58907794.16088348, 59045868.8674396, 59183943.57399573, 59322018.28055186, 59460092.987107985, 59598167.69366411, 59736242.40022023, 59874317.106776364, 60012391.81333249, 60150466.51988861, 60288541.22644474, 60426615.93300086, 60564690.639557, 60702765.34611312, 60840840.05266924, 60978914.759225376, 61116989.4657815, 61255064.17233763, 61393138.878893755, 61531213.585449874, 61669288.29200601, 61807362.998562135, 61945437.70511826, 62083512.41167439, 62221587.11823051, 62359661.82478664, 62497736.53134277, 62635811.23789889, 62773885.94445502, 62911960.65101115, 63050035.35756727, 63188110.0641234, 63326184.77067952, 63464259.47723565, 63602334.18379178, 63740408.890347905, 63878483.59690403, 64016558.30346016, 64154633.010016285, 64292707.71657241, 64430782.42312854, 64568857.129684664, 64706931.83624079, 64845006.54279692, 64983081.249353044, 65121155.95590917, 65259230.6624653, 65397305.36902142, 65535380.07557755, 65673454.782133676, 65811529.48868981, 65949604.19524593, 66087678.901802056, 66225753.60835818, 66363828.31491431, 66501903.021470435, 66639977.72802656, 66778052.43458269, 66916127.141138814, 67054201.84769494, 67192276.55425107, 67330351.26080719, 67468425.96736333, 67606500.67391945, 67744575.38047558, 67882650.08703169, 68020724.79358783, 68158799.50014395, 68296874.20670009, 68434948.9132562, 68573023.61981234, 68711098.32636845, 68849173.03292459, 68987247.73948072, 69125322.44603685, 69263397.15259296, 69401471.8591491, 69539546.56570521, 69677621.27226135, 69815695.97881746, 69953770.6853736, 70091845.39192973, 70229920.09848586, 70367994.80504197, 70506069.51159811, 70644144.21815422, 70782218.92471036, 70920293.63126647, 71058368.33782262, 71196443.04437874, 71334517.75093487, 71472592.457491, 71610667.16404712, 71748741.87060323, 71886816.57715937, 72024891.28371549, 72162965.99027163, 72301040.69682775, 72439115.40338388, 72577190.10994, 72715264.81649613, 72853339.52305225, 72991414.22960839, 73129488.9361645, 73267563.64272064, 73405638.34927675, 73543713.0558329, 73681787.76238902, 73819862.46894515, 73957937.17550127, 74096011.8820574, 74234086.58861351, 74372161.29516965, 74510236.00172576, 74648310.7082819, 74786385.41483803, 74924460.12139416, 75062534.82795028, 75200609.53450641, 75338684.24106252, 75476758.94761866, 75614833.65417477, 75752908.36073092, 75890983.06728704, 76029057.77384317, 76167132.4803993, 76305207.18695542, 76443281.89351155, 76581356.60006768, 76719431.30662379, 76857506.01317993, 76995580.71973605, 77133655.42629218, 77271730.13284831, 77409804.83940443, 77547879.54596056, 77685954.25251669, 77824028.95907281, 77962103.66562894, 78100178.37218505, 78238253.0787412, 78376327.78529732, 78514402.49185345, 78652477.19840957, 78790551.9049657, 78928626.61152183, 79066701.31807795, 79204776.02463406, 79342850.7311902, 79480925.43774633, 79619000.14430246, 79757074.85085858, 79895149.55741471, 80033224.26397084, 80171298.97052696, 80309373.67708309, 80447448.38363922, 80585523.09019534, 80723597.79675147, 80861672.5033076, 80999747.20986372, 81137821.91641985, 81275896.62297598, 81413971.3295321, 81552046.03608823, 81690120.74264435, 81828195.44920048, 81966270.15575661, 82104344.86231273, 82242419.56886886], \"xaxis\": \"x\", \"y\": [1.1398123542174502e-08, 1.144156126805099e-08, 1.1484334386838942e-08, 1.1526434796764306e-08, 1.1567854533705524e-08, 1.1608585774385544e-08, 1.1648620839526542e-08, 1.1687952196965795e-08, 1.1726572464731159e-08, 1.1764474414074552e-08, 1.180165097246208e-08, 1.1838095226519072e-08, 1.1873800424928746e-08, 1.1908759981282922e-08, 1.1942967476883319e-08, 1.1976416663492082e-08, 1.2009101466030056e-08, 1.2041015985221401e-08, 1.2072154500183282e-08, 1.2102511470959144e-08, 1.2132081540994327e-08, 1.2160859539552742e-08, 1.2188840484073266e-08, 1.2216019582464601e-08, 1.2242392235337494e-08, 1.2267954038172957e-08, 1.2292700783425418e-08, 1.231662846255964e-08, 1.2339733268020322e-08, 1.2362011595133232e-08, 1.2383460043936913e-08, 1.2404075420943876e-08, 1.2423854740830329e-08, 1.244279522805348e-08, 1.2460894318395499e-08, 1.247814966043325e-08, 1.249455911693294e-08, 1.25101207661689e-08, 1.2524832903165633e-08, 1.2538694040862543e-08, 1.2551702911200444e-08, 1.256385846612935e-08, 1.2575159878536809e-08, 1.2585606543096212e-08, 1.259519807703457e-08, 1.2603934320819157e-08, 1.2611815338762625e-08, 1.2618841419546067e-08, 1.2625013076659726e-08, 1.2630331048760898e-08, 1.2634796299948784e-08, 1.2638410019955938e-08, 1.264117362425615e-08, 1.2643088754088506e-08, 1.2644157276397506e-08, 1.2644381283689078e-08, 1.2643763093802488e-08, 1.2642305249597996e-08, 1.2640010518560394e-08, 1.2636881892318384e-08, 1.26329225860799e-08, 1.2628136037983524e-08, 1.2622525908366149e-08, 1.261609607894711e-08, 1.2608850651929015e-08, 1.26007939490156e-08, 1.2591930510346872e-08, 1.258226509335201e-08, 1.2571802671520367e-08, 1.2560548433090992e-08, 1.2548507779661292e-08, 1.2535686324715194e-08, 1.2522089892071509e-08, 1.250772451425306e-08, 1.2492596430777156e-08, 1.2476712086368218e-08, 1.246007812909315e-08, 1.2442701408420282e-08, 1.2424588973202682e-08, 1.2405748069586612e-08, 1.2386186138846023e-08, 1.2365910815143979e-08, 1.2344929923221979e-08, 1.2323251476018044e-08, 1.2300883672214684e-08, 1.2277834893717677e-08, 1.2254113703066808e-08, 1.2229728840779565e-08, 1.2204689222629017e-08, 1.2179003936856937e-08, 1.2152682241323415e-08, 1.2125733560594155e-08, 1.2098167482966658e-08, 1.2069993757436642e-08, 1.2041222290605868e-08, 1.2011863143532828e-08, 1.1981926528527515e-08, 1.195142280589172e-08, 1.1920362480606213e-08, 1.1888756198966236e-08, 1.1856614745166706e-08, 1.1823949037838643e-08, 1.1790770126538231e-08, 1.175708918819004e-08, 1.1722917523485951e-08, 1.168826655324121e-08, 1.1653147814709289e-08, 1.1617572957857024e-08, 1.1581553741601607e-08, 1.1545102030011083e-08, 1.1508229788469891e-08, 1.147094907981109e-08, 1.1433272060416913e-08, 1.1395210976289233e-08, 1.1356778159091643e-08, 1.1317986022164767e-08, 1.1278847056516487e-08, 1.1239373826788723e-08, 1.119957896720248e-08, 1.1159475177482792e-08, 1.1119075218765323e-08, 1.107839190948619e-08, 1.1037438121256837e-08, 1.0996226774725529e-08, 1.0954770835427243e-08, 1.0913083309623595e-08, 1.0871177240134494e-08, 1.0829065702163244e-08, 1.0786761799116743e-08, 1.0744278658422466e-08, 1.0701629427343937e-08, 1.0658827268796298e-08, 1.0615885357163701e-08, 1.0572816874120152e-08, 1.0529635004455433e-08, 1.0486352931907784e-08, 1.0442983835004974e-08, 1.0399540882915302e-08, 1.0356037231310257e-08, 1.0312486018240356e-08, 1.026890036002574e-08, 1.0225293347163148e-08, 1.0181678040250785e-08, 1.0138067465932652e-08, 1.0094474612863836e-08, 1.005091242769832e-08, 1.0007393811100729e-08, 9.963931613783584e-09, 9.920538632571453e-09, 9.877227606493463e-09, 9.83401121290559e-09, 9.790902063644155e-09, 9.747912701211844e-09, 9.705055594997696e-09, 9.66234313753233e-09, 9.61978764077975e-09, 9.577401332467045e-09, 9.535196352453214e-09, 9.493184749138408e-09, 9.451378475914765e-09, 9.409789387660093e-09, 9.368429237275532e-09, 9.327309672268362e-09, 9.286442231381075e-09, 9.245838341267834e-09, 9.20550931321935e-09, 9.165466339937272e-09, 9.125720492359057e-09, 9.08628271653435e-09, 9.047163830553826e-09, 9.008374521531442e-09, 8.969925342640965e-09, 8.931826710207724e-09, 8.894088900856379e-09, 8.856722048715568e-09, 8.819736142680198e-09, 8.783141023732168e-09, 8.746946382320257e-09, 8.711161755799863e-09, 8.675796525933324e-09, 8.640859916451378e-09, 8.606360990676492e-09, 8.572308649208548e-09, 8.538711627673531e-09, 8.505578494535683e-09, 8.472917648973658e-09, 8.440737318821138e-09, 8.409045558572372e-09, 8.377850247452997e-09, 8.347159087556593e-09, 8.31697960204727e-09, 8.287319133428628e-09, 8.258184841879405e-09, 8.229583703656022e-09, 8.201522509562327e-09, 8.1740078634867e-09, 8.14704618100671e-09, 8.120643688061474e-09, 8.094806419691827e-09, 8.069540218848417e-09, 8.04485073526777e-09, 8.020743424416365e-09, 7.99722354650273e-09, 7.974296165557535e-09, 7.951966148581656e-09, 7.930238164762083e-09, 7.909116684755654e-09, 7.888605980040402e-09, 7.868710122334419e-09, 7.849432983082056e-09, 7.830778233007213e-09, 7.812749341733528e-09, 7.795349577471204e-09, 7.778582006770191e-09, 7.762449494339412e-09, 7.74695470293171e-09, 7.732100093294176e-09, 7.717887924183483e-09, 7.704320252445794e-09, 7.691398933160892e-09, 7.679125619850018e-09, 7.667501764747011e-09, 7.65652861913223e-09, 7.64620723372877e-09, 7.636538459160451e-09, 7.627522946471007e-09, 7.619161147703956e-09, 7.611453316542512e-09, 7.604399509008988e-09, 7.597999584223022e-09, 7.592253205218036e-09, 7.58715983981522e-09, 7.582718761554411e-09, 7.578929050681135e-09, 7.575789595189164e-09, 7.573299091917796e-09, 7.571456047703164e-09, 7.570258780582837e-09, 7.569705421052881e-09, 7.569793913376682e-09, 7.570522016944674e-09, 7.571887307684186e-09, 7.573887179518615e-09, 7.576518845875046e-09, 7.579779341239516e-09, 7.583665522759044e-09, 7.588174071889585e-09, 7.593301496089015e-09, 7.599044130554267e-09, 7.60539814000173e-09, 7.612359520490018e-09, 7.619924101284162e-09, 7.62808754676037e-09, 7.636845358350347e-09, 7.646192876524343e-09, 7.65612528281188e-09, 7.666637601859314e-09, 7.677724703523211e-09, 7.689381304998622e-09, 7.70160197298128e-09, 7.714381125862746e-09, 7.727713035957574e-09, 7.741591831761467e-09, 7.756011500239514e-09, 7.770965889143474e-09, 7.786448709357163e-09, 7.802453537268955e-09, 7.818973817170414e-09, 7.836002863680083e-09, 7.853533864191421e-09, 7.871559881343955e-09, 7.890073855516606e-09, 7.909068607342269e-09, 7.928536840242607e-09, 7.948471142982132e-09, 7.968863992240569e-09, 7.989707755202535e-09, 8.010994692163564e-09, 8.032716959151519e-09, 8.054866610562397e-09, 8.077435601809631e-09, 8.100415791985832e-09, 8.123798946536143e-09, 8.147576739942147e-09, 8.171740758415446e-09, 8.196282502600002e-09, 8.221193390282226e-09, 8.246464759107968e-09, 8.272087869305471e-09, 8.298053906413345e-09, 8.324353984012736e-09, 8.350979146462693e-09, 8.377920371637936e-09, 8.405168573668114e-09, 8.432714605677639e-09, 8.460549262525342e-09, 8.48866328354296e-09, 8.517047355271728e-09, 8.545692114196188e-09, 8.574588149474382e-09, 8.603726005663637e-09, 8.63309618544115e-09, 8.662689152318515e-09, 8.692495333349509e-09, 8.722505121830255e-09, 8.75270887999107e-09, 8.783096941679258e-09, 8.813659615032022e-09, 8.84438718513887e-09, 8.875269916692746e-09, 8.906298056629147e-09, 8.937461836752635e-09, 8.968751476349948e-09, 9.000157184789128e-09, 9.031669164103966e-09, 9.063277611563114e-09, 9.094972722223292e-09, 9.126744691465878e-09, 9.158583717516366e-09, 9.19048000394605e-09, 9.222423762155338e-09, 9.254405213838209e-09, 9.286414593427158e-09, 9.318442150518147e-09, 9.350478152275065e-09, 9.382512885813057e-09, 9.414536660560419e-09, 9.446539810598366e-09, 9.478512696978341e-09, 9.510445710016348e-09, 9.542329271563858e-09, 9.574153837254898e-09, 9.605909898728845e-09, 9.637587985828551e-09, 9.669178668773414e-09, 9.700672560306979e-09, 9.73206031781875e-09, 9.763332645439815e-09, 9.794480296111969e-09, 9.825494073630005e-09, 9.856364834656849e-09, 9.887083490711243e-09, 9.91764101012771e-09, 9.94802841998846e-09, 9.978236808027076e-09, 1.0008257324503631e-08, 1.0038081184051056e-08, 1.0067699667492525e-08, 1.0097104123629631e-08, 1.0126285971001156e-08, 1.0155236699612294e-08, 1.0183947872634019e-08, 1.0212411128072627e-08, 1.0240618180409142e-08, 1.0268560822208486e-08, 1.0296230925698348e-08, 1.032362044431754e-08, 1.0350721414233785e-08, 1.0377525955830856e-08, 1.0404026275164928e-08, 1.0430214665390117e-08, 1.0456083508153099e-08, 1.0481625274956818e-08, 1.0506832528493162e-08, 1.0531697923944615e-08, 1.0556214210254893e-08, 1.0580374231368464e-08, 1.0604170927439029e-08, 1.0627597336006937e-08, 1.0650646593145502e-08, 1.0673311934576349e-08, 1.0695586696753712e-08, 1.0717464317917774e-08, 1.0738938339117116e-08, 1.076000240520026e-08, 1.0780650265776448e-08, 1.0800875776145677e-08, 1.0820672898198058e-08, 1.0840035701282657e-08, 1.0858958363045802e-08, 1.0877435170239048e-08, 1.089546051949685e-08, 1.0913028918084065e-08, 1.0930134984613434e-08, 1.0946773449733109e-08, 1.096293915678437e-08, 1.0978627062429748e-08, 1.0993832237251533e-08, 1.1008549866320972e-08, 1.1022775249738188e-08, 1.1036503803143059e-08, 1.1049731058197139e-08, 1.1062452663036862e-08, 1.1074664382698103e-08, 1.1086362099512372e-08, 1.1097541813474722e-08, 1.1108199642583594e-08, 1.111833182315278e-08, 1.1127934710095676e-08, 1.1137004777182003e-08, 1.1145538617267224e-08, 1.1153532942494781e-08, 1.1160984584471437e-08, 1.116789049441582e-08, 1.1174247743280461e-08, 1.1180053521847455e-08, 1.1185305140797992e-08, 1.1190000030755935e-08, 1.1194135742305664e-08, 1.119770994598441e-08, 1.1200720432249235e-08, 1.1203165111418936e-08, 1.1205042013591023e-08, 1.1206349288534021e-08, 1.1207085205555293e-08, 1.1207248153344598e-08, 1.1206836639793596e-08, 1.1205849291791536e-08, 1.120428485499728e-08, 1.1202142193587986e-08, 1.119942028998451e-08, 1.119611824455393e-08, 1.1192235275289226e-08, 1.1187770717466442e-08, 1.1182724023279559e-08, 1.1177094761453162e-08, 1.1170882616833283e-08, 1.1164087389956517e-08, 1.1156708996597674e-08, 1.1148747467296184e-08, 1.1140202946861417e-08, 1.1131075693857228e-08, 1.1121366080065834e-08, 1.1111074589931304e-08, 1.1100201819982862e-08, 1.10887484782382e-08, 1.1076715383586997e-08, 1.1064103465154938e-08, 1.1050913761648318e-08, 1.1037147420679544e-08, 1.102280569807372e-08, 1.1007889957156471e-08, 1.09924016680233e-08, 1.0976342406790645e-08, 1.0959713854828787e-08, 1.0942517797976974e-08, 1.0924756125740797e-08, 1.0906430830472123e-08, 1.0887544006531795e-08, 1.086809784943527e-08, 1.0848094654981403e-08, 1.0827536818364653e-08, 1.0806426833270825e-08, 1.078476729095662e-08, 1.0762560879313205e-08, 1.0739810381913959e-08, 1.0716518677046672e-08, 1.069268873673038e-08, 1.0668323625717013e-08, 1.0643426500478155e-08, 1.0618000608177021e-08, 1.0592049285625974e-08, 1.0565575958229707e-08, 1.0538584138914357e-08, 1.051107742704277e-08, 1.0483059507316103e-08, 1.0454534148662005e-08, 1.0425505203109621e-08, 1.0395976604651568e-08, 1.0365952368093208e-08, 1.0335436587889348e-08, 1.0304433436968693e-08, 1.0272947165546156e-08, 1.0240982099923381e-08, 1.0208542641277656e-08, 1.0175633264439431e-08, 1.0142258516658715e-08, 1.0108423016360575e-08, 1.007413145189e-08, 1.0039388580246324e-08, 1.0004199225807521e-08, 9.968568279044558e-09, 9.932500695226107e-09, 9.896001493113849e-09, 9.859075753648604e-09, 9.82172861862761e-09, 9.783965289373122e-09, 9.745791025392704e-09, 9.707211143031366e-09, 9.668231014115918e-09, 9.628856064591758e-09, 9.589091773152358e-09, 9.548943669861792e-09, 9.508417334770531e-09, 9.467518396524799e-09, 9.426252530969773e-09, 9.384625459747003e-09, 9.342642948886156e-09, 9.300310807391627e-09, 9.257634885824077e-09], \"yaxis\": \"y\"}],                        {\"barmode\": \"overlay\", \"font\": {\"color\": \"White\", \"family\": \"Verdana\", \"size\": 13}, \"hovermode\": \"closest\", \"legend\": {\"traceorder\": \"reversed\"}, \"paper_bgcolor\": \"#374C60\", \"plot_bgcolor\": \"#eee\", \"template\": {\"data\": {\"bar\": [{\"error_x\": {\"color\": \"#2a3f5f\"}, \"error_y\": {\"color\": \"#2a3f5f\"}, \"marker\": {\"line\": {\"color\": \"#E5ECF6\", \"width\": 0.5}}, \"type\": \"bar\"}], \"barpolar\": [{\"marker\": {\"line\": {\"color\": \"#E5ECF6\", \"width\": 0.5}}, \"type\": \"barpolar\"}], \"carpet\": [{\"aaxis\": {\"endlinecolor\": \"#2a3f5f\", \"gridcolor\": \"white\", \"linecolor\": \"white\", \"minorgridcolor\": \"white\", \"startlinecolor\": \"#2a3f5f\"}, \"baxis\": {\"endlinecolor\": \"#2a3f5f\", \"gridcolor\": \"white\", \"linecolor\": \"white\", \"minorgridcolor\": \"white\", \"startlinecolor\": \"#2a3f5f\"}, \"type\": \"carpet\"}], \"choropleth\": [{\"colorbar\": {\"outlinewidth\": 0, \"ticks\": \"\"}, \"type\": \"choropleth\"}], \"contour\": [{\"colorbar\": {\"outlinewidth\": 0, \"ticks\": \"\"}, \"colorscale\": [[0.0, \"#0d0887\"], [0.1111111111111111, \"#46039f\"], [0.2222222222222222, \"#7201a8\"], [0.3333333333333333, \"#9c179e\"], [0.4444444444444444, \"#bd3786\"], [0.5555555555555556, \"#d8576b\"], [0.6666666666666666, \"#ed7953\"], [0.7777777777777778, \"#fb9f3a\"], [0.8888888888888888, \"#fdca26\"], [1.0, \"#f0f921\"]], \"type\": \"contour\"}], \"contourcarpet\": [{\"colorbar\": {\"outlinewidth\": 0, \"ticks\": \"\"}, \"type\": \"contourcarpet\"}], \"heatmap\": [{\"colorbar\": {\"outlinewidth\": 0, \"ticks\": \"\"}, \"colorscale\": [[0.0, \"#0d0887\"], [0.1111111111111111, \"#46039f\"], [0.2222222222222222, \"#7201a8\"], [0.3333333333333333, \"#9c179e\"], [0.4444444444444444, \"#bd3786\"], [0.5555555555555556, \"#d8576b\"], [0.6666666666666666, \"#ed7953\"], [0.7777777777777778, \"#fb9f3a\"], [0.8888888888888888, \"#fdca26\"], [1.0, \"#f0f921\"]], \"type\": \"heatmap\"}], \"heatmapgl\": [{\"colorbar\": {\"outlinewidth\": 0, \"ticks\": \"\"}, \"colorscale\": [[0.0, \"#0d0887\"], [0.1111111111111111, \"#46039f\"], [0.2222222222222222, \"#7201a8\"], [0.3333333333333333, \"#9c179e\"], [0.4444444444444444, \"#bd3786\"], [0.5555555555555556, \"#d8576b\"], [0.6666666666666666, \"#ed7953\"], [0.7777777777777778, \"#fb9f3a\"], [0.8888888888888888, \"#fdca26\"], [1.0, \"#f0f921\"]], \"type\": \"heatmapgl\"}], \"histogram\": [{\"marker\": {\"colorbar\": {\"outlinewidth\": 0, \"ticks\": \"\"}}, \"type\": \"histogram\"}], \"histogram2d\": [{\"colorbar\": {\"outlinewidth\": 0, \"ticks\": \"\"}, \"colorscale\": [[0.0, \"#0d0887\"], [0.1111111111111111, \"#46039f\"], [0.2222222222222222, \"#7201a8\"], [0.3333333333333333, \"#9c179e\"], [0.4444444444444444, \"#bd3786\"], [0.5555555555555556, \"#d8576b\"], [0.6666666666666666, \"#ed7953\"], [0.7777777777777778, \"#fb9f3a\"], [0.8888888888888888, \"#fdca26\"], [1.0, \"#f0f921\"]], \"type\": \"histogram2d\"}], \"histogram2dcontour\": [{\"colorbar\": {\"outlinewidth\": 0, \"ticks\": \"\"}, \"colorscale\": [[0.0, \"#0d0887\"], [0.1111111111111111, \"#46039f\"], [0.2222222222222222, \"#7201a8\"], [0.3333333333333333, \"#9c179e\"], [0.4444444444444444, \"#bd3786\"], [0.5555555555555556, \"#d8576b\"], [0.6666666666666666, \"#ed7953\"], [0.7777777777777778, \"#fb9f3a\"], [0.8888888888888888, \"#fdca26\"], [1.0, \"#f0f921\"]], \"type\": \"histogram2dcontour\"}], \"mesh3d\": [{\"colorbar\": {\"outlinewidth\": 0, \"ticks\": \"\"}, \"type\": \"mesh3d\"}], \"parcoords\": [{\"line\": {\"colorbar\": {\"outlinewidth\": 0, \"ticks\": \"\"}}, \"type\": \"parcoords\"}], \"pie\": [{\"automargin\": true, \"type\": \"pie\"}], \"scatter\": [{\"marker\": {\"colorbar\": {\"outlinewidth\": 0, \"ticks\": \"\"}}, \"type\": \"scatter\"}], \"scatter3d\": [{\"line\": {\"colorbar\": {\"outlinewidth\": 0, \"ticks\": \"\"}}, \"marker\": {\"colorbar\": {\"outlinewidth\": 0, \"ticks\": \"\"}}, \"type\": \"scatter3d\"}], \"scattercarpet\": [{\"marker\": {\"colorbar\": {\"outlinewidth\": 0, \"ticks\": \"\"}}, \"type\": \"scattercarpet\"}], \"scattergeo\": [{\"marker\": {\"colorbar\": {\"outlinewidth\": 0, \"ticks\": \"\"}}, \"type\": \"scattergeo\"}], \"scattergl\": [{\"marker\": {\"colorbar\": {\"outlinewidth\": 0, \"ticks\": \"\"}}, \"type\": \"scattergl\"}], \"scattermapbox\": [{\"marker\": {\"colorbar\": {\"outlinewidth\": 0, \"ticks\": \"\"}}, \"type\": \"scattermapbox\"}], \"scatterpolar\": [{\"marker\": {\"colorbar\": {\"outlinewidth\": 0, \"ticks\": \"\"}}, \"type\": \"scatterpolar\"}], \"scatterpolargl\": [{\"marker\": {\"colorbar\": {\"outlinewidth\": 0, \"ticks\": \"\"}}, \"type\": \"scatterpolargl\"}], \"scatterternary\": [{\"marker\": {\"colorbar\": {\"outlinewidth\": 0, \"ticks\": \"\"}}, \"type\": \"scatterternary\"}], \"surface\": [{\"colorbar\": {\"outlinewidth\": 0, \"ticks\": \"\"}, \"colorscale\": [[0.0, \"#0d0887\"], [0.1111111111111111, \"#46039f\"], [0.2222222222222222, \"#7201a8\"], [0.3333333333333333, \"#9c179e\"], [0.4444444444444444, \"#bd3786\"], [0.5555555555555556, \"#d8576b\"], [0.6666666666666666, \"#ed7953\"], [0.7777777777777778, \"#fb9f3a\"], [0.8888888888888888, \"#fdca26\"], [1.0, \"#f0f921\"]], \"type\": \"surface\"}], \"table\": [{\"cells\": {\"fill\": {\"color\": \"#EBF0F8\"}, \"line\": {\"color\": \"white\"}}, \"header\": {\"fill\": {\"color\": \"#C8D4E3\"}, \"line\": {\"color\": \"white\"}}, \"type\": \"table\"}]}, \"layout\": {\"annotationdefaults\": {\"arrowcolor\": \"#2a3f5f\", \"arrowhead\": 0, \"arrowwidth\": 1}, \"autotypenumbers\": \"strict\", \"coloraxis\": {\"colorbar\": {\"outlinewidth\": 0, \"ticks\": \"\"}}, \"colorscale\": {\"diverging\": [[0, \"#8e0152\"], [0.1, \"#c51b7d\"], [0.2, \"#de77ae\"], [0.3, \"#f1b6da\"], [0.4, \"#fde0ef\"], [0.5, \"#f7f7f7\"], [0.6, \"#e6f5d0\"], [0.7, \"#b8e186\"], [0.8, \"#7fbc41\"], [0.9, \"#4d9221\"], [1, \"#276419\"]], \"sequential\": [[0.0, \"#0d0887\"], [0.1111111111111111, \"#46039f\"], [0.2222222222222222, \"#7201a8\"], [0.3333333333333333, \"#9c179e\"], [0.4444444444444444, \"#bd3786\"], [0.5555555555555556, \"#d8576b\"], [0.6666666666666666, \"#ed7953\"], [0.7777777777777778, \"#fb9f3a\"], [0.8888888888888888, \"#fdca26\"], [1.0, \"#f0f921\"]], \"sequentialminus\": [[0.0, \"#0d0887\"], [0.1111111111111111, \"#46039f\"], [0.2222222222222222, \"#7201a8\"], [0.3333333333333333, \"#9c179e\"], [0.4444444444444444, \"#bd3786\"], [0.5555555555555556, \"#d8576b\"], [0.6666666666666666, \"#ed7953\"], [0.7777777777777778, \"#fb9f3a\"], [0.8888888888888888, \"#fdca26\"], [1.0, \"#f0f921\"]]}, \"colorway\": [\"#636efa\", \"#EF553B\", \"#00cc96\", \"#ab63fa\", \"#FFA15A\", \"#19d3f3\", \"#FF6692\", \"#B6E880\", \"#FF97FF\", \"#FECB52\"], \"font\": {\"color\": \"#2a3f5f\"}, \"geo\": {\"bgcolor\": \"white\", \"lakecolor\": \"white\", \"landcolor\": \"#E5ECF6\", \"showlakes\": true, \"showland\": true, \"subunitcolor\": \"white\"}, \"hoverlabel\": {\"align\": \"left\"}, \"hovermode\": \"closest\", \"mapbox\": {\"style\": \"light\"}, \"paper_bgcolor\": \"white\", \"plot_bgcolor\": \"#E5ECF6\", \"polar\": {\"angularaxis\": {\"gridcolor\": \"white\", \"linecolor\": \"white\", \"ticks\": \"\"}, \"bgcolor\": \"#E5ECF6\", \"radialaxis\": {\"gridcolor\": \"white\", \"linecolor\": \"white\", \"ticks\": \"\"}}, \"scene\": {\"xaxis\": {\"backgroundcolor\": \"#E5ECF6\", \"gridcolor\": \"white\", \"gridwidth\": 2, \"linecolor\": \"white\", \"showbackground\": true, \"ticks\": \"\", \"zerolinecolor\": \"white\"}, \"yaxis\": {\"backgroundcolor\": \"#E5ECF6\", \"gridcolor\": \"white\", \"gridwidth\": 2, \"linecolor\": \"white\", \"showbackground\": true, \"ticks\": \"\", \"zerolinecolor\": \"white\"}, \"zaxis\": {\"backgroundcolor\": \"#E5ECF6\", \"gridcolor\": \"white\", \"gridwidth\": 2, \"linecolor\": \"white\", \"showbackground\": true, \"ticks\": \"\", \"zerolinecolor\": \"white\"}}, \"shapedefaults\": {\"line\": {\"color\": \"#2a3f5f\"}}, \"ternary\": {\"aaxis\": {\"gridcolor\": \"white\", \"linecolor\": \"white\", \"ticks\": \"\"}, \"baxis\": {\"gridcolor\": \"white\", \"linecolor\": \"white\", \"ticks\": \"\"}, \"bgcolor\": \"#E5ECF6\", \"caxis\": {\"gridcolor\": \"white\", \"linecolor\": \"white\", \"ticks\": \"\"}}, \"title\": {\"x\": 0.05}, \"xaxis\": {\"automargin\": true, \"gridcolor\": \"white\", \"linecolor\": \"white\", \"ticks\": \"\", \"title\": {\"standoff\": 15}, \"zerolinecolor\": \"white\", \"zerolinewidth\": 2}, \"yaxis\": {\"automargin\": true, \"gridcolor\": \"white\", \"linecolor\": \"white\", \"ticks\": \"\", \"title\": {\"standoff\": 15}, \"zerolinecolor\": \"white\", \"zerolinewidth\": 2}}}, \"title\": {\"font\": {\"family\": \"Verdana\"}, \"text\": \"Difference between Actual Total Revenue and Predicted Total Revenue\"}, \"xaxis\": {\"anchor\": \"y2\", \"domain\": [0.0, 1.0], \"zeroline\": false}, \"yaxis\": {\"anchor\": \"free\", \"domain\": [0.0, 1], \"position\": 0.0, \"tickprefix\": \"\"}},                        {\"responsive\": true}                    ).then(function(){\n",
       "                            \n",
       "var gd = document.getElementById('3cf81902-b9b3-4a09-898d-d328b6bebe4e');\n",
       "var x = new MutationObserver(function (mutations, observer) {{\n",
       "        var display = window.getComputedStyle(gd).display;\n",
       "        if (!display || display === 'none') {{\n",
       "            console.log([gd, 'removed!']);\n",
       "            Plotly.purge(gd);\n",
       "            observer.disconnect();\n",
       "        }}\n",
       "}});\n",
       "\n",
       "// Listen for the removal of the full notebook cells\n",
       "var notebookContainer = gd.closest('#notebook-container');\n",
       "if (notebookContainer) {{\n",
       "    x.observe(notebookContainer, {childList: true});\n",
       "}}\n",
       "\n",
       "// Listen for the clearing of the current output cell\n",
       "var outputEl = gd.closest('.output');\n",
       "if (outputEl) {{\n",
       "    x.observe(outputEl, {childList: true});\n",
       "}}\n",
       "\n",
       "                        })                };                });            </script>        </div>"
      ]
     },
     "metadata": {},
     "output_type": "display_data"
    }
   ],
   "source": [
    "# Multiple Regression to calculate Revenue from factors\n",
    "# This regresion is not included in claim that the Borough of Brooklyn is best suited for restaurant\n",
    "# It illuminates necessity of more and different data to make a complete decision\n",
    "import statsmodels.api as sm\n",
    "from statsmodels.sandbox.regression.predstd import wls_prediction_std\n",
    "from plotly.figure_factory import create_distplot\n",
    "\n",
    "y = df['Total Restaurant Revenue']\n",
    "X = df[['Population', '# of Restaurants', 'Average Resident Salary']]\n",
    "model = LinearRegression()\n",
    "model.fit(X,y)\n",
    "y_pred = model.predict(X)\n",
    "y_pred\n",
    "intercept= model.intercept_\n",
    "coef = model.coef_\n",
    "intercept\n",
    "coef\n",
    "r2= r2_score(y, y_pred)\n",
    "\n",
    "X1 = sm.add_constant(X)\n",
    "result = sm.OLS(y, X1).fit()\n",
    "print (result.rsquared, result.rsquared_adj)\n",
    "result.summary()\n",
    "\n",
    "# distriubtion plot showing change between y actual and y predicted \n",
    "fig = create_distplot([y, y_pred], group_labels=['Y Actual', 'Y Predicted'], show_hist=False, show_rug=False\n",
    "                     ).update_layout(title_text='Difference between Actual Total Revenue and Predicted Total Revenue')\n",
    "layout(fig)"
   ]
  },
  {
   "cell_type": "code",
   "execution_count": null,
   "metadata": {},
   "outputs": [],
   "source": []
  }
 ],
 "metadata": {
  "kernelspec": {
   "display_name": "Python 3",
   "language": "python",
   "name": "python3"
  },
  "language_info": {
   "codemirror_mode": {
    "name": "ipython",
    "version": 3
   },
   "file_extension": ".py",
   "mimetype": "text/x-python",
   "name": "python",
   "nbconvert_exporter": "python",
   "pygments_lexer": "ipython3",
   "version": "3.8.3"
  }
 },
 "nbformat": 4,
 "nbformat_minor": 4
}
